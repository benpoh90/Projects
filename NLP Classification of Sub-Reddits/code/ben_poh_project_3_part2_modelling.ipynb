{
 "cells": [
  {
   "cell_type": "markdown",
   "id": "d38742fd",
   "metadata": {},
   "source": [
    " **Project 3: Classification of Sub-Reddits with NLP**\n",
    " ***"
   ]
  },
  {
   "cell_type": "markdown",
   "id": "56ee5585",
   "metadata": {},
   "source": [
    "# Introduction"
   ]
  },
  {
   "cell_type": "markdown",
   "id": "eba39e81",
   "metadata": {},
   "source": [
    "In this section, I aim to train a few models to perform predictions on this binary classification problem. The process is as follows:\n",
    "\n",
    "**Lemmatization $\\rightarrow$ Vectorization $\\rightarrow$ Modelling (train dataset) $\\rightarrow$ Predicting**\n",
    "\n",
    "It is good practice to tokenize or lemmatize before using sklearn's vectorization tools (`Count/TF-IDF Vectorizer`) otherwise a naive splitting by spaces will be applied sklearn. I have used nltk's `WordNetLemmatizer` for this project.\n",
    "\n",
    "Very broadly, I have trained several models (Logistic Regression, Random Forest and Multinomial Naive Bayes) and tuned the parameters with `GridSearchCV`. The best model is **Count Vectorization + Multinomial Naive Bayes (with lemmatization)**. I will further explain my methodology and results in the sections below."
   ]
  },
  {
   "cell_type": "markdown",
   "id": "78a97995",
   "metadata": {},
   "source": [
    "## Import Libraries and Load Datasets"
   ]
  },
  {
   "cell_type": "code",
   "execution_count": 1,
   "id": "18491ab2",
   "metadata": {},
   "outputs": [],
   "source": [
    "import pandas as pd\n",
    "import numpy as np\n",
    "import matplotlib.pyplot as plt\n",
    "import seaborn as sns\n",
    "import re\n",
    "import requests\n",
    "\n",
    "from nltk.tokenize import sent_tokenize, word_tokenize, RegexpTokenizer\n",
    "from nltk.stem import WordNetLemmatizer\n",
    "from nltk.corpus import stopwords\n",
    "\n",
    "from sklearn.feature_extraction import text\n",
    "from sklearn.feature_extraction.text import CountVectorizer, TfidfVectorizer\n",
    "from sklearn.model_selection import train_test_split, GridSearchCV, cross_val_score\n",
    "from sklearn.pipeline import Pipeline\n",
    "from sklearn.naive_bayes import MultinomialNB\n",
    "from sklearn.linear_model import LogisticRegression\n",
    "from sklearn.metrics import confusion_matrix, plot_confusion_matrix, mean_squared_error, accuracy_score, precision_score, recall_score, f1_score, plot_roc_curve, roc_auc_score\n",
    "from sklearn.ensemble import RandomForestClassifier"
   ]
  },
  {
   "cell_type": "code",
   "execution_count": 2,
   "id": "3913419b",
   "metadata": {},
   "outputs": [],
   "source": [
    "pd.options.display.max_rows = 100\n",
    "pd.options.display.max_columns = 100\n",
    "pd.set_option('display.max_colwidth', 0)\n",
    "\n",
    "%matplotlib inline"
   ]
  },
  {
   "cell_type": "code",
   "execution_count": 3,
   "id": "bde013dd",
   "metadata": {},
   "outputs": [],
   "source": [
    "problems = pd.read_csv('../datasets/clean_problems.csv')"
   ]
  },
  {
   "cell_type": "code",
   "execution_count": 4,
   "id": "80487cb9",
   "metadata": {},
   "outputs": [],
   "source": [
    "success = pd.read_csv('../datasets/clean_success.csv')"
   ]
  },
  {
   "cell_type": "code",
   "execution_count": 5,
   "id": "8e2fa968",
   "metadata": {},
   "outputs": [
    {
     "data": {
      "text/plain": [
       "(1241, 7)"
      ]
     },
     "execution_count": 5,
     "metadata": {},
     "output_type": "execute_result"
    }
   ],
   "source": [
    "problems.shape"
   ]
  },
  {
   "cell_type": "code",
   "execution_count": 6,
   "id": "bb6b5c9b",
   "metadata": {},
   "outputs": [
    {
     "data": {
      "text/plain": [
       "(1451, 7)"
      ]
     },
     "execution_count": 6,
     "metadata": {},
     "output_type": "execute_result"
    }
   ],
   "source": [
    "success.shape"
   ]
  },
  {
   "cell_type": "markdown",
   "id": "1a39a905",
   "metadata": {},
   "source": [
    "## Functions"
   ]
  },
  {
   "cell_type": "code",
   "execution_count": 7,
   "id": "99eb1e39",
   "metadata": {},
   "outputs": [],
   "source": [
    "def results(model, X_test, y_test):\n",
    "    '''Function to print model results in a dataframe'''\n",
    "    \n",
    "    best_score = np.round(model.best_score_,5)\n",
    "    \n",
    "    accuracy = np.round(accuracy_score(y_test, model.predict(X_test)),5)\n",
    "    precision = np.round(precision_score(y_test, model.predict(X_test)),5)\n",
    "    recall = np.round(recall_score(y_test, model.predict(X_test)),5)\n",
    "    \n",
    "    f1 = np.round(f1_score(y_test, model.predict(X_test)),5)\n",
    "    \n",
    "    best_params = model.best_params_\n",
    "    \n",
    "    summary = {'Best Score': best_score,\n",
    "               'Test Score (accuracy)': accuracy,\n",
    "               'Precision': precision,\n",
    "               'Recall': recall,\n",
    "               'F1': f1,\n",
    "              'Best Params': best_params}\n",
    "    \n",
    "    summary_df = pd.DataFrame.from_dict(summary, orient='Index', columns=[str(model.estimator.steps[0][0])+ ' x ' + str(model.estimator.steps[1][0])])\n",
    "    return summary_df"
   ]
  },
  {
   "cell_type": "markdown",
   "id": "4ab55d6b",
   "metadata": {},
   "source": [
    "## Define Stop Words"
   ]
  },
  {
   "cell_type": "markdown",
   "id": "eac1520a",
   "metadata": {},
   "source": [
    "These are the same 326 stop words as part 1."
   ]
  },
  {
   "cell_type": "code",
   "execution_count": 8,
   "id": "af7be3f4",
   "metadata": {},
   "outputs": [],
   "source": [
    "new_stop_words = ['success', 'problem', 'successes', 'problems', 'british', 've', 'wa', 'ha']\n",
    "total_stop_words = text.ENGLISH_STOP_WORDS.union(new_stop_words)"
   ]
  },
  {
   "cell_type": "code",
   "execution_count": 68,
   "id": "f3d0f945",
   "metadata": {},
   "outputs": [
    {
     "data": {
      "text/plain": [
       "326"
      ]
     },
     "execution_count": 68,
     "metadata": {},
     "output_type": "execute_result"
    }
   ],
   "source": [
    "len(total_stop_words )"
   ]
  },
  {
   "cell_type": "markdown",
   "id": "721d1931",
   "metadata": {},
   "source": [
    "# Pre-Processing"
   ]
  },
  {
   "cell_type": "markdown",
   "id": "e18e8468",
   "metadata": {},
   "source": [
    "## Lemmatization"
   ]
  },
  {
   "cell_type": "markdown",
   "id": "62cc9c7d",
   "metadata": {},
   "source": [
    "Lemmatization will be applied to all posts in the sub-reddit. In this case, all the posts in the two sub-reddits will be known as the **corpus**. I wrote a function `lemmatize` to perform the lemmatization per post. This is then applied to the entire corpus using a `for` loop. "
   ]
  },
  {
   "cell_type": "code",
   "execution_count": 10,
   "id": "2a71e6b3",
   "metadata": {},
   "outputs": [],
   "source": [
    "def lemmatize(content):\n",
    "    '''Function to lemmatize a document'''\n",
    "    lemmatizer = WordNetLemmatizer()\n",
    "    \n",
    "    words = content.lower().split()\n",
    "    lem_words = [lemmatizer.lemmatize(i) for i in words]\n",
    "    \n",
    "    return(' '.join(lem_words))"
   ]
  },
  {
   "cell_type": "code",
   "execution_count": 69,
   "id": "f6ba1d9e",
   "metadata": {},
   "outputs": [],
   "source": [
    "#Lemmatize all the posts in 'Problems' and 'Success'\n",
    "\n",
    "lem_problems_posts = []\n",
    "lem_success_posts = []\n",
    "\n",
    "for problems_post in problems['content']:\n",
    "    lem_problems_posts.append(lemmatize(problems_post))\n",
    "    \n",
    "for success_post in success['content']:\n",
    "    lem_success_posts.append(lemmatize(success_post))\n",
    "\n",
    "problems['content_lem'] = pd.DataFrame(lem_problems_posts)\n",
    "success['content_lem'] = pd.DataFrame(lem_success_posts)"
   ]
  },
  {
   "cell_type": "markdown",
   "id": "8baf90a2",
   "metadata": {},
   "source": [
    "## Label and Concate Datasets"
   ]
  },
  {
   "cell_type": "markdown",
   "id": "968797df",
   "metadata": {},
   "source": [
    "Encoded British Problems subreddit with '1' and British Success subreddit with '0'"
   ]
  },
  {
   "cell_type": "code",
   "execution_count": 12,
   "id": "3d18fddf",
   "metadata": {},
   "outputs": [],
   "source": [
    "problems['label'] = 1\n",
    "success['label'] = 0"
   ]
  },
  {
   "cell_type": "markdown",
   "id": "c1c4a7f9",
   "metadata": {},
   "source": [
    "Combined both subreddits into one dataset titled '**problems_success**'."
   ]
  },
  {
   "cell_type": "code",
   "execution_count": 13,
   "id": "9b4d3607",
   "metadata": {},
   "outputs": [],
   "source": [
    "problems_success = pd.concat([problems, success], ignore_index=True)"
   ]
  },
  {
   "cell_type": "code",
   "execution_count": 70,
   "id": "fb1f0dde",
   "metadata": {},
   "outputs": [
    {
     "data": {
      "text/plain": [
       "(2692, 9)"
      ]
     },
     "execution_count": 70,
     "metadata": {},
     "output_type": "execute_result"
    }
   ],
   "source": [
    "problems_success.shape"
   ]
  },
  {
   "cell_type": "markdown",
   "id": "65358d69",
   "metadata": {},
   "source": [
    "# Modelling"
   ]
  },
  {
   "cell_type": "markdown",
   "id": "ee4f8086",
   "metadata": {},
   "source": [
    "I would broadly categorise my modelling process into 3 parts:\n",
    "- **Part 1**: Lemmatization with CountVectorizer x Logistic Regression / Random Forest / Multinomial Naive Bayes\n",
    "- **Part 2**: Lemmatization with TF-IDF Vectorizer x Logistic Regression / Random Forest / Multinomial Naive Bayes\n",
    "- **Part 3**: CountVectorizer/TF-IDF Vectorizer x Random Forest / Multinomial Naive Bayes\n",
    "\n",
    "The best model I found is the **Lemmatization with CountVectorizer x Multinomial Naive Bayes** as it has the best accuracy score (0.77) across all models that I tested. Similarly, it has the best F1 score and fairly balanced precision and recall scores.\n",
    "\n",
    "The difference in Part 1 and Part 2 is the vectorization tool used (CountVectorizer vs TF-IDF Vectorizer). Compared to CountVectorizer, TF-IDF will increase weights on less common words (since they potentially have better predictive value). After completing Part 1 and 2, I removed the lemmatization step to see if it improves my model (it did not).\n",
    "\n",
    "In all 3 parts of the modelling section, I have used GridSearchCV to tune the hyperparameters of the model I am using. In general, these are the parameters I used in my models (with specific tuning based on each model):\n",
    "    \n",
    "    'cvec/tvec__max_features': [2000, 3000, 4000],\n",
    "    'cvec/tvec__min_df': [2, 3],\n",
    "    'cvec/tvec__max_df': [0.9, 0.95],\n",
    "    'cvec/tvec__ngram_range': [(1,1), (1,2), (1,3)],\n",
    "    'cvec/tvec__stop_words': [total_stop_words],\n",
    "\n",
    "More details will be explained in the following sections."
   ]
  },
  {
   "cell_type": "markdown",
   "id": "2401c990",
   "metadata": {},
   "source": [
    "## Define and Split Train/Test "
   ]
  },
  {
   "cell_type": "code",
   "execution_count": 15,
   "id": "de88026a",
   "metadata": {},
   "outputs": [],
   "source": [
    "X = problems_success['content_lem']\n",
    "y = problems_success['label']"
   ]
  },
  {
   "cell_type": "code",
   "execution_count": 16,
   "id": "bef59105",
   "metadata": {},
   "outputs": [],
   "source": [
    "X_train, X_test, y_train, y_test = train_test_split(X, y, stratify=y, random_state=42)"
   ]
  },
  {
   "cell_type": "markdown",
   "id": "59512a69",
   "metadata": {},
   "source": [
    "## Baseline Accruracy"
   ]
  },
  {
   "cell_type": "markdown",
   "id": "625e9685",
   "metadata": {},
   "source": [
    "Since the number of posts in both datasets are fairly close, we have a baseline accuracy of **46%** for 1 ('problems'). We compare our models against the baseline accuracy to see how well it performs."
   ]
  },
  {
   "cell_type": "code",
   "execution_count": 18,
   "id": "5cc40e5a",
   "metadata": {},
   "outputs": [
    {
     "data": {
      "text/plain": [
       "0    0.539004\n",
       "1    0.460996\n",
       "Name: label, dtype: float64"
      ]
     },
     "execution_count": 18,
     "metadata": {},
     "output_type": "execute_result"
    }
   ],
   "source": [
    "y.value_counts(normalize=True)"
   ]
  },
  {
   "cell_type": "markdown",
   "id": "43cc42d4",
   "metadata": {},
   "source": [
    "## Part 1: Lemmatization & Count Vectorizer"
   ]
  },
  {
   "cell_type": "markdown",
   "id": "38e38b3f",
   "metadata": {},
   "source": [
    "### Count Vectorizer x Logistic Regression"
   ]
  },
  {
   "cell_type": "code",
   "execution_count": 19,
   "id": "afcd6ada",
   "metadata": {},
   "outputs": [
    {
     "name": "stdout",
     "output_type": "stream",
     "text": [
      "CPU times: user 2.14 s, sys: 407 ms, total: 2.55 s\n",
      "Wall time: 27.2 s\n"
     ]
    },
    {
     "data": {
      "text/plain": [
       "GridSearchCV(cv=5,\n",
       "             estimator=Pipeline(steps=[('cvec', CountVectorizer()),\n",
       "                                       ('logreg',\n",
       "                                        LogisticRegression(max_iter=10000))]),\n",
       "             n_jobs=-1,\n",
       "             param_grid={'cvec__max_df': [0.9, 0.95],\n",
       "                         'cvec__max_features': [2000, 3000, 4000],\n",
       "                         'cvec__min_df': [2, 3],\n",
       "                         'cvec__ngram_range': [(1, 1), (1, 2), (1, 3)],\n",
       "                         'cvec__stop_words': [frozenset({'a', 'about', 'above',\n",
       "                                                         'across', 'after',\n",
       "                                                         'afterwards', 'again',\n",
       "                                                         'against', 'all',\n",
       "                                                         'almost', 'alone',\n",
       "                                                         'along', 'already',\n",
       "                                                         'also', 'although',\n",
       "                                                         'always', 'am',\n",
       "                                                         'among', 'amongst',\n",
       "                                                         'amoungst', 'amount',\n",
       "                                                         'an', 'and', 'another',\n",
       "                                                         'any', 'anyhow',\n",
       "                                                         'anyone', 'anything',\n",
       "                                                         'anyway', 'anywhere', ...})],\n",
       "                         'logreg__C': [0.1, 1, 10]})"
      ]
     },
     "execution_count": 19,
     "metadata": {},
     "output_type": "execute_result"
    }
   ],
   "source": [
    "%%time\n",
    "\n",
    "pipe_cvlogreg = Pipeline([\n",
    "    ('cvec', CountVectorizer()),\n",
    "    ('logreg', LogisticRegression(max_iter=10000))\n",
    "])\n",
    "\n",
    "pipe_cvlogreg_params = {\n",
    "    'cvec__max_features': [2000, 3000, 4000],\n",
    "    'cvec__min_df': [2, 3],\n",
    "    'cvec__max_df': [0.9, 0.95],\n",
    "    'cvec__ngram_range': [(1,1), (1,2), (1,3)],\n",
    "    'cvec__stop_words': [total_stop_words],\n",
    "    'logreg__C': [0.1, 1, 10]\n",
    "    \n",
    "}\n",
    "\n",
    "gs_cvlogreg = GridSearchCV(pipe_cvlogreg, \n",
    "                  param_grid=pipe_cvlogreg_params, \n",
    "                  cv=5,\n",
    "                 n_jobs=-1)\n",
    "\n",
    "gs_cvlogreg.fit(X_train, y_train)"
   ]
  },
  {
   "cell_type": "code",
   "execution_count": 20,
   "id": "84a1a0e9",
   "metadata": {},
   "outputs": [
    {
     "data": {
      "text/html": [
       "<div>\n",
       "<style scoped>\n",
       "    .dataframe tbody tr th:only-of-type {\n",
       "        vertical-align: middle;\n",
       "    }\n",
       "\n",
       "    .dataframe tbody tr th {\n",
       "        vertical-align: top;\n",
       "    }\n",
       "\n",
       "    .dataframe thead th {\n",
       "        text-align: right;\n",
       "    }\n",
       "</style>\n",
       "<table border=\"1\" class=\"dataframe\">\n",
       "  <thead>\n",
       "    <tr style=\"text-align: right;\">\n",
       "      <th></th>\n",
       "      <th>cvec x logreg</th>\n",
       "    </tr>\n",
       "  </thead>\n",
       "  <tbody>\n",
       "    <tr>\n",
       "      <th>Best Score</th>\n",
       "      <td>0.72463</td>\n",
       "    </tr>\n",
       "    <tr>\n",
       "      <th>Test Score (accuracy)</th>\n",
       "      <td>0.737</td>\n",
       "    </tr>\n",
       "    <tr>\n",
       "      <th>Precision</th>\n",
       "      <td>0.72696</td>\n",
       "    </tr>\n",
       "    <tr>\n",
       "      <th>Recall</th>\n",
       "      <td>0.6871</td>\n",
       "    </tr>\n",
       "    <tr>\n",
       "      <th>F1</th>\n",
       "      <td>0.70647</td>\n",
       "    </tr>\n",
       "    <tr>\n",
       "      <th>Best Params</th>\n",
       "      <td>{'cvec__max_df': 0.9, 'cvec__max_features': 4000, 'cvec__min_df': 2, 'cvec__ngram_range': (1, 3), 'cvec__stop_words': ('myself', 'all', 'both', 'take', 'themselves', 'hundred', 'each', 'further', 'first', 'someone', 'hasnt', 'when', 'may', 'upon', 'by', 'system', 'enough', 'too', 'they', 'therefore', 'across', 'per', 'to', 'whence', 'within', 'twenty', 'part', 'will', 'whereupon', 'everything', 'name', 'bill', 'afterwards', 'who', 'mine', 'nothing', 'give', 'some', 'thereby', 'can', 'therein', 'thin', 'something', 'get', 'it', 'beforehand', 'etc', 'back', 'always', 'amongst', 'top', 'nowhere', 'thus', 'rather', 'until', 'anyhow', 'above', 'but', 'or', 'on', 'me', 'last', 'successes', 'i', 'bottom', 'problem', 'very', 'twelve', 'still', 'toward', 'ten', 'neither', 'mill', 'them', 'wherein', 'around', 'thereupon', 've', 'thick', 'a', 'serious', 'detail', 'least', 'anyone', 'over', 'put', 'anything', 'cant', 'else', 'had', 'throughout', 'he', 'beyond', 'us', 'were', 'how', 'under', 'eg', 'few', 'interest', ...), 'logreg__C': 1}</td>\n",
       "    </tr>\n",
       "  </tbody>\n",
       "</table>\n",
       "</div>"
      ],
      "text/plain": [
       "                                                                                                                                                                                                                                                                                                                                                                                                                                                                                                                                                                                                                                                                                                                                                                                                                                                                                                                                                                                                                                                                                          cvec x logreg\n",
       "Best Score             0.72463                                                                                                                                                                                                                                                                                                                                                                                                                                                                                                                                                                                                                                                                                                                                                                                                                                                                                                                                                                                                                                                                         \n",
       "Test Score (accuracy)  0.737                                                                                                                                                                                                                                                                                                                                                                                                                                                                                                                                                                                                                                                                                                                                                                                                                                                                                                                                                                                                                                                                           \n",
       "Precision              0.72696                                                                                                                                                                                                                                                                                                                                                                                                                                                                                                                                                                                                                                                                                                                                                                                                                                                                                                                                                                                                                                                                         \n",
       "Recall                 0.6871                                                                                                                                                                                                                                                                                                                                                                                                                                                                                                                                                                                                                                                                                                                                                                                                                                                                                                                                                                                                                                                                          \n",
       "F1                     0.70647                                                                                                                                                                                                                                                                                                                                                                                                                                                                                                                                                                                                                                                                                                                                                                                                                                                                                                                                                                                                                                                                         \n",
       "Best Params            {'cvec__max_df': 0.9, 'cvec__max_features': 4000, 'cvec__min_df': 2, 'cvec__ngram_range': (1, 3), 'cvec__stop_words': ('myself', 'all', 'both', 'take', 'themselves', 'hundred', 'each', 'further', 'first', 'someone', 'hasnt', 'when', 'may', 'upon', 'by', 'system', 'enough', 'too', 'they', 'therefore', 'across', 'per', 'to', 'whence', 'within', 'twenty', 'part', 'will', 'whereupon', 'everything', 'name', 'bill', 'afterwards', 'who', 'mine', 'nothing', 'give', 'some', 'thereby', 'can', 'therein', 'thin', 'something', 'get', 'it', 'beforehand', 'etc', 'back', 'always', 'amongst', 'top', 'nowhere', 'thus', 'rather', 'until', 'anyhow', 'above', 'but', 'or', 'on', 'me', 'last', 'successes', 'i', 'bottom', 'problem', 'very', 'twelve', 'still', 'toward', 'ten', 'neither', 'mill', 'them', 'wherein', 'around', 'thereupon', 've', 'thick', 'a', 'serious', 'detail', 'least', 'anyone', 'over', 'put', 'anything', 'cant', 'else', 'had', 'throughout', 'he', 'beyond', 'us', 'were', 'how', 'under', 'eg', 'few', 'interest', ...), 'logreg__C': 1}"
      ]
     },
     "execution_count": 20,
     "metadata": {},
     "output_type": "execute_result"
    }
   ],
   "source": [
    "results(gs_cvlogreg, X_test, y_test)"
   ]
  },
  {
   "cell_type": "markdown",
   "id": "c0e655b8",
   "metadata": {},
   "source": [
    "### Count Vectorizer x Random Forest "
   ]
  },
  {
   "cell_type": "markdown",
   "id": "b31ee1ac",
   "metadata": {},
   "source": [
    "For Random Forest models, I have expanded the number of features to 5000 and 7000 since multiple hyperparameter tuning have turned up with high max_features. "
   ]
  },
  {
   "cell_type": "code",
   "execution_count": 21,
   "id": "47477381",
   "metadata": {},
   "outputs": [
    {
     "name": "stdout",
     "output_type": "stream",
     "text": [
      "CPU times: user 6.98 s, sys: 453 ms, total: 7.44 s\n",
      "Wall time: 4min 38s\n"
     ]
    },
    {
     "data": {
      "text/plain": [
       "GridSearchCV(cv=5,\n",
       "             estimator=Pipeline(steps=[('cvec', CountVectorizer()),\n",
       "                                       ('rf', RandomForestClassifier())]),\n",
       "             n_jobs=-1,\n",
       "             param_grid={'cvec__max_df': [0.9, 0.95],\n",
       "                         'cvec__max_features': [2000, 3000, 4000, 5000, 7000],\n",
       "                         'cvec__min_df': [2, 3],\n",
       "                         'cvec__ngram_range': [(1, 1), (1, 2), (1, 3)],\n",
       "                         'cvec__stop_words': [frozenset({'a', 'about', 'above',\n",
       "                                                         'across', 'after',\n",
       "                                                         'afterwards', 'again',\n",
       "                                                         'against', 'all',\n",
       "                                                         'almost', 'alone',\n",
       "                                                         'along', 'already',\n",
       "                                                         'also', 'although',\n",
       "                                                         'always', 'am',\n",
       "                                                         'among', 'amongst',\n",
       "                                                         'amoungst', 'amount',\n",
       "                                                         'an', 'and', 'another',\n",
       "                                                         'any', 'anyhow',\n",
       "                                                         'anyone', 'anything',\n",
       "                                                         'anyway', 'anywhere', ...})],\n",
       "                         'rf__min_samples_leaf': [1, 2, 3],\n",
       "                         'rf__n_estimators': [100, 150]})"
      ]
     },
     "execution_count": 21,
     "metadata": {},
     "output_type": "execute_result"
    }
   ],
   "source": [
    "%%time\n",
    "\n",
    "pipe_cvrf = Pipeline([\n",
    "    ('cvec', CountVectorizer()),\n",
    "    ('rf', RandomForestClassifier())\n",
    "])\n",
    "\n",
    "pipe_cvrf_params = {\n",
    "    'cvec__max_features': [2000, 3000, 4000, 5000, 7000],\n",
    "    'cvec__min_df': [2, 3],\n",
    "    'cvec__max_df': [.9, .95],\n",
    "    'cvec__ngram_range': [(1,1), (1,2), (1,3)],\n",
    "    'cvec__stop_words': [total_stop_words],\n",
    "    'rf__n_estimators': [100, 150],\n",
    "    'rf__min_samples_leaf': [1,2,3]\n",
    "}\n",
    "\n",
    "\n",
    "gs_cvrf = GridSearchCV(pipe_cvrf, \n",
    "                  param_grid=pipe_cvrf_params,\n",
    "                  cv=5,\n",
    "                  n_jobs=-1)\n",
    "\n",
    "gs_cvrf.fit(X_train, y_train)"
   ]
  },
  {
   "cell_type": "code",
   "execution_count": 22,
   "id": "3e58b96b",
   "metadata": {},
   "outputs": [
    {
     "data": {
      "text/html": [
       "<div>\n",
       "<style scoped>\n",
       "    .dataframe tbody tr th:only-of-type {\n",
       "        vertical-align: middle;\n",
       "    }\n",
       "\n",
       "    .dataframe tbody tr th {\n",
       "        vertical-align: top;\n",
       "    }\n",
       "\n",
       "    .dataframe thead th {\n",
       "        text-align: right;\n",
       "    }\n",
       "</style>\n",
       "<table border=\"1\" class=\"dataframe\">\n",
       "  <thead>\n",
       "    <tr style=\"text-align: right;\">\n",
       "      <th></th>\n",
       "      <th>cvec x rf</th>\n",
       "    </tr>\n",
       "  </thead>\n",
       "  <tbody>\n",
       "    <tr>\n",
       "      <th>Best Score</th>\n",
       "      <td>0.72214</td>\n",
       "    </tr>\n",
       "    <tr>\n",
       "      <th>Test Score (accuracy)</th>\n",
       "      <td>0.75632</td>\n",
       "    </tr>\n",
       "    <tr>\n",
       "      <th>Precision</th>\n",
       "      <td>0.76449</td>\n",
       "    </tr>\n",
       "    <tr>\n",
       "      <th>Recall</th>\n",
       "      <td>0.68065</td>\n",
       "    </tr>\n",
       "    <tr>\n",
       "      <th>F1</th>\n",
       "      <td>0.72014</td>\n",
       "    </tr>\n",
       "    <tr>\n",
       "      <th>Best Params</th>\n",
       "      <td>{'cvec__max_df': 0.9, 'cvec__max_features': 7000, 'cvec__min_df': 2, 'cvec__ngram_range': (1, 3), 'cvec__stop_words': ('myself', 'all', 'both', 'take', 'themselves', 'hundred', 'each', 'further', 'first', 'someone', 'hasnt', 'when', 'may', 'upon', 'by', 'system', 'enough', 'too', 'they', 'therefore', 'across', 'per', 'to', 'whence', 'within', 'twenty', 'part', 'will', 'whereupon', 'everything', 'name', 'bill', 'afterwards', 'who', 'mine', 'nothing', 'give', 'some', 'thereby', 'can', 'therein', 'thin', 'something', 'get', 'it', 'beforehand', 'etc', 'back', 'always', 'amongst', 'top', 'nowhere', 'thus', 'rather', 'until', 'anyhow', 'above', 'but', 'or', 'on', 'me', 'last', 'successes', 'i', 'bottom', 'problem', 'very', 'twelve', 'still', 'toward', 'ten', 'neither', 'mill', 'them', 'wherein', 'around', 'thereupon', 've', 'thick', 'a', 'serious', 'detail', 'least', 'anyone', 'over', 'put', 'anything', 'cant', 'else', 'had', 'throughout', 'he', 'beyond', 'us', 'were', 'how', 'under', 'eg', 'few', 'interest', ...), 'rf__min_samples_leaf': 3, 'rf__n_estimators': 150}</td>\n",
       "    </tr>\n",
       "  </tbody>\n",
       "</table>\n",
       "</div>"
      ],
      "text/plain": [
       "                                                                                                                                                                                                                                                                                                                                                                                                                                                                                                                                                                                                                                                                                                                                                                                                                                                                                                                                                                                                                                                                                                                                  cvec x rf\n",
       "Best Score             0.72214                                                                                                                                                                                                                                                                                                                                                                                                                                                                                                                                                                                                                                                                                                                                                                                                                                                                                                                                                                                                                                                                                                             \n",
       "Test Score (accuracy)  0.75632                                                                                                                                                                                                                                                                                                                                                                                                                                                                                                                                                                                                                                                                                                                                                                                                                                                                                                                                                                                                                                                                                                             \n",
       "Precision              0.76449                                                                                                                                                                                                                                                                                                                                                                                                                                                                                                                                                                                                                                                                                                                                                                                                                                                                                                                                                                                                                                                                                                             \n",
       "Recall                 0.68065                                                                                                                                                                                                                                                                                                                                                                                                                                                                                                                                                                                                                                                                                                                                                                                                                                                                                                                                                                                                                                                                                                             \n",
       "F1                     0.72014                                                                                                                                                                                                                                                                                                                                                                                                                                                                                                                                                                                                                                                                                                                                                                                                                                                                                                                                                                                                                                                                                                             \n",
       "Best Params            {'cvec__max_df': 0.9, 'cvec__max_features': 7000, 'cvec__min_df': 2, 'cvec__ngram_range': (1, 3), 'cvec__stop_words': ('myself', 'all', 'both', 'take', 'themselves', 'hundred', 'each', 'further', 'first', 'someone', 'hasnt', 'when', 'may', 'upon', 'by', 'system', 'enough', 'too', 'they', 'therefore', 'across', 'per', 'to', 'whence', 'within', 'twenty', 'part', 'will', 'whereupon', 'everything', 'name', 'bill', 'afterwards', 'who', 'mine', 'nothing', 'give', 'some', 'thereby', 'can', 'therein', 'thin', 'something', 'get', 'it', 'beforehand', 'etc', 'back', 'always', 'amongst', 'top', 'nowhere', 'thus', 'rather', 'until', 'anyhow', 'above', 'but', 'or', 'on', 'me', 'last', 'successes', 'i', 'bottom', 'problem', 'very', 'twelve', 'still', 'toward', 'ten', 'neither', 'mill', 'them', 'wherein', 'around', 'thereupon', 've', 'thick', 'a', 'serious', 'detail', 'least', 'anyone', 'over', 'put', 'anything', 'cant', 'else', 'had', 'throughout', 'he', 'beyond', 'us', 'were', 'how', 'under', 'eg', 'few', 'interest', ...), 'rf__min_samples_leaf': 3, 'rf__n_estimators': 150}"
      ]
     },
     "execution_count": 22,
     "metadata": {},
     "output_type": "execute_result"
    }
   ],
   "source": [
    "results(gs_cvrf, X_test, y_test)"
   ]
  },
  {
   "cell_type": "markdown",
   "id": "3138cd55",
   "metadata": {},
   "source": [
    "### Count Vectorizer x Mulitnomial Naive Bayes"
   ]
  },
  {
   "cell_type": "code",
   "execution_count": 23,
   "id": "6b85443a",
   "metadata": {},
   "outputs": [
    {
     "name": "stdout",
     "output_type": "stream",
     "text": [
      "CPU times: user 1.15 s, sys: 90.1 ms, total: 1.24 s\n",
      "Wall time: 20.3 s\n"
     ]
    },
    {
     "data": {
      "text/plain": [
       "GridSearchCV(cv=5,\n",
       "             estimator=Pipeline(steps=[('cvec', CountVectorizer()),\n",
       "                                       ('nb', MultinomialNB())]),\n",
       "             n_jobs=-1,\n",
       "             param_grid={'cvec__max_df': [0.9, 0.95],\n",
       "                         'cvec__max_features': [2000, 3000, 4000],\n",
       "                         'cvec__min_df': [2, 3],\n",
       "                         'cvec__ngram_range': [(1, 1), (1, 2), (1, 3)],\n",
       "                         'cvec__stop_words': [frozenset({'a', 'about', 'above',\n",
       "                                                         'across', 'after',\n",
       "                                                         'afterwards', 'again',\n",
       "                                                         'against', 'all',\n",
       "                                                         'almost', 'alone',\n",
       "                                                         'along', 'already',\n",
       "                                                         'also', 'although',\n",
       "                                                         'always', 'am',\n",
       "                                                         'among', 'amongst',\n",
       "                                                         'amoungst', 'amount',\n",
       "                                                         'an', 'and', 'another',\n",
       "                                                         'any', 'anyhow',\n",
       "                                                         'anyone', 'anything',\n",
       "                                                         'anyway', 'anywhere', ...})],\n",
       "                         'nb__alpha': [1, 2, 3]})"
      ]
     },
     "execution_count": 23,
     "metadata": {},
     "output_type": "execute_result"
    }
   ],
   "source": [
    "%%time\n",
    "\n",
    "pipe_cvnb = Pipeline([\n",
    "    ('cvec', CountVectorizer()),\n",
    "    ('nb', MultinomialNB())\n",
    "])\n",
    "\n",
    "pipe_cvnb_params = {\n",
    "    'cvec__max_features': [2000, 3000, 4000],\n",
    "    'cvec__min_df': [2, 3],\n",
    "    'cvec__max_df': [.9, .95],\n",
    "    'cvec__ngram_range': [(1,1), (1,2), (1,3)],\n",
    "    'cvec__stop_words': [total_stop_words],\n",
    "    'nb__alpha': [1,2,3]\n",
    "}\n",
    "\n",
    "\n",
    "gs_cvnb = GridSearchCV(pipe_cvnb, \n",
    "                  param_grid=pipe_cvnb_params,\n",
    "                  cv=5,\n",
    "                  n_jobs=-1)\n",
    "\n",
    "gs_cvnb.fit(X_train, y_train)"
   ]
  },
  {
   "cell_type": "code",
   "execution_count": 25,
   "id": "273eccd6",
   "metadata": {},
   "outputs": [
    {
     "data": {
      "text/html": [
       "<div>\n",
       "<style scoped>\n",
       "    .dataframe tbody tr th:only-of-type {\n",
       "        vertical-align: middle;\n",
       "    }\n",
       "\n",
       "    .dataframe tbody tr th {\n",
       "        vertical-align: top;\n",
       "    }\n",
       "\n",
       "    .dataframe thead th {\n",
       "        text-align: right;\n",
       "    }\n",
       "</style>\n",
       "<table border=\"1\" class=\"dataframe\">\n",
       "  <thead>\n",
       "    <tr style=\"text-align: right;\">\n",
       "      <th></th>\n",
       "      <th>cvec x nb</th>\n",
       "    </tr>\n",
       "  </thead>\n",
       "  <tbody>\n",
       "    <tr>\n",
       "      <th>Best Score</th>\n",
       "      <td>0.74096</td>\n",
       "    </tr>\n",
       "    <tr>\n",
       "      <th>Test Score (accuracy)</th>\n",
       "      <td>0.77117</td>\n",
       "    </tr>\n",
       "    <tr>\n",
       "      <th>Precision</th>\n",
       "      <td>0.75161</td>\n",
       "    </tr>\n",
       "    <tr>\n",
       "      <th>Recall</th>\n",
       "      <td>0.75161</td>\n",
       "    </tr>\n",
       "    <tr>\n",
       "      <th>F1</th>\n",
       "      <td>0.75161</td>\n",
       "    </tr>\n",
       "    <tr>\n",
       "      <th>Best Params</th>\n",
       "      <td>{'cvec__max_df': 0.9, 'cvec__max_features': 3000, 'cvec__min_df': 2, 'cvec__ngram_range': (1, 1), 'cvec__stop_words': ('myself', 'all', 'both', 'take', 'themselves', 'hundred', 'each', 'further', 'first', 'someone', 'hasnt', 'when', 'may', 'upon', 'by', 'system', 'enough', 'too', 'they', 'therefore', 'across', 'per', 'to', 'whence', 'within', 'twenty', 'part', 'will', 'whereupon', 'everything', 'name', 'bill', 'afterwards', 'who', 'mine', 'nothing', 'give', 'some', 'thereby', 'can', 'therein', 'thin', 'something', 'get', 'it', 'beforehand', 'etc', 'back', 'always', 'amongst', 'top', 'nowhere', 'thus', 'rather', 'until', 'anyhow', 'above', 'but', 'or', 'on', 'me', 'last', 'successes', 'i', 'bottom', 'problem', 'very', 'twelve', 'still', 'toward', 'ten', 'neither', 'mill', 'them', 'wherein', 'around', 'thereupon', 've', 'thick', 'a', 'serious', 'detail', 'least', 'anyone', 'over', 'put', 'anything', 'cant', 'else', 'had', 'throughout', 'he', 'beyond', 'us', 'were', 'how', 'under', 'eg', 'few', 'interest', ...), 'nb__alpha': 1}</td>\n",
       "    </tr>\n",
       "  </tbody>\n",
       "</table>\n",
       "</div>"
      ],
      "text/plain": [
       "                                                                                                                                                                                                                                                                                                                                                                                                                                                                                                                                                                                                                                                                                                                                                                                                                                                                                                                                                                                                                                                                                              cvec x nb\n",
       "Best Score             0.74096                                                                                                                                                                                                                                                                                                                                                                                                                                                                                                                                                                                                                                                                                                                                                                                                                                                                                                                                                                                                                                                                         \n",
       "Test Score (accuracy)  0.77117                                                                                                                                                                                                                                                                                                                                                                                                                                                                                                                                                                                                                                                                                                                                                                                                                                                                                                                                                                                                                                                                         \n",
       "Precision              0.75161                                                                                                                                                                                                                                                                                                                                                                                                                                                                                                                                                                                                                                                                                                                                                                                                                                                                                                                                                                                                                                                                         \n",
       "Recall                 0.75161                                                                                                                                                                                                                                                                                                                                                                                                                                                                                                                                                                                                                                                                                                                                                                                                                                                                                                                                                                                                                                                                         \n",
       "F1                     0.75161                                                                                                                                                                                                                                                                                                                                                                                                                                                                                                                                                                                                                                                                                                                                                                                                                                                                                                                                                                                                                                                                         \n",
       "Best Params            {'cvec__max_df': 0.9, 'cvec__max_features': 3000, 'cvec__min_df': 2, 'cvec__ngram_range': (1, 1), 'cvec__stop_words': ('myself', 'all', 'both', 'take', 'themselves', 'hundred', 'each', 'further', 'first', 'someone', 'hasnt', 'when', 'may', 'upon', 'by', 'system', 'enough', 'too', 'they', 'therefore', 'across', 'per', 'to', 'whence', 'within', 'twenty', 'part', 'will', 'whereupon', 'everything', 'name', 'bill', 'afterwards', 'who', 'mine', 'nothing', 'give', 'some', 'thereby', 'can', 'therein', 'thin', 'something', 'get', 'it', 'beforehand', 'etc', 'back', 'always', 'amongst', 'top', 'nowhere', 'thus', 'rather', 'until', 'anyhow', 'above', 'but', 'or', 'on', 'me', 'last', 'successes', 'i', 'bottom', 'problem', 'very', 'twelve', 'still', 'toward', 'ten', 'neither', 'mill', 'them', 'wherein', 'around', 'thereupon', 've', 'thick', 'a', 'serious', 'detail', 'least', 'anyone', 'over', 'put', 'anything', 'cant', 'else', 'had', 'throughout', 'he', 'beyond', 'us', 'were', 'how', 'under', 'eg', 'few', 'interest', ...), 'nb__alpha': 1}"
      ]
     },
     "execution_count": 25,
     "metadata": {},
     "output_type": "execute_result"
    }
   ],
   "source": [
    "results(gs_cvnb, X_test, y_test)"
   ]
  },
  {
   "cell_type": "markdown",
   "id": "fa455c51",
   "metadata": {},
   "source": [
    "## Part 2: Lemmatization & TF-IDF"
   ]
  },
  {
   "cell_type": "markdown",
   "id": "daf22b5b",
   "metadata": {},
   "source": [
    "### TF-IDF Vectorizer x Logistic Regression"
   ]
  },
  {
   "cell_type": "code",
   "execution_count": 29,
   "id": "81b23c49",
   "metadata": {},
   "outputs": [
    {
     "name": "stdout",
     "output_type": "stream",
     "text": [
      "CPU times: user 1.75 s, sys: 118 ms, total: 1.86 s\n",
      "Wall time: 30.5 s\n"
     ]
    },
    {
     "data": {
      "text/plain": [
       "GridSearchCV(cv=5,\n",
       "             estimator=Pipeline(steps=[('tvec', TfidfVectorizer()),\n",
       "                                       ('logreg',\n",
       "                                        LogisticRegression(max_iter=10000))]),\n",
       "             n_jobs=-1,\n",
       "             param_grid={'logreg__C': [0.1, 1, 10], 'tvec__max_df': [0.9, 0.95],\n",
       "                         'tvec__max_features': [2000, 3000, 4000, 5000],\n",
       "                         'tvec__min_df': [2, 3],\n",
       "                         'tvec__ngram_range': [(1, 1), (1, 2), (1, 3)],\n",
       "                         'tvec__stop_words': [frozenset({'a', 'about', 'above',\n",
       "                                                         'across', 'after',\n",
       "                                                         'afterwards', 'again',\n",
       "                                                         'against', 'all',\n",
       "                                                         'almost', 'alone',\n",
       "                                                         'along', 'already',\n",
       "                                                         'also', 'although',\n",
       "                                                         'always', 'am',\n",
       "                                                         'among', 'amongst',\n",
       "                                                         'amoungst', 'amount',\n",
       "                                                         'an', 'and', 'another',\n",
       "                                                         'any', 'anyhow',\n",
       "                                                         'anyone', 'anything',\n",
       "                                                         'anyway', 'anywhere', ...})]})"
      ]
     },
     "execution_count": 29,
     "metadata": {},
     "output_type": "execute_result"
    }
   ],
   "source": [
    "%%time\n",
    "\n",
    "pipe_tvlogreg = Pipeline([\n",
    "    ('tvec', TfidfVectorizer()),\n",
    "    ('logreg', LogisticRegression(max_iter=10000))\n",
    "])\n",
    "\n",
    "pipe_tvlogreg_params = {\n",
    "    'tvec__max_features': [2000, 3000, 4000],\n",
    "    'tvec__min_df': [2, 3],\n",
    "    'tvec__max_df': [0.9, 0.95],\n",
    "    'tvec__ngram_range': [(1,1), (1,2), (1,3)],\n",
    "    'tvec__stop_words': [total_stop_words],\n",
    "    'logreg__C': [0.1, 1, 10]\n",
    "}\n",
    "\n",
    "gs_tvlogreg = GridSearchCV(pipe_tvlogreg, \n",
    "                  param_grid=pipe_tvlogreg_params, \n",
    "                  cv=5,\n",
    "                 n_jobs=-1)\n",
    "\n",
    "gs_tvlogreg.fit(X_train, y_train)"
   ]
  },
  {
   "cell_type": "code",
   "execution_count": 30,
   "id": "18bdcd5e",
   "metadata": {},
   "outputs": [
    {
     "data": {
      "text/html": [
       "<div>\n",
       "<style scoped>\n",
       "    .dataframe tbody tr th:only-of-type {\n",
       "        vertical-align: middle;\n",
       "    }\n",
       "\n",
       "    .dataframe tbody tr th {\n",
       "        vertical-align: top;\n",
       "    }\n",
       "\n",
       "    .dataframe thead th {\n",
       "        text-align: right;\n",
       "    }\n",
       "</style>\n",
       "<table border=\"1\" class=\"dataframe\">\n",
       "  <thead>\n",
       "    <tr style=\"text-align: right;\">\n",
       "      <th></th>\n",
       "      <th>tvec x logreg</th>\n",
       "    </tr>\n",
       "  </thead>\n",
       "  <tbody>\n",
       "    <tr>\n",
       "      <th>Best Score</th>\n",
       "      <td>0.73354</td>\n",
       "    </tr>\n",
       "    <tr>\n",
       "      <th>Test Score (accuracy)</th>\n",
       "      <td>0.75632</td>\n",
       "    </tr>\n",
       "    <tr>\n",
       "      <th>Precision</th>\n",
       "      <td>0.76259</td>\n",
       "    </tr>\n",
       "    <tr>\n",
       "      <th>Recall</th>\n",
       "      <td>0.68387</td>\n",
       "    </tr>\n",
       "    <tr>\n",
       "      <th>F1</th>\n",
       "      <td>0.72109</td>\n",
       "    </tr>\n",
       "    <tr>\n",
       "      <th>Best Params</th>\n",
       "      <td>{'logreg__C': 1, 'tvec__max_df': 0.9, 'tvec__max_features': 4000, 'tvec__min_df': 2, 'tvec__ngram_range': (1, 1), 'tvec__stop_words': ('myself', 'all', 'both', 'take', 'themselves', 'hundred', 'each', 'further', 'first', 'someone', 'hasnt', 'when', 'may', 'upon', 'by', 'system', 'enough', 'too', 'they', 'therefore', 'across', 'per', 'to', 'whence', 'within', 'twenty', 'part', 'will', 'whereupon', 'everything', 'name', 'bill', 'afterwards', 'who', 'mine', 'nothing', 'give', 'some', 'thereby', 'can', 'therein', 'thin', 'something', 'get', 'it', 'beforehand', 'etc', 'back', 'always', 'amongst', 'top', 'nowhere', 'thus', 'rather', 'until', 'anyhow', 'above', 'but', 'or', 'on', 'me', 'last', 'successes', 'i', 'bottom', 'problem', 'very', 'twelve', 'still', 'toward', 'ten', 'neither', 'mill', 'them', 'wherein', 'around', 'thereupon', 've', 'thick', 'a', 'serious', 'detail', 'least', 'anyone', 'over', 'put', 'anything', 'cant', 'else', 'had', 'throughout', 'he', 'beyond', 'us', 'were', 'how', 'under', 'eg', 'few', 'interest', ...)}</td>\n",
       "    </tr>\n",
       "  </tbody>\n",
       "</table>\n",
       "</div>"
      ],
      "text/plain": [
       "                                                                                                                                                                                                                                                                                                                                                                                                                                                                                                                                                                                                                                                                                                                                                                                                                                                                                                                                                                                                                                                                                          tvec x logreg\n",
       "Best Score             0.73354                                                                                                                                                                                                                                                                                                                                                                                                                                                                                                                                                                                                                                                                                                                                                                                                                                                                                                                                                                                                                                                                         \n",
       "Test Score (accuracy)  0.75632                                                                                                                                                                                                                                                                                                                                                                                                                                                                                                                                                                                                                                                                                                                                                                                                                                                                                                                                                                                                                                                                         \n",
       "Precision              0.76259                                                                                                                                                                                                                                                                                                                                                                                                                                                                                                                                                                                                                                                                                                                                                                                                                                                                                                                                                                                                                                                                         \n",
       "Recall                 0.68387                                                                                                                                                                                                                                                                                                                                                                                                                                                                                                                                                                                                                                                                                                                                                                                                                                                                                                                                                                                                                                                                         \n",
       "F1                     0.72109                                                                                                                                                                                                                                                                                                                                                                                                                                                                                                                                                                                                                                                                                                                                                                                                                                                                                                                                                                                                                                                                         \n",
       "Best Params            {'logreg__C': 1, 'tvec__max_df': 0.9, 'tvec__max_features': 4000, 'tvec__min_df': 2, 'tvec__ngram_range': (1, 1), 'tvec__stop_words': ('myself', 'all', 'both', 'take', 'themselves', 'hundred', 'each', 'further', 'first', 'someone', 'hasnt', 'when', 'may', 'upon', 'by', 'system', 'enough', 'too', 'they', 'therefore', 'across', 'per', 'to', 'whence', 'within', 'twenty', 'part', 'will', 'whereupon', 'everything', 'name', 'bill', 'afterwards', 'who', 'mine', 'nothing', 'give', 'some', 'thereby', 'can', 'therein', 'thin', 'something', 'get', 'it', 'beforehand', 'etc', 'back', 'always', 'amongst', 'top', 'nowhere', 'thus', 'rather', 'until', 'anyhow', 'above', 'but', 'or', 'on', 'me', 'last', 'successes', 'i', 'bottom', 'problem', 'very', 'twelve', 'still', 'toward', 'ten', 'neither', 'mill', 'them', 'wherein', 'around', 'thereupon', 've', 'thick', 'a', 'serious', 'detail', 'least', 'anyone', 'over', 'put', 'anything', 'cant', 'else', 'had', 'throughout', 'he', 'beyond', 'us', 'were', 'how', 'under', 'eg', 'few', 'interest', ...)}"
      ]
     },
     "execution_count": 30,
     "metadata": {},
     "output_type": "execute_result"
    }
   ],
   "source": [
    "results(gs_tvlogreg, X_test, y_test)"
   ]
  },
  {
   "cell_type": "markdown",
   "id": "96f17fdd",
   "metadata": {},
   "source": [
    "### TF-IDF Vectorizer x Random Forest"
   ]
  },
  {
   "cell_type": "code",
   "execution_count": 31,
   "id": "e243113e",
   "metadata": {},
   "outputs": [
    {
     "name": "stdout",
     "output_type": "stream",
     "text": [
      "CPU times: user 7.37 s, sys: 464 ms, total: 7.84 s\n",
      "Wall time: 4min 55s\n"
     ]
    },
    {
     "data": {
      "text/plain": [
       "GridSearchCV(cv=5,\n",
       "             estimator=Pipeline(steps=[('tvec', TfidfVectorizer()),\n",
       "                                       ('rf', RandomForestClassifier())]),\n",
       "             n_jobs=-1,\n",
       "             param_grid={'rf__min_samples_leaf': [1, 2, 3],\n",
       "                         'rf__n_estimators': [100, 150],\n",
       "                         'tvec__max_df': [0.9, 0.95],\n",
       "                         'tvec__max_features': [2000, 3000, 4000, 5000, 7000],\n",
       "                         'tvec__min_df': [2, 3],\n",
       "                         'tvec__ngram_range': [(1, 1), (1, 2), (1, 3)],\n",
       "                         'tvec__stop_words': [frozenset({'a', 'about', 'above',\n",
       "                                                         'across', 'after',\n",
       "                                                         'afterwards', 'again',\n",
       "                                                         'against', 'all',\n",
       "                                                         'almost', 'alone',\n",
       "                                                         'along', 'already',\n",
       "                                                         'also', 'although',\n",
       "                                                         'always', 'am',\n",
       "                                                         'among', 'amongst',\n",
       "                                                         'amoungst', 'amount',\n",
       "                                                         'an', 'and', 'another',\n",
       "                                                         'any', 'anyhow',\n",
       "                                                         'anyone', 'anything',\n",
       "                                                         'anyway', 'anywhere', ...})]})"
      ]
     },
     "execution_count": 31,
     "metadata": {},
     "output_type": "execute_result"
    }
   ],
   "source": [
    "%%time\n",
    "\n",
    "pipe_tvrf = Pipeline([\n",
    "    ('tvec', TfidfVectorizer()),\n",
    "    ('rf', RandomForestClassifier())\n",
    "])\n",
    "\n",
    "pipe_tvrf_params = {\n",
    "    'tvec__max_features': [2000, 3000, 4000, 5000, 7000],\n",
    "    'tvec__min_df': [2, 3],\n",
    "    'tvec__max_df': [.9, .95],\n",
    "    'tvec__ngram_range': [(1,1), (1,2), (1,3)],\n",
    "    'tvec__stop_words': [total_stop_words],\n",
    "    'rf__n_estimators': [100, 150],\n",
    "    'rf__min_samples_leaf': [1,2,3]\n",
    "}\n",
    "\n",
    "\n",
    "gs_tvrf = GridSearchCV(pipe_tvrf, \n",
    "                  param_grid=pipe_tvrf_params,\n",
    "                  cv=5,\n",
    "                  n_jobs=-1)\n",
    "\n",
    "gs_tvrf.fit(X_train, y_train)"
   ]
  },
  {
   "cell_type": "code",
   "execution_count": 32,
   "id": "e08d521f",
   "metadata": {},
   "outputs": [
    {
     "data": {
      "text/html": [
       "<div>\n",
       "<style scoped>\n",
       "    .dataframe tbody tr th:only-of-type {\n",
       "        vertical-align: middle;\n",
       "    }\n",
       "\n",
       "    .dataframe tbody tr th {\n",
       "        vertical-align: top;\n",
       "    }\n",
       "\n",
       "    .dataframe thead th {\n",
       "        text-align: right;\n",
       "    }\n",
       "</style>\n",
       "<table border=\"1\" class=\"dataframe\">\n",
       "  <thead>\n",
       "    <tr style=\"text-align: right;\">\n",
       "      <th></th>\n",
       "      <th>tvec x rf</th>\n",
       "    </tr>\n",
       "  </thead>\n",
       "  <tbody>\n",
       "    <tr>\n",
       "      <th>Best Score</th>\n",
       "      <td>0.71769</td>\n",
       "    </tr>\n",
       "    <tr>\n",
       "      <th>Test Score (accuracy)</th>\n",
       "      <td>0.75037</td>\n",
       "    </tr>\n",
       "    <tr>\n",
       "      <th>Precision</th>\n",
       "      <td>0.7415</td>\n",
       "    </tr>\n",
       "    <tr>\n",
       "      <th>Recall</th>\n",
       "      <td>0.70323</td>\n",
       "    </tr>\n",
       "    <tr>\n",
       "      <th>F1</th>\n",
       "      <td>0.72185</td>\n",
       "    </tr>\n",
       "    <tr>\n",
       "      <th>Best Params</th>\n",
       "      <td>{'rf__min_samples_leaf': 3, 'rf__n_estimators': 150, 'tvec__max_df': 0.95, 'tvec__max_features': 7000, 'tvec__min_df': 2, 'tvec__ngram_range': (1, 3), 'tvec__stop_words': ('myself', 'all', 'both', 'take', 'themselves', 'hundred', 'each', 'further', 'first', 'someone', 'hasnt', 'when', 'may', 'upon', 'by', 'system', 'enough', 'too', 'they', 'therefore', 'across', 'per', 'to', 'whence', 'within', 'twenty', 'part', 'will', 'whereupon', 'everything', 'name', 'bill', 'afterwards', 'who', 'mine', 'nothing', 'give', 'some', 'thereby', 'can', 'therein', 'thin', 'something', 'get', 'it', 'beforehand', 'etc', 'back', 'always', 'amongst', 'top', 'nowhere', 'thus', 'rather', 'until', 'anyhow', 'above', 'but', 'or', 'on', 'me', 'last', 'successes', 'i', 'bottom', 'problem', 'very', 'twelve', 'still', 'toward', 'ten', 'neither', 'mill', 'them', 'wherein', 'around', 'thereupon', 've', 'thick', 'a', 'serious', 'detail', 'least', 'anyone', 'over', 'put', 'anything', 'cant', 'else', 'had', 'throughout', 'he', 'beyond', 'us', 'were', 'how', 'under', 'eg', 'few', 'interest', ...)}</td>\n",
       "    </tr>\n",
       "  </tbody>\n",
       "</table>\n",
       "</div>"
      ],
      "text/plain": [
       "                                                                                                                                                                                                                                                                                                                                                                                                                                                                                                                                                                                                                                                                                                                                                                                                                                                                                                                                                                                                                                                                                                                                   tvec x rf\n",
       "Best Score             0.71769                                                                                                                                                                                                                                                                                                                                                                                                                                                                                                                                                                                                                                                                                                                                                                                                                                                                                                                                                                                                                                                                                                              \n",
       "Test Score (accuracy)  0.75037                                                                                                                                                                                                                                                                                                                                                                                                                                                                                                                                                                                                                                                                                                                                                                                                                                                                                                                                                                                                                                                                                                              \n",
       "Precision              0.7415                                                                                                                                                                                                                                                                                                                                                                                                                                                                                                                                                                                                                                                                                                                                                                                                                                                                                                                                                                                                                                                                                                               \n",
       "Recall                 0.70323                                                                                                                                                                                                                                                                                                                                                                                                                                                                                                                                                                                                                                                                                                                                                                                                                                                                                                                                                                                                                                                                                                              \n",
       "F1                     0.72185                                                                                                                                                                                                                                                                                                                                                                                                                                                                                                                                                                                                                                                                                                                                                                                                                                                                                                                                                                                                                                                                                                              \n",
       "Best Params            {'rf__min_samples_leaf': 3, 'rf__n_estimators': 150, 'tvec__max_df': 0.95, 'tvec__max_features': 7000, 'tvec__min_df': 2, 'tvec__ngram_range': (1, 3), 'tvec__stop_words': ('myself', 'all', 'both', 'take', 'themselves', 'hundred', 'each', 'further', 'first', 'someone', 'hasnt', 'when', 'may', 'upon', 'by', 'system', 'enough', 'too', 'they', 'therefore', 'across', 'per', 'to', 'whence', 'within', 'twenty', 'part', 'will', 'whereupon', 'everything', 'name', 'bill', 'afterwards', 'who', 'mine', 'nothing', 'give', 'some', 'thereby', 'can', 'therein', 'thin', 'something', 'get', 'it', 'beforehand', 'etc', 'back', 'always', 'amongst', 'top', 'nowhere', 'thus', 'rather', 'until', 'anyhow', 'above', 'but', 'or', 'on', 'me', 'last', 'successes', 'i', 'bottom', 'problem', 'very', 'twelve', 'still', 'toward', 'ten', 'neither', 'mill', 'them', 'wherein', 'around', 'thereupon', 've', 'thick', 'a', 'serious', 'detail', 'least', 'anyone', 'over', 'put', 'anything', 'cant', 'else', 'had', 'throughout', 'he', 'beyond', 'us', 'were', 'how', 'under', 'eg', 'few', 'interest', ...)}"
      ]
     },
     "execution_count": 32,
     "metadata": {},
     "output_type": "execute_result"
    }
   ],
   "source": [
    "results(gs_tvrf, X_test, y_test)"
   ]
  },
  {
   "cell_type": "markdown",
   "id": "33d5401f",
   "metadata": {},
   "source": [
    "### TF-IDF Vectorizer x Mulitnomial Naive Bayes"
   ]
  },
  {
   "cell_type": "code",
   "execution_count": 33,
   "id": "a942bde3",
   "metadata": {},
   "outputs": [
    {
     "name": "stdout",
     "output_type": "stream",
     "text": [
      "CPU times: user 1.71 s, sys: 119 ms, total: 1.83 s\n",
      "Wall time: 27.5 s\n"
     ]
    },
    {
     "data": {
      "text/plain": [
       "GridSearchCV(cv=5,\n",
       "             estimator=Pipeline(steps=[('tvec', TfidfVectorizer()),\n",
       "                                       ('nb', MultinomialNB())]),\n",
       "             n_jobs=-1,\n",
       "             param_grid={'nb__alpha': [1, 2, 3], 'tvec__max_df': [0.9, 0.95],\n",
       "                         'tvec__max_features': [2000, 3000, 4000, 5000],\n",
       "                         'tvec__min_df': [2, 3],\n",
       "                         'tvec__ngram_range': [(1, 1), (1, 2), (1, 3)],\n",
       "                         'tvec__stop_words': [frozenset({'a', 'about', 'above',\n",
       "                                                         'across', 'after',\n",
       "                                                         'afterwards', 'again',\n",
       "                                                         'against', 'all',\n",
       "                                                         'almost', 'alone',\n",
       "                                                         'along', 'already',\n",
       "                                                         'also', 'although',\n",
       "                                                         'always', 'am',\n",
       "                                                         'among', 'amongst',\n",
       "                                                         'amoungst', 'amount',\n",
       "                                                         'an', 'and', 'another',\n",
       "                                                         'any', 'anyhow',\n",
       "                                                         'anyone', 'anything',\n",
       "                                                         'anyway', 'anywhere', ...})]})"
      ]
     },
     "execution_count": 33,
     "metadata": {},
     "output_type": "execute_result"
    }
   ],
   "source": [
    "%%time\n",
    "\n",
    "pipe_tvnb = Pipeline([\n",
    "    ('tvec', TfidfVectorizer()),\n",
    "    ('nb', MultinomialNB())\n",
    "])\n",
    "\n",
    "pipe_tvnb_params = {\n",
    "    'tvec__max_features': [2000, 3000, 4000, 5000],\n",
    "    'tvec__min_df': [2, 3],\n",
    "    'tvec__max_df': [.9, .95],\n",
    "    'tvec__ngram_range': [(1,1), (1,2), (1,3)],\n",
    "    'tvec__stop_words': [total_stop_words],\n",
    "    'nb__alpha': [1,2,3]\n",
    "}\n",
    "\n",
    "\n",
    "gs_tvnb = GridSearchCV(pipe_tvnb, \n",
    "                  param_grid=pipe_tvnb_params,\n",
    "                  cv=5,\n",
    "                  n_jobs=-1)\n",
    "\n",
    "gs_tvnb.fit(X_train, y_train)"
   ]
  },
  {
   "cell_type": "code",
   "execution_count": 34,
   "id": "c48ef2c6",
   "metadata": {},
   "outputs": [
    {
     "data": {
      "text/html": [
       "<div>\n",
       "<style scoped>\n",
       "    .dataframe tbody tr th:only-of-type {\n",
       "        vertical-align: middle;\n",
       "    }\n",
       "\n",
       "    .dataframe tbody tr th {\n",
       "        vertical-align: top;\n",
       "    }\n",
       "\n",
       "    .dataframe thead th {\n",
       "        text-align: right;\n",
       "    }\n",
       "</style>\n",
       "<table border=\"1\" class=\"dataframe\">\n",
       "  <thead>\n",
       "    <tr style=\"text-align: right;\">\n",
       "      <th></th>\n",
       "      <th>tvec x nb</th>\n",
       "    </tr>\n",
       "  </thead>\n",
       "  <tbody>\n",
       "    <tr>\n",
       "      <th>Best Score</th>\n",
       "      <td>0.73106</td>\n",
       "    </tr>\n",
       "    <tr>\n",
       "      <th>Test Score (accuracy)</th>\n",
       "      <td>0.75186</td>\n",
       "    </tr>\n",
       "    <tr>\n",
       "      <th>Precision</th>\n",
       "      <td>0.77395</td>\n",
       "    </tr>\n",
       "    <tr>\n",
       "      <th>Recall</th>\n",
       "      <td>0.65161</td>\n",
       "    </tr>\n",
       "    <tr>\n",
       "      <th>F1</th>\n",
       "      <td>0.70753</td>\n",
       "    </tr>\n",
       "    <tr>\n",
       "      <th>Best Params</th>\n",
       "      <td>{'nb__alpha': 1, 'tvec__max_df': 0.9, 'tvec__max_features': 2000, 'tvec__min_df': 2, 'tvec__ngram_range': (1, 2), 'tvec__stop_words': ('myself', 'all', 'both', 'take', 'themselves', 'hundred', 'each', 'further', 'first', 'someone', 'hasnt', 'when', 'may', 'upon', 'by', 'system', 'enough', 'too', 'they', 'therefore', 'across', 'per', 'to', 'whence', 'within', 'twenty', 'part', 'will', 'whereupon', 'everything', 'name', 'bill', 'afterwards', 'who', 'mine', 'nothing', 'give', 'some', 'thereby', 'can', 'therein', 'thin', 'something', 'get', 'it', 'beforehand', 'etc', 'back', 'always', 'amongst', 'top', 'nowhere', 'thus', 'rather', 'until', 'anyhow', 'above', 'but', 'or', 'on', 'me', 'last', 'successes', 'i', 'bottom', 'problem', 'very', 'twelve', 'still', 'toward', 'ten', 'neither', 'mill', 'them', 'wherein', 'around', 'thereupon', 've', 'thick', 'a', 'serious', 'detail', 'least', 'anyone', 'over', 'put', 'anything', 'cant', 'else', 'had', 'throughout', 'he', 'beyond', 'us', 'were', 'how', 'under', 'eg', 'few', 'interest', ...)}</td>\n",
       "    </tr>\n",
       "  </tbody>\n",
       "</table>\n",
       "</div>"
      ],
      "text/plain": [
       "                                                                                                                                                                                                                                                                                                                                                                                                                                                                                                                                                                                                                                                                                                                                                                                                                                                                                                                                                                                                                                                                                              tvec x nb\n",
       "Best Score             0.73106                                                                                                                                                                                                                                                                                                                                                                                                                                                                                                                                                                                                                                                                                                                                                                                                                                                                                                                                                                                                                                                                         \n",
       "Test Score (accuracy)  0.75186                                                                                                                                                                                                                                                                                                                                                                                                                                                                                                                                                                                                                                                                                                                                                                                                                                                                                                                                                                                                                                                                         \n",
       "Precision              0.77395                                                                                                                                                                                                                                                                                                                                                                                                                                                                                                                                                                                                                                                                                                                                                                                                                                                                                                                                                                                                                                                                         \n",
       "Recall                 0.65161                                                                                                                                                                                                                                                                                                                                                                                                                                                                                                                                                                                                                                                                                                                                                                                                                                                                                                                                                                                                                                                                         \n",
       "F1                     0.70753                                                                                                                                                                                                                                                                                                                                                                                                                                                                                                                                                                                                                                                                                                                                                                                                                                                                                                                                                                                                                                                                         \n",
       "Best Params            {'nb__alpha': 1, 'tvec__max_df': 0.9, 'tvec__max_features': 2000, 'tvec__min_df': 2, 'tvec__ngram_range': (1, 2), 'tvec__stop_words': ('myself', 'all', 'both', 'take', 'themselves', 'hundred', 'each', 'further', 'first', 'someone', 'hasnt', 'when', 'may', 'upon', 'by', 'system', 'enough', 'too', 'they', 'therefore', 'across', 'per', 'to', 'whence', 'within', 'twenty', 'part', 'will', 'whereupon', 'everything', 'name', 'bill', 'afterwards', 'who', 'mine', 'nothing', 'give', 'some', 'thereby', 'can', 'therein', 'thin', 'something', 'get', 'it', 'beforehand', 'etc', 'back', 'always', 'amongst', 'top', 'nowhere', 'thus', 'rather', 'until', 'anyhow', 'above', 'but', 'or', 'on', 'me', 'last', 'successes', 'i', 'bottom', 'problem', 'very', 'twelve', 'still', 'toward', 'ten', 'neither', 'mill', 'them', 'wherein', 'around', 'thereupon', 've', 'thick', 'a', 'serious', 'detail', 'least', 'anyone', 'over', 'put', 'anything', 'cant', 'else', 'had', 'throughout', 'he', 'beyond', 'us', 'were', 'how', 'under', 'eg', 'few', 'interest', ...)}"
      ]
     },
     "execution_count": 34,
     "metadata": {},
     "output_type": "execute_result"
    }
   ],
   "source": [
    "results(gs_tvnb, X_test, y_test)"
   ]
  },
  {
   "cell_type": "markdown",
   "id": "b34536d8",
   "metadata": {},
   "source": [
    "## Summary"
   ]
  },
  {
   "cell_type": "markdown",
   "id": "11aa6517",
   "metadata": {},
   "source": [
    "With lemmatization, the CountVectorizer x Multinomial Naive Bayes model performed the best (highest accuracy score at 0.77). It also has the highest F1 score at 0.75 (good balance of precision and recall). \n",
    "\n",
    "A point to note: all models are not too dissimilar in terms of accuracy score - they range from 0.73 to 0.77"
   ]
  },
  {
   "cell_type": "code",
   "execution_count": 35,
   "id": "27e2c0d1",
   "metadata": {},
   "outputs": [],
   "source": [
    "overall_df = pd.concat([results(gs_cvlogreg, X_test, y_test), results(gs_cvrf, X_test, y_test), results(gs_cvnb, X_test, y_test), results(gs_tvlogreg, X_test, y_test), results(gs_tvrf, X_test, y_test), results(gs_tvnb, X_test, y_test)],axis=1).T"
   ]
  },
  {
   "cell_type": "code",
   "execution_count": 36,
   "id": "e582d759",
   "metadata": {
    "scrolled": true
   },
   "outputs": [
    {
     "data": {
      "text/html": [
       "<div>\n",
       "<style scoped>\n",
       "    .dataframe tbody tr th:only-of-type {\n",
       "        vertical-align: middle;\n",
       "    }\n",
       "\n",
       "    .dataframe tbody tr th {\n",
       "        vertical-align: top;\n",
       "    }\n",
       "\n",
       "    .dataframe thead th {\n",
       "        text-align: right;\n",
       "    }\n",
       "</style>\n",
       "<table border=\"1\" class=\"dataframe\">\n",
       "  <thead>\n",
       "    <tr style=\"text-align: right;\">\n",
       "      <th></th>\n",
       "      <th>Best Score</th>\n",
       "      <th>Test Score (accuracy)</th>\n",
       "      <th>Precision</th>\n",
       "      <th>Recall</th>\n",
       "      <th>F1</th>\n",
       "    </tr>\n",
       "  </thead>\n",
       "  <tbody>\n",
       "    <tr>\n",
       "      <th>cvec x nb</th>\n",
       "      <td>0.74096</td>\n",
       "      <td>0.77117</td>\n",
       "      <td>0.75161</td>\n",
       "      <td>0.75161</td>\n",
       "      <td>0.75161</td>\n",
       "    </tr>\n",
       "    <tr>\n",
       "      <th>cvec x rf</th>\n",
       "      <td>0.72214</td>\n",
       "      <td>0.75632</td>\n",
       "      <td>0.76449</td>\n",
       "      <td>0.68065</td>\n",
       "      <td>0.72014</td>\n",
       "    </tr>\n",
       "    <tr>\n",
       "      <th>tvec x logreg</th>\n",
       "      <td>0.73354</td>\n",
       "      <td>0.75632</td>\n",
       "      <td>0.76259</td>\n",
       "      <td>0.68387</td>\n",
       "      <td>0.72109</td>\n",
       "    </tr>\n",
       "    <tr>\n",
       "      <th>tvec x nb</th>\n",
       "      <td>0.73106</td>\n",
       "      <td>0.75186</td>\n",
       "      <td>0.77395</td>\n",
       "      <td>0.65161</td>\n",
       "      <td>0.70753</td>\n",
       "    </tr>\n",
       "    <tr>\n",
       "      <th>tvec x rf</th>\n",
       "      <td>0.71769</td>\n",
       "      <td>0.75037</td>\n",
       "      <td>0.7415</td>\n",
       "      <td>0.70323</td>\n",
       "      <td>0.72185</td>\n",
       "    </tr>\n",
       "    <tr>\n",
       "      <th>cvec x logreg</th>\n",
       "      <td>0.72463</td>\n",
       "      <td>0.737</td>\n",
       "      <td>0.72696</td>\n",
       "      <td>0.6871</td>\n",
       "      <td>0.70647</td>\n",
       "    </tr>\n",
       "  </tbody>\n",
       "</table>\n",
       "</div>"
      ],
      "text/plain": [
       "              Best Score Test Score (accuracy) Precision   Recall       F1\n",
       "cvec x nb      0.74096    0.77117               0.75161   0.75161  0.75161\n",
       "cvec x rf      0.72214    0.75632               0.76449   0.68065  0.72014\n",
       "tvec x logreg  0.73354    0.75632               0.76259   0.68387  0.72109\n",
       "tvec x nb      0.73106    0.75186               0.77395   0.65161  0.70753\n",
       "tvec x rf      0.71769    0.75037               0.7415    0.70323  0.72185\n",
       "cvec x logreg  0.72463    0.737                 0.72696   0.6871   0.70647"
      ]
     },
     "execution_count": 36,
     "metadata": {},
     "output_type": "execute_result"
    }
   ],
   "source": [
    "overall_df.sort_values(ascending=False, by='Test Score (accuracy)').drop(columns='Best Params')"
   ]
  },
  {
   "cell_type": "markdown",
   "id": "bd87c9c2",
   "metadata": {},
   "source": [
    "## Part 3: Without Lemmatization"
   ]
  },
  {
   "cell_type": "markdown",
   "id": "4d8c14e4",
   "metadata": {},
   "source": [
    "The rationale for removing lemmatization in the steps below is to see if we could make our modelling 'simpler' by avoiding excessive tokenization of the corpus. I only performed these on the Multinomial Naive Bayes and Random Forest models as they have the highest accuracy scores in Part 1 and Part 2."
   ]
  },
  {
   "cell_type": "code",
   "execution_count": 110,
   "id": "0d79d8f2",
   "metadata": {},
   "outputs": [],
   "source": [
    "X_non_lemma = problems_success['content']\n",
    "y_non_lemma = problems_success['label']"
   ]
  },
  {
   "cell_type": "code",
   "execution_count": 111,
   "id": "34c69975",
   "metadata": {},
   "outputs": [],
   "source": [
    "X_nl_train, X_nl_test, y_nl_train, y_nl_test = train_test_split(X_non_lemma, y_non_lemma, stratify=y, random_state=42)"
   ]
  },
  {
   "cell_type": "markdown",
   "id": "66eeb493",
   "metadata": {},
   "source": [
    "### Count Vectorizer x Multinomial Naive Bayes"
   ]
  },
  {
   "cell_type": "code",
   "execution_count": 112,
   "id": "c2a5fa00",
   "metadata": {},
   "outputs": [
    {
     "name": "stdout",
     "output_type": "stream",
     "text": [
      "CPU times: user 2.78 s, sys: 279 ms, total: 3.06 s\n",
      "Wall time: 35 s\n"
     ]
    },
    {
     "data": {
      "text/plain": [
       "GridSearchCV(cv=5,\n",
       "             estimator=Pipeline(steps=[('cvec', CountVectorizer()),\n",
       "                                       ('nb', MultinomialNB())]),\n",
       "             n_jobs=-1,\n",
       "             param_grid={'cvec__max_df': [0.9, 0.95],\n",
       "                         'cvec__max_features': [2000, 3000, 4000, 5000, 7500],\n",
       "                         'cvec__min_df': [2, 3],\n",
       "                         'cvec__ngram_range': [(1, 1), (1, 2), (1, 3)],\n",
       "                         'cvec__stop_words': [frozenset({'a', 'about', 'above',\n",
       "                                                         'across', 'after',\n",
       "                                                         'afterwards', 'again',\n",
       "                                                         'against', 'all',\n",
       "                                                         'almost', 'alone',\n",
       "                                                         'along', 'already',\n",
       "                                                         'also', 'although',\n",
       "                                                         'always', 'am',\n",
       "                                                         'among', 'amongst',\n",
       "                                                         'amoungst', 'amount',\n",
       "                                                         'an', 'and', 'another',\n",
       "                                                         'any', 'anyhow',\n",
       "                                                         'anyone', 'anything',\n",
       "                                                         'anyway', 'anywhere', ...})],\n",
       "                         'nb__alpha': [1, 2, 3]})"
      ]
     },
     "execution_count": 112,
     "metadata": {},
     "output_type": "execute_result"
    }
   ],
   "source": [
    "%%time\n",
    "\n",
    "pipe_nl_cvnb = Pipeline([\n",
    "    ('cvec', CountVectorizer()),\n",
    "    ('nb', MultinomialNB())\n",
    "])\n",
    "\n",
    "pipe_nl_cvnb_params = {\n",
    "    'cvec__max_features': [2000, 3000, 4000, 5000,7500],\n",
    "    'cvec__min_df': [2, 3],\n",
    "    'cvec__max_df': [0.9, 0.95],\n",
    "    'cvec__ngram_range': [(1,1), (1,2), (1,3)],\n",
    "    'cvec__stop_words': [total_stop_words],    \n",
    "    'nb__alpha': [1,2,3]\n",
    "}\n",
    "\n",
    "gs_nl_cvnb = GridSearchCV(pipe_nl_cvnb, \n",
    "                  param_grid=pipe_nl_cvnb_params, \n",
    "                  cv=5,\n",
    "                 n_jobs=-1)\n",
    "\n",
    "gs_nl_cvnb.fit(X_nl_train, y_nl_train)"
   ]
  },
  {
   "cell_type": "code",
   "execution_count": 113,
   "id": "b5208090",
   "metadata": {},
   "outputs": [
    {
     "data": {
      "text/html": [
       "<div>\n",
       "<style scoped>\n",
       "    .dataframe tbody tr th:only-of-type {\n",
       "        vertical-align: middle;\n",
       "    }\n",
       "\n",
       "    .dataframe tbody tr th {\n",
       "        vertical-align: top;\n",
       "    }\n",
       "\n",
       "    .dataframe thead th {\n",
       "        text-align: right;\n",
       "    }\n",
       "</style>\n",
       "<table border=\"1\" class=\"dataframe\">\n",
       "  <thead>\n",
       "    <tr style=\"text-align: right;\">\n",
       "      <th></th>\n",
       "      <th>cvec x nb</th>\n",
       "    </tr>\n",
       "  </thead>\n",
       "  <tbody>\n",
       "    <tr>\n",
       "      <th>Best Score</th>\n",
       "      <td>0.73799</td>\n",
       "    </tr>\n",
       "    <tr>\n",
       "      <th>Test Score (accuracy)</th>\n",
       "      <td>0.76077</td>\n",
       "    </tr>\n",
       "    <tr>\n",
       "      <th>Precision</th>\n",
       "      <td>0.74587</td>\n",
       "    </tr>\n",
       "    <tr>\n",
       "      <th>Recall</th>\n",
       "      <td>0.72903</td>\n",
       "    </tr>\n",
       "    <tr>\n",
       "      <th>F1</th>\n",
       "      <td>0.73736</td>\n",
       "    </tr>\n",
       "    <tr>\n",
       "      <th>Best Params</th>\n",
       "      <td>{'cvec__max_df': 0.9, 'cvec__max_features': 2000, 'cvec__min_df': 2, 'cvec__ngram_range': (1, 1), 'cvec__stop_words': ('myself', 'all', 'both', 'take', 'themselves', 'hundred', 'each', 'further', 'first', 'someone', 'hasnt', 'when', 'may', 'upon', 'by', 'system', 'enough', 'too', 'they', 'therefore', 'across', 'per', 'to', 'whence', 'within', 'twenty', 'part', 'will', 'whereupon', 'everything', 'name', 'bill', 'afterwards', 'who', 'mine', 'nothing', 'give', 'some', 'thereby', 'can', 'therein', 'thin', 'something', 'get', 'it', 'beforehand', 'etc', 'back', 'always', 'amongst', 'top', 'nowhere', 'thus', 'rather', 'until', 'anyhow', 'above', 'but', 'or', 'on', 'me', 'last', 'successes', 'i', 'bottom', 'problem', 'very', 'twelve', 'still', 'toward', 'ten', 'neither', 'mill', 'them', 'wherein', 'around', 'thereupon', 've', 'thick', 'a', 'serious', 'detail', 'least', 'anyone', 'over', 'put', 'anything', 'cant', 'else', 'had', 'throughout', 'he', 'beyond', 'us', 'were', 'how', 'under', 'eg', 'few', 'interest', ...), 'nb__alpha': 2}</td>\n",
       "    </tr>\n",
       "  </tbody>\n",
       "</table>\n",
       "</div>"
      ],
      "text/plain": [
       "                                                                                                                                                                                                                                                                                                                                                                                                                                                                                                                                                                                                                                                                                                                                                                                                                                                                                                                                                                                                                                                                                              cvec x nb\n",
       "Best Score             0.73799                                                                                                                                                                                                                                                                                                                                                                                                                                                                                                                                                                                                                                                                                                                                                                                                                                                                                                                                                                                                                                                                         \n",
       "Test Score (accuracy)  0.76077                                                                                                                                                                                                                                                                                                                                                                                                                                                                                                                                                                                                                                                                                                                                                                                                                                                                                                                                                                                                                                                                         \n",
       "Precision              0.74587                                                                                                                                                                                                                                                                                                                                                                                                                                                                                                                                                                                                                                                                                                                                                                                                                                                                                                                                                                                                                                                                         \n",
       "Recall                 0.72903                                                                                                                                                                                                                                                                                                                                                                                                                                                                                                                                                                                                                                                                                                                                                                                                                                                                                                                                                                                                                                                                         \n",
       "F1                     0.73736                                                                                                                                                                                                                                                                                                                                                                                                                                                                                                                                                                                                                                                                                                                                                                                                                                                                                                                                                                                                                                                                         \n",
       "Best Params            {'cvec__max_df': 0.9, 'cvec__max_features': 2000, 'cvec__min_df': 2, 'cvec__ngram_range': (1, 1), 'cvec__stop_words': ('myself', 'all', 'both', 'take', 'themselves', 'hundred', 'each', 'further', 'first', 'someone', 'hasnt', 'when', 'may', 'upon', 'by', 'system', 'enough', 'too', 'they', 'therefore', 'across', 'per', 'to', 'whence', 'within', 'twenty', 'part', 'will', 'whereupon', 'everything', 'name', 'bill', 'afterwards', 'who', 'mine', 'nothing', 'give', 'some', 'thereby', 'can', 'therein', 'thin', 'something', 'get', 'it', 'beforehand', 'etc', 'back', 'always', 'amongst', 'top', 'nowhere', 'thus', 'rather', 'until', 'anyhow', 'above', 'but', 'or', 'on', 'me', 'last', 'successes', 'i', 'bottom', 'problem', 'very', 'twelve', 'still', 'toward', 'ten', 'neither', 'mill', 'them', 'wherein', 'around', 'thereupon', 've', 'thick', 'a', 'serious', 'detail', 'least', 'anyone', 'over', 'put', 'anything', 'cant', 'else', 'had', 'throughout', 'he', 'beyond', 'us', 'were', 'how', 'under', 'eg', 'few', 'interest', ...), 'nb__alpha': 2}"
      ]
     },
     "execution_count": 113,
     "metadata": {},
     "output_type": "execute_result"
    }
   ],
   "source": [
    "results(gs_nl_cvnb, X_nl_test, y_nl_test)"
   ]
  },
  {
   "cell_type": "markdown",
   "id": "f124fbca",
   "metadata": {},
   "source": [
    "### TF-IDF Vectorizer x Multinomial Naive Bayes"
   ]
  },
  {
   "cell_type": "code",
   "execution_count": 114,
   "id": "f002fc1d",
   "metadata": {},
   "outputs": [
    {
     "name": "stdout",
     "output_type": "stream",
     "text": [
      "CPU times: user 1.96 s, sys: 119 ms, total: 2.08 s\n",
      "Wall time: 33.9 s\n"
     ]
    },
    {
     "data": {
      "text/plain": [
       "GridSearchCV(cv=5,\n",
       "             estimator=Pipeline(steps=[('tvec', TfidfVectorizer()),\n",
       "                                       ('nb', MultinomialNB())]),\n",
       "             n_jobs=-1,\n",
       "             param_grid={'nb__alpha': [1, 2, 3], 'tvec__max_df': [0.9, 0.95],\n",
       "                         'tvec__max_features': [2000, 3000, 4000, 5000, 7500],\n",
       "                         'tvec__min_df': [2, 3],\n",
       "                         'tvec__ngram_range': [(1, 1), (1, 2), (1, 3)],\n",
       "                         'tvec__stop_words': [frozenset({'a', 'about', 'above',\n",
       "                                                         'across', 'after',\n",
       "                                                         'afterwards', 'again',\n",
       "                                                         'against', 'all',\n",
       "                                                         'almost', 'alone',\n",
       "                                                         'along', 'already',\n",
       "                                                         'also', 'although',\n",
       "                                                         'always', 'am',\n",
       "                                                         'among', 'amongst',\n",
       "                                                         'amoungst', 'amount',\n",
       "                                                         'an', 'and', 'another',\n",
       "                                                         'any', 'anyhow',\n",
       "                                                         'anyone', 'anything',\n",
       "                                                         'anyway', 'anywhere', ...})]})"
      ]
     },
     "execution_count": 114,
     "metadata": {},
     "output_type": "execute_result"
    }
   ],
   "source": [
    "%%time\n",
    "\n",
    "pipe_nl_tvnb = Pipeline([\n",
    "    ('tvec', TfidfVectorizer()),\n",
    "    ('nb', MultinomialNB())\n",
    "])\n",
    "\n",
    "pipe_nl_tvnb_params = {\n",
    "    'tvec__max_features': [2000, 3000, 4000, 5000,7500],\n",
    "    'tvec__min_df': [2, 3],\n",
    "    'tvec__max_df': [0.9, 0.95],\n",
    "    'tvec__ngram_range': [(1,1), (1,2), (1,3)],\n",
    "    'tvec__stop_words': [total_stop_words],\n",
    "    'nb__alpha': [1,2,3]\n",
    "}\n",
    "\n",
    "gs_nl_tvnb = GridSearchCV(pipe_nl_tvnb, \n",
    "                  param_grid=pipe_nl_tvnb_params, \n",
    "                  cv=5,\n",
    "                 n_jobs=-1)\n",
    "\n",
    "gs_nl_tvnb.fit(X_nl_train, y_nl_train)"
   ]
  },
  {
   "cell_type": "code",
   "execution_count": 115,
   "id": "0a10d0f4",
   "metadata": {},
   "outputs": [
    {
     "data": {
      "text/html": [
       "<div>\n",
       "<style scoped>\n",
       "    .dataframe tbody tr th:only-of-type {\n",
       "        vertical-align: middle;\n",
       "    }\n",
       "\n",
       "    .dataframe tbody tr th {\n",
       "        vertical-align: top;\n",
       "    }\n",
       "\n",
       "    .dataframe thead th {\n",
       "        text-align: right;\n",
       "    }\n",
       "</style>\n",
       "<table border=\"1\" class=\"dataframe\">\n",
       "  <thead>\n",
       "    <tr style=\"text-align: right;\">\n",
       "      <th></th>\n",
       "      <th>tvec x nb</th>\n",
       "    </tr>\n",
       "  </thead>\n",
       "  <tbody>\n",
       "    <tr>\n",
       "      <th>Best Score</th>\n",
       "      <td>0.72562</td>\n",
       "    </tr>\n",
       "    <tr>\n",
       "      <th>Test Score (accuracy)</th>\n",
       "      <td>0.75929</td>\n",
       "    </tr>\n",
       "    <tr>\n",
       "      <th>Precision</th>\n",
       "      <td>0.79839</td>\n",
       "    </tr>\n",
       "    <tr>\n",
       "      <th>Recall</th>\n",
       "      <td>0.63871</td>\n",
       "    </tr>\n",
       "    <tr>\n",
       "      <th>F1</th>\n",
       "      <td>0.70968</td>\n",
       "    </tr>\n",
       "    <tr>\n",
       "      <th>Best Params</th>\n",
       "      <td>{'nb__alpha': 1, 'tvec__max_df': 0.9, 'tvec__max_features': 3000, 'tvec__min_df': 2, 'tvec__ngram_range': (1, 1), 'tvec__stop_words': ('myself', 'all', 'both', 'take', 'themselves', 'hundred', 'each', 'further', 'first', 'someone', 'hasnt', 'when', 'may', 'upon', 'by', 'system', 'enough', 'too', 'they', 'therefore', 'across', 'per', 'to', 'whence', 'within', 'twenty', 'part', 'will', 'whereupon', 'everything', 'name', 'bill', 'afterwards', 'who', 'mine', 'nothing', 'give', 'some', 'thereby', 'can', 'therein', 'thin', 'something', 'get', 'it', 'beforehand', 'etc', 'back', 'always', 'amongst', 'top', 'nowhere', 'thus', 'rather', 'until', 'anyhow', 'above', 'but', 'or', 'on', 'me', 'last', 'successes', 'i', 'bottom', 'problem', 'very', 'twelve', 'still', 'toward', 'ten', 'neither', 'mill', 'them', 'wherein', 'around', 'thereupon', 've', 'thick', 'a', 'serious', 'detail', 'least', 'anyone', 'over', 'put', 'anything', 'cant', 'else', 'had', 'throughout', 'he', 'beyond', 'us', 'were', 'how', 'under', 'eg', 'few', 'interest', ...)}</td>\n",
       "    </tr>\n",
       "  </tbody>\n",
       "</table>\n",
       "</div>"
      ],
      "text/plain": [
       "                                                                                                                                                                                                                                                                                                                                                                                                                                                                                                                                                                                                                                                                                                                                                                                                                                                                                                                                                                                                                                                                                              tvec x nb\n",
       "Best Score             0.72562                                                                                                                                                                                                                                                                                                                                                                                                                                                                                                                                                                                                                                                                                                                                                                                                                                                                                                                                                                                                                                                                         \n",
       "Test Score (accuracy)  0.75929                                                                                                                                                                                                                                                                                                                                                                                                                                                                                                                                                                                                                                                                                                                                                                                                                                                                                                                                                                                                                                                                         \n",
       "Precision              0.79839                                                                                                                                                                                                                                                                                                                                                                                                                                                                                                                                                                                                                                                                                                                                                                                                                                                                                                                                                                                                                                                                         \n",
       "Recall                 0.63871                                                                                                                                                                                                                                                                                                                                                                                                                                                                                                                                                                                                                                                                                                                                                                                                                                                                                                                                                                                                                                                                         \n",
       "F1                     0.70968                                                                                                                                                                                                                                                                                                                                                                                                                                                                                                                                                                                                                                                                                                                                                                                                                                                                                                                                                                                                                                                                         \n",
       "Best Params            {'nb__alpha': 1, 'tvec__max_df': 0.9, 'tvec__max_features': 3000, 'tvec__min_df': 2, 'tvec__ngram_range': (1, 1), 'tvec__stop_words': ('myself', 'all', 'both', 'take', 'themselves', 'hundred', 'each', 'further', 'first', 'someone', 'hasnt', 'when', 'may', 'upon', 'by', 'system', 'enough', 'too', 'they', 'therefore', 'across', 'per', 'to', 'whence', 'within', 'twenty', 'part', 'will', 'whereupon', 'everything', 'name', 'bill', 'afterwards', 'who', 'mine', 'nothing', 'give', 'some', 'thereby', 'can', 'therein', 'thin', 'something', 'get', 'it', 'beforehand', 'etc', 'back', 'always', 'amongst', 'top', 'nowhere', 'thus', 'rather', 'until', 'anyhow', 'above', 'but', 'or', 'on', 'me', 'last', 'successes', 'i', 'bottom', 'problem', 'very', 'twelve', 'still', 'toward', 'ten', 'neither', 'mill', 'them', 'wherein', 'around', 'thereupon', 've', 'thick', 'a', 'serious', 'detail', 'least', 'anyone', 'over', 'put', 'anything', 'cant', 'else', 'had', 'throughout', 'he', 'beyond', 'us', 'were', 'how', 'under', 'eg', 'few', 'interest', ...)}"
      ]
     },
     "execution_count": 115,
     "metadata": {},
     "output_type": "execute_result"
    }
   ],
   "source": [
    "results(gs_nl_tvnb, X_nl_test, y_nl_test)"
   ]
  },
  {
   "cell_type": "markdown",
   "id": "c93f15a5",
   "metadata": {},
   "source": [
    "### Count Vectorizer x Random Forest"
   ]
  },
  {
   "cell_type": "code",
   "execution_count": 116,
   "id": "fd1c3c8b",
   "metadata": {},
   "outputs": [
    {
     "name": "stdout",
     "output_type": "stream",
     "text": [
      "CPU times: user 6.8 s, sys: 461 ms, total: 7.26 s\n",
      "Wall time: 4min 34s\n"
     ]
    },
    {
     "data": {
      "text/plain": [
       "GridSearchCV(cv=5,\n",
       "             estimator=Pipeline(steps=[('cvec', CountVectorizer()),\n",
       "                                       ('rf', RandomForestClassifier())]),\n",
       "             n_jobs=-1,\n",
       "             param_grid={'cvec__max_df': [0.9, 0.95],\n",
       "                         'cvec__max_features': [2000, 3000, 4000, 5000, 7000],\n",
       "                         'cvec__min_df': [2, 3],\n",
       "                         'cvec__ngram_range': [(1, 1), (1, 2), (1, 3)],\n",
       "                         'cvec__stop_words': [frozenset({'a', 'about', 'above',\n",
       "                                                         'across', 'after',\n",
       "                                                         'afterwards', 'again',\n",
       "                                                         'against', 'all',\n",
       "                                                         'almost', 'alone',\n",
       "                                                         'along', 'already',\n",
       "                                                         'also', 'although',\n",
       "                                                         'always', 'am',\n",
       "                                                         'among', 'amongst',\n",
       "                                                         'amoungst', 'amount',\n",
       "                                                         'an', 'and', 'another',\n",
       "                                                         'any', 'anyhow',\n",
       "                                                         'anyone', 'anything',\n",
       "                                                         'anyway', 'anywhere', ...})],\n",
       "                         'rf__min_samples_leaf': [1, 2, 3],\n",
       "                         'rf__n_estimators': [100, 150]})"
      ]
     },
     "execution_count": 116,
     "metadata": {},
     "output_type": "execute_result"
    }
   ],
   "source": [
    "%%time\n",
    "\n",
    "pipe_nl_cvrf = Pipeline([\n",
    "    ('cvec', CountVectorizer()),\n",
    "    ('rf', RandomForestClassifier())\n",
    "])\n",
    "\n",
    "pipe_nl_cvrf_params = {\n",
    "    'cvec__max_features': [2000, 3000, 4000, 5000, 7000],\n",
    "    'cvec__min_df': [2, 3],\n",
    "    'cvec__max_df': [0.9, 0.95],\n",
    "    'cvec__ngram_range': [(1,1), (1,2), (1,3)],\n",
    "    'cvec__stop_words': [total_stop_words],\n",
    "    'rf__n_estimators': [100, 150],\n",
    "    'rf__min_samples_leaf': [1,2,3]\n",
    "}\n",
    "\n",
    "gs_nl_cvrf = GridSearchCV(pipe_nl_cvrf, \n",
    "                  param_grid=pipe_nl_cvrf_params, \n",
    "                  cv=5,\n",
    "                 n_jobs=-1)\n",
    "\n",
    "gs_nl_cvrf.fit(X_nl_train, y_nl_train)"
   ]
  },
  {
   "cell_type": "code",
   "execution_count": 117,
   "id": "029529d0",
   "metadata": {},
   "outputs": [
    {
     "data": {
      "text/html": [
       "<div>\n",
       "<style scoped>\n",
       "    .dataframe tbody tr th:only-of-type {\n",
       "        vertical-align: middle;\n",
       "    }\n",
       "\n",
       "    .dataframe tbody tr th {\n",
       "        vertical-align: top;\n",
       "    }\n",
       "\n",
       "    .dataframe thead th {\n",
       "        text-align: right;\n",
       "    }\n",
       "</style>\n",
       "<table border=\"1\" class=\"dataframe\">\n",
       "  <thead>\n",
       "    <tr style=\"text-align: right;\">\n",
       "      <th></th>\n",
       "      <th>cvec x rf</th>\n",
       "    </tr>\n",
       "  </thead>\n",
       "  <tbody>\n",
       "    <tr>\n",
       "      <th>Best Score</th>\n",
       "      <td>0.72413</td>\n",
       "    </tr>\n",
       "    <tr>\n",
       "      <th>Test Score (accuracy)</th>\n",
       "      <td>0.74591</td>\n",
       "    </tr>\n",
       "    <tr>\n",
       "      <th>Precision</th>\n",
       "      <td>0.76834</td>\n",
       "    </tr>\n",
       "    <tr>\n",
       "      <th>Recall</th>\n",
       "      <td>0.64194</td>\n",
       "    </tr>\n",
       "    <tr>\n",
       "      <th>F1</th>\n",
       "      <td>0.69947</td>\n",
       "    </tr>\n",
       "    <tr>\n",
       "      <th>Best Params</th>\n",
       "      <td>{'cvec__max_df': 0.9, 'cvec__max_features': 7000, 'cvec__min_df': 2, 'cvec__ngram_range': (1, 2), 'cvec__stop_words': ('myself', 'all', 'both', 'take', 'themselves', 'hundred', 'each', 'further', 'first', 'someone', 'hasnt', 'when', 'may', 'upon', 'by', 'system', 'enough', 'too', 'they', 'therefore', 'across', 'per', 'to', 'whence', 'within', 'twenty', 'part', 'will', 'whereupon', 'everything', 'name', 'bill', 'afterwards', 'who', 'mine', 'nothing', 'give', 'some', 'thereby', 'can', 'therein', 'thin', 'something', 'get', 'it', 'beforehand', 'etc', 'back', 'always', 'amongst', 'top', 'nowhere', 'thus', 'rather', 'until', 'anyhow', 'above', 'but', 'or', 'on', 'me', 'last', 'successes', 'i', 'bottom', 'problem', 'very', 'twelve', 'still', 'toward', 'ten', 'neither', 'mill', 'them', 'wherein', 'around', 'thereupon', 've', 'thick', 'a', 'serious', 'detail', 'least', 'anyone', 'over', 'put', 'anything', 'cant', 'else', 'had', 'throughout', 'he', 'beyond', 'us', 'were', 'how', 'under', 'eg', 'few', 'interest', ...), 'rf__min_samples_leaf': 3, 'rf__n_estimators': 100}</td>\n",
       "    </tr>\n",
       "  </tbody>\n",
       "</table>\n",
       "</div>"
      ],
      "text/plain": [
       "                                                                                                                                                                                                                                                                                                                                                                                                                                                                                                                                                                                                                                                                                                                                                                                                                                                                                                                                                                                                                                                                                                                                  cvec x rf\n",
       "Best Score             0.72413                                                                                                                                                                                                                                                                                                                                                                                                                                                                                                                                                                                                                                                                                                                                                                                                                                                                                                                                                                                                                                                                                                             \n",
       "Test Score (accuracy)  0.74591                                                                                                                                                                                                                                                                                                                                                                                                                                                                                                                                                                                                                                                                                                                                                                                                                                                                                                                                                                                                                                                                                                             \n",
       "Precision              0.76834                                                                                                                                                                                                                                                                                                                                                                                                                                                                                                                                                                                                                                                                                                                                                                                                                                                                                                                                                                                                                                                                                                             \n",
       "Recall                 0.64194                                                                                                                                                                                                                                                                                                                                                                                                                                                                                                                                                                                                                                                                                                                                                                                                                                                                                                                                                                                                                                                                                                             \n",
       "F1                     0.69947                                                                                                                                                                                                                                                                                                                                                                                                                                                                                                                                                                                                                                                                                                                                                                                                                                                                                                                                                                                                                                                                                                             \n",
       "Best Params            {'cvec__max_df': 0.9, 'cvec__max_features': 7000, 'cvec__min_df': 2, 'cvec__ngram_range': (1, 2), 'cvec__stop_words': ('myself', 'all', 'both', 'take', 'themselves', 'hundred', 'each', 'further', 'first', 'someone', 'hasnt', 'when', 'may', 'upon', 'by', 'system', 'enough', 'too', 'they', 'therefore', 'across', 'per', 'to', 'whence', 'within', 'twenty', 'part', 'will', 'whereupon', 'everything', 'name', 'bill', 'afterwards', 'who', 'mine', 'nothing', 'give', 'some', 'thereby', 'can', 'therein', 'thin', 'something', 'get', 'it', 'beforehand', 'etc', 'back', 'always', 'amongst', 'top', 'nowhere', 'thus', 'rather', 'until', 'anyhow', 'above', 'but', 'or', 'on', 'me', 'last', 'successes', 'i', 'bottom', 'problem', 'very', 'twelve', 'still', 'toward', 'ten', 'neither', 'mill', 'them', 'wherein', 'around', 'thereupon', 've', 'thick', 'a', 'serious', 'detail', 'least', 'anyone', 'over', 'put', 'anything', 'cant', 'else', 'had', 'throughout', 'he', 'beyond', 'us', 'were', 'how', 'under', 'eg', 'few', 'interest', ...), 'rf__min_samples_leaf': 3, 'rf__n_estimators': 100}"
      ]
     },
     "execution_count": 117,
     "metadata": {},
     "output_type": "execute_result"
    }
   ],
   "source": [
    "results(gs_nl_cvrf, X_nl_test, y_nl_test)"
   ]
  },
  {
   "cell_type": "markdown",
   "id": "c3255190",
   "metadata": {},
   "source": [
    "### TF-IDF Vectorizer x Random Forest"
   ]
  },
  {
   "cell_type": "code",
   "execution_count": 118,
   "id": "aae5ee53",
   "metadata": {},
   "outputs": [
    {
     "name": "stdout",
     "output_type": "stream",
     "text": [
      "CPU times: user 7.31 s, sys: 992 ms, total: 8.3 s\n",
      "Wall time: 4min 58s\n"
     ]
    },
    {
     "data": {
      "text/plain": [
       "GridSearchCV(cv=5,\n",
       "             estimator=Pipeline(steps=[('tvec', CountVectorizer()),\n",
       "                                       ('rf', RandomForestClassifier())]),\n",
       "             n_jobs=-1,\n",
       "             param_grid={'rf__min_samples_leaf': [1, 2, 3],\n",
       "                         'rf__n_estimators': [100, 150],\n",
       "                         'tvec__max_df': [0.9, 0.95],\n",
       "                         'tvec__max_features': [2000, 3000, 4000, 5000, 7000],\n",
       "                         'tvec__min_df': [2, 3],\n",
       "                         'tvec__ngram_range': [(1, 1), (1, 2), (1, 3)],\n",
       "                         'tvec__stop_words': [frozenset({'a', 'about', 'above',\n",
       "                                                         'across', 'after',\n",
       "                                                         'afterwards', 'again',\n",
       "                                                         'against', 'all',\n",
       "                                                         'almost', 'alone',\n",
       "                                                         'along', 'already',\n",
       "                                                         'also', 'although',\n",
       "                                                         'always', 'am',\n",
       "                                                         'among', 'amongst',\n",
       "                                                         'amoungst', 'amount',\n",
       "                                                         'an', 'and', 'another',\n",
       "                                                         'any', 'anyhow',\n",
       "                                                         'anyone', 'anything',\n",
       "                                                         'anyway', 'anywhere', ...})]})"
      ]
     },
     "execution_count": 118,
     "metadata": {},
     "output_type": "execute_result"
    }
   ],
   "source": [
    "%%time\n",
    "\n",
    "pipe_nl_tvrf = Pipeline([\n",
    "    ('tvec', CountVectorizer()),\n",
    "    ('rf', RandomForestClassifier())\n",
    "])\n",
    "\n",
    "pipe_nl_tvrf_params = {\n",
    "    'tvec__max_features': [2000, 3000, 4000, 5000, 7000],\n",
    "    'tvec__min_df': [2, 3],\n",
    "    'tvec__max_df': [0.9, 0.95],\n",
    "    'tvec__ngram_range': [(1,1), (1,2), (1,3)],\n",
    "    'tvec__stop_words': [total_stop_words],   \n",
    "    'rf__n_estimators': [100, 150],\n",
    "    'rf__min_samples_leaf': [1,2,3]\n",
    "}\n",
    "\n",
    "gs_nl_tvrf = GridSearchCV(pipe_nl_tvrf, \n",
    "                  param_grid=pipe_nl_tvrf_params, \n",
    "                  cv=5,\n",
    "                 n_jobs=-1)\n",
    "\n",
    "gs_nl_tvrf.fit(X_nl_train, y_nl_train)"
   ]
  },
  {
   "cell_type": "code",
   "execution_count": 119,
   "id": "9311f50c",
   "metadata": {},
   "outputs": [
    {
     "data": {
      "text/html": [
       "<div>\n",
       "<style scoped>\n",
       "    .dataframe tbody tr th:only-of-type {\n",
       "        vertical-align: middle;\n",
       "    }\n",
       "\n",
       "    .dataframe tbody tr th {\n",
       "        vertical-align: top;\n",
       "    }\n",
       "\n",
       "    .dataframe thead th {\n",
       "        text-align: right;\n",
       "    }\n",
       "</style>\n",
       "<table border=\"1\" class=\"dataframe\">\n",
       "  <thead>\n",
       "    <tr style=\"text-align: right;\">\n",
       "      <th></th>\n",
       "      <th>tvec x rf</th>\n",
       "    </tr>\n",
       "  </thead>\n",
       "  <tbody>\n",
       "    <tr>\n",
       "      <th>Best Score</th>\n",
       "      <td>0.72562</td>\n",
       "    </tr>\n",
       "    <tr>\n",
       "      <th>Test Score (accuracy)</th>\n",
       "      <td>0.75186</td>\n",
       "    </tr>\n",
       "    <tr>\n",
       "      <th>Precision</th>\n",
       "      <td>0.78039</td>\n",
       "    </tr>\n",
       "    <tr>\n",
       "      <th>Recall</th>\n",
       "      <td>0.64194</td>\n",
       "    </tr>\n",
       "    <tr>\n",
       "      <th>F1</th>\n",
       "      <td>0.70442</td>\n",
       "    </tr>\n",
       "    <tr>\n",
       "      <th>Best Params</th>\n",
       "      <td>{'rf__min_samples_leaf': 3, 'rf__n_estimators': 100, 'tvec__max_df': 0.95, 'tvec__max_features': 4000, 'tvec__min_df': 2, 'tvec__ngram_range': (1, 3), 'tvec__stop_words': ('myself', 'all', 'both', 'take', 'themselves', 'hundred', 'each', 'further', 'first', 'someone', 'hasnt', 'when', 'may', 'upon', 'by', 'system', 'enough', 'too', 'they', 'therefore', 'across', 'per', 'to', 'whence', 'within', 'twenty', 'part', 'will', 'whereupon', 'everything', 'name', 'bill', 'afterwards', 'who', 'mine', 'nothing', 'give', 'some', 'thereby', 'can', 'therein', 'thin', 'something', 'get', 'it', 'beforehand', 'etc', 'back', 'always', 'amongst', 'top', 'nowhere', 'thus', 'rather', 'until', 'anyhow', 'above', 'but', 'or', 'on', 'me', 'last', 'successes', 'i', 'bottom', 'problem', 'very', 'twelve', 'still', 'toward', 'ten', 'neither', 'mill', 'them', 'wherein', 'around', 'thereupon', 've', 'thick', 'a', 'serious', 'detail', 'least', 'anyone', 'over', 'put', 'anything', 'cant', 'else', 'had', 'throughout', 'he', 'beyond', 'us', 'were', 'how', 'under', 'eg', 'few', 'interest', ...)}</td>\n",
       "    </tr>\n",
       "  </tbody>\n",
       "</table>\n",
       "</div>"
      ],
      "text/plain": [
       "                                                                                                                                                                                                                                                                                                                                                                                                                                                                                                                                                                                                                                                                                                                                                                                                                                                                                                                                                                                                                                                                                                                                   tvec x rf\n",
       "Best Score             0.72562                                                                                                                                                                                                                                                                                                                                                                                                                                                                                                                                                                                                                                                                                                                                                                                                                                                                                                                                                                                                                                                                                                              \n",
       "Test Score (accuracy)  0.75186                                                                                                                                                                                                                                                                                                                                                                                                                                                                                                                                                                                                                                                                                                                                                                                                                                                                                                                                                                                                                                                                                                              \n",
       "Precision              0.78039                                                                                                                                                                                                                                                                                                                                                                                                                                                                                                                                                                                                                                                                                                                                                                                                                                                                                                                                                                                                                                                                                                              \n",
       "Recall                 0.64194                                                                                                                                                                                                                                                                                                                                                                                                                                                                                                                                                                                                                                                                                                                                                                                                                                                                                                                                                                                                                                                                                                              \n",
       "F1                     0.70442                                                                                                                                                                                                                                                                                                                                                                                                                                                                                                                                                                                                                                                                                                                                                                                                                                                                                                                                                                                                                                                                                                              \n",
       "Best Params            {'rf__min_samples_leaf': 3, 'rf__n_estimators': 100, 'tvec__max_df': 0.95, 'tvec__max_features': 4000, 'tvec__min_df': 2, 'tvec__ngram_range': (1, 3), 'tvec__stop_words': ('myself', 'all', 'both', 'take', 'themselves', 'hundred', 'each', 'further', 'first', 'someone', 'hasnt', 'when', 'may', 'upon', 'by', 'system', 'enough', 'too', 'they', 'therefore', 'across', 'per', 'to', 'whence', 'within', 'twenty', 'part', 'will', 'whereupon', 'everything', 'name', 'bill', 'afterwards', 'who', 'mine', 'nothing', 'give', 'some', 'thereby', 'can', 'therein', 'thin', 'something', 'get', 'it', 'beforehand', 'etc', 'back', 'always', 'amongst', 'top', 'nowhere', 'thus', 'rather', 'until', 'anyhow', 'above', 'but', 'or', 'on', 'me', 'last', 'successes', 'i', 'bottom', 'problem', 'very', 'twelve', 'still', 'toward', 'ten', 'neither', 'mill', 'them', 'wherein', 'around', 'thereupon', 've', 'thick', 'a', 'serious', 'detail', 'least', 'anyone', 'over', 'put', 'anything', 'cant', 'else', 'had', 'throughout', 'he', 'beyond', 'us', 'were', 'how', 'under', 'eg', 'few', 'interest', ...)}"
      ]
     },
     "execution_count": 119,
     "metadata": {},
     "output_type": "execute_result"
    }
   ],
   "source": [
    "results(gs_nl_tvrf, X_nl_test, y_nl_test)"
   ]
  },
  {
   "cell_type": "markdown",
   "id": "ada92760",
   "metadata": {},
   "source": [
    "## Summary"
   ]
  },
  {
   "cell_type": "markdown",
   "id": "92247cb0",
   "metadata": {},
   "source": [
    "By removing the lemmatization step, our models did not perform better. They are fairly similar for the Random Forest models. With this in mind, a model with lemmatization performed in the pre-processing step will be chosen as the final model to deploy."
   ]
  },
  {
   "cell_type": "code",
   "execution_count": 120,
   "id": "7171a1e8",
   "metadata": {},
   "outputs": [],
   "source": [
    "overall_nl_df = pd.concat([results(gs_nl_tvrf, X_nl_test, y_nl_test), results(gs_nl_cvrf, X_nl_test, y_nl_test), results(gs_nl_cvnb, X_nl_test, y_nl_test), results(gs_nl_tvnb, X_nl_test, y_nl_test)],axis=1).T"
   ]
  },
  {
   "cell_type": "code",
   "execution_count": 121,
   "id": "e10d59e6",
   "metadata": {},
   "outputs": [
    {
     "data": {
      "text/html": [
       "<div>\n",
       "<style scoped>\n",
       "    .dataframe tbody tr th:only-of-type {\n",
       "        vertical-align: middle;\n",
       "    }\n",
       "\n",
       "    .dataframe tbody tr th {\n",
       "        vertical-align: top;\n",
       "    }\n",
       "\n",
       "    .dataframe thead th {\n",
       "        text-align: right;\n",
       "    }\n",
       "</style>\n",
       "<table border=\"1\" class=\"dataframe\">\n",
       "  <thead>\n",
       "    <tr style=\"text-align: right;\">\n",
       "      <th></th>\n",
       "      <th>Best Score</th>\n",
       "      <th>Test Score (accuracy)</th>\n",
       "      <th>Precision</th>\n",
       "      <th>Recall</th>\n",
       "      <th>F1</th>\n",
       "    </tr>\n",
       "  </thead>\n",
       "  <tbody>\n",
       "    <tr>\n",
       "      <th>cvec x nb</th>\n",
       "      <td>0.73799</td>\n",
       "      <td>0.76077</td>\n",
       "      <td>0.74587</td>\n",
       "      <td>0.72903</td>\n",
       "      <td>0.73736</td>\n",
       "    </tr>\n",
       "    <tr>\n",
       "      <th>tvec x nb</th>\n",
       "      <td>0.72562</td>\n",
       "      <td>0.75929</td>\n",
       "      <td>0.79839</td>\n",
       "      <td>0.63871</td>\n",
       "      <td>0.70968</td>\n",
       "    </tr>\n",
       "    <tr>\n",
       "      <th>tvec x rf</th>\n",
       "      <td>0.72562</td>\n",
       "      <td>0.75186</td>\n",
       "      <td>0.78039</td>\n",
       "      <td>0.64194</td>\n",
       "      <td>0.70442</td>\n",
       "    </tr>\n",
       "    <tr>\n",
       "      <th>cvec x rf</th>\n",
       "      <td>0.72413</td>\n",
       "      <td>0.74591</td>\n",
       "      <td>0.76834</td>\n",
       "      <td>0.64194</td>\n",
       "      <td>0.69947</td>\n",
       "    </tr>\n",
       "  </tbody>\n",
       "</table>\n",
       "</div>"
      ],
      "text/plain": [
       "          Best Score Test Score (accuracy) Precision   Recall       F1\n",
       "cvec x nb  0.73799    0.76077               0.74587   0.72903  0.73736\n",
       "tvec x nb  0.72562    0.75929               0.79839   0.63871  0.70968\n",
       "tvec x rf  0.72562    0.75186               0.78039   0.64194  0.70442\n",
       "cvec x rf  0.72413    0.74591               0.76834   0.64194  0.69947"
      ]
     },
     "execution_count": 121,
     "metadata": {},
     "output_type": "execute_result"
    }
   ],
   "source": [
    "overall_nl_df.drop(columns='Best Params').sort_values(ascending=False, by='Test Score (accuracy)')"
   ]
  },
  {
   "cell_type": "markdown",
   "id": "ca7645fd",
   "metadata": {},
   "source": [
    "## Final Model : Lemmatized & Count Vectorizer x Multinomial Naive Bayes"
   ]
  },
  {
   "cell_type": "markdown",
   "id": "0b07477b",
   "metadata": {},
   "source": [
    "As mentioned previously, I have chosen the **Lemmatized & Count Vectorizer x Multinomial Naive Bayes** model. From the previous section, the model has obtained an accuracy score of **0.77**. \n",
    "\n",
    "I suspect that I can further improve the model by including punction marks such as '!'. CountVectorizer automatically drops punctuations but I suspect that they might be useful in classifcation here because. For example, '!' is found in 454 entries of 'British Success' versus 186 entries of 'British Problems' (not surprising since we often use '!' with something positive). It would be useful to find out if they play a part in improving the model.\n",
    "\n",
    "By doing so, I have improved the accuracy score slightly to **0.79**. The F1 score has also improved slightly (0.775)"
   ]
  },
  {
   "cell_type": "code",
   "execution_count": 122,
   "id": "04ab0bf8",
   "metadata": {},
   "outputs": [
    {
     "name": "stdout",
     "output_type": "stream",
     "text": [
      "CPU times: user 1.2 s, sys: 96.7 ms, total: 1.3 s\n",
      "Wall time: 22.8 s\n"
     ]
    },
    {
     "data": {
      "text/plain": [
       "GridSearchCV(cv=5,\n",
       "             estimator=Pipeline(steps=[('cvec', CountVectorizer()),\n",
       "                                       ('nb', MultinomialNB())]),\n",
       "             n_jobs=-1,\n",
       "             param_grid={'cvec__max_df': [0.9, 0.95],\n",
       "                         'cvec__max_features': [2000, 3000, 4000],\n",
       "                         'cvec__min_df': [2, 3],\n",
       "                         'cvec__ngram_range': [(1, 1), (1, 2), (1, 3)],\n",
       "                         'cvec__stop_words': [frozenset({'a', 'about', 'above',\n",
       "                                                         'across', 'after',\n",
       "                                                         'afterwards', 'again',\n",
       "                                                         'against', 'all',\n",
       "                                                         'almost', 'alone',\n",
       "                                                         'along', 'already',\n",
       "                                                         'also', 'although',\n",
       "                                                         'always', 'am',\n",
       "                                                         'among', 'amongst',\n",
       "                                                         'amoungst', 'amount',\n",
       "                                                         'an', 'and', 'another',\n",
       "                                                         'any', 'anyhow',\n",
       "                                                         'anyone', 'anything',\n",
       "                                                         'anyway', 'anywhere', ...})],\n",
       "                         'cvec__token_pattern': ['(?u)\\\\b\\\\w\\\\w+\\\\b|!|\\\\?|\\\\\"|\\\\\\''],\n",
       "                         'nb__alpha': [1, 2, 3]})"
      ]
     },
     "execution_count": 122,
     "metadata": {},
     "output_type": "execute_result"
    }
   ],
   "source": [
    "%%time\n",
    "\n",
    "pipe_cvnb = Pipeline([\n",
    "    ('cvec', CountVectorizer()),\n",
    "    ('nb', MultinomialNB())\n",
    "])\n",
    "\n",
    "pipe_cvnb_params = {\n",
    "    'cvec__max_features': [2000, 3000, 4000],\n",
    "    'cvec__min_df': [2, 3],\n",
    "    'cvec__max_df': [.9, .95],\n",
    "    'cvec__ngram_range': [(1,1), (1,2), (1,3)],\n",
    "    'cvec__stop_words': [total_stop_words],\n",
    "    'cvec__token_pattern': [r\"(?u)\\b\\w\\w+\\b|!|\\?|\\\"|\\'\"],\n",
    "    'nb__alpha': [1,2,3]\n",
    "}\n",
    "\n",
    "\n",
    "gs_cvnb = GridSearchCV(pipe_cvnb, \n",
    "                  param_grid=pipe_cvnb_params,\n",
    "                  cv=5,\n",
    "                  n_jobs=-1)\n",
    "\n",
    "gs_cvnb.fit(X_train, y_train)"
   ]
  },
  {
   "cell_type": "code",
   "execution_count": 123,
   "id": "33264575",
   "metadata": {},
   "outputs": [
    {
     "data": {
      "text/plain": [
       "0.7919762258543833"
      ]
     },
     "execution_count": 123,
     "metadata": {},
     "output_type": "execute_result"
    }
   ],
   "source": [
    "gs_cvnb.score(X_test, y_test)"
   ]
  },
  {
   "cell_type": "code",
   "execution_count": 142,
   "id": "0921dcc1",
   "metadata": {},
   "outputs": [
    {
     "data": {
      "text/html": [
       "<div>\n",
       "<style scoped>\n",
       "    .dataframe tbody tr th:only-of-type {\n",
       "        vertical-align: middle;\n",
       "    }\n",
       "\n",
       "    .dataframe tbody tr th {\n",
       "        vertical-align: top;\n",
       "    }\n",
       "\n",
       "    .dataframe thead th {\n",
       "        text-align: right;\n",
       "    }\n",
       "</style>\n",
       "<table border=\"1\" class=\"dataframe\">\n",
       "  <thead>\n",
       "    <tr style=\"text-align: right;\">\n",
       "      <th></th>\n",
       "      <th>cvec x nb</th>\n",
       "    </tr>\n",
       "  </thead>\n",
       "  <tbody>\n",
       "    <tr>\n",
       "      <th>Best Score</th>\n",
       "      <td>0.74939</td>\n",
       "    </tr>\n",
       "    <tr>\n",
       "      <th>Test Score (accuracy)</th>\n",
       "      <td>0.79198</td>\n",
       "    </tr>\n",
       "    <tr>\n",
       "      <th>Precision</th>\n",
       "      <td>0.7707</td>\n",
       "    </tr>\n",
       "    <tr>\n",
       "      <th>Recall</th>\n",
       "      <td>0.78065</td>\n",
       "    </tr>\n",
       "    <tr>\n",
       "      <th>F1</th>\n",
       "      <td>0.77564</td>\n",
       "    </tr>\n",
       "    <tr>\n",
       "      <th>Best Params</th>\n",
       "      <td>{'cvec__max_df': 0.9, 'cvec__max_features': 4000, 'cvec__min_df': 2, 'cvec__ngram_range': (1, 1), 'cvec__stop_words': ('myself', 'all', 'both', 'take', 'themselves', 'hundred', 'each', 'further', 'first', 'someone', 'hasnt', 'when', 'may', 'upon', 'by', 'system', 'enough', 'too', 'they', 'therefore', 'across', 'per', 'to', 'whence', 'within', 'twenty', 'part', 'will', 'whereupon', 'everything', 'name', 'bill', 'afterwards', 'who', 'mine', 'nothing', 'give', 'some', 'thereby', 'can', 'therein', 'thin', 'something', 'get', 'it', 'beforehand', 'etc', 'back', 'always', 'amongst', 'top', 'nowhere', 'thus', 'rather', 'until', 'anyhow', 'above', 'but', 'or', 'on', 'me', 'last', 'successes', 'i', 'bottom', 'problem', 'very', 'twelve', 'still', 'toward', 'ten', 'neither', 'mill', 'them', 'wherein', 'around', 'thereupon', 've', 'thick', 'a', 'serious', 'detail', 'least', 'anyone', 'over', 'put', 'anything', 'cant', 'else', 'had', 'throughout', 'he', 'beyond', 'us', 'were', 'how', 'under', 'eg', 'few', 'interest', ...), 'cvec__token_pattern': '(?u)\\b\\w\\w+\\b|!|\\?|\\\"|\\'', 'nb__alpha': 2}</td>\n",
       "    </tr>\n",
       "  </tbody>\n",
       "</table>\n",
       "</div>"
      ],
      "text/plain": [
       "                                                                                                                                                                                                                                                                                                                                                                                                                                                                                                                                                                                                                                                                                                                                                                                                                                                                                                                                                                                                                                                                                                                                                 cvec x nb\n",
       "Best Score             0.74939                                                                                                                                                                                                                                                                                                                                                                                                                                                                                                                                                                                                                                                                                                                                                                                                                                                                                                                                                                                                                                                                                                                            \n",
       "Test Score (accuracy)  0.79198                                                                                                                                                                                                                                                                                                                                                                                                                                                                                                                                                                                                                                                                                                                                                                                                                                                                                                                                                                                                                                                                                                                            \n",
       "Precision              0.7707                                                                                                                                                                                                                                                                                                                                                                                                                                                                                                                                                                                                                                                                                                                                                                                                                                                                                                                                                                                                                                                                                                                             \n",
       "Recall                 0.78065                                                                                                                                                                                                                                                                                                                                                                                                                                                                                                                                                                                                                                                                                                                                                                                                                                                                                                                                                                                                                                                                                                                            \n",
       "F1                     0.77564                                                                                                                                                                                                                                                                                                                                                                                                                                                                                                                                                                                                                                                                                                                                                                                                                                                                                                                                                                                                                                                                                                                            \n",
       "Best Params            {'cvec__max_df': 0.9, 'cvec__max_features': 4000, 'cvec__min_df': 2, 'cvec__ngram_range': (1, 1), 'cvec__stop_words': ('myself', 'all', 'both', 'take', 'themselves', 'hundred', 'each', 'further', 'first', 'someone', 'hasnt', 'when', 'may', 'upon', 'by', 'system', 'enough', 'too', 'they', 'therefore', 'across', 'per', 'to', 'whence', 'within', 'twenty', 'part', 'will', 'whereupon', 'everything', 'name', 'bill', 'afterwards', 'who', 'mine', 'nothing', 'give', 'some', 'thereby', 'can', 'therein', 'thin', 'something', 'get', 'it', 'beforehand', 'etc', 'back', 'always', 'amongst', 'top', 'nowhere', 'thus', 'rather', 'until', 'anyhow', 'above', 'but', 'or', 'on', 'me', 'last', 'successes', 'i', 'bottom', 'problem', 'very', 'twelve', 'still', 'toward', 'ten', 'neither', 'mill', 'them', 'wherein', 'around', 'thereupon', 've', 'thick', 'a', 'serious', 'detail', 'least', 'anyone', 'over', 'put', 'anything', 'cant', 'else', 'had', 'throughout', 'he', 'beyond', 'us', 'were', 'how', 'under', 'eg', 'few', 'interest', ...), 'cvec__token_pattern': '(?u)\\b\\w\\w+\\b|!|\\?|\\\"|\\'', 'nb__alpha': 2}"
      ]
     },
     "execution_count": 142,
     "metadata": {},
     "output_type": "execute_result"
    }
   ],
   "source": [
    "results(gs_cvnb, X_test, y_test)"
   ]
  },
  {
   "cell_type": "markdown",
   "id": "43efc2ef",
   "metadata": {},
   "source": [
    "### Feature Analysis"
   ]
  },
  {
   "cell_type": "markdown",
   "id": "f6923161",
   "metadata": {},
   "source": [
    "To evaluate the model, I start with understanding the features that help explain the difference between the two classes (i.e. the two sub-reddits). I used log probability difference as the metric here as it identifies words that are more frequent in one sub-reddit relative to the other. The results of each sub-reddit are reflected in the barplots below.\n",
    "\n",
    "**Key Observations**\n",
    "- Crane is the most 'different' word that explains why a post will be classified in 'British Problems' than in 'British Succes'. \n",
    "    - Crane probably means 'crane flies' a.k.a 'daddy long legs' which was one of the most common trigrams in our EDA section. These trigrams did not appear here because the optimised model I used deployed unigram as the ideal vectorization parameter.\n",
    "    - The reason why crane flies/daddy long legs appeared so frequently is probably due to the exceptionally wet summer that UK just had and people are complaining about these flies! [Source: Is UK seeing a record daddy long legs invasion? (Guardian)](https://www.theguardian.com/environment/2021/sep/22/is-the-uk-really-seeing-a-record-daddy-long-legs-invasion)\n",
    "- Words with negative connotation also top the list for 'British Problems': 'unable', 'worse', 'arse', 'fucking', 'upset'\n",
    "- For 'British Success', words associated with covid topped the list: 'vaccine', 'mask', 'nhs'. This is likely due to the full unwound of covid restrictions in the UK in July. \n",
    "- Words associated with 'overcoming' a problem/challenge have also appeared in the 'British Success' list: 'finally', 'managed'. \n",
    "- The words 'wife' and 'son' in 'British Success' make a surprising entrance - would be interesting to find out why!"
   ]
  },
  {
   "cell_type": "code",
   "execution_count": 125,
   "id": "3fb6f3dd",
   "metadata": {},
   "outputs": [],
   "source": [
    "log_diff = list(zip(words_cvnb, log_prob_diff_cvnb))\n",
    "log_diff_df = pd.DataFrame(log_diff, columns=['Word','Log Diff'])"
   ]
  },
  {
   "cell_type": "code",
   "execution_count": 126,
   "id": "b5253443",
   "metadata": {},
   "outputs": [],
   "source": [
    "words_cvnb = gs_cvnb.best_estimator_.steps[0][1].get_feature_names()\n",
    "log_prob_0_cvnb = gs_cvnb.best_estimator_.steps[1][1].feature_log_prob_[0]\n",
    "log_prob_1_cvnb = gs_cvnb.best_estimator_.steps[1][1].feature_log_prob_[1]\n",
    "log_prob_diff_cvnb = log_prob_1_cvnb - log_prob_0_cvnb "
   ]
  },
  {
   "cell_type": "code",
   "execution_count": 127,
   "id": "28c72e34",
   "metadata": {},
   "outputs": [
    {
     "data": {
      "image/png": "[encoded data removed]",
      "text/plain": [
       "<Figure size 1224x504 with 2 Axes>"
      ]
     },
     "metadata": {
      "needs_background": "light"
     },
     "output_type": "display_data"
    }
   ],
   "source": [
    "fig = plt.figure(figsize=(17,7))\n",
    "\n",
    "ax1 = fig.add_subplot(1,2,1)\n",
    "sns.barplot(data=log_diff_df.sort_values(ascending=False, by='Log Diff').head(20), y='Word', x='Log Diff', color='Darkblue', ax=ax1)\n",
    "ax1.set_title('Problems: Most Dominant Words')\n",
    "ax1.set_xlabel('Log Prob Diff')\n",
    "\n",
    "ax2 = fig.add_subplot(1,2,2)\n",
    "sns.barplot(data=log_diff_df.sort_values(ascending=False, by='Log Diff').tail(20), y='Word', x='Log Diff', color='deepskyblue', ax=ax2)\n",
    "ax2.set_title('Success: Most Dominant Words')\n",
    "ax2.set_xlabel('Log Prob Diff');\n",
    "\n",
    "plt.subplots_adjust(left=0.1, bottom=0.1, right=0.9, top=0.9, wspace=0.3, hspace=0.3)"
   ]
  },
  {
   "cell_type": "markdown",
   "id": "45ca02f4",
   "metadata": {},
   "source": [
    "### Misclassification Analysis"
   ]
  },
  {
   "cell_type": "markdown",
   "id": "09d9b9c5",
   "metadata": {},
   "source": [
    "The model is not perfect and has gone wrong in some predictions. Before looking at the misclassified posts, I plotted the ROC curve which reflected an AUC score of 0.85 for my model. Coincidentally, we have quite similar false positive (72 posts) and false negatives (68 posts) - this is fairly ideal since we are aiming to be impartial to either false postives or negatives."
   ]
  },
  {
   "cell_type": "code",
   "execution_count": 128,
   "id": "9475a226",
   "metadata": {},
   "outputs": [
    {
     "data": {
      "image/png": "[encoded data removed]",
      "text/plain": [
       "<Figure size 432x288 with 1 Axes>"
      ]
     },
     "metadata": {
      "needs_background": "light"
     },
     "output_type": "display_data"
    }
   ],
   "source": [
    "plot_roc_curve(gs_cvnb, X_test, y_test, name='CVEC M. Naive Bayes')\n",
    "plt.plot([0, 1], [0, 1],\n",
    "         label='baseline', linestyle='--')\n",
    "plt.legend();"
   ]
  },
  {
   "cell_type": "code",
   "execution_count": 129,
   "id": "905c3e43",
   "metadata": {},
   "outputs": [
    {
     "data": {
      "text/plain": [
       "0.8531324980005333"
      ]
     },
     "execution_count": 129,
     "metadata": {},
     "output_type": "execute_result"
    }
   ],
   "source": [
    "#ROC AUC score\n",
    "\n",
    "roc_auc_score(y_test, gs_cvnb.predict_proba(X_test)[:,1])"
   ]
  },
  {
   "cell_type": "code",
   "execution_count": 130,
   "id": "e0adc0a0",
   "metadata": {},
   "outputs": [],
   "source": [
    "preds_cvnb = gs_cvnb.predict(X_test)\n",
    "tn, fp, fn, tp = confusion_matrix(y_test, preds_cvnb).ravel()"
   ]
  },
  {
   "cell_type": "code",
   "execution_count": 131,
   "id": "afa3b99d",
   "metadata": {},
   "outputs": [
    {
     "data": {
      "image/png": "[encoded data removed]",
      "text/plain": [
       "<Figure size 432x288 with 2 Axes>"
      ]
     },
     "metadata": {
      "needs_background": "light"
     },
     "output_type": "display_data"
    }
   ],
   "source": [
    "plot_confusion_matrix(gs_cvnb, X_test, y_test, cmap='Blues', values_format='d');"
   ]
  },
  {
   "cell_type": "markdown",
   "id": "d5a6bbea",
   "metadata": {},
   "source": [
    "In the two tables below, I have reflected the 'worst' misclassified posts by sub-reddits. This definition of 'worst' is based on the model having a very high predict_proba for a particular class, and thus getting it very wrong when it misclassifies the post."
   ]
  },
  {
   "cell_type": "markdown",
   "id": "797cab30",
   "metadata": {},
   "source": [
    "I have selected some of these posts to explain why the model could have misclassified them:\n",
    "\n",
    "**Sarcasm**<br>\n",
    "*'getting mildly excited buying a new vacuum cleaner head and realising you’ve reached peak middle age at 34.'* \n",
    "\n",
    "- This is wrongly classified as 'Success'.\n",
    "- This is a classic example of self-depracating British humour in the form of sarcasm. Words associated with positivity ('excited', 'new', 'peak') probably led to this being misclassified as a 'Success'. \n",
    "- To improve, new models to perform sentence embedding (e.g. BERT) would potentially perform better. Instead of splitting up posts by words, and in the process losing their context, sentence embedding can might be useful in analysing the relationship between set of words/sentences in a more dynamic manner.\n",
    "\n",
    "**Irony/Punchline at the end**<br>\n",
    "while in a queue of car going the speed limit in a 30, i got overtaken by a numpty in a black bmw hatchback going around 50. i watched him dangerously weave through traffic while not progressing very far... he rev up, go nowhere and a plume of smoke come out of the back... i don't usually enjoy the mishap of others, but this really cheered up my day! i watched a boy racer in a bmw fry his engine\n",
    "\n",
    "- This is wrongly classified as 'Problem'.\n",
    "- The bulk of this post was to desribed the bad bahviour of a fellow motorist and plenty of negative descriptions were used ('dangerously', 'nowhere', 'crash', 'idiot'). However, the punchline of the joke comes in the end when the poster realised that the motorist had crashed and that 'really cheered up my day!'.\n",
    "- Likewise, sentence embedding would potentially help improve the misclassificatioin of such examples.\n",
    "\n",
    "\n",
    "***Coincidence***<br>\n",
    "*'it get hoovered several time a week. is this some late-stage capitalism insanity, or am i just out of the loop? the sun is finally out after a wet saturday morning, perfect to enjoy some time in the garden, to the maddening soundtrack of next door hoovering their artificial grass.'*\n",
    "\n",
    "- This is wrongly classified as 'Success'. There could be a few factors such as the positive words used in the posts ('perfect', 'enjoy').\n",
    "- However, my suspicion is on the word 'Saturday' - this was one of the most 'different' word to explain 'British Success'. Upon further investigation, I found out the dataset contained 11 mentions of 'Saturday' in 'British Success' vs 4 mentions of in 'British Problems', and **all the mentions of 'Saturday' in the test set are for 'British Problems'**.\n",
    "- This is an issue because out model would have likely to have trained on 'Saturday' in 'British Succes' posts only. When 'Saturday' appeared in 'British Problems' as per the test dataset - there would be a fair chance that this gets misclassified.\n",
    "- A larger dataset would help avoid this problem as words will appear more frequently and have a high chance of being shuffled across both train and test sets."
   ]
  },
  {
   "cell_type": "code",
   "execution_count": 132,
   "id": "8158b7e9",
   "metadata": {},
   "outputs": [],
   "source": [
    "problems_prob = [problems[1] for problems in gs_cvnb.predict_proba(X_test)]\n",
    "success_prob = [success[0] for success in gs_cvnb.predict_proba(X_test)]\n",
    "prediction = gs_cvnb.predict(X_test)"
   ]
  },
  {
   "cell_type": "code",
   "execution_count": 133,
   "id": "bcbe0511",
   "metadata": {},
   "outputs": [],
   "source": [
    "pred_prob = list(zip(success_prob, problems_prob, prediction, y_test, X_test))"
   ]
  },
  {
   "cell_type": "code",
   "execution_count": 134,
   "id": "891af606",
   "metadata": {},
   "outputs": [],
   "source": [
    "pred_prob_df = pd.DataFrame(pred_prob, columns=['Success','Problems','Pred Value','True Value','Content'])"
   ]
  },
  {
   "cell_type": "code",
   "execution_count": 135,
   "id": "b2c54f65",
   "metadata": {},
   "outputs": [],
   "source": [
    "wrong_predictions = pred_prob_df[pred_prob_df['Pred Value'] != pred_prob_df['True Value']]"
   ]
  },
  {
   "cell_type": "markdown",
   "id": "80444b4c",
   "metadata": {},
   "source": [
    "**Misclassified: Predict = British Problems but True = British Success**"
   ]
  },
  {
   "cell_type": "code",
   "execution_count": 136,
   "id": "ff37a1c2",
   "metadata": {},
   "outputs": [
    {
     "data": {
      "text/html": [
       "<div>\n",
       "<style scoped>\n",
       "    .dataframe tbody tr th:only-of-type {\n",
       "        vertical-align: middle;\n",
       "    }\n",
       "\n",
       "    .dataframe tbody tr th {\n",
       "        vertical-align: top;\n",
       "    }\n",
       "\n",
       "    .dataframe thead th {\n",
       "        text-align: right;\n",
       "    }\n",
       "</style>\n",
       "<table border=\"1\" class=\"dataframe\">\n",
       "  <thead>\n",
       "    <tr style=\"text-align: right;\">\n",
       "      <th></th>\n",
       "      <th>Success</th>\n",
       "      <th>Problems</th>\n",
       "      <th>Pred Value</th>\n",
       "      <th>True Value</th>\n",
       "      <th>Content</th>\n",
       "    </tr>\n",
       "  </thead>\n",
       "  <tbody>\n",
       "    <tr>\n",
       "      <th>640</th>\n",
       "      <td>0.001755</td>\n",
       "      <td>0.998245</td>\n",
       "      <td>1</td>\n",
       "      <td>0</td>\n",
       "      <td>while in a queue of car going the speed limit in a 30, i got overtaken by a numpty in a black bmw hatchback going around 50. i watched him dangerously weave through traffic while not progressing very far, and ended up sat behind him at a roundabout leading to a quiet industrial estate road. i watched him floor it out of sight, silently hoping that he crash into a tree rather than someone else on the road. a i got towards the end of the road, i see he's made a u turn and is about to do a return sprint. he rev up, go nowhere and a plume of smoke come out of the back. shortly after the hazard light come on and in my mirror i see the idiot getting out of his broken car. i don't usually enjoy the mishap of others, but this really cheered up my day! i watched a boy racer in a bmw fry his engine</td>\n",
       "    </tr>\n",
       "    <tr>\n",
       "      <th>265</th>\n",
       "      <td>0.002541</td>\n",
       "      <td>0.997459</td>\n",
       "      <td>1</td>\n",
       "      <td>0</td>\n",
       "      <td>a everyone else turn their nose up at anything vegan, and i am notoriously not fussy over what i'm consuming, he is happily sharing his stash with me. bonus: he doesn't care that what i get from the oops bay is rarely veggie, never mind vegan, and doesn't ask me to eat at a separate table from him. one of my colleague this week is a vegan and a sharer of snack</td>\n",
       "    </tr>\n",
       "    <tr>\n",
       "      <th>235</th>\n",
       "      <td>0.003060</td>\n",
       "      <td>0.996940</td>\n",
       "      <td>1</td>\n",
       "      <td>0</td>\n",
       "      <td>nothing worse than sitting on a bus in 17c weather waiting for the driver to change. the bus drove straight past the depot without changing driver both ways.</td>\n",
       "    </tr>\n",
       "    <tr>\n",
       "      <th>102</th>\n",
       "      <td>0.005404</td>\n",
       "      <td>0.994596</td>\n",
       "      <td>1</td>\n",
       "      <td>0</td>\n",
       "      <td>love how #craftywank is a thing. i mean how doe one explain it to anyone other than a brit. it’s so ridiculous but so funny. faith in twitter restored</td>\n",
       "    </tr>\n",
       "    <tr>\n",
       "      <th>131</th>\n",
       "      <td>0.006707</td>\n",
       "      <td>0.993293</td>\n",
       "      <td>1</td>\n",
       "      <td>0</td>\n",
       "      <td>danny, who review takeaway on yt. he's fantastic, he's a lovely bloke, he's exploding. no, i'm not related to him. get in now so you can say \"oh yeah, i've been watching him for ages\" to your mates.</td>\n",
       "    </tr>\n",
       "    <tr>\n",
       "      <th>356</th>\n",
       "      <td>0.006967</td>\n",
       "      <td>0.993033</td>\n",
       "      <td>1</td>\n",
       "      <td>0</td>\n",
       "      <td>yeah, i probably sound like a bastard 'dobbing' someone in, but drive like a dick then take a shortcut down a bus route... you're a twat! submitting dash cam footage to the police, and the police taking action!</td>\n",
       "    </tr>\n",
       "    <tr>\n",
       "      <th>589</th>\n",
       "      <td>0.012116</td>\n",
       "      <td>0.987884</td>\n",
       "      <td>1</td>\n",
       "      <td>0</td>\n",
       "      <td>always risky to insult someone's work when they're holding a bladed weapon while standing right behind you but this time it paid off found the courage to tell the hairdresser i didn't like my hair at the end of the haircut and she wa fine with it and fixed it</td>\n",
       "    </tr>\n",
       "    <tr>\n",
       "      <th>248</th>\n",
       "      <td>0.012383</td>\n",
       "      <td>0.987617</td>\n",
       "      <td>1</td>\n",
       "      <td>0</td>\n",
       "      <td>i've put this a a success rather than a problem because i find their outlook so refreshing and it make me smile that they see people a good decade younger than them a \"old\". my 84 and 87 year old grandparent complaining about the grey hair/blue rinse brigade at the new working men's club they've joined</td>\n",
       "    </tr>\n",
       "    <tr>\n",
       "      <th>569</th>\n",
       "      <td>0.016468</td>\n",
       "      <td>0.983532</td>\n",
       "      <td>1</td>\n",
       "      <td>0</td>\n",
       "      <td>i just thought 'this is a good thing'. year ago there would have been zillion flying around. i live in a house backing on to fields, so i shouldn't be short of them. now i'm welcoming them, thinking there should be more. i certainly don't want to swat them any more. not getting bugged by the number of bug flying around my room with it window open.</td>\n",
       "    </tr>\n",
       "    <tr>\n",
       "      <th>7</th>\n",
       "      <td>0.021528</td>\n",
       "      <td>0.978472</td>\n",
       "      <td>1</td>\n",
       "      <td>0</td>\n",
       "      <td>using your jet wash to turn off next door loud music system in the garden. instant justice these idiot need to buy some wireless headphones.</td>\n",
       "    </tr>\n",
       "  </tbody>\n",
       "</table>\n",
       "</div>"
      ],
      "text/plain": [
       "      Success  Problems  Pred Value  True Value  \\\n",
       "640  0.001755  0.998245  1           0            \n",
       "265  0.002541  0.997459  1           0            \n",
       "235  0.003060  0.996940  1           0            \n",
       "102  0.005404  0.994596  1           0            \n",
       "131  0.006707  0.993293  1           0            \n",
       "356  0.006967  0.993033  1           0            \n",
       "589  0.012116  0.987884  1           0            \n",
       "248  0.012383  0.987617  1           0            \n",
       "569  0.016468  0.983532  1           0            \n",
       "7    0.021528  0.978472  1           0            \n",
       "\n",
       "                                                                                                                                                                                                                                                                                                                                                                                                                                                                                                                                                                                                                                                                                                                                                                                                                             Content  \n",
       "640  while in a queue of car going the speed limit in a 30, i got overtaken by a numpty in a black bmw hatchback going around 50. i watched him dangerously weave through traffic while not progressing very far, and ended up sat behind him at a roundabout leading to a quiet industrial estate road. i watched him floor it out of sight, silently hoping that he crash into a tree rather than someone else on the road. a i got towards the end of the road, i see he's made a u turn and is about to do a return sprint. he rev up, go nowhere and a plume of smoke come out of the back. shortly after the hazard light come on and in my mirror i see the idiot getting out of his broken car. i don't usually enjoy the mishap of others, but this really cheered up my day! i watched a boy racer in a bmw fry his engine  \n",
       "265  a everyone else turn their nose up at anything vegan, and i am notoriously not fussy over what i'm consuming, he is happily sharing his stash with me. bonus: he doesn't care that what i get from the oops bay is rarely veggie, never mind vegan, and doesn't ask me to eat at a separate table from him. one of my colleague this week is a vegan and a sharer of snack                                                                                                                                                                                                                                                                                                                                                                                                                                                       \n",
       "235  nothing worse than sitting on a bus in 17c weather waiting for the driver to change. the bus drove straight past the depot without changing driver both ways.                                                                                                                                                                                                                                                                                                                                                                                                                                                                                                                                                                                                                                                                    \n",
       "102  love how #craftywank is a thing. i mean how doe one explain it to anyone other than a brit. it’s so ridiculous but so funny. faith in twitter restored                                                                                                                                                                                                                                                                                                                                                                                                                                                                                                                                                                                                                                                                           \n",
       "131  danny, who review takeaway on yt. he's fantastic, he's a lovely bloke, he's exploding. no, i'm not related to him. get in now so you can say \"oh yeah, i've been watching him for ages\" to your mates.                                                                                                                                                                                                                                                                                                                                                                                                                                                                                                                                                                                                                           \n",
       "356  yeah, i probably sound like a bastard 'dobbing' someone in, but drive like a dick then take a shortcut down a bus route... you're a twat! submitting dash cam footage to the police, and the police taking action!                                                                                                                                                                                                                                                                                                                                                                                                                                                                                                                                                                                                               \n",
       "589  always risky to insult someone's work when they're holding a bladed weapon while standing right behind you but this time it paid off found the courage to tell the hairdresser i didn't like my hair at the end of the haircut and she wa fine with it and fixed it                                                                                                                                                                                                                                                                                                                                                                                                                                                                                                                                                              \n",
       "248  i've put this a a success rather than a problem because i find their outlook so refreshing and it make me smile that they see people a good decade younger than them a \"old\". my 84 and 87 year old grandparent complaining about the grey hair/blue rinse brigade at the new working men's club they've joined                                                                                                                                                                                                                                                                                                                                                                                                                                                                                                                  \n",
       "569  i just thought 'this is a good thing'. year ago there would have been zillion flying around. i live in a house backing on to fields, so i shouldn't be short of them. now i'm welcoming them, thinking there should be more. i certainly don't want to swat them any more. not getting bugged by the number of bug flying around my room with it window open.                                                                                                                                                                                                                                                                                                                                                                                                                                                                    \n",
       "7    using your jet wash to turn off next door loud music system in the garden. instant justice these idiot need to buy some wireless headphones.                                                                                                                                                                                                                                                                                                                                                                                                                                                                                                                                                                                                                                                                                     "
      ]
     },
     "execution_count": 136,
     "metadata": {},
     "output_type": "execute_result"
    }
   ],
   "source": [
    "wrong_predictions.sort_values(by='Problems', ascending=False).head(10)"
   ]
  },
  {
   "cell_type": "markdown",
   "id": "4b26950e",
   "metadata": {},
   "source": [
    "**Misclassified: Predict = British Success but True = British Problems**"
   ]
  },
  {
   "cell_type": "code",
   "execution_count": 137,
   "id": "9b15a0da",
   "metadata": {},
   "outputs": [
    {
     "data": {
      "text/html": [
       "<div>\n",
       "<style scoped>\n",
       "    .dataframe tbody tr th:only-of-type {\n",
       "        vertical-align: middle;\n",
       "    }\n",
       "\n",
       "    .dataframe tbody tr th {\n",
       "        vertical-align: top;\n",
       "    }\n",
       "\n",
       "    .dataframe thead th {\n",
       "        text-align: right;\n",
       "    }\n",
       "</style>\n",
       "<table border=\"1\" class=\"dataframe\">\n",
       "  <thead>\n",
       "    <tr style=\"text-align: right;\">\n",
       "      <th></th>\n",
       "      <th>Success</th>\n",
       "      <th>Problems</th>\n",
       "      <th>Pred Value</th>\n",
       "      <th>True Value</th>\n",
       "      <th>Content</th>\n",
       "    </tr>\n",
       "  </thead>\n",
       "  <tbody>\n",
       "    <tr>\n",
       "      <th>75</th>\n",
       "      <td>1.000000</td>\n",
       "      <td>1.414174e-10</td>\n",
       "      <td>0</td>\n",
       "      <td>1</td>\n",
       "      <td>we bought our first house together last month. the wife hated the carpet and wall in the main bedroom but our work holiday diary were full. so for the pas two weeks, i've ripped up the old carpet and the laminate flooring below it, got an electrician to put in three double plug socket with usb point a there wa just a single plug socket in the whole room, repainted every wall white with four coat (they were all pink before). and reprinted the shirting-boards. all mainly on my hour lunch break while i'm working from home. we also needed a plasticer to fill in the hole left from the new plug sockets. we couldn't find a qualified plasticer so the wife got some training at work from a plasticer (she work on a building site.) and she did at the plasticing a couple of weekend ago. we were just replacing the curtain pole when the wife spotted a leak. she wa just out the shower. it look like there is a leak in the en-suite shower room. i did get the week off this week so i can decorate the dinner room, hallway and living room with the carpet fixer coming monday morning 9am to fix the new carpet in the bedroom. we, just, managed to get hold of the carpet fitter to postpone it a few week and the insurance company. both closed at 4pm on a sunday. we discovered the leak at 345pm. now a plumber coming instead of carpet fitter and i'm going to have to re-decorate half of that bedroom again once it's all be sorted. better go to b&amp;amp;q for more paint. spending lunchtime for the past two week (and two weekend in a row) decorating the main bedroom. finishing it on the sunday afternoon before the carpet fitter come monday... just found a leak!!!</td>\n",
       "    </tr>\n",
       "    <tr>\n",
       "      <th>428</th>\n",
       "      <td>0.999975</td>\n",
       "      <td>2.498114e-05</td>\n",
       "      <td>0</td>\n",
       "      <td>1</td>\n",
       "      <td>it get hoovered several time a week. is this some late-stage capitalism insanity, or am i just out of the loop? the sun is finally out after a wet saturday morning, perfect to enjoy some time in the garden, to the maddening soundtrack of next door hoovering their artificial grass.</td>\n",
       "    </tr>\n",
       "    <tr>\n",
       "      <th>360</th>\n",
       "      <td>0.999623</td>\n",
       "      <td>3.765296e-04</td>\n",
       "      <td>0</td>\n",
       "      <td>1</td>\n",
       "      <td>for my sims i watch a certain breakfast to show, and it seems like near enough every week there is a “these award ceremony went on last night, let’s look at who won, what they won, what they won it for, what they wore, the party they went to, what they said, etc” &amp;amp;#x200b; i really don’t care, i will watch your tv programmes, but couldn’t give a crap about the award you then win, or who should have won instead not caring one bit about “award shows”</td>\n",
       "    </tr>\n",
       "    <tr>\n",
       "      <th>629</th>\n",
       "      <td>0.998978</td>\n",
       "      <td>1.021585e-03</td>\n",
       "      <td>0</td>\n",
       "      <td>1</td>\n",
       "      <td>there wa one small piece of sausage in the whole slice! one! would not have again saw a post yesterday about vegan greggs product with great reviews, thought i'd try the vegan sausage cheesz and bean slice - wa massively disappointed!</td>\n",
       "    </tr>\n",
       "    <tr>\n",
       "      <th>605</th>\n",
       "      <td>0.995229</td>\n",
       "      <td>4.770634e-03</td>\n",
       "      <td>0</td>\n",
       "      <td>1</td>\n",
       "      <td>the guy picked it up with a bag, but the smell still reached me at the other end of the carriage. a dog just took a shit on the floor of the overground. happy monday morning..!</td>\n",
       "    </tr>\n",
       "    <tr>\n",
       "      <th>457</th>\n",
       "      <td>0.995215</td>\n",
       "      <td>4.785398e-03</td>\n",
       "      <td>0</td>\n",
       "      <td>1</td>\n",
       "      <td>unfortunately waterstones ship their book in cardboard so i now have a signed first edition of a book no longer available to buy with run ink and damaged page getting home after a week to find that, instead of taking an undelivered item to the sorting office, the postman decided to drop the clearly labelled waterstones package over my back fence for it to sit in the rain in the flower bed.</td>\n",
       "    </tr>\n",
       "    <tr>\n",
       "      <th>660</th>\n",
       "      <td>0.993099</td>\n",
       "      <td>6.901117e-03</td>\n",
       "      <td>0</td>\n",
       "      <td>1</td>\n",
       "      <td>last month they opened the door, left the parcel and walked away after ringing the doorbell to get my attention. today he tried the front door to establish whether it wa locked or not, when it wa unlocked, he closed it, rang the bell and passed the parcel to me! i didn’t say anything a i can’t deal with confrontation so i have been onto the the live chat section to complain. having amazon driver thinking that it is ok to open my front door to leave package rather than ring the bell like they are supposed to. this ha now happened two month in a row</td>\n",
       "    </tr>\n",
       "    <tr>\n",
       "      <th>45</th>\n",
       "      <td>0.990396</td>\n",
       "      <td>9.603965e-03</td>\n",
       "      <td>0</td>\n",
       "      <td>1</td>\n",
       "      <td>ordered from uber eats for the first time. my food didn’t arrive. i check the app and the the guy delivering my food claim he wa waiting outside my house for 8 minute but in that time never once rang my doorbell. now i’m down £15 and they won’t refund my order.</td>\n",
       "    </tr>\n",
       "    <tr>\n",
       "      <th>74</th>\n",
       "      <td>0.989015</td>\n",
       "      <td>1.098530e-02</td>\n",
       "      <td>0</td>\n",
       "      <td>1</td>\n",
       "      <td>getting mildly excited buying a new vacuum cleaner head and realising you’ve reached peak middle age at 34.</td>\n",
       "    </tr>\n",
       "    <tr>\n",
       "      <th>184</th>\n",
       "      <td>0.986069</td>\n",
       "      <td>1.393138e-02</td>\n",
       "      <td>0</td>\n",
       "      <td>1</td>\n",
       "      <td>pensioner going to the butcher's on a saturday morning. you've had all week, clive. i get 3 hour on a saturday morning and here you are adding to the already massive queue and dithering at the counter when you finally get there.</td>\n",
       "    </tr>\n",
       "  </tbody>\n",
       "</table>\n",
       "</div>"
      ],
      "text/plain": [
       "      Success      Problems  Pred Value  True Value  \\\n",
       "75   1.000000  1.414174e-10  0           1            \n",
       "428  0.999975  2.498114e-05  0           1            \n",
       "360  0.999623  3.765296e-04  0           1            \n",
       "629  0.998978  1.021585e-03  0           1            \n",
       "605  0.995229  4.770634e-03  0           1            \n",
       "457  0.995215  4.785398e-03  0           1            \n",
       "660  0.993099  6.901117e-03  0           1            \n",
       "45   0.990396  9.603965e-03  0           1            \n",
       "74   0.989015  1.098530e-02  0           1            \n",
       "184  0.986069  1.393138e-02  0           1            \n",
       "\n",
       "                                                                                                                                                                                                                                                                                                                                                                                                                                                                                                                                                                                                                                                                                                                                                                                                                                                                                                                                                                                                                                                                                                                                                                                                                                                                                                                                                                                                                                                                                                                                                                                                                                                                                                                    Content  \n",
       "75   we bought our first house together last month. the wife hated the carpet and wall in the main bedroom but our work holiday diary were full. so for the pas two weeks, i've ripped up the old carpet and the laminate flooring below it, got an electrician to put in three double plug socket with usb point a there wa just a single plug socket in the whole room, repainted every wall white with four coat (they were all pink before). and reprinted the shirting-boards. all mainly on my hour lunch break while i'm working from home. we also needed a plasticer to fill in the hole left from the new plug sockets. we couldn't find a qualified plasticer so the wife got some training at work from a plasticer (she work on a building site.) and she did at the plasticing a couple of weekend ago. we were just replacing the curtain pole when the wife spotted a leak. she wa just out the shower. it look like there is a leak in the en-suite shower room. i did get the week off this week so i can decorate the dinner room, hallway and living room with the carpet fixer coming monday morning 9am to fix the new carpet in the bedroom. we, just, managed to get hold of the carpet fitter to postpone it a few week and the insurance company. both closed at 4pm on a sunday. we discovered the leak at 345pm. now a plumber coming instead of carpet fitter and i'm going to have to re-decorate half of that bedroom again once it's all be sorted. better go to b&amp;q for more paint. spending lunchtime for the past two week (and two weekend in a row) decorating the main bedroom. finishing it on the sunday afternoon before the carpet fitter come monday... just found a leak!!!  \n",
       "428  it get hoovered several time a week. is this some late-stage capitalism insanity, or am i just out of the loop? the sun is finally out after a wet saturday morning, perfect to enjoy some time in the garden, to the maddening soundtrack of next door hoovering their artificial grass.                                                                                                                                                                                                                                                                                                                                                                                                                                                                                                                                                                                                                                                                                                                                                                                                                                                                                                                                                                                                                                                                                                                                                                                                                                                                                                                                                                                                                               \n",
       "360  for my sims i watch a certain breakfast to show, and it seems like near enough every week there is a “these award ceremony went on last night, let’s look at who won, what they won, what they won it for, what they wore, the party they went to, what they said, etc” &amp;#x200b; i really don’t care, i will watch your tv programmes, but couldn’t give a crap about the award you then win, or who should have won instead not caring one bit about “award shows”                                                                                                                                                                                                                                                                                                                                                                                                                                                                                                                                                                                                                                                                                                                                                                                                                                                                                                                                                                                                                                                                                                                                                                                                                                                 \n",
       "629  there wa one small piece of sausage in the whole slice! one! would not have again saw a post yesterday about vegan greggs product with great reviews, thought i'd try the vegan sausage cheesz and bean slice - wa massively disappointed!                                                                                                                                                                                                                                                                                                                                                                                                                                                                                                                                                                                                                                                                                                                                                                                                                                                                                                                                                                                                                                                                                                                                                                                                                                                                                                                                                                                                                                                                              \n",
       "605  the guy picked it up with a bag, but the smell still reached me at the other end of the carriage. a dog just took a shit on the floor of the overground. happy monday morning..!                                                                                                                                                                                                                                                                                                                                                                                                                                                                                                                                                                                                                                                                                                                                                                                                                                                                                                                                                                                                                                                                                                                                                                                                                                                                                                                                                                                                                                                                                                                                        \n",
       "457  unfortunately waterstones ship their book in cardboard so i now have a signed first edition of a book no longer available to buy with run ink and damaged page getting home after a week to find that, instead of taking an undelivered item to the sorting office, the postman decided to drop the clearly labelled waterstones package over my back fence for it to sit in the rain in the flower bed.                                                                                                                                                                                                                                                                                                                                                                                                                                                                                                                                                                                                                                                                                                                                                                                                                                                                                                                                                                                                                                                                                                                                                                                                                                                                                                                \n",
       "660  last month they opened the door, left the parcel and walked away after ringing the doorbell to get my attention. today he tried the front door to establish whether it wa locked or not, when it wa unlocked, he closed it, rang the bell and passed the parcel to me! i didn’t say anything a i can’t deal with confrontation so i have been onto the the live chat section to complain. having amazon driver thinking that it is ok to open my front door to leave package rather than ring the bell like they are supposed to. this ha now happened two month in a row                                                                                                                                                                                                                                                                                                                                                                                                                                                                                                                                                                                                                                                                                                                                                                                                                                                                                                                                                                                                                                                                                                                                               \n",
       "45   ordered from uber eats for the first time. my food didn’t arrive. i check the app and the the guy delivering my food claim he wa waiting outside my house for 8 minute but in that time never once rang my doorbell. now i’m down £15 and they won’t refund my order.                                                                                                                                                                                                                                                                                                                                                                                                                                                                                                                                                                                                                                                                                                                                                                                                                                                                                                                                                                                                                                                                                                                                                                                                                                                                                                                                                                                                                                                   \n",
       "74   getting mildly excited buying a new vacuum cleaner head and realising you’ve reached peak middle age at 34.                                                                                                                                                                                                                                                                                                                                                                                                                                                                                                                                                                                                                                                                                                                                                                                                                                                                                                                                                                                                                                                                                                                                                                                                                                                                                                                                                                                                                                                                                                                                                                                                             \n",
       "184  pensioner going to the butcher's on a saturday morning. you've had all week, clive. i get 3 hour on a saturday morning and here you are adding to the already massive queue and dithering at the counter when you finally get there.                                                                                                                                                                                                                                                                                                                                                                                                                                                                                                                                                                                                                                                                                                                                                                                                                                                                                                                                                                                                                                                                                                                                                                                                                                                                                                                                                                                                                                                                                    "
      ]
     },
     "execution_count": 137,
     "metadata": {},
     "output_type": "execute_result"
    }
   ],
   "source": [
    "wrong_predictions.sort_values(by='Success', ascending=False).head(10)"
   ]
  },
  {
   "cell_type": "markdown",
   "id": "72d17e20",
   "metadata": {},
   "source": [
    "# Conclusion"
   ]
  },
  {
   "cell_type": "markdown",
   "id": "b0eaa507",
   "metadata": {},
   "source": [
    "**Summmary**<br>\n",
    "In conclusion, the best model for me is the Lemmatization and CountVectorizer x Multinomial Naive Bayes. It gave good accuracy score of **79%**, which is higher than the bestline of 46%. From a misclassification perspective, it has the best F1 score and a good balance of false positives and negatives. \n",
    "\n",
    "With these in mind, I can conclude that the model does fairly well in classifying the two sub-reddits and there are considerable differences between the two sub-reddits. To answer the problem statement, I could conclude with a fair amount of confidence that setting up SingaporeanSuccess and SingaporeanProblem sub-reddits at the same time would not cannabalise viewers based on the topics itself. \n",
    "\n",
    "**Limitations**<br>\n",
    "However, as pointed out, there are limitations with my model in terms of the size of that data. In total, there were only 2.6k posts in this dataset, and with most of them coming from the recent month. It will be better if I have access to more data of a longer time period so as to widen the scope of the words for the model to train on (for example, our model is trained on words popular in the recent time period - e.g. Euros, crane flies)\n",
    "\n",
    "Similarly, sarcasm/irony are probably better analysed in the context of the sentence itself. As my misclassification analysis have pointed out, word vectorization have a good chance of missing the nuances used in ironic language. Sentence embedding with newer models such as BERT could potentially be helpful in analysing humour.\n",
    "\n",
    "Bring this back to our problem statement, I am also not 100% confident that this will also work as well for Singaporean humour, which by itself is also a very dynamic language with its own linguistic structures. For example, will the model be able to predict the nuances between 'can *lah*', 'can *leh*', can *lor*'? This will be something interesting to be explored further.\n",
    "\n",
    "Good luck!\n",
    "<img src=\"https://blog.spjain.org/wp-content/muploads/2011/06/LAh-2.jpg\" style=\"float: center; margin: 20px; height: 400px\">"
   ]
  }
 ],
 "metadata": {
  "kernelspec": {
   "display_name": "Python 3",
   "language": "python",
   "name": "python3"
  },
  "language_info": {
   "codemirror_mode": {
    "name": "ipython",
    "version": 3
   },
   "file_extension": ".py",
   "mimetype": "text/x-python",
   "name": "python",
   "nbconvert_exporter": "python",
   "pygments_lexer": "ipython3",
   "version": "3.8.8"
  },
  "toc": {
   "base_numbering": 1,
   "nav_menu": {},
   "number_sections": true,
   "sideBar": true,
   "skip_h1_title": false,
   "title_cell": "Table of Contents",
   "title_sidebar": "Contents",
   "toc_cell": false,
   "toc_position": {
    "height": "calc(100% - 180px)",
    "left": "10px",
    "top": "150px",
    "width": "278.594px"
   },
   "toc_section_display": true,
   "toc_window_display": true
  }
 },
 "nbformat": 4,
 "nbformat_minor": 5
}
