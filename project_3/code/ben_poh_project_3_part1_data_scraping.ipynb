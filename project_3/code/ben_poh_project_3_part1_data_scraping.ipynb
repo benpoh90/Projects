{
 "cells": [
  {
   "cell_type": "markdown",
   "id": "083cebf6",
   "metadata": {},
   "source": [
    " **Project 3: Classification of Sub-Reddits with NLP**\n",
    " ***"
   ]
  },
  {
   "cell_type": "markdown",
   "id": "50ab4625",
   "metadata": {},
   "source": [
    "# Introduction and Problem Statement"
   ]
  },
  {
   "cell_type": "markdown",
   "id": "8181e1ec",
   "metadata": {},
   "source": [
    "**Sub-reddits:**<br>\n",
    "[British Problems](https://www.reddit.com/r/britishproblems/) and\n",
    "[British Success](https://www.reddit.com/r/britishproblems/)\n",
    "\n",
    "**Context**<br>\n",
    "You are working for SGAG in Singapore and have been tasked to explore new social media engagement channels via Reddit. Since Singaporeans are known to complain a lot, you are thinking of creating sub-reddits that would encourage users to post about the travails of daily life in humourous ways. \n",
    "\n",
    "**Why choose the two sub-reddits?**<br>\n",
    "You are aware of two sub-reddits from the UK that fit your idea (r/britishproblems and r/BritishSuccess). On the surface, they appear to be distinct topics (complaining about problems vs. celebrating success). However, taken in the context of british humour, they could potentially be quite similar in terms of their linguistic construct. \n",
    "\n",
    "To explain, british humour is largely based on sarcasm and satire and is aimed at the absurdity of everyday life. As such, ironic language is often deployed in its execution. Naturally, this means that such humour is highly context-based and could potentially be difficult to distinguish for a non-human reader. For example, in the context of our sub-reddits, consider the statement below:\n",
    "\n",
    "*'I am excited to be taking a nice stroll in the rain again...'*\n",
    "\n",
    "Would the machine learning algorithm classify this as a 'success' since you have words associated with positive sentiments (e.g. excited, nice stroll)? The poster - living in wet and cold London - is most likely complaining about having to go out in the rain. \n",
    "\n",
    "**Problem Statement**<br>\n",
    "You are also considering the idea of creating two sub-reddits - *SingaporeanProblems* and *SingaporeanSuccess*. However, you want to avoid the two sub-reddits cannablising viewership from each other in the event that they both end up being very similar. Like British humour, Singlish is also a highly dynamic language form. Therefore, by investigating the differentiating features in the two sub-reddits, you want to find out if humour (especially ironic language) can be differentiated by the model. This will then allow you to decide whether to set up one or two sub-reddits."
   ]
  },
  {
   "cell_type": "markdown",
   "id": "eee9bfef",
   "metadata": {},
   "source": [
    "## Import Libraries"
   ]
  },
  {
   "cell_type": "code",
   "execution_count": 1,
   "id": "c0c0c18d",
   "metadata": {},
   "outputs": [],
   "source": [
    "import pandas as pd\n",
    "import numpy as np\n",
    "import matplotlib.pyplot as plt\n",
    "import seaborn as sns\n",
    "\n",
    "import requests\n",
    "from bs4 import BeautifulSoup\n",
    "\n",
    "from sklearn.feature_extraction import text\n",
    "from sklearn.feature_extraction.text import CountVectorizer, TfidfVectorizer\n",
    "\n",
    "from nltk.sentiment.vader import SentimentIntensityAnalyzer"
   ]
  },
  {
   "cell_type": "code",
   "execution_count": 2,
   "id": "415d787a",
   "metadata": {},
   "outputs": [],
   "source": [
    "pd.options.display.max_rows = 100\n",
    "pd.options.display.max_columns = 100\n",
    "\n",
    "%matplotlib inline"
   ]
  },
  {
   "cell_type": "markdown",
   "id": "16d033fc",
   "metadata": {},
   "source": [
    "## Functions"
   ]
  },
  {
   "cell_type": "code",
   "execution_count": 3,
   "id": "b6595b10",
   "metadata": {},
   "outputs": [],
   "source": [
    "def scrape(subreddit):\n",
    "    '''Function to scrape sub-reddits with Pushshift API'''\n",
    "    \n",
    "    #Scrape 1st set of 100 posts\n",
    "    count = 1\n",
    "    url = 'https://api.pushshift.io/reddit/search/submission'\n",
    "    params = {\n",
    "    'subreddit': subreddit,\n",
    "    'size': 100}\n",
    "    \n",
    "    res = requests.get(url, params)\n",
    "    print(f'request: {count}', f'res status: {res.status_code}')\n",
    "    data = res.json()\n",
    "    posts = data['data']\n",
    "    df = pd.DataFrame(posts)\n",
    "    \n",
    "    #Scrape until 20 sets of 100 posts\n",
    "    for i in range(1,20):\n",
    "        count += 1\n",
    "        url = 'https://api.pushshift.io/reddit/search/submission'\n",
    "        params = {'subreddit': subreddit, \n",
    "                  'size': 100, \n",
    "                  'before': df['created_utc'].min()}\n",
    "        \n",
    "        res = requests.get(url, params)\n",
    "        data = res.json()\n",
    "        if res.status_code == 200:\n",
    "            print(f'request: {count}', f'res status: {res.status_code}')\n",
    "            posts = data['data']\n",
    "            next_df = pd.DataFrame(posts)\n",
    "            df = pd.concat([df, next_df], ignore_index=True)\n",
    "        else:\n",
    "            response_dict = json.loads(response)\n",
    "            print(response_dict)\n",
    "    return df"
   ]
  },
  {
   "cell_type": "markdown",
   "id": "b0085137",
   "metadata": {},
   "source": [
    "# Scrape Data from Reddit"
   ]
  },
  {
   "cell_type": "markdown",
   "id": "2491ec33",
   "metadata": {},
   "source": [
    "For this project, I scrapped 2k posts from each sub-reddit.\n",
    "\n",
    "Note: These are commented to avoid scraping a new set of data each time the notebook is run"
   ]
  },
  {
   "cell_type": "code",
   "execution_count": 4,
   "id": "b7d375a8",
   "metadata": {},
   "outputs": [],
   "source": [
    "#scrape_problems = scrape('britishproblems')"
   ]
  },
  {
   "cell_type": "code",
   "execution_count": 5,
   "id": "75f698a2",
   "metadata": {},
   "outputs": [],
   "source": [
    "#scrape_success = scrape('BritishSuccess')"
   ]
  },
  {
   "cell_type": "code",
   "execution_count": 6,
   "id": "49a73c8b",
   "metadata": {},
   "outputs": [],
   "source": [
    "#scrape_problems.to_csv(r'../datasets/scrape_problems.csv', index=False)"
   ]
  },
  {
   "cell_type": "code",
   "execution_count": 7,
   "id": "5b308a92",
   "metadata": {},
   "outputs": [],
   "source": [
    "#scrape_success.to_csv(r'../datasets/scrape_success.csv', index=False)"
   ]
  },
  {
   "cell_type": "markdown",
   "id": "d944b1b8",
   "metadata": {},
   "source": [
    "# Data Cleaning"
   ]
  },
  {
   "cell_type": "markdown",
   "id": "ad47c8d6",
   "metadata": {},
   "source": [
    "## Load Scraped Datasets"
   ]
  },
  {
   "cell_type": "code",
   "execution_count": 8,
   "id": "95f63f1b",
   "metadata": {},
   "outputs": [],
   "source": [
    "problems = pd.read_csv(r'../datasets/scrape_problems.csv')"
   ]
  },
  {
   "cell_type": "code",
   "execution_count": 9,
   "id": "b8c1afec",
   "metadata": {},
   "outputs": [],
   "source": [
    "success = pd.read_csv(r'../datasets/scrape_success.csv')"
   ]
  },
  {
   "cell_type": "markdown",
   "id": "41488b31",
   "metadata": {},
   "source": [
    "## Keep Relevant Columns"
   ]
  },
  {
   "cell_type": "code",
   "execution_count": 10,
   "id": "79c759b9",
   "metadata": {},
   "outputs": [],
   "source": [
    "problems = problems[['id','selftext','title','author','created_utc','score']]"
   ]
  },
  {
   "cell_type": "code",
   "execution_count": 11,
   "id": "806e8e23",
   "metadata": {},
   "outputs": [],
   "source": [
    "success = success[['id','selftext','title','author','created_utc','score']]"
   ]
  },
  {
   "cell_type": "code",
   "execution_count": 12,
   "id": "0e504d41",
   "metadata": {},
   "outputs": [
    {
     "data": {
      "text/html": [
       "<div>\n",
       "<style scoped>\n",
       "    .dataframe tbody tr th:only-of-type {\n",
       "        vertical-align: middle;\n",
       "    }\n",
       "\n",
       "    .dataframe tbody tr th {\n",
       "        vertical-align: top;\n",
       "    }\n",
       "\n",
       "    .dataframe thead th {\n",
       "        text-align: right;\n",
       "    }\n",
       "</style>\n",
       "<table border=\"1\" class=\"dataframe\">\n",
       "  <thead>\n",
       "    <tr style=\"text-align: right;\">\n",
       "      <th></th>\n",
       "      <th>id</th>\n",
       "      <th>selftext</th>\n",
       "      <th>title</th>\n",
       "      <th>author</th>\n",
       "      <th>created_utc</th>\n",
       "      <th>score</th>\n",
       "    </tr>\n",
       "  </thead>\n",
       "  <tbody>\n",
       "    <tr>\n",
       "      <th>0</th>\n",
       "      <td>pu9dd0</td>\n",
       "      <td>[removed]</td>\n",
       "      <td>Almost getting spotted throwing the old mattre...</td>\n",
       "      <td>DangersVengeance</td>\n",
       "      <td>1632446675</td>\n",
       "      <td>1</td>\n",
       "    </tr>\n",
       "    <tr>\n",
       "      <th>1</th>\n",
       "      <td>pu92vw</td>\n",
       "      <td>NaN</td>\n",
       "      <td>Not realising how bad your area is until you d...</td>\n",
       "      <td>LDNscallywag</td>\n",
       "      <td>1632445623</td>\n",
       "      <td>1</td>\n",
       "    </tr>\n",
       "    <tr>\n",
       "      <th>2</th>\n",
       "      <td>pu8m40</td>\n",
       "      <td>[removed]</td>\n",
       "      <td>Just dropped my digestive into my tea 😐</td>\n",
       "      <td>Sharny__xx</td>\n",
       "      <td>1632443917</td>\n",
       "      <td>1</td>\n",
       "    </tr>\n",
       "    <tr>\n",
       "      <th>3</th>\n",
       "      <td>pu8luo</td>\n",
       "      <td>Who are all these extra people, and where are ...</td>\n",
       "      <td>Having to drive north up the M6, M62 and M60 o...</td>\n",
       "      <td>BearyConfused</td>\n",
       "      <td>1632443891</td>\n",
       "      <td>1</td>\n",
       "    </tr>\n",
       "    <tr>\n",
       "      <th>4</th>\n",
       "      <td>pu8hml</td>\n",
       "      <td>[removed]</td>\n",
       "      <td>My mum made me an evening meal</td>\n",
       "      <td>Sedso85</td>\n",
       "      <td>1632443456</td>\n",
       "      <td>1</td>\n",
       "    </tr>\n",
       "  </tbody>\n",
       "</table>\n",
       "</div>"
      ],
      "text/plain": [
       "       id                                           selftext  \\\n",
       "0  pu9dd0                                          [removed]   \n",
       "1  pu92vw                                                NaN   \n",
       "2  pu8m40                                          [removed]   \n",
       "3  pu8luo  Who are all these extra people, and where are ...   \n",
       "4  pu8hml                                          [removed]   \n",
       "\n",
       "                                               title            author  \\\n",
       "0  Almost getting spotted throwing the old mattre...  DangersVengeance   \n",
       "1  Not realising how bad your area is until you d...      LDNscallywag   \n",
       "2            Just dropped my digestive into my tea 😐        Sharny__xx   \n",
       "3  Having to drive north up the M6, M62 and M60 o...     BearyConfused   \n",
       "4                     My mum made me an evening meal           Sedso85   \n",
       "\n",
       "   created_utc  score  \n",
       "0   1632446675      1  \n",
       "1   1632445623      1  \n",
       "2   1632443917      1  \n",
       "3   1632443891      1  \n",
       "4   1632443456      1  "
      ]
     },
     "execution_count": 12,
     "metadata": {},
     "output_type": "execute_result"
    }
   ],
   "source": [
    "problems.head(5)"
   ]
  },
  {
   "cell_type": "code",
   "execution_count": 13,
   "id": "45548119",
   "metadata": {},
   "outputs": [
    {
     "data": {
      "text/html": [
       "<div>\n",
       "<style scoped>\n",
       "    .dataframe tbody tr th:only-of-type {\n",
       "        vertical-align: middle;\n",
       "    }\n",
       "\n",
       "    .dataframe tbody tr th {\n",
       "        vertical-align: top;\n",
       "    }\n",
       "\n",
       "    .dataframe thead th {\n",
       "        text-align: right;\n",
       "    }\n",
       "</style>\n",
       "<table border=\"1\" class=\"dataframe\">\n",
       "  <thead>\n",
       "    <tr style=\"text-align: right;\">\n",
       "      <th></th>\n",
       "      <th>id</th>\n",
       "      <th>selftext</th>\n",
       "      <th>title</th>\n",
       "      <th>author</th>\n",
       "      <th>created_utc</th>\n",
       "      <th>score</th>\n",
       "    </tr>\n",
       "  </thead>\n",
       "  <tbody>\n",
       "    <tr>\n",
       "      <th>0</th>\n",
       "      <td>pu54ti</td>\n",
       "      <td>[removed]</td>\n",
       "      <td>Finally figuring out the countdown conundrum b...</td>\n",
       "      <td>TheTjalian</td>\n",
       "      <td>1632432390</td>\n",
       "      <td>1</td>\n",
       "    </tr>\n",
       "    <tr>\n",
       "      <th>1</th>\n",
       "      <td>pu4ko8</td>\n",
       "      <td>Guy on a motorbike comes up behind me and trai...</td>\n",
       "      <td>Made a motorbike buddy</td>\n",
       "      <td>Supersoniccyborg</td>\n",
       "      <td>1632430739</td>\n",
       "      <td>1</td>\n",
       "    </tr>\n",
       "    <tr>\n",
       "      <th>2</th>\n",
       "      <td>pu4dc2</td>\n",
       "      <td>[removed]</td>\n",
       "      <td>Just got a shoutout + my request played on Rad...</td>\n",
       "      <td>AB6Daf</td>\n",
       "      <td>1632430122</td>\n",
       "      <td>1</td>\n",
       "    </tr>\n",
       "    <tr>\n",
       "      <th>3</th>\n",
       "      <td>pu24of</td>\n",
       "      <td>[removed]</td>\n",
       "      <td>When you step on a 3 pin plug but manage to bu...</td>\n",
       "      <td>jimmycarr1</td>\n",
       "      <td>1632423509</td>\n",
       "      <td>1</td>\n",
       "    </tr>\n",
       "    <tr>\n",
       "      <th>4</th>\n",
       "      <td>pu1722</td>\n",
       "      <td>[removed]</td>\n",
       "      <td>Only had to buy milk and the person in front h...</td>\n",
       "      <td>SpiderSixer</td>\n",
       "      <td>1632420836</td>\n",
       "      <td>1</td>\n",
       "    </tr>\n",
       "  </tbody>\n",
       "</table>\n",
       "</div>"
      ],
      "text/plain": [
       "       id                                           selftext  \\\n",
       "0  pu54ti                                          [removed]   \n",
       "1  pu4ko8  Guy on a motorbike comes up behind me and trai...   \n",
       "2  pu4dc2                                          [removed]   \n",
       "3  pu24of                                          [removed]   \n",
       "4  pu1722                                          [removed]   \n",
       "\n",
       "                                               title            author  \\\n",
       "0  Finally figuring out the countdown conundrum b...        TheTjalian   \n",
       "1                             Made a motorbike buddy  Supersoniccyborg   \n",
       "2  Just got a shoutout + my request played on Rad...            AB6Daf   \n",
       "3  When you step on a 3 pin plug but manage to bu...        jimmycarr1   \n",
       "4  Only had to buy milk and the person in front h...       SpiderSixer   \n",
       "\n",
       "   created_utc  score  \n",
       "0   1632432390      1  \n",
       "1   1632430739      1  \n",
       "2   1632430122      1  \n",
       "3   1632423509      1  \n",
       "4   1632420836      1  "
      ]
     },
     "execution_count": 13,
     "metadata": {},
     "output_type": "execute_result"
    }
   ],
   "source": [
    "success.head(5)"
   ]
  },
  {
   "cell_type": "markdown",
   "id": "92051656",
   "metadata": {},
   "source": [
    "## Remove Posts Deleted by Author"
   ]
  },
  {
   "cell_type": "markdown",
   "id": "f4b14cb8",
   "metadata": {},
   "source": [
    "Selftext = NaN or [deleted] is the same as author = [deleted]. This means the post has been deleted by the author, and we will drop them from the datasets."
   ]
  },
  {
   "cell_type": "code",
   "execution_count": 14,
   "id": "27636463",
   "metadata": {},
   "outputs": [
    {
     "data": {
      "text/html": [
       "<div>\n",
       "<style scoped>\n",
       "    .dataframe tbody tr th:only-of-type {\n",
       "        vertical-align: middle;\n",
       "    }\n",
       "\n",
       "    .dataframe tbody tr th {\n",
       "        vertical-align: top;\n",
       "    }\n",
       "\n",
       "    .dataframe thead th {\n",
       "        text-align: right;\n",
       "    }\n",
       "</style>\n",
       "<table border=\"1\" class=\"dataframe\">\n",
       "  <thead>\n",
       "    <tr style=\"text-align: right;\">\n",
       "      <th></th>\n",
       "      <th>selftext</th>\n",
       "      <th>title</th>\n",
       "      <th>author</th>\n",
       "    </tr>\n",
       "  </thead>\n",
       "  <tbody>\n",
       "    <tr>\n",
       "      <th>144</th>\n",
       "      <td>[deleted]</td>\n",
       "      <td>My local supermarkets are full of Christmas sh...</td>\n",
       "      <td>[deleted]</td>\n",
       "    </tr>\n",
       "    <tr>\n",
       "      <th>145</th>\n",
       "      <td>NaN</td>\n",
       "      <td>Waking up at 4 am and unable to fall asleep be...</td>\n",
       "      <td>[deleted]</td>\n",
       "    </tr>\n",
       "    <tr>\n",
       "      <th>150</th>\n",
       "      <td>NaN</td>\n",
       "      <td>GP Receptionists</td>\n",
       "      <td>[deleted]</td>\n",
       "    </tr>\n",
       "    <tr>\n",
       "      <th>171</th>\n",
       "      <td>[deleted]</td>\n",
       "      <td>Suffering the indignity of being called a two-...</td>\n",
       "      <td>[deleted]</td>\n",
       "    </tr>\n",
       "    <tr>\n",
       "      <th>821</th>\n",
       "      <td>NaN</td>\n",
       "      <td>People ignoring the main reason we have no tru...</td>\n",
       "      <td>[deleted]</td>\n",
       "    </tr>\n",
       "    <tr>\n",
       "      <th>1420</th>\n",
       "      <td>[deleted]</td>\n",
       "      <td>Feeling guilty for sitting in front a busker w...</td>\n",
       "      <td>[deleted]</td>\n",
       "    </tr>\n",
       "    <tr>\n",
       "      <th>1485</th>\n",
       "      <td>[deleted]</td>\n",
       "      <td>When the full contents Six packets of crisps f...</td>\n",
       "      <td>[deleted]</td>\n",
       "    </tr>\n",
       "    <tr>\n",
       "      <th>1544</th>\n",
       "      <td>[deleted]</td>\n",
       "      <td>Living in a listed building which thieves can ...</td>\n",
       "      <td>[deleted]</td>\n",
       "    </tr>\n",
       "    <tr>\n",
       "      <th>1811</th>\n",
       "      <td>NaN</td>\n",
       "      <td>What kind of authoritarian society does the wo...</td>\n",
       "      <td>[deleted]</td>\n",
       "    </tr>\n",
       "    <tr>\n",
       "      <th>1933</th>\n",
       "      <td>[deleted]</td>\n",
       "      <td>RyanAir’s undocumented, unreported and unknown...</td>\n",
       "      <td>[deleted]</td>\n",
       "    </tr>\n",
       "    <tr>\n",
       "      <th>1953</th>\n",
       "      <td>NaN</td>\n",
       "      <td>I’m suicidal</td>\n",
       "      <td>[deleted]</td>\n",
       "    </tr>\n",
       "    <tr>\n",
       "      <th>1975</th>\n",
       "      <td>NaN</td>\n",
       "      <td>Alright who killed the spider?</td>\n",
       "      <td>[deleted]</td>\n",
       "    </tr>\n",
       "  </tbody>\n",
       "</table>\n",
       "</div>"
      ],
      "text/plain": [
       "       selftext                                              title     author\n",
       "144   [deleted]  My local supermarkets are full of Christmas sh...  [deleted]\n",
       "145         NaN  Waking up at 4 am and unable to fall asleep be...  [deleted]\n",
       "150         NaN                                   GP Receptionists  [deleted]\n",
       "171   [deleted]  Suffering the indignity of being called a two-...  [deleted]\n",
       "821         NaN  People ignoring the main reason we have no tru...  [deleted]\n",
       "1420  [deleted]  Feeling guilty for sitting in front a busker w...  [deleted]\n",
       "1485  [deleted]  When the full contents Six packets of crisps f...  [deleted]\n",
       "1544  [deleted]  Living in a listed building which thieves can ...  [deleted]\n",
       "1811        NaN  What kind of authoritarian society does the wo...  [deleted]\n",
       "1933  [deleted]  RyanAir’s undocumented, unreported and unknown...  [deleted]\n",
       "1953        NaN                                       I’m suicidal  [deleted]\n",
       "1975        NaN                     Alright who killed the spider?  [deleted]"
      ]
     },
     "execution_count": 14,
     "metadata": {},
     "output_type": "execute_result"
    }
   ],
   "source": [
    "problems.loc[(problems['selftext'] == '[deleted]') | (problems['author'] == '[deleted]'),['selftext','title','author']]"
   ]
  },
  {
   "cell_type": "code",
   "execution_count": 15,
   "id": "b590f279",
   "metadata": {},
   "outputs": [],
   "source": [
    "problems = problems.loc[(problems['author'] != '[deleted]') & (problems['selftext'] != '[deleted]'),:].reset_index(drop=True)"
   ]
  },
  {
   "cell_type": "code",
   "execution_count": 16,
   "id": "d5c7dbb6",
   "metadata": {},
   "outputs": [
    {
     "data": {
      "text/html": [
       "<div>\n",
       "<style scoped>\n",
       "    .dataframe tbody tr th:only-of-type {\n",
       "        vertical-align: middle;\n",
       "    }\n",
       "\n",
       "    .dataframe tbody tr th {\n",
       "        vertical-align: top;\n",
       "    }\n",
       "\n",
       "    .dataframe thead th {\n",
       "        text-align: right;\n",
       "    }\n",
       "</style>\n",
       "<table border=\"1\" class=\"dataframe\">\n",
       "  <thead>\n",
       "    <tr style=\"text-align: right;\">\n",
       "      <th></th>\n",
       "      <th>selftext</th>\n",
       "      <th>title</th>\n",
       "      <th>author</th>\n",
       "    </tr>\n",
       "  </thead>\n",
       "  <tbody>\n",
       "    <tr>\n",
       "      <th>362</th>\n",
       "      <td>[deleted]</td>\n",
       "      <td>Just ordered my nursing uniform!</td>\n",
       "      <td>[deleted]</td>\n",
       "    </tr>\n",
       "    <tr>\n",
       "      <th>400</th>\n",
       "      <td>[deleted]</td>\n",
       "      <td>It's extremely easy to know how bad the pandem...</td>\n",
       "      <td>weazelmafghfgh</td>\n",
       "    </tr>\n",
       "    <tr>\n",
       "      <th>796</th>\n",
       "      <td>NaN</td>\n",
       "      <td>Hay-fever not bothering me at all today... bec...</td>\n",
       "      <td>[deleted]</td>\n",
       "    </tr>\n",
       "    <tr>\n",
       "      <th>1313</th>\n",
       "      <td>[deleted]</td>\n",
       "      <td>Got incredibly expensive hearing aids on the N...</td>\n",
       "      <td>[deleted]</td>\n",
       "    </tr>\n",
       "    <tr>\n",
       "      <th>1315</th>\n",
       "      <td>[deleted]</td>\n",
       "      <td>Aldi are location scouting for new stores near...</td>\n",
       "      <td>[deleted]</td>\n",
       "    </tr>\n",
       "    <tr>\n",
       "      <th>1325</th>\n",
       "      <td>NaN</td>\n",
       "      <td>God entered into my body and my dick got hard</td>\n",
       "      <td>[deleted]</td>\n",
       "    </tr>\n",
       "    <tr>\n",
       "      <th>1332</th>\n",
       "      <td>[deleted]</td>\n",
       "      <td>Finally got my toddler into a playgroup... and...</td>\n",
       "      <td>[deleted]</td>\n",
       "    </tr>\n",
       "    <tr>\n",
       "      <th>1333</th>\n",
       "      <td>[deleted]</td>\n",
       "      <td>Just been diagnosed with ADHD at 27.</td>\n",
       "      <td>[deleted]</td>\n",
       "    </tr>\n",
       "    <tr>\n",
       "      <th>1346</th>\n",
       "      <td>[deleted]</td>\n",
       "      <td>For almost 40 years when I eat my mashed potat...</td>\n",
       "      <td>[deleted]</td>\n",
       "    </tr>\n",
       "    <tr>\n",
       "      <th>1356</th>\n",
       "      <td>[deleted]</td>\n",
       "      <td>England winning their 1st Euro 2021 match!</td>\n",
       "      <td>[deleted]</td>\n",
       "    </tr>\n",
       "    <tr>\n",
       "      <th>1357</th>\n",
       "      <td>[deleted]</td>\n",
       "      <td>England winning their 1st Euro 2022 match!</td>\n",
       "      <td>[deleted]</td>\n",
       "    </tr>\n",
       "    <tr>\n",
       "      <th>1532</th>\n",
       "      <td>[deleted]</td>\n",
       "      <td>Realising there’s no tea bags left 4 minutes b...</td>\n",
       "      <td>[deleted]</td>\n",
       "    </tr>\n",
       "    <tr>\n",
       "      <th>1534</th>\n",
       "      <td>[deleted]</td>\n",
       "      <td>I visited up north and got some chocolate conc...</td>\n",
       "      <td>[deleted]</td>\n",
       "    </tr>\n",
       "    <tr>\n",
       "      <th>1626</th>\n",
       "      <td>[deleted]</td>\n",
       "      <td>In a world where cosmetic dentistry has given ...</td>\n",
       "      <td>ThiYount</td>\n",
       "    </tr>\n",
       "    <tr>\n",
       "      <th>1730</th>\n",
       "      <td>[deleted]</td>\n",
       "      <td>My neighbour has a young child. They are very ...</td>\n",
       "      <td>[deleted]</td>\n",
       "    </tr>\n",
       "  </tbody>\n",
       "</table>\n",
       "</div>"
      ],
      "text/plain": [
       "       selftext                                              title  \\\n",
       "362   [deleted]                   Just ordered my nursing uniform!   \n",
       "400   [deleted]  It's extremely easy to know how bad the pandem...   \n",
       "796         NaN  Hay-fever not bothering me at all today... bec...   \n",
       "1313  [deleted]  Got incredibly expensive hearing aids on the N...   \n",
       "1315  [deleted]  Aldi are location scouting for new stores near...   \n",
       "1325        NaN      God entered into my body and my dick got hard   \n",
       "1332  [deleted]  Finally got my toddler into a playgroup... and...   \n",
       "1333  [deleted]               Just been diagnosed with ADHD at 27.   \n",
       "1346  [deleted]  For almost 40 years when I eat my mashed potat...   \n",
       "1356  [deleted]         England winning their 1st Euro 2021 match!   \n",
       "1357  [deleted]         England winning their 1st Euro 2022 match!   \n",
       "1532  [deleted]  Realising there’s no tea bags left 4 minutes b...   \n",
       "1534  [deleted]  I visited up north and got some chocolate conc...   \n",
       "1626  [deleted]  In a world where cosmetic dentistry has given ...   \n",
       "1730  [deleted]  My neighbour has a young child. They are very ...   \n",
       "\n",
       "              author  \n",
       "362        [deleted]  \n",
       "400   weazelmafghfgh  \n",
       "796        [deleted]  \n",
       "1313       [deleted]  \n",
       "1315       [deleted]  \n",
       "1325       [deleted]  \n",
       "1332       [deleted]  \n",
       "1333       [deleted]  \n",
       "1346       [deleted]  \n",
       "1356       [deleted]  \n",
       "1357       [deleted]  \n",
       "1532       [deleted]  \n",
       "1534       [deleted]  \n",
       "1626        ThiYount  \n",
       "1730       [deleted]  "
      ]
     },
     "execution_count": 16,
     "metadata": {},
     "output_type": "execute_result"
    }
   ],
   "source": [
    "success.loc[(success['selftext'] == '[deleted]') | (success['author'] == '[deleted]'),['selftext','title','author']]"
   ]
  },
  {
   "cell_type": "code",
   "execution_count": 17,
   "id": "2fb4559e",
   "metadata": {},
   "outputs": [],
   "source": [
    "success = success.loc[(success['author'] != '[deleted]') & (success['selftext'] != '[deleted]'),:].reset_index(drop=True)"
   ]
  },
  {
   "cell_type": "markdown",
   "id": "90010d47",
   "metadata": {},
   "source": [
    "## Remove Posts Removed by Reddit/Moderator"
   ]
  },
  {
   "cell_type": "markdown",
   "id": "f549bf46",
   "metadata": {},
   "source": [
    "Selftext = [removed] means that the post was removed by moderator/reddit. We will drop these from both datasets."
   ]
  },
  {
   "cell_type": "code",
   "execution_count": 18,
   "id": "2184cfc8",
   "metadata": {},
   "outputs": [
    {
     "data": {
      "text/html": [
       "<div>\n",
       "<style scoped>\n",
       "    .dataframe tbody tr th:only-of-type {\n",
       "        vertical-align: middle;\n",
       "    }\n",
       "\n",
       "    .dataframe tbody tr th {\n",
       "        vertical-align: top;\n",
       "    }\n",
       "\n",
       "    .dataframe thead th {\n",
       "        text-align: right;\n",
       "    }\n",
       "</style>\n",
       "<table border=\"1\" class=\"dataframe\">\n",
       "  <thead>\n",
       "    <tr style=\"text-align: right;\">\n",
       "      <th></th>\n",
       "      <th>selftext</th>\n",
       "      <th>title</th>\n",
       "      <th>author</th>\n",
       "    </tr>\n",
       "  </thead>\n",
       "  <tbody>\n",
       "    <tr>\n",
       "      <th>0</th>\n",
       "      <td>[removed]</td>\n",
       "      <td>Almost getting spotted throwing the old mattre...</td>\n",
       "      <td>DangersVengeance</td>\n",
       "    </tr>\n",
       "    <tr>\n",
       "      <th>2</th>\n",
       "      <td>[removed]</td>\n",
       "      <td>Just dropped my digestive into my tea 😐</td>\n",
       "      <td>Sharny__xx</td>\n",
       "    </tr>\n",
       "    <tr>\n",
       "      <th>4</th>\n",
       "      <td>[removed]</td>\n",
       "      <td>My mum made me an evening meal</td>\n",
       "      <td>Sedso85</td>\n",
       "    </tr>\n",
       "    <tr>\n",
       "      <th>5</th>\n",
       "      <td>[removed]</td>\n",
       "      <td>Tinder is the Asda of dating apps</td>\n",
       "      <td>Signal_Quality_3865</td>\n",
       "    </tr>\n",
       "    <tr>\n",
       "      <th>8</th>\n",
       "      <td>[removed]</td>\n",
       "      <td>Northern girl diet has made me fat</td>\n",
       "      <td>Sharny__xx</td>\n",
       "    </tr>\n",
       "    <tr>\n",
       "      <th>...</th>\n",
       "      <td>...</td>\n",
       "      <td>...</td>\n",
       "      <td>...</td>\n",
       "    </tr>\n",
       "    <tr>\n",
       "      <th>1971</th>\n",
       "      <td>[removed]</td>\n",
       "      <td>Waiting at Lidl</td>\n",
       "      <td>TAB20201</td>\n",
       "    </tr>\n",
       "    <tr>\n",
       "      <th>1973</th>\n",
       "      <td>[removed]</td>\n",
       "      <td>The Monthly Barber Conversation</td>\n",
       "      <td>TheRaven9</td>\n",
       "    </tr>\n",
       "    <tr>\n",
       "      <th>1974</th>\n",
       "      <td>[removed]</td>\n",
       "      <td>Roadworks popping up everywhere, populated by ...</td>\n",
       "      <td>RedditHatesMyChoices</td>\n",
       "    </tr>\n",
       "    <tr>\n",
       "      <th>1976</th>\n",
       "      <td>[removed]</td>\n",
       "      <td>Every day is a 'bank holiday'</td>\n",
       "      <td>fort_panda</td>\n",
       "    </tr>\n",
       "    <tr>\n",
       "      <th>1977</th>\n",
       "      <td>[removed]</td>\n",
       "      <td>Just saw a police car parked on double yellow ...</td>\n",
       "      <td>flanface87</td>\n",
       "    </tr>\n",
       "  </tbody>\n",
       "</table>\n",
       "<p>743 rows × 3 columns</p>\n",
       "</div>"
      ],
      "text/plain": [
       "       selftext                                              title  \\\n",
       "0     [removed]  Almost getting spotted throwing the old mattre...   \n",
       "2     [removed]            Just dropped my digestive into my tea 😐   \n",
       "4     [removed]                     My mum made me an evening meal   \n",
       "5     [removed]                  Tinder is the Asda of dating apps   \n",
       "8     [removed]                 Northern girl diet has made me fat   \n",
       "...         ...                                                ...   \n",
       "1971  [removed]                                    Waiting at Lidl   \n",
       "1973  [removed]                    The Monthly Barber Conversation   \n",
       "1974  [removed]  Roadworks popping up everywhere, populated by ...   \n",
       "1976  [removed]                      Every day is a 'bank holiday'   \n",
       "1977  [removed]  Just saw a police car parked on double yellow ...   \n",
       "\n",
       "                    author  \n",
       "0         DangersVengeance  \n",
       "2               Sharny__xx  \n",
       "4                  Sedso85  \n",
       "5      Signal_Quality_3865  \n",
       "8               Sharny__xx  \n",
       "...                    ...  \n",
       "1971              TAB20201  \n",
       "1973             TheRaven9  \n",
       "1974  RedditHatesMyChoices  \n",
       "1976            fort_panda  \n",
       "1977            flanface87  \n",
       "\n",
       "[743 rows x 3 columns]"
      ]
     },
     "execution_count": 18,
     "metadata": {},
     "output_type": "execute_result"
    }
   ],
   "source": [
    "problems.loc[problems['selftext'] == '[removed]',['selftext','title','author']]"
   ]
  },
  {
   "cell_type": "code",
   "execution_count": 19,
   "id": "00a669a6",
   "metadata": {},
   "outputs": [],
   "source": [
    "problems = problems.loc[problems['selftext'] != '[removed]',:].reset_index(drop=True)"
   ]
  },
  {
   "cell_type": "code",
   "execution_count": 20,
   "id": "65301131",
   "metadata": {},
   "outputs": [
    {
     "data": {
      "text/html": [
       "<div>\n",
       "<style scoped>\n",
       "    .dataframe tbody tr th:only-of-type {\n",
       "        vertical-align: middle;\n",
       "    }\n",
       "\n",
       "    .dataframe tbody tr th {\n",
       "        vertical-align: top;\n",
       "    }\n",
       "\n",
       "    .dataframe thead th {\n",
       "        text-align: right;\n",
       "    }\n",
       "</style>\n",
       "<table border=\"1\" class=\"dataframe\">\n",
       "  <thead>\n",
       "    <tr style=\"text-align: right;\">\n",
       "      <th></th>\n",
       "      <th>selftext</th>\n",
       "      <th>title</th>\n",
       "      <th>author</th>\n",
       "    </tr>\n",
       "  </thead>\n",
       "  <tbody>\n",
       "    <tr>\n",
       "      <th>0</th>\n",
       "      <td>[removed]</td>\n",
       "      <td>Finally figuring out the countdown conundrum b...</td>\n",
       "      <td>TheTjalian</td>\n",
       "    </tr>\n",
       "    <tr>\n",
       "      <th>2</th>\n",
       "      <td>[removed]</td>\n",
       "      <td>Just got a shoutout + my request played on Rad...</td>\n",
       "      <td>AB6Daf</td>\n",
       "    </tr>\n",
       "    <tr>\n",
       "      <th>3</th>\n",
       "      <td>[removed]</td>\n",
       "      <td>When you step on a 3 pin plug but manage to bu...</td>\n",
       "      <td>jimmycarr1</td>\n",
       "    </tr>\n",
       "    <tr>\n",
       "      <th>4</th>\n",
       "      <td>[removed]</td>\n",
       "      <td>Only had to buy milk and the person in front h...</td>\n",
       "      <td>SpiderSixer</td>\n",
       "    </tr>\n",
       "    <tr>\n",
       "      <th>7</th>\n",
       "      <td>[removed]</td>\n",
       "      <td>Decided to give the new series of Never Mind T...</td>\n",
       "      <td>herumdegumff</td>\n",
       "    </tr>\n",
       "    <tr>\n",
       "      <th>...</th>\n",
       "      <td>...</td>\n",
       "      <td>...</td>\n",
       "      <td>...</td>\n",
       "    </tr>\n",
       "    <tr>\n",
       "      <th>1817</th>\n",
       "      <td>[removed]</td>\n",
       "      <td>Britain vs America</td>\n",
       "      <td>DorathyMinnifield</td>\n",
       "    </tr>\n",
       "    <tr>\n",
       "      <th>1818</th>\n",
       "      <td>[removed]</td>\n",
       "      <td>Britain vs America</td>\n",
       "      <td>DorathyMinnifield</td>\n",
       "    </tr>\n",
       "    <tr>\n",
       "      <th>1888</th>\n",
       "      <td>[removed]</td>\n",
       "      <td>What supplements are your favourite and why?</td>\n",
       "      <td>Bill1234550987654321</td>\n",
       "    </tr>\n",
       "    <tr>\n",
       "      <th>1905</th>\n",
       "      <td>[removed]</td>\n",
       "      <td>Found investment success with Mr. Adam Fayed</td>\n",
       "      <td>WealthMagnet016</td>\n",
       "    </tr>\n",
       "    <tr>\n",
       "      <th>1968</th>\n",
       "      <td>[removed]</td>\n",
       "      <td>TIL what you shouldn't reheat in the microwave</td>\n",
       "      <td>redhumdrum</td>\n",
       "    </tr>\n",
       "  </tbody>\n",
       "</table>\n",
       "<p>526 rows × 3 columns</p>\n",
       "</div>"
      ],
      "text/plain": [
       "       selftext                                              title  \\\n",
       "0     [removed]  Finally figuring out the countdown conundrum b...   \n",
       "2     [removed]  Just got a shoutout + my request played on Rad...   \n",
       "3     [removed]  When you step on a 3 pin plug but manage to bu...   \n",
       "4     [removed]  Only had to buy milk and the person in front h...   \n",
       "7     [removed]  Decided to give the new series of Never Mind T...   \n",
       "...         ...                                                ...   \n",
       "1817  [removed]                                 Britain vs America   \n",
       "1818  [removed]                                 Britain vs America   \n",
       "1888  [removed]       What supplements are your favourite and why?   \n",
       "1905  [removed]       Found investment success with Mr. Adam Fayed   \n",
       "1968  [removed]     TIL what you shouldn't reheat in the microwave   \n",
       "\n",
       "                    author  \n",
       "0               TheTjalian  \n",
       "2                   AB6Daf  \n",
       "3               jimmycarr1  \n",
       "4              SpiderSixer  \n",
       "7             herumdegumff  \n",
       "...                    ...  \n",
       "1817     DorathyMinnifield  \n",
       "1818     DorathyMinnifield  \n",
       "1888  Bill1234550987654321  \n",
       "1905       WealthMagnet016  \n",
       "1968            redhumdrum  \n",
       "\n",
       "[526 rows x 3 columns]"
      ]
     },
     "execution_count": 20,
     "metadata": {},
     "output_type": "execute_result"
    }
   ],
   "source": [
    "success.loc[success['selftext'] == '[removed]',['selftext','title','author']]"
   ]
  },
  {
   "cell_type": "code",
   "execution_count": 21,
   "id": "8e8f0ad6",
   "metadata": {},
   "outputs": [],
   "source": [
    "success = success.loc[success['selftext'] != '[removed]',:].reset_index(drop=True)"
   ]
  },
  {
   "cell_type": "markdown",
   "id": "447abe95",
   "metadata": {},
   "source": [
    "## Remove Any Duplicates"
   ]
  },
  {
   "cell_type": "markdown",
   "id": "9ebf3efb",
   "metadata": {},
   "source": [
    "A majority of duplicates would have been removed by Reddit and are marked with the [removed] flag. We have removed them in the previous step. We will now remove any remaining duplicates."
   ]
  },
  {
   "cell_type": "code",
   "execution_count": 22,
   "id": "c3692f2b",
   "metadata": {},
   "outputs": [
    {
     "data": {
      "text/html": [
       "<div>\n",
       "<style scoped>\n",
       "    .dataframe tbody tr th:only-of-type {\n",
       "        vertical-align: middle;\n",
       "    }\n",
       "\n",
       "    .dataframe tbody tr th {\n",
       "        vertical-align: top;\n",
       "    }\n",
       "\n",
       "    .dataframe thead th {\n",
       "        text-align: right;\n",
       "    }\n",
       "</style>\n",
       "<table border=\"1\" class=\"dataframe\">\n",
       "  <thead>\n",
       "    <tr style=\"text-align: right;\">\n",
       "      <th></th>\n",
       "      <th>title</th>\n",
       "      <th>author</th>\n",
       "    </tr>\n",
       "  </thead>\n",
       "  <tbody>\n",
       "    <tr>\n",
       "      <th>67</th>\n",
       "      <td>Needing to wear earplugs when you're forced ba...</td>\n",
       "      <td>greenbox1990</td>\n",
       "    </tr>\n",
       "    <tr>\n",
       "      <th>254</th>\n",
       "      <td>Being simultaneously too hot and too cold to s...</td>\n",
       "      <td>Prestigious-Ad3867</td>\n",
       "    </tr>\n",
       "    <tr>\n",
       "      <th>369</th>\n",
       "      <td>GWR Twitter, I don’t want a “if you had a rese...</td>\n",
       "      <td>KrozJr_UK</td>\n",
       "    </tr>\n",
       "    <tr>\n",
       "      <th>1099</th>\n",
       "      <td>Waiting in a 90 minute queue when trying to ca...</td>\n",
       "      <td>Rengoku-Onigiri</td>\n",
       "    </tr>\n",
       "  </tbody>\n",
       "</table>\n",
       "</div>"
      ],
      "text/plain": [
       "                                                  title              author\n",
       "67    Needing to wear earplugs when you're forced ba...        greenbox1990\n",
       "254   Being simultaneously too hot and too cold to s...  Prestigious-Ad3867\n",
       "369   GWR Twitter, I don’t want a “if you had a rese...           KrozJr_UK\n",
       "1099  Waiting in a 90 minute queue when trying to ca...     Rengoku-Onigiri"
      ]
     },
     "execution_count": 22,
     "metadata": {},
     "output_type": "execute_result"
    }
   ],
   "source": [
    "problems.loc[(problems['title'].duplicated()),['title','author']]"
   ]
  },
  {
   "cell_type": "code",
   "execution_count": 23,
   "id": "a1894c60",
   "metadata": {},
   "outputs": [],
   "source": [
    "problems = problems.drop_duplicates(subset=['title']).reset_index(drop=True)"
   ]
  },
  {
   "cell_type": "code",
   "execution_count": 24,
   "id": "a5db33ab",
   "metadata": {},
   "outputs": [
    {
     "data": {
      "text/html": [
       "<div>\n",
       "<style scoped>\n",
       "    .dataframe tbody tr th:only-of-type {\n",
       "        vertical-align: middle;\n",
       "    }\n",
       "\n",
       "    .dataframe tbody tr th {\n",
       "        vertical-align: top;\n",
       "    }\n",
       "\n",
       "    .dataframe thead th {\n",
       "        text-align: right;\n",
       "    }\n",
       "</style>\n",
       "<table border=\"1\" class=\"dataframe\">\n",
       "  <thead>\n",
       "    <tr style=\"text-align: right;\">\n",
       "      <th></th>\n",
       "      <th>title</th>\n",
       "      <th>author</th>\n",
       "    </tr>\n",
       "  </thead>\n",
       "  <tbody>\n",
       "    <tr>\n",
       "      <th>232</th>\n",
       "      <td>Overcharged on gas for years, now paying £5pm ...</td>\n",
       "      <td>Chevey0</td>\n",
       "    </tr>\n",
       "    <tr>\n",
       "      <th>582</th>\n",
       "      <td>Emma Raducanu</td>\n",
       "      <td>gbhbri20</td>\n",
       "    </tr>\n",
       "    <tr>\n",
       "      <th>679</th>\n",
       "      <td>It's raining</td>\n",
       "      <td>jdmstig</td>\n",
       "    </tr>\n",
       "    <tr>\n",
       "      <th>1154</th>\n",
       "      <td>Has anyone started doing anything during lockd...</td>\n",
       "      <td>CampMain</td>\n",
       "    </tr>\n",
       "    <tr>\n",
       "      <th>1292</th>\n",
       "      <td>Amazon refund success</td>\n",
       "      <td>Historical-Tax-2010</td>\n",
       "    </tr>\n",
       "  </tbody>\n",
       "</table>\n",
       "</div>"
      ],
      "text/plain": [
       "                                                  title               author\n",
       "232   Overcharged on gas for years, now paying £5pm ...              Chevey0\n",
       "582                                       Emma Raducanu             gbhbri20\n",
       "679                                        It's raining              jdmstig\n",
       "1154  Has anyone started doing anything during lockd...             CampMain\n",
       "1292                              Amazon refund success  Historical-Tax-2010"
      ]
     },
     "execution_count": 24,
     "metadata": {},
     "output_type": "execute_result"
    }
   ],
   "source": [
    "success.loc[(success['title'].duplicated()),['title','author']]"
   ]
  },
  {
   "cell_type": "code",
   "execution_count": 25,
   "id": "499fcb7e",
   "metadata": {},
   "outputs": [],
   "source": [
    "success = success.drop_duplicates(subset=['title']).reset_index(drop=True)"
   ]
  },
  {
   "cell_type": "markdown",
   "id": "c8ee2e5a",
   "metadata": {},
   "source": [
    "## Remove URLs"
   ]
  },
  {
   "cell_type": "markdown",
   "id": "b5cde786",
   "metadata": {},
   "source": [
    "There are website/image links in some of the reddit posts. I will use regex to identify and remove them since they will not work with our vectorization/modelling tools."
   ]
  },
  {
   "cell_type": "code",
   "execution_count": 26,
   "id": "988f3e1d",
   "metadata": {},
   "outputs": [],
   "source": [
    "#This regex should pick out any urls with https / http / wwww and combinations of these\n",
    "\n",
    "url_regex = r'https?:\\/\\/(?:www\\.|(?!www))[a-zA-Z0-9][a-zA-Z0-9-]+[a-zA-Z0-9]\\.[\\s]{2,}|www\\.[a-zA-Z0-9][a-zA-Z0-9-]+[a-zA-Z0-9]\\.[^\\s]{2,}|https?:\\/\\/(?:www\\.|(?!www))[a-zA-Z0-9]+\\.[^\\s]{2,}|www\\.[a-zA-Z0-9]+\\.[^\\s]{2,}|https?:\\/\\/(?:www\\.|(?!www))[a-z-A-Z0-9]+\\.[^\\s]{2,}'"
   ]
  },
  {
   "cell_type": "code",
   "execution_count": 27,
   "id": "59680ddf",
   "metadata": {},
   "outputs": [],
   "source": [
    "problems['selftext'].replace(url_regex, ' ', regex=True, inplace=True)"
   ]
  },
  {
   "cell_type": "code",
   "execution_count": 28,
   "id": "d214e0f0",
   "metadata": {},
   "outputs": [],
   "source": [
    "success['selftext'].replace(url_regex, ' ', regex=True, inplace=True)"
   ]
  },
  {
   "cell_type": "markdown",
   "id": "20429f61",
   "metadata": {},
   "source": [
    "## Fill NaNs with Empty Strings"
   ]
  },
  {
   "cell_type": "markdown",
   "id": "09f348a5",
   "metadata": {},
   "source": [
    "The subreddits are predominantly on humour. For comedic effect, a majority of the posts are submitted as 'one-liners' in the title and have nothing in the 'selftext' field. As such, I will be filling the NaNs in the 'selftext' field with empty strings, and subequently combining it with the 'title' field. The new combined field will be named as '**content**'."
   ]
  },
  {
   "cell_type": "code",
   "execution_count": 29,
   "id": "c769828b",
   "metadata": {},
   "outputs": [],
   "source": [
    "problems['selftext'].fillna('', inplace = True)"
   ]
  },
  {
   "cell_type": "code",
   "execution_count": 30,
   "id": "6f8c7454",
   "metadata": {},
   "outputs": [],
   "source": [
    "success['selftext'].fillna('', inplace = True)"
   ]
  },
  {
   "cell_type": "markdown",
   "id": "412f8fd0",
   "metadata": {},
   "source": [
    "## Combine 'selftext' and 'title'"
   ]
  },
  {
   "cell_type": "code",
   "execution_count": 31,
   "id": "dc9b6a5f",
   "metadata": {},
   "outputs": [],
   "source": [
    "problems['content'] = problems['selftext'] + ' ' + problems['title']\n",
    "problems.drop(columns=['selftext','title'], inplace=True)"
   ]
  },
  {
   "cell_type": "code",
   "execution_count": 32,
   "id": "1e9975a2",
   "metadata": {},
   "outputs": [],
   "source": [
    "success['content'] = success['selftext'] + ' ' + success['title']\n",
    "success.drop(columns=['selftext','title'], inplace=True)"
   ]
  },
  {
   "cell_type": "markdown",
   "id": "0a38451c",
   "metadata": {},
   "source": [
    "## Replace \\n \\r"
   ]
  },
  {
   "cell_type": "markdown",
   "id": "96bef34f",
   "metadata": {},
   "source": [
    "In the datasets, there are linebreaks (\\n or \\r) which I will remove from the 'content' field."
   ]
  },
  {
   "cell_type": "code",
   "execution_count": 33,
   "id": "3ae11a74",
   "metadata": {},
   "outputs": [],
   "source": [
    "linebreak_regex = r'(\\r\\n|\\r|\\n)'"
   ]
  },
  {
   "cell_type": "code",
   "execution_count": 34,
   "id": "b65eaaa8",
   "metadata": {},
   "outputs": [],
   "source": [
    "problems['content'].replace(linebreak_regex, ' ', regex=True, inplace=True)"
   ]
  },
  {
   "cell_type": "code",
   "execution_count": 35,
   "id": "3a39dcb5",
   "metadata": {},
   "outputs": [],
   "source": [
    "success['content'].replace(linebreak_regex, ' ', regex=True, inplace=True)"
   ]
  },
  {
   "cell_type": "markdown",
   "id": "5f47179f",
   "metadata": {},
   "source": [
    "## Remove Multiple Whitespace"
   ]
  },
  {
   "cell_type": "code",
   "execution_count": 36,
   "id": "93004c0a",
   "metadata": {},
   "outputs": [],
   "source": [
    "multiple_whitespace_regex = r'([ ]{2,})'"
   ]
  },
  {
   "cell_type": "code",
   "execution_count": 37,
   "id": "268292c6",
   "metadata": {},
   "outputs": [],
   "source": [
    "problems['content'].replace(multiple_whitespace_regex, ' ',regex=True, inplace=True)"
   ]
  },
  {
   "cell_type": "code",
   "execution_count": 38,
   "id": "4ff1ea8c",
   "metadata": {},
   "outputs": [],
   "source": [
    "success['content'].replace(multiple_whitespace_regex, ' ',regex=True, inplace=True)"
   ]
  },
  {
   "cell_type": "markdown",
   "id": "263179d0",
   "metadata": {},
   "source": [
    "## Add 'word_count' column"
   ]
  },
  {
   "cell_type": "code",
   "execution_count": 39,
   "id": "e9465751",
   "metadata": {},
   "outputs": [],
   "source": [
    "problems['word_count'] = problems['content'].map(lambda x: len(x.split()))"
   ]
  },
  {
   "cell_type": "code",
   "execution_count": 40,
   "id": "43c52c75",
   "metadata": {},
   "outputs": [],
   "source": [
    "success['word_count'] = success['content'].map(lambda x: len(x.split()))"
   ]
  },
  {
   "cell_type": "markdown",
   "id": "2d12bde1",
   "metadata": {},
   "source": [
    "# EDA"
   ]
  },
  {
   "cell_type": "markdown",
   "id": "3ac486c5",
   "metadata": {},
   "source": [
    "## Stop Words"
   ]
  },
  {
   "cell_type": "markdown",
   "id": "8ef5d7d9",
   "metadata": {},
   "source": [
    "For this project, I will be using sklearn's ENGLISH_STOP_WORDS as the default stop words library. I have added the identifying words (e.g. problem, success) to this library. In total, there are 326 stop words."
   ]
  },
  {
   "cell_type": "code",
   "execution_count": 41,
   "id": "1c6057ab",
   "metadata": {},
   "outputs": [],
   "source": [
    "new_stop_words = ['success', 'problem', 'successes', 'problems', 'british', 've', 'wa', 'ha']\n",
    "total_stop_words = text.ENGLISH_STOP_WORDS.union(new_stop_words)"
   ]
  },
  {
   "cell_type": "code",
   "execution_count": 42,
   "id": "f419c64f",
   "metadata": {},
   "outputs": [
    {
     "data": {
      "text/plain": [
       "326"
      ]
     },
     "execution_count": 42,
     "metadata": {},
     "output_type": "execute_result"
    }
   ],
   "source": [
    "len(total_stop_words)"
   ]
  },
  {
   "cell_type": "markdown",
   "id": "9b531d93",
   "metadata": {},
   "source": [
    "## Popular Words - Uni/Bi/Tri-grams"
   ]
  },
  {
   "cell_type": "markdown",
   "id": "8303e336",
   "metadata": {},
   "source": [
    "For preliminary EDA, I will use sklearn's CountVectorizer to identify the most common words in these two datasets. I have split these into three parts: unigrams, bigrams and trigrams. I have summarised my observations at the end of the section."
   ]
  },
  {
   "cell_type": "markdown",
   "id": "4a5b6244",
   "metadata": {},
   "source": [
    "**Unigram**"
   ]
  },
  {
   "cell_type": "code",
   "execution_count": 43,
   "id": "ea33b196",
   "metadata": {},
   "outputs": [],
   "source": [
    "cvec_unigram = CountVectorizer(stop_words = total_stop_words)"
   ]
  },
  {
   "cell_type": "code",
   "execution_count": 44,
   "id": "388d3811",
   "metadata": {},
   "outputs": [],
   "source": [
    "#Unigram Problems\n",
    "cvec_problems_unigram = cvec_unigram.fit_transform(problems['content'])\n",
    "cvec_problems_unigram = pd.DataFrame(cvec_problems_unigram.todense(),columns=cvec_unigram.get_feature_names())\n",
    "\n",
    "#Unigram Success\n",
    "cvec_success_unigram = cvec_unigram.fit_transform(success['content'])\n",
    "cvec_success_unigram = pd.DataFrame(cvec_success_unigram.todense(),columns=cvec_unigram.get_feature_names())"
   ]
  },
  {
   "cell_type": "markdown",
   "id": "829684e1",
   "metadata": {},
   "source": [
    "**Bigram**"
   ]
  },
  {
   "cell_type": "code",
   "execution_count": 45,
   "id": "35ae9b37",
   "metadata": {},
   "outputs": [],
   "source": [
    "cvec_bigram = CountVectorizer(stop_words = total_stop_words, ngram_range=(2,2))"
   ]
  },
  {
   "cell_type": "code",
   "execution_count": 46,
   "id": "ab8ad03e",
   "metadata": {},
   "outputs": [],
   "source": [
    "#Bigram Problems\n",
    "cvec_problems_bigram = cvec_bigram.fit_transform(problems['content'])\n",
    "cvec_problems_bigram = pd.DataFrame(cvec_problems_bigram.todense(),columns=cvec_bigram.get_feature_names())\n",
    "\n",
    "#Bigram Success\n",
    "cvec_success_bigram = cvec_bigram.fit_transform(success['content'])\n",
    "cvec_success_bigram = pd.DataFrame(cvec_success_bigram.todense(),columns=cvec_bigram.get_feature_names())"
   ]
  },
  {
   "cell_type": "markdown",
   "id": "7c4f60ec",
   "metadata": {},
   "source": [
    "**Trigram**"
   ]
  },
  {
   "cell_type": "code",
   "execution_count": 47,
   "id": "2ad4f478",
   "metadata": {},
   "outputs": [],
   "source": [
    "cvec_trigram = CountVectorizer(stop_words = total_stop_words, ngram_range=(3,3))"
   ]
  },
  {
   "cell_type": "code",
   "execution_count": 48,
   "id": "1f5452c0",
   "metadata": {},
   "outputs": [],
   "source": [
    "#Trigram Problems\n",
    "cvec_problems_trigram = cvec_trigram.fit_transform(problems['content'])\n",
    "cvec_problems_trigram = pd.DataFrame(cvec_problems_trigram.todense(),columns=cvec_trigram.get_feature_names())\n",
    "\n",
    "#Trigram Success\n",
    "cvec_success_trigram = cvec_trigram.fit_transform(success['content'])\n",
    "cvec_success_trigram = pd.DataFrame(cvec_success_trigram.todense(),columns=cvec_trigram.get_feature_names())"
   ]
  },
  {
   "cell_type": "code",
   "execution_count": 49,
   "id": "a6f60148",
   "metadata": {},
   "outputs": [],
   "source": [
    "#Concat Uni/Bi/Tri-gram\n",
    "cvec_problems_unigram_top = cvec_problems_unigram.sum().sort_values(ascending=False).head(5)\n",
    "cvec_problems_trigram_top = cvec_problems_trigram.sum().sort_values(ascending=False).head(5)\n",
    "cvec_problems_bigram_top = cvec_problems_bigram.sum().sort_values(ascending=False).head(5)\n",
    "\n",
    "cvec_success_unigram_top = cvec_success_unigram.sum().sort_values(ascending=False).head(5)\n",
    "cvec_success_trigram_top = cvec_success_trigram.sum().sort_values(ascending=False).head(5)\n",
    "cvec_success_bigram_top = cvec_success_bigram.sum().sort_values(ascending=False).head(5)\n",
    "\n",
    "cvec_problems_combimed_top = pd.concat([cvec_problems_trigram_top,cvec_problems_bigram_top,cvec_problems_unigram_top])\n",
    "cvec_success_combimed_top = pd.concat([cvec_success_trigram_top,cvec_success_bigram_top,cvec_success_unigram_top])"
   ]
  },
  {
   "cell_type": "code",
   "execution_count": 50,
   "id": "8bf1d2ae",
   "metadata": {},
   "outputs": [
    {
     "data": {
      "image/png": "[encoded data removed]",
      "text/plain": [
       "<Figure size 1224x504 with 2 Axes>"
      ]
     },
     "metadata": {
      "needs_background": "light"
     },
     "output_type": "display_data"
    }
   ],
   "source": [
    "fig = plt.figure(figsize=(17,7))\n",
    "\n",
    "ax1 = fig.add_subplot(1,2,1)\n",
    "cvec_problems_combimed_top.plot(kind='barh', color='Darkblue')\n",
    "ax1.set_title('CVec Most Popular Uni/Bi/Tri-gram: British Problems')\n",
    "ax1.set_xlabel('Count')\n",
    "\n",
    "ax2 = fig.add_subplot(1,2,2)\n",
    "cvec_success_combimed_top .plot(kind='barh', color='deepskyblue')\n",
    "ax2.set_title('CVec Most Popular Uni/Bi/Tri-gram: British Success')\n",
    "ax2.set_xlabel('Count');\n",
    "\n",
    "plt.subplots_adjust(left=0.1, bottom=0.1, right=0.9, top=0.9, wspace=0.3, hspace=0.3)"
   ]
  },
  {
   "cell_type": "markdown",
   "id": "c24c1a6d",
   "metadata": {},
   "source": [
    "**Key Observations**\n",
    "- From the charts, we can see that the word '**just**' is the most commonly used word in both sub-reddits (appeared > 250 times in both sub-reddits). \n",
    "- Bigrams associated with '**don't know**' and '**feel like**' are also fairly common in both sub-reddits.\n",
    "- A couple of bigrams and trigrams in 'British Problems' are interesting - '**daddy long**', '**long legs**', '**daddy long legs**'. These are probably referring to crane flies or commonly known as 'daddy long legs' in UK\n",
    "- '**coming home**' in 'British Success' is probably related to the famous phrase 'it's coming home' which was especially popular in England's recent success in the Euros 2020 football competition\n"
   ]
  },
  {
   "cell_type": "markdown",
   "id": "2f8c9c38",
   "metadata": {},
   "source": [
    "## Length of Content"
   ]
  },
  {
   "cell_type": "markdown",
   "id": "6ed61e19",
   "metadata": {},
   "source": [
    "The distribution of post length in both sub-reddits are fairly similar - both have a right-skew and most posts are below 100 words. There are more posts in the >100 words category in 'British Success' compared to 'British Problems'."
   ]
  },
  {
   "cell_type": "code",
   "execution_count": 51,
   "id": "94343cea",
   "metadata": {},
   "outputs": [
    {
     "data": {
      "image/png": "[encoded data removed]",
      "text/plain": [
       "<Figure size 1224x504 with 2 Axes>"
      ]
     },
     "metadata": {
      "needs_background": "light"
     },
     "output_type": "display_data"
    }
   ],
   "source": [
    "fig = plt.figure(figsize=(17,7))\n",
    "\n",
    "ax1 = fig.add_subplot(1,2,1)\n",
    "sns.histplot(problems['word_count'], bins=40, ax=ax1, color='Darkblue')\n",
    "ax1.set_title('Length of Content: British Problems')\n",
    "ax1.set_xlabel('Word Count per Post')\n",
    "\n",
    "ax2 = fig.add_subplot(1,2,2)\n",
    "sns.histplot(success['word_count'], bins=40, ax=ax2, color='deepskyblue')\n",
    "ax2.set_title('Length of Content: British Success')\n",
    "ax2.set_xlabel('Word Count per Post');\n",
    "\n",
    "plt.subplots_adjust(left=0.1, bottom=0.1, right=0.9, top=0.9, wspace=0.3, hspace=0.3)"
   ]
  },
  {
   "cell_type": "markdown",
   "id": "b5f97bcd",
   "metadata": {},
   "source": [
    "## Sentiment Analysis"
   ]
  },
  {
   "cell_type": "markdown",
   "id": "ba8b2afb",
   "metadata": {},
   "source": [
    "I also NLTK's SentimentIntensityAnalyzer to perform some preliminary sentiment analysis of each posts in the sub-reddit.\n",
    "\n",
    "- Both sub-reddits have the most posts around 0 (neutral)\n",
    "- Although there are more posts in the 'positive' segment for 'British Success' than 'British Problems' (vice versa with 'negative' scores), the mean of sentiment score for 'British Success' is actually slightly below 0 (neutral)."
   ]
  },
  {
   "cell_type": "code",
   "execution_count": 52,
   "id": "2311cc49",
   "metadata": {},
   "outputs": [],
   "source": [
    "sent = SentimentIntensityAnalyzer()"
   ]
  },
  {
   "cell_type": "code",
   "execution_count": 53,
   "id": "b05ca2c3",
   "metadata": {},
   "outputs": [],
   "source": [
    "def sentiment(content):\n",
    "    '''Function to apply SentimentIntensityAnalyzer'''\n",
    "    return sent.polarity_scores(content)['compound']"
   ]
  },
  {
   "cell_type": "code",
   "execution_count": 54,
   "id": "db51d046",
   "metadata": {},
   "outputs": [],
   "source": [
    "#Sentiment Problems\n",
    "problems['sentiment'] = problems['content'].apply(sentiment)\n",
    "\n",
    "#Sentiment Success\n",
    "success['sentiment'] = success['content'].apply(sentiment)"
   ]
  },
  {
   "cell_type": "code",
   "execution_count": 55,
   "id": "5624cb80",
   "metadata": {},
   "outputs": [
    {
     "data": {
      "image/png": "[encoded data removed]",
      "text/plain": [
       "<Figure size 1080x504 with 2 Axes>"
      ]
     },
     "metadata": {
      "needs_background": "light"
     },
     "output_type": "display_data"
    }
   ],
   "source": [
    "fig = plt.figure(figsize=(15,7))\n",
    "\n",
    "ax1 = fig.add_subplot(1,2,1)\n",
    "sns.histplot(problems['sentiment'], bins=20, ax=ax1, color='Darkblue', alpha=0.9)\n",
    "ax1.axvline(problems['sentiment'].mean(), color='orange', label='Mean', linestyle='dashed', linewidth=0.7)\n",
    "ax1.set_title('Sentiment Analysis: British Problems')\n",
    "ax1.set_xlabel('Score (Compound)')\n",
    "ax1.legend(loc='upper left')\n",
    "\n",
    "ax2 = fig.add_subplot(1,2,2)\n",
    "sns.histplot(success['sentiment'], bins=20, ax=ax2, color='deepskyblue', alpha=0.9)\n",
    "ax2.axvline(problems['sentiment'].mean(), color='orange', label='Mean', linestyle='dashed', linewidth=0.7)\n",
    "ax2.set_title('Sentiment Analysis: British Success')\n",
    "ax2.set_xlabel('Score (Compound)')\n",
    "ax2.legend(loc='upper left');"
   ]
  },
  {
   "cell_type": "markdown",
   "id": "5bd52885",
   "metadata": {},
   "source": [
    "## Popularity of Sub-Reddits"
   ]
  },
  {
   "cell_type": "markdown",
   "id": "b8d74e93",
   "metadata": {},
   "source": [
    "- We sent requests to scrape 2000 posts from each sub-reddit. By checking the most recent and eariest posts from the scrape, we can see that 'British Problems' has the same number of posts within a shorter time period than 'British Success'. \n",
    "- This is likely due to 'British Problems' being the more popular sub-reddit with 680k members vs 187k members for 'British Success'"
   ]
  },
  {
   "cell_type": "code",
   "execution_count": 56,
   "id": "f06b53e1",
   "metadata": {},
   "outputs": [],
   "source": [
    "problems['created_utc'] = pd.to_datetime(problems['created_utc'], unit = 's')"
   ]
  },
  {
   "cell_type": "code",
   "execution_count": 57,
   "id": "0bd093f9",
   "metadata": {},
   "outputs": [],
   "source": [
    "success['created_utc'] = pd.to_datetime(success['created_utc'], unit = 's')"
   ]
  },
  {
   "cell_type": "code",
   "execution_count": 58,
   "id": "bb5fb588",
   "metadata": {},
   "outputs": [
    {
     "name": "stdout",
     "output_type": "stream",
     "text": [
      "Latest post in problems:  2021-09-24 01:07:03\n",
      "Earliest post in problems:  2021-09-09 11:19:10\n"
     ]
    }
   ],
   "source": [
    "print(f'Latest post in problems: ', problems['created_utc'].max())\n",
    "print(f'Earliest post in problems: ', problems['created_utc'].min())"
   ]
  },
  {
   "cell_type": "code",
   "execution_count": 59,
   "id": "3ffcadd2",
   "metadata": {},
   "outputs": [
    {
     "name": "stdout",
     "output_type": "stream",
     "text": [
      "Latest post in success:  2021-09-23 20:58:59\n",
      "Earliest post in success:  2021-04-24 09:00:48\n"
     ]
    }
   ],
   "source": [
    "print(f'Latest post in success: ', success['created_utc'].max())\n",
    "print(f'Earliest post in success: ', success['created_utc'].min())"
   ]
  },
  {
   "cell_type": "markdown",
   "id": "f0857aa5",
   "metadata": {},
   "source": [
    "## Authors"
   ]
  },
  {
   "cell_type": "markdown",
   "id": "9c6182e5",
   "metadata": {},
   "source": [
    "There are 94 same authors contributing in both sub-reddits. As a sense check, there are no exact same posts in the sub-reddits (would be an issue if a same post appears on both sub-reddit). I have also briefly read the posts of the top authors in each sub-reddit - their posts in the other sub-reddit are sufficiently distinct from their posts in the sub-reddit where they are the top posters. "
   ]
  },
  {
   "cell_type": "code",
   "execution_count": 60,
   "id": "faefb1f0",
   "metadata": {},
   "outputs": [],
   "source": [
    "#author comparison\n",
    "problems_author = set(problems['author'])\n",
    "success_author = set(success['author'])"
   ]
  },
  {
   "cell_type": "code",
   "execution_count": 61,
   "id": "1fa12ffd",
   "metadata": {},
   "outputs": [
    {
     "data": {
      "text/plain": [
       "94"
      ]
     },
     "execution_count": 61,
     "metadata": {},
     "output_type": "execute_result"
    }
   ],
   "source": [
    "len(problems_author.intersection(success_author))"
   ]
  },
  {
   "cell_type": "code",
   "execution_count": 62,
   "id": "a77e9116",
   "metadata": {},
   "outputs": [],
   "source": [
    "#content comparison\n",
    "problems_content = set(problems['content'])\n",
    "success_content = set(success['content'])"
   ]
  },
  {
   "cell_type": "code",
   "execution_count": 63,
   "id": "8958c290",
   "metadata": {},
   "outputs": [
    {
     "data": {
      "text/plain": [
       "0"
      ]
     },
     "execution_count": 63,
     "metadata": {},
     "output_type": "execute_result"
    }
   ],
   "source": [
    "len(problems_content.intersection(success_content))"
   ]
  },
  {
   "cell_type": "code",
   "execution_count": 64,
   "id": "bd32821d",
   "metadata": {},
   "outputs": [
    {
     "data": {
      "text/plain": [
       "Mosquitoenail          11\n",
       "Iloveshortbreadb        8\n",
       "No-Economist3226        7\n",
       "Christopher_2688        7\n",
       "MuchRatherBeNapping     6\n",
       "Name: author, dtype: int64"
      ]
     },
     "execution_count": 64,
     "metadata": {},
     "output_type": "execute_result"
    }
   ],
   "source": [
    "problems['author'].value_counts().head(5)"
   ]
  },
  {
   "cell_type": "code",
   "execution_count": 65,
   "id": "a22a4e12",
   "metadata": {},
   "outputs": [
    {
     "data": {
      "text/plain": [
       "kickypie               25\n",
       "yeah-go-on-then        22\n",
       "mynipnops              18\n",
       "Bikeboy76              15\n",
       "MuchRatherBeNapping    12\n",
       "Name: author, dtype: int64"
      ]
     },
     "execution_count": 65,
     "metadata": {},
     "output_type": "execute_result"
    }
   ],
   "source": [
    "success['author'].value_counts().head(5)"
   ]
  },
  {
   "cell_type": "markdown",
   "id": "b1a81aca",
   "metadata": {},
   "source": [
    "# Export Datasets"
   ]
  },
  {
   "cell_type": "markdown",
   "id": "ddb7670c",
   "metadata": {},
   "source": [
    "Final check on datasets before export"
   ]
  },
  {
   "cell_type": "code",
   "execution_count": 66,
   "id": "f496914b",
   "metadata": {},
   "outputs": [
    {
     "data": {
      "text/plain": [
       "(1241, 7)"
      ]
     },
     "execution_count": 66,
     "metadata": {},
     "output_type": "execute_result"
    }
   ],
   "source": [
    "problems.shape"
   ]
  },
  {
   "cell_type": "code",
   "execution_count": 67,
   "id": "c21692c0",
   "metadata": {},
   "outputs": [
    {
     "data": {
      "text/plain": [
       "(1451, 7)"
      ]
     },
     "execution_count": 67,
     "metadata": {},
     "output_type": "execute_result"
    }
   ],
   "source": [
    "success.shape"
   ]
  },
  {
   "cell_type": "markdown",
   "id": "92947372",
   "metadata": {},
   "source": [
    "Export Datasets to CSV"
   ]
  },
  {
   "cell_type": "code",
   "execution_count": 68,
   "id": "d230983e",
   "metadata": {},
   "outputs": [],
   "source": [
    "problems.to_csv(r'../datasets/clean_problems.csv', index=False)"
   ]
  },
  {
   "cell_type": "code",
   "execution_count": 69,
   "id": "c6b99d34",
   "metadata": {},
   "outputs": [],
   "source": [
    "success.to_csv(r'../datasets/clean_success.csv', index=False)"
   ]
  },
  {
   "cell_type": "markdown",
   "id": "fc9d6d18",
   "metadata": {},
   "source": [
    "We will proceed to modelling in the next section."
   ]
  }
 ],
 "metadata": {
  "kernelspec": {
   "display_name": "Python 3",
   "language": "python",
   "name": "python3"
  },
  "language_info": {
   "codemirror_mode": {
    "name": "ipython",
    "version": 3
   },
   "file_extension": ".py",
   "mimetype": "text/x-python",
   "name": "python",
   "nbconvert_exporter": "python",
   "pygments_lexer": "ipython3",
   "version": "3.8.8"
  },
  "toc": {
   "base_numbering": 1,
   "nav_menu": {},
   "number_sections": true,
   "sideBar": true,
   "skip_h1_title": false,
   "title_cell": "Table of Contents",
   "title_sidebar": "Contents",
   "toc_cell": false,
   "toc_position": {},
   "toc_section_display": true,
   "toc_window_display": true
  }
 },
 "nbformat": 4,
 "nbformat_minor": 5
}
