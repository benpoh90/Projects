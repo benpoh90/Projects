{
 "cells": [
  {
   "cell_type": "markdown",
   "metadata": {},
   "source": [
    "<img src=\"http://imgur.com/1ZcRyrc.png\" style=\"float: left; margin: 20px; height: 55px\">\n",
    "\n",
    "# Project 1: Standardized Test Analysis"
   ]
  },
  {
   "cell_type": "markdown",
   "metadata": {},
   "source": [
    "--- \n",
    "# Part 1\n",
    "\n",
    "Part 1 requires knowledge of basic Python.\n",
    "\n",
    "---"
   ]
  },
  {
   "cell_type": "markdown",
   "metadata": {},
   "source": [
    "## Problem Statement"
   ]
  },
  {
   "cell_type": "markdown",
   "metadata": {},
   "source": [
    "You are working for the state education board and your main responsibility is to increase SAT/ACT scores in your state. There are two main areas your stakeholders would like you to explore:\n",
    "1.  Your stakeholders have heard that increasing participation rates will result in a fall in SAT/ACT scores. They are concerned that if they increase participation rates (such as via mandatory test policies), the state will have lower mean test scores. Investigating trends in participation rates and test scores, please find out if this is true.\n",
    "\n",
    "2. Your stakeholders think that states with higher elementary and secondary school state budgets have higher SAT/ACT scores and increasing the state budgets in this area will improve test scores as schools have more funding to better focus on these tests. \n"
   ]
  },
  {
   "cell_type": "markdown",
   "metadata": {},
   "source": [
    "### Contents:\n",
    "- [Background](#Background)\n",
    "- [Data Import & Cleaning](#Data-Import-and-Cleaning)\n",
    "- [Exploratory Data Analysis](#Exploratory-Data-Analysis)\n",
    "- [Data Visualization](#Visualize-the-Data)\n",
    "- [Conclusions and Recommendations](#Conclusions-and-Recommendations)"
   ]
  },
  {
   "cell_type": "markdown",
   "metadata": {},
   "source": [
    "## Background"
   ]
  },
  {
   "cell_type": "markdown",
   "metadata": {},
   "source": [
    "The SAT and ACT are standardized tests that many colleges and universities in the United States require for their admissions process. This score is used along with other materials such as grade point average (GPA) and essay responses to determine whether or not a potential student will be accepted to the university.\n",
    "\n",
    "The SAT has two sections of the test: Evidence-Based Reading and Writing and Math ([*source*](https://www.princetonreview.com/college/sat-sections)). The ACT has 4 sections: English, Mathematics, Reading, and Science, with an additional optional writing section ([*source*](https://www.act.org/content/act/en/products-and-services/the-act/scores/understanding-your-scores.html)). They have different score ranges, which you can read more about on their websites or additional outside sources (a quick Google search will help you understand the scores for each test):\n",
    "* [SAT](https://collegereadiness.collegeboard.org/sat)\n",
    "* [ACT](https://www.act.org/content/act/en.html)\n",
    "\n",
    "SAT and ACT tests results at a state level have always been an area of interests for students, parents, and education providers. Some states with a large number of top colleges or high schools tend to have better testing scores compared to others. In addition, some researchers have suggested that states with larger education budgets have higher tests scores ([*source*](https://blog.prepscholar.com/average-sat-and-act-scores-by-stated-adjusted-for-participation-rate)). This will be something that I will explore further in this project.  "
   ]
  },
  {
   "cell_type": "markdown",
   "metadata": {},
   "source": [
    "### Choose your Data\n",
    "\n",
    "There are 10 datasets included in the [`data`](./data/) folder for this project. You are required to pick **at least two** of these to complete your analysis. Feel free to use more than two if you would like, or add other relevant datasets you find online.\n",
    "\n",
    "* [`act_2017.csv`](./data/act_2017.csv): 2017 ACT Scores by State\n",
    "* [`act_2018.csv`](./data/act_2018.csv): 2018 ACT Scores by State\n",
    "* [`sat_2017.csv`](./data/sat_2017.csv): 2017 SAT Scores by State\n",
    "* [`sat_2018.csv`](./data/sat_2018.csv): 2018 SAT Scores by State\n",
    "* [`budget_2016_2017.csv`](./data/budget_2016_2017.csv): 2016 and 2017 Elementary and Secondary Education Budget Per Capita by State"
   ]
  },
  {
   "cell_type": "markdown",
   "metadata": {},
   "source": [
    "### Outside Research"
   ]
  },
  {
   "cell_type": "markdown",
   "metadata": {},
   "source": [
    "For datasets, I have obtained the 2016 and 2017 Elementary School Budget Per Capita by State data from the Tax Policy Centre ([Source](https://www.taxpolicycenter.org/statistics/state-and-local-general-expenditures-capita)). All other data and arguments based on outside research are attributed in their revelant sections below."
   ]
  },
  {
   "cell_type": "markdown",
   "metadata": {},
   "source": [
    "### Coding Challenges\n",
    "\n",
    "1. Manually calculate mean:\n",
    "\n",
    "    Write a function that takes in values and returns the mean of the values. Create a list of numbers that you test on your function to check to make sure your function works!\n",
    "    \n",
    "    *Note*: Do not use any mean methods built-in to any Python libraries to do this! This should be done without importing any additional libraries."
   ]
  },
  {
   "cell_type": "code",
   "execution_count": 1,
   "metadata": {},
   "outputs": [],
   "source": [
    "def mean_calc(n):\n",
    "    '''Returns mean by dividing sum of all values with # of values in list'''\n",
    "    \n",
    "    return sum(n) / len(n)        "
   ]
  },
  {
   "cell_type": "code",
   "execution_count": 2,
   "metadata": {},
   "outputs": [],
   "source": [
    "list_test = [1,3,5,7,8]"
   ]
  },
  {
   "cell_type": "code",
   "execution_count": 3,
   "metadata": {},
   "outputs": [
    {
     "data": {
      "text/plain": [
       "4.8"
      ]
     },
     "execution_count": 3,
     "metadata": {},
     "output_type": "execute_result"
    }
   ],
   "source": [
    "mean_calc(list_test)"
   ]
  },
  {
   "cell_type": "markdown",
   "metadata": {},
   "source": [
    "2. Manually calculate standard deviation:\n",
    "\n",
    "    The formula for standard deviation is below:\n",
    "\n",
    "    $$\\sigma = \\sqrt{\\frac{1}{n}\\sum_{i=1}^n(x_i - \\mu)^2}$$\n",
    "\n",
    "    Where $x_i$ represents each value in the dataset, $\\mu$ represents the mean of all values in the dataset and $n$ represents the number of values in the dataset.\n",
    "\n",
    "    Write a function that takes in values and returns the standard deviation of the values using the formula above. Hint: use the function you wrote above to calculate the mean! Use the list of numbers you created above to test on your function.\n",
    "    \n",
    "    *Note*: Do not use any standard deviation methods built-in to any Python libraries to do this! This should be done without importing any additional libraries."
   ]
  },
  {
   "cell_type": "code",
   "execution_count": 4,
   "metadata": {},
   "outputs": [],
   "source": [
    "def std_calc(m):\n",
    "    '''Returns stdev by finding sum of squares to compute variance'''\n",
    "    \n",
    "    var_num = 0\n",
    "    for num in m:\n",
    "        var_num += ((num - mean_calc(m))**2) #sum of squaures (sum of all squared deviations)\n",
    "    return (var_num / len(m))**0.5 #sqrt of variance\n",
    "        "
   ]
  },
  {
   "cell_type": "code",
   "execution_count": 5,
   "metadata": {},
   "outputs": [
    {
     "data": {
      "text/plain": [
       "2.5612496949731396"
      ]
     },
     "execution_count": 5,
     "metadata": {},
     "output_type": "execute_result"
    }
   ],
   "source": [
    "std_calc(list_test)"
   ]
  },
  {
   "cell_type": "markdown",
   "metadata": {},
   "source": [
    "3. Data cleaning function:\n",
    "    \n",
    "    Write a function that takes in a string that is a number and a percent symbol (ex. '50%', '30.5%', etc.) and converts this to a float that is the decimal approximation of the percent. For example, inputting '50%' in your function should return 0.5, '30.5%' should return 0.305, etc. Make sure to test your function to make sure it works!\n",
    "\n",
    "You will use these functions later on in the project!"
   ]
  },
  {
   "cell_type": "code",
   "execution_count": 6,
   "metadata": {},
   "outputs": [],
   "source": [
    "def clean_percent(p):\n",
    "    '''Returns % from string (arg) to float'''\n",
    "    \n",
    "    if p[-1] != '%':\n",
    "        return \"This is not a % value\" #kicks out string value without % \n",
    "    else:\n",
    "        return float(p.strip('%'))/100 "
   ]
  },
  {
   "cell_type": "code",
   "execution_count": 7,
   "metadata": {},
   "outputs": [
    {
     "data": {
      "text/plain": [
       "0.09563124"
      ]
     },
     "execution_count": 7,
     "metadata": {},
     "output_type": "execute_result"
    }
   ],
   "source": [
    "clean_percent('9.563124%')"
   ]
  },
  {
   "cell_type": "markdown",
   "metadata": {},
   "source": [
    "--- \n",
    "# Part 2\n",
    "\n",
    "Part 2 requires knowledge of Pandas, EDA, data cleaning, and data visualization.\n",
    "\n",
    "---"
   ]
  },
  {
   "cell_type": "markdown",
   "metadata": {},
   "source": [
    "*All libraries used should be added here*"
   ]
  },
  {
   "cell_type": "code",
   "execution_count": 8,
   "metadata": {},
   "outputs": [],
   "source": [
    "# Imports:\n",
    "import pandas as pd\n",
    "import numpy as np\n",
    "import seaborn as sns\n",
    "import matplotlib.pyplot as plt"
   ]
  },
  {
   "cell_type": "markdown",
   "metadata": {},
   "source": [
    "## Data Import and Cleaning"
   ]
  },
  {
   "cell_type": "markdown",
   "metadata": {},
   "source": [
    "### Data Import & Cleaning\n",
    "\n",
    "Import the datasets that you selected for this project and go through the following steps at a minimum. You are welcome to do further cleaning as you feel necessary:\n",
    "1. Display the data: print the first 5 rows of each dataframe to your Jupyter notebook.\n",
    "2. Check for missing values.\n",
    "3. Check for any obvious issues with the observations (keep in mind the minimum & maximum possible values for each test/subtest).\n",
    "4. Fix any errors you identified in steps 2-3.\n",
    "5. Display the data types of each feature.\n",
    "6. Fix any incorrect data types found in step 5.\n",
    "    - Fix any individual values preventing other columns from being the appropriate type.\n",
    "    - If your dataset has a column of percents (ex. '50%', '30.5%', etc.), use the function you wrote in Part 1 (coding challenges, number 3) to convert this to floats! *Hint*: use `.map()` or `.apply()`.\n",
    "7. Rename Columns.\n",
    "    - Column names should be all lowercase.\n",
    "    - Column names should not contain spaces (underscores will suffice--this allows for using the `df.column_name` method to access columns in addition to `df['column_name']`).\n",
    "    - Column names should be unique and informative.\n",
    "8. Drop unnecessary rows (if needed).\n",
    "9. Merge dataframes that can be merged.\n",
    "10. Perform any additional cleaning that you feel is necessary.\n",
    "11. Save your cleaned and merged dataframes as csv files."
   ]
  },
  {
   "cell_type": "markdown",
   "metadata": {},
   "source": [
    "<font color='blue'>**1. Import datasets and display first 5 rows of each dataset**</font> "
   ]
  },
  {
   "cell_type": "code",
   "execution_count": 9,
   "metadata": {},
   "outputs": [],
   "source": [
    "sat_2017 = pd.read_csv(r'../data/sat_2017.csv')\n",
    "act_2017 = pd.read_csv(r'../data/act_2017.csv')\n",
    "sat_2018 = pd.read_csv(r'../data/sat_2018.csv')\n",
    "act_2018 = pd.read_csv(r'../data/act_2018.csv')"
   ]
  },
  {
   "cell_type": "code",
   "execution_count": 10,
   "metadata": {},
   "outputs": [
    {
     "data": {
      "text/html": [
       "<div>\n",
       "<style scoped>\n",
       "    .dataframe tbody tr th:only-of-type {\n",
       "        vertical-align: middle;\n",
       "    }\n",
       "\n",
       "    .dataframe tbody tr th {\n",
       "        vertical-align: top;\n",
       "    }\n",
       "\n",
       "    .dataframe thead th {\n",
       "        text-align: right;\n",
       "    }\n",
       "</style>\n",
       "<table border=\"1\" class=\"dataframe\">\n",
       "  <thead>\n",
       "    <tr style=\"text-align: right;\">\n",
       "      <th></th>\n",
       "      <th>State</th>\n",
       "      <th>Participation</th>\n",
       "      <th>Evidence-Based Reading and Writing</th>\n",
       "      <th>Math</th>\n",
       "      <th>Total</th>\n",
       "    </tr>\n",
       "  </thead>\n",
       "  <tbody>\n",
       "    <tr>\n",
       "      <th>0</th>\n",
       "      <td>Alabama</td>\n",
       "      <td>5%</td>\n",
       "      <td>593</td>\n",
       "      <td>572</td>\n",
       "      <td>1165</td>\n",
       "    </tr>\n",
       "    <tr>\n",
       "      <th>1</th>\n",
       "      <td>Alaska</td>\n",
       "      <td>38%</td>\n",
       "      <td>547</td>\n",
       "      <td>533</td>\n",
       "      <td>1080</td>\n",
       "    </tr>\n",
       "    <tr>\n",
       "      <th>2</th>\n",
       "      <td>Arizona</td>\n",
       "      <td>30%</td>\n",
       "      <td>563</td>\n",
       "      <td>553</td>\n",
       "      <td>1116</td>\n",
       "    </tr>\n",
       "    <tr>\n",
       "      <th>3</th>\n",
       "      <td>Arkansas</td>\n",
       "      <td>3%</td>\n",
       "      <td>614</td>\n",
       "      <td>594</td>\n",
       "      <td>1208</td>\n",
       "    </tr>\n",
       "    <tr>\n",
       "      <th>4</th>\n",
       "      <td>California</td>\n",
       "      <td>53%</td>\n",
       "      <td>531</td>\n",
       "      <td>524</td>\n",
       "      <td>1055</td>\n",
       "    </tr>\n",
       "  </tbody>\n",
       "</table>\n",
       "</div>"
      ],
      "text/plain": [
       "        State Participation  Evidence-Based Reading and Writing  Math  Total\n",
       "0     Alabama            5%                                 593   572   1165\n",
       "1      Alaska           38%                                 547   533   1080\n",
       "2     Arizona           30%                                 563   553   1116\n",
       "3    Arkansas            3%                                 614   594   1208\n",
       "4  California           53%                                 531   524   1055"
      ]
     },
     "execution_count": 10,
     "metadata": {},
     "output_type": "execute_result"
    }
   ],
   "source": [
    "sat_2017.head(5)"
   ]
  },
  {
   "cell_type": "code",
   "execution_count": 11,
   "metadata": {},
   "outputs": [
    {
     "data": {
      "text/html": [
       "<div>\n",
       "<style scoped>\n",
       "    .dataframe tbody tr th:only-of-type {\n",
       "        vertical-align: middle;\n",
       "    }\n",
       "\n",
       "    .dataframe tbody tr th {\n",
       "        vertical-align: top;\n",
       "    }\n",
       "\n",
       "    .dataframe thead th {\n",
       "        text-align: right;\n",
       "    }\n",
       "</style>\n",
       "<table border=\"1\" class=\"dataframe\">\n",
       "  <thead>\n",
       "    <tr style=\"text-align: right;\">\n",
       "      <th></th>\n",
       "      <th>State</th>\n",
       "      <th>Participation</th>\n",
       "      <th>Evidence-Based Reading and Writing</th>\n",
       "      <th>Math</th>\n",
       "      <th>Total</th>\n",
       "    </tr>\n",
       "  </thead>\n",
       "  <tbody>\n",
       "    <tr>\n",
       "      <th>0</th>\n",
       "      <td>Alabama</td>\n",
       "      <td>6%</td>\n",
       "      <td>595</td>\n",
       "      <td>571</td>\n",
       "      <td>1166</td>\n",
       "    </tr>\n",
       "    <tr>\n",
       "      <th>1</th>\n",
       "      <td>Alaska</td>\n",
       "      <td>43%</td>\n",
       "      <td>562</td>\n",
       "      <td>544</td>\n",
       "      <td>1106</td>\n",
       "    </tr>\n",
       "    <tr>\n",
       "      <th>2</th>\n",
       "      <td>Arizona</td>\n",
       "      <td>29%</td>\n",
       "      <td>577</td>\n",
       "      <td>572</td>\n",
       "      <td>1149</td>\n",
       "    </tr>\n",
       "    <tr>\n",
       "      <th>3</th>\n",
       "      <td>Arkansas</td>\n",
       "      <td>5%</td>\n",
       "      <td>592</td>\n",
       "      <td>576</td>\n",
       "      <td>1169</td>\n",
       "    </tr>\n",
       "    <tr>\n",
       "      <th>4</th>\n",
       "      <td>California</td>\n",
       "      <td>60%</td>\n",
       "      <td>540</td>\n",
       "      <td>536</td>\n",
       "      <td>1076</td>\n",
       "    </tr>\n",
       "  </tbody>\n",
       "</table>\n",
       "</div>"
      ],
      "text/plain": [
       "        State Participation  Evidence-Based Reading and Writing  Math  Total\n",
       "0     Alabama            6%                                 595   571   1166\n",
       "1      Alaska           43%                                 562   544   1106\n",
       "2     Arizona           29%                                 577   572   1149\n",
       "3    Arkansas            5%                                 592   576   1169\n",
       "4  California           60%                                 540   536   1076"
      ]
     },
     "execution_count": 11,
     "metadata": {},
     "output_type": "execute_result"
    }
   ],
   "source": [
    "sat_2018.head(5)"
   ]
  },
  {
   "cell_type": "code",
   "execution_count": 12,
   "metadata": {},
   "outputs": [
    {
     "data": {
      "text/html": [
       "<div>\n",
       "<style scoped>\n",
       "    .dataframe tbody tr th:only-of-type {\n",
       "        vertical-align: middle;\n",
       "    }\n",
       "\n",
       "    .dataframe tbody tr th {\n",
       "        vertical-align: top;\n",
       "    }\n",
       "\n",
       "    .dataframe thead th {\n",
       "        text-align: right;\n",
       "    }\n",
       "</style>\n",
       "<table border=\"1\" class=\"dataframe\">\n",
       "  <thead>\n",
       "    <tr style=\"text-align: right;\">\n",
       "      <th></th>\n",
       "      <th>State</th>\n",
       "      <th>Participation</th>\n",
       "      <th>English</th>\n",
       "      <th>Math</th>\n",
       "      <th>Reading</th>\n",
       "      <th>Science</th>\n",
       "      <th>Composite</th>\n",
       "    </tr>\n",
       "  </thead>\n",
       "  <tbody>\n",
       "    <tr>\n",
       "      <th>0</th>\n",
       "      <td>National</td>\n",
       "      <td>60%</td>\n",
       "      <td>20.3</td>\n",
       "      <td>20.7</td>\n",
       "      <td>21.4</td>\n",
       "      <td>21.0</td>\n",
       "      <td>21.0</td>\n",
       "    </tr>\n",
       "    <tr>\n",
       "      <th>1</th>\n",
       "      <td>Alabama</td>\n",
       "      <td>100%</td>\n",
       "      <td>18.9</td>\n",
       "      <td>18.4</td>\n",
       "      <td>19.7</td>\n",
       "      <td>19.4</td>\n",
       "      <td>19.2</td>\n",
       "    </tr>\n",
       "    <tr>\n",
       "      <th>2</th>\n",
       "      <td>Alaska</td>\n",
       "      <td>65%</td>\n",
       "      <td>18.7</td>\n",
       "      <td>19.8</td>\n",
       "      <td>20.4</td>\n",
       "      <td>19.9</td>\n",
       "      <td>19.8</td>\n",
       "    </tr>\n",
       "    <tr>\n",
       "      <th>3</th>\n",
       "      <td>Arizona</td>\n",
       "      <td>62%</td>\n",
       "      <td>18.6</td>\n",
       "      <td>19.8</td>\n",
       "      <td>20.1</td>\n",
       "      <td>19.8</td>\n",
       "      <td>19.7</td>\n",
       "    </tr>\n",
       "    <tr>\n",
       "      <th>4</th>\n",
       "      <td>Arkansas</td>\n",
       "      <td>100%</td>\n",
       "      <td>18.9</td>\n",
       "      <td>19.0</td>\n",
       "      <td>19.7</td>\n",
       "      <td>19.5</td>\n",
       "      <td>19.4</td>\n",
       "    </tr>\n",
       "  </tbody>\n",
       "</table>\n",
       "</div>"
      ],
      "text/plain": [
       "      State Participation  English  Math  Reading  Science Composite\n",
       "0  National           60%     20.3  20.7     21.4     21.0      21.0\n",
       "1   Alabama          100%     18.9  18.4     19.7     19.4      19.2\n",
       "2    Alaska           65%     18.7  19.8     20.4     19.9      19.8\n",
       "3   Arizona           62%     18.6  19.8     20.1     19.8      19.7\n",
       "4  Arkansas          100%     18.9  19.0     19.7     19.5      19.4"
      ]
     },
     "execution_count": 12,
     "metadata": {},
     "output_type": "execute_result"
    }
   ],
   "source": [
    "act_2017.head(5)"
   ]
  },
  {
   "cell_type": "code",
   "execution_count": 13,
   "metadata": {},
   "outputs": [
    {
     "data": {
      "text/html": [
       "<div>\n",
       "<style scoped>\n",
       "    .dataframe tbody tr th:only-of-type {\n",
       "        vertical-align: middle;\n",
       "    }\n",
       "\n",
       "    .dataframe tbody tr th {\n",
       "        vertical-align: top;\n",
       "    }\n",
       "\n",
       "    .dataframe thead th {\n",
       "        text-align: right;\n",
       "    }\n",
       "</style>\n",
       "<table border=\"1\" class=\"dataframe\">\n",
       "  <thead>\n",
       "    <tr style=\"text-align: right;\">\n",
       "      <th></th>\n",
       "      <th>State</th>\n",
       "      <th>Participation</th>\n",
       "      <th>Composite</th>\n",
       "    </tr>\n",
       "  </thead>\n",
       "  <tbody>\n",
       "    <tr>\n",
       "      <th>0</th>\n",
       "      <td>Alabama</td>\n",
       "      <td>100%</td>\n",
       "      <td>19.1</td>\n",
       "    </tr>\n",
       "    <tr>\n",
       "      <th>1</th>\n",
       "      <td>Alaska</td>\n",
       "      <td>33%</td>\n",
       "      <td>20.8</td>\n",
       "    </tr>\n",
       "    <tr>\n",
       "      <th>2</th>\n",
       "      <td>Arizona</td>\n",
       "      <td>66%</td>\n",
       "      <td>19.2</td>\n",
       "    </tr>\n",
       "    <tr>\n",
       "      <th>3</th>\n",
       "      <td>Arkansas</td>\n",
       "      <td>100%</td>\n",
       "      <td>19.4</td>\n",
       "    </tr>\n",
       "    <tr>\n",
       "      <th>4</th>\n",
       "      <td>California</td>\n",
       "      <td>27%</td>\n",
       "      <td>22.7</td>\n",
       "    </tr>\n",
       "  </tbody>\n",
       "</table>\n",
       "</div>"
      ],
      "text/plain": [
       "        State Participation  Composite\n",
       "0     Alabama          100%       19.1\n",
       "1      Alaska           33%       20.8\n",
       "2     Arizona           66%       19.2\n",
       "3    Arkansas          100%       19.4\n",
       "4  California           27%       22.7"
      ]
     },
     "execution_count": 13,
     "metadata": {},
     "output_type": "execute_result"
    }
   ],
   "source": [
    "act_2018.head(5)"
   ]
  },
  {
   "cell_type": "markdown",
   "metadata": {},
   "source": [
    "<font color='blue'>**2. Check for missing values**</font>"
   ]
  },
  {
   "cell_type": "code",
   "execution_count": 14,
   "metadata": {},
   "outputs": [
    {
     "data": {
      "text/plain": [
       "State                                 0\n",
       "Participation                         0\n",
       "Evidence-Based Reading and Writing    0\n",
       "Math                                  0\n",
       "Total                                 0\n",
       "dtype: int64"
      ]
     },
     "execution_count": 14,
     "metadata": {},
     "output_type": "execute_result"
    }
   ],
   "source": [
    "#Missing values check (sat_2017.csv)\n",
    "\n",
    "sat_2017.isnull().sum()"
   ]
  },
  {
   "cell_type": "code",
   "execution_count": 15,
   "metadata": {},
   "outputs": [
    {
     "data": {
      "text/plain": [
       "State                                 0\n",
       "Participation                         0\n",
       "Evidence-Based Reading and Writing    0\n",
       "Math                                  0\n",
       "Total                                 0\n",
       "dtype: int64"
      ]
     },
     "execution_count": 15,
     "metadata": {},
     "output_type": "execute_result"
    }
   ],
   "source": [
    "#Missing values check (sat_2018.csv)\n",
    "\n",
    "sat_2018.isnull().sum()"
   ]
  },
  {
   "cell_type": "code",
   "execution_count": 16,
   "metadata": {},
   "outputs": [
    {
     "data": {
      "text/plain": [
       "State            0\n",
       "Participation    0\n",
       "English          0\n",
       "Math             0\n",
       "Reading          0\n",
       "Science          0\n",
       "Composite        0\n",
       "dtype: int64"
      ]
     },
     "execution_count": 16,
     "metadata": {},
     "output_type": "execute_result"
    }
   ],
   "source": [
    "#Missing values check (act_2017.csv)\n",
    "\n",
    "act_2017.isnull().sum()"
   ]
  },
  {
   "cell_type": "code",
   "execution_count": 17,
   "metadata": {},
   "outputs": [
    {
     "data": {
      "text/plain": [
       "State            0\n",
       "Participation    0\n",
       "Composite        0\n",
       "dtype: int64"
      ]
     },
     "execution_count": 17,
     "metadata": {},
     "output_type": "execute_result"
    }
   ],
   "source": [
    "#Missing values check (act_2018.csv)\n",
    "\n",
    "act_2018.isnull().sum()"
   ]
  },
  {
   "cell_type": "markdown",
   "metadata": {},
   "source": [
    "<font color='darkblue'>**3. & 4. Obvious issues and fixes for each dataset**</font>"
   ]
  },
  {
   "cell_type": "markdown",
   "metadata": {},
   "source": [
    "**Summary of issues with the dataset:**\n",
    "- Minimum score of 52 in 'Math' in SAT 2017 - SAT scores cannot be lower than 200\n",
    "- There is a % value in the 'Composite' value for Wyoming in ACT 2017\n",
    "- Minimum score of 2.3 in 'Science' in ACT 2017 - while possible (min per subj for ACT = 1), this is an outlier\n",
    "- Maine is duplicated in ACT 2018\n",
    "- 'District of Columbia' has different capitalisation in ACT 2017 vs ACT 2018"
   ]
  },
  {
   "cell_type": "markdown",
   "metadata": {},
   "source": [
    "***Minimum score of 52 in 'Math' in SAT 2017***\n",
    "\n",
    "SAT scores per section cannot be lower than 200. Checking the data on the internet indicates that this is a typo and should be 524 for Maryland. ([Source](https://blog.collegevine.com/here-are-the-average-sat-scores-by-state/))\n",
    "\n",
    "\n",
    "A boxplot highlights an outlier in the 'Math' column. To identify the outlier, the function `sat_total_check` is applied.\n",
    "\n",
    "**To note**: The function `sat_total_check` calculates the difference between 'Total' and the sum of 'EBRW' + 'Math' sections. However, due to possible rounding differences (mostly +/- 1 pts) in the 'Total' data, I have applied a tolerance of +/- 3pts in the `sat_total_check` function."
   ]
  },
  {
   "cell_type": "code",
   "execution_count": 18,
   "metadata": {},
   "outputs": [
    {
     "data": {
      "image/png": "[encoded data removed]",
      "text/plain": [
       "<Figure size 432x288 with 1 Axes>"
      ]
     },
     "metadata": {
      "needs_background": "light"
     },
     "output_type": "display_data"
    }
   ],
   "source": [
    "sat_2017.plot.box();"
   ]
  },
  {
   "cell_type": "code",
   "execution_count": 19,
   "metadata": {},
   "outputs": [],
   "source": [
    "def sat_total_check(row):\n",
    "    '''Function to quickly pull out rows if EBRW and Math > +-3 pts of Total'''\n",
    "    # +-3 pts tolerance used because there are slight differences due to rounding\n",
    "    \n",
    "    row['Error'] = abs(row['Total'] - row['Evidence-Based Reading and Writing'] - row['Math']) > 3\n",
    "    return row"
   ]
  },
  {
   "cell_type": "code",
   "execution_count": 24,
   "metadata": {},
   "outputs": [
    {
     "data": {
      "text/html": [
       "<div>\n",
       "<style scoped>\n",
       "    .dataframe tbody tr th:only-of-type {\n",
       "        vertical-align: middle;\n",
       "    }\n",
       "\n",
       "    .dataframe tbody tr th {\n",
       "        vertical-align: top;\n",
       "    }\n",
       "\n",
       "    .dataframe thead th {\n",
       "        text-align: right;\n",
       "    }\n",
       "</style>\n",
       "<table border=\"1\" class=\"dataframe\">\n",
       "  <thead>\n",
       "    <tr style=\"text-align: right;\">\n",
       "      <th></th>\n",
       "      <th>State</th>\n",
       "      <th>Participation</th>\n",
       "      <th>Evidence-Based Reading and Writing</th>\n",
       "      <th>Math</th>\n",
       "      <th>Total</th>\n",
       "    </tr>\n",
       "  </thead>\n",
       "  <tbody>\n",
       "    <tr>\n",
       "      <th>20</th>\n",
       "      <td>Maryland</td>\n",
       "      <td>69%</td>\n",
       "      <td>536</td>\n",
       "      <td>52</td>\n",
       "      <td>1060</td>\n",
       "    </tr>\n",
       "  </tbody>\n",
       "</table>\n",
       "</div>"
      ],
      "text/plain": [
       "       State Participation  Evidence-Based Reading and Writing  Math  Total\n",
       "20  Maryland           69%                                 536    52   1060"
      ]
     },
     "execution_count": 24,
     "metadata": {},
     "output_type": "execute_result"
    }
   ],
   "source": [
    "check_sat = sat_2017.apply(sat_total_check, axis=1)\n",
    "sat_2017.loc[check_sat['Error']==True,:]"
   ]
  },
  {
   "cell_type": "code",
   "execution_count": 25,
   "metadata": {},
   "outputs": [],
   "source": [
    "#Fix 52 to 524 as per internet source\n",
    "\n",
    "sat_2017.loc[sat_2017['State'] == 'Maryland', ['Math']] = 524"
   ]
  },
  {
   "cell_type": "markdown",
   "metadata": {},
   "source": [
    "***% string value in 'Composite' section and 2.3 min score in 'Science' in ACT 2017***\n",
    "\n",
    "Two issues are identified in the ACT 2017 dataset and will be fixed concurrently.\n",
    "\n",
    "\n",
    "Performing the same boxplot visualisation as per the previous error, two things are noted:\n",
    "1. The 'Composite' section is missing - data are strings, 'x' in 20.2 score for Wyoming\n",
    "2. Outlier in the 'Science' section - 2.3 min score for Maryland"
   ]
  },
  {
   "cell_type": "code",
   "execution_count": 26,
   "metadata": {},
   "outputs": [
    {
     "data": {
      "image/png": "[encoded data removed]",
      "text/plain": [
       "<Figure size 432x288 with 1 Axes>"
      ]
     },
     "metadata": {
      "needs_background": "light"
     },
     "output_type": "display_data"
    }
   ],
   "source": [
    "act_2017.plot.box();"
   ]
  },
  {
   "cell_type": "code",
   "execution_count": 27,
   "metadata": {},
   "outputs": [
    {
     "data": {
      "text/html": [
       "<div>\n",
       "<style scoped>\n",
       "    .dataframe tbody tr th:only-of-type {\n",
       "        vertical-align: middle;\n",
       "    }\n",
       "\n",
       "    .dataframe tbody tr th {\n",
       "        vertical-align: top;\n",
       "    }\n",
       "\n",
       "    .dataframe thead th {\n",
       "        text-align: right;\n",
       "    }\n",
       "</style>\n",
       "<table border=\"1\" class=\"dataframe\">\n",
       "  <thead>\n",
       "    <tr style=\"text-align: right;\">\n",
       "      <th></th>\n",
       "      <th>English</th>\n",
       "      <th>Math</th>\n",
       "      <th>Reading</th>\n",
       "      <th>Science</th>\n",
       "    </tr>\n",
       "  </thead>\n",
       "  <tbody>\n",
       "    <tr>\n",
       "      <th>count</th>\n",
       "      <td>52.000000</td>\n",
       "      <td>52.000000</td>\n",
       "      <td>52.000000</td>\n",
       "      <td>52.000000</td>\n",
       "    </tr>\n",
       "    <tr>\n",
       "      <th>mean</th>\n",
       "      <td>20.919231</td>\n",
       "      <td>21.173077</td>\n",
       "      <td>22.001923</td>\n",
       "      <td>21.040385</td>\n",
       "    </tr>\n",
       "    <tr>\n",
       "      <th>std</th>\n",
       "      <td>2.332132</td>\n",
       "      <td>1.963602</td>\n",
       "      <td>2.048672</td>\n",
       "      <td>3.151113</td>\n",
       "    </tr>\n",
       "    <tr>\n",
       "      <th>min</th>\n",
       "      <td>16.300000</td>\n",
       "      <td>18.000000</td>\n",
       "      <td>18.100000</td>\n",
       "      <td>2.300000</td>\n",
       "    </tr>\n",
       "    <tr>\n",
       "      <th>25%</th>\n",
       "      <td>19.000000</td>\n",
       "      <td>19.400000</td>\n",
       "      <td>20.475000</td>\n",
       "      <td>19.900000</td>\n",
       "    </tr>\n",
       "    <tr>\n",
       "      <th>50%</th>\n",
       "      <td>20.550000</td>\n",
       "      <td>20.900000</td>\n",
       "      <td>21.700000</td>\n",
       "      <td>21.150000</td>\n",
       "    </tr>\n",
       "    <tr>\n",
       "      <th>75%</th>\n",
       "      <td>23.300000</td>\n",
       "      <td>23.100000</td>\n",
       "      <td>24.125000</td>\n",
       "      <td>22.525000</td>\n",
       "    </tr>\n",
       "    <tr>\n",
       "      <th>max</th>\n",
       "      <td>25.500000</td>\n",
       "      <td>25.300000</td>\n",
       "      <td>26.000000</td>\n",
       "      <td>24.900000</td>\n",
       "    </tr>\n",
       "  </tbody>\n",
       "</table>\n",
       "</div>"
      ],
      "text/plain": [
       "         English       Math    Reading    Science\n",
       "count  52.000000  52.000000  52.000000  52.000000\n",
       "mean   20.919231  21.173077  22.001923  21.040385\n",
       "std     2.332132   1.963602   2.048672   3.151113\n",
       "min    16.300000  18.000000  18.100000   2.300000\n",
       "25%    19.000000  19.400000  20.475000  19.900000\n",
       "50%    20.550000  20.900000  21.700000  21.150000\n",
       "75%    23.300000  23.100000  24.125000  22.525000\n",
       "max    25.500000  25.300000  26.000000  24.900000"
      ]
     },
     "execution_count": 27,
     "metadata": {},
     "output_type": "execute_result"
    }
   ],
   "source": [
    "act_2017.describe()"
   ]
  },
  {
   "cell_type": "markdown",
   "metadata": {},
   "source": [
    "Looking at the datatype with `.info()`, 'Composite' data are actually strings. Using a `for` loop, the error is on index 51 i.e. Wyoming. \n",
    "\n",
    "Checking the data on the internet indicates that this is a typo and should be 20.2 for Wyoming. [Source](https://www.act.org/content/dam/act/unsecured/documents/cccr2017/ACT_2017-Average_Scores_by_State.pdf)\n",
    "\n"
   ]
  },
  {
   "cell_type": "code",
   "execution_count": 28,
   "metadata": {},
   "outputs": [
    {
     "name": "stdout",
     "output_type": "stream",
     "text": [
      "Error at index 51: '20.2x'\n"
     ]
    }
   ],
   "source": [
    "for i, value in enumerate(act_2017['Composite']):\n",
    "   try:\n",
    "      float(value)\n",
    "   except:\n",
    "      print('Error at index {}: {!r}'.format(i, value)) "
   ]
  },
  {
   "cell_type": "code",
   "execution_count": 29,
   "metadata": {},
   "outputs": [
    {
     "data": {
      "text/plain": [
       "State            Wyoming\n",
       "Participation       100%\n",
       "English             19.4\n",
       "Math                19.8\n",
       "Reading             20.8\n",
       "Science             20.6\n",
       "Composite          20.2x\n",
       "Name: 51, dtype: object"
      ]
     },
     "execution_count": 29,
     "metadata": {},
     "output_type": "execute_result"
    }
   ],
   "source": [
    "act_2017.iloc[51,:]  "
   ]
  },
  {
   "cell_type": "code",
   "execution_count": 30,
   "metadata": {},
   "outputs": [],
   "source": [
    "#Fix for error\n",
    "\n",
    "act_2017.loc[act_2017['State'] == 'Wyoming', ['Composite']] = 20.2\n",
    "act_2017['Composite'] = act_2017['Composite'].astype(float)"
   ]
  },
  {
   "cell_type": "markdown",
   "metadata": {},
   "source": [
    "The outlier in 'Science' section is due to the 2.3 score observed in Maryland. A similar function `act_composite_check` was used to pick up the outlier. The lower tolerance of +/- 1 was also used to exclude small differences due to rounding.\n",
    "\n",
    "Checking the data on the internet indicates that this is a typo and should be 23.2 for Maryland. [Source](https://www.act.org/content/dam/act/unsecured/documents/cccr2017/ACT_2017-Average_Scores_by_State.pdf)"
   ]
  },
  {
   "cell_type": "code",
   "execution_count": 31,
   "metadata": {},
   "outputs": [],
   "source": [
    "def act_composite_check(row):\n",
    "    '''Function to quickly pull out rows if sum of 4 sections > +-3 pts of Composite * 4'''\n",
    "    #Composite scores is counted from the average of the 4 sections\n",
    "    # +-1 pts tolerance used because there are slight differences in the data due to rounding\n",
    "    \n",
    "    row['Errors'] = abs(\n",
    "            (row['Composite'] *4) - \\\n",
    "            row['English'] - \\\n",
    "            row['Math'] - \\\n",
    "            row['Reading'] - \\\n",
    "            row['Science']\n",
    "    ) > 1\n",
    "    return row"
   ]
  },
  {
   "cell_type": "code",
   "execution_count": 32,
   "metadata": {},
   "outputs": [
    {
     "data": {
      "text/html": [
       "<div>\n",
       "<style scoped>\n",
       "    .dataframe tbody tr th:only-of-type {\n",
       "        vertical-align: middle;\n",
       "    }\n",
       "\n",
       "    .dataframe tbody tr th {\n",
       "        vertical-align: top;\n",
       "    }\n",
       "\n",
       "    .dataframe thead th {\n",
       "        text-align: right;\n",
       "    }\n",
       "</style>\n",
       "<table border=\"1\" class=\"dataframe\">\n",
       "  <thead>\n",
       "    <tr style=\"text-align: right;\">\n",
       "      <th></th>\n",
       "      <th>State</th>\n",
       "      <th>Participation</th>\n",
       "      <th>English</th>\n",
       "      <th>Math</th>\n",
       "      <th>Reading</th>\n",
       "      <th>Science</th>\n",
       "      <th>Composite</th>\n",
       "      <th>Errors</th>\n",
       "    </tr>\n",
       "  </thead>\n",
       "  <tbody>\n",
       "    <tr>\n",
       "      <th>21</th>\n",
       "      <td>Maryland</td>\n",
       "      <td>28%</td>\n",
       "      <td>23.3</td>\n",
       "      <td>23.1</td>\n",
       "      <td>24.2</td>\n",
       "      <td>2.3</td>\n",
       "      <td>23.6</td>\n",
       "      <td>True</td>\n",
       "    </tr>\n",
       "  </tbody>\n",
       "</table>\n",
       "</div>"
      ],
      "text/plain": [
       "       State Participation  English  Math  Reading  Science  Composite  Errors\n",
       "21  Maryland           28%     23.3  23.1     24.2      2.3       23.6    True"
      ]
     },
     "execution_count": 32,
     "metadata": {},
     "output_type": "execute_result"
    }
   ],
   "source": [
    "check_act = act_2017.apply(act_composite_check, axis=1)\n",
    "check_act.loc[check_act['Errors']==True,:]"
   ]
  },
  {
   "cell_type": "code",
   "execution_count": 33,
   "metadata": {},
   "outputs": [],
   "source": [
    "#Fix for errors\n",
    "#Update Science in Maryland to 23.2 in act_2017\n",
    "\n",
    "act_2017.loc[act_2017['State'] == 'Maryland', ['Science']] = 23.2"
   ]
  },
  {
   "cell_type": "markdown",
   "metadata": {},
   "source": [
    "***Duped 'Maine' data in ACT 2018***\n",
    "\n",
    "Scrutinising the number of rows in each dataset with the `len` function datasets shows that all of them have the same number of row entries. However, looking at the data with the `.head()` function suggests that there is a row of 'National' data in ACT 2018. Since we are interested in a state level analysis, I will be removing the 'National' data (will be done in Question 8). "
   ]
  },
  {
   "cell_type": "code",
   "execution_count": 34,
   "metadata": {},
   "outputs": [
    {
     "data": {
      "text/html": [
       "<div>\n",
       "<style scoped>\n",
       "    .dataframe tbody tr th:only-of-type {\n",
       "        vertical-align: middle;\n",
       "    }\n",
       "\n",
       "    .dataframe tbody tr th {\n",
       "        vertical-align: top;\n",
       "    }\n",
       "\n",
       "    .dataframe thead th {\n",
       "        text-align: right;\n",
       "    }\n",
       "</style>\n",
       "<table border=\"1\" class=\"dataframe\">\n",
       "  <thead>\n",
       "    <tr style=\"text-align: right;\">\n",
       "      <th></th>\n",
       "      <th>State</th>\n",
       "      <th>Participation</th>\n",
       "      <th>Composite</th>\n",
       "    </tr>\n",
       "  </thead>\n",
       "  <tbody>\n",
       "    <tr>\n",
       "      <th>20</th>\n",
       "      <td>Maine</td>\n",
       "      <td>7%</td>\n",
       "      <td>24.0</td>\n",
       "    </tr>\n",
       "  </tbody>\n",
       "</table>\n",
       "</div>"
      ],
      "text/plain": [
       "    State Participation  Composite\n",
       "20  Maine            7%       24.0"
      ]
     },
     "execution_count": 34,
     "metadata": {},
     "output_type": "execute_result"
    }
   ],
   "source": [
    "act_2018.loc[act_2018.duplicated(subset=['State']), :]"
   ]
  },
  {
   "cell_type": "code",
   "execution_count": 35,
   "metadata": {},
   "outputs": [],
   "source": [
    "#Fix for errors\n",
    "#Drop duplicate 'Maine' row in act_2018\n",
    "\n",
    "act_2018.drop_duplicates(subset=['State'], inplace=True)\n",
    "act_2018.reset_index(drop=True, inplace=True)"
   ]
  },
  {
   "cell_type": "markdown",
   "metadata": {},
   "source": [
    "***District of Columbia has different capitalisation in different datasets***\n",
    "\n",
    "This issue will cause errors when merging datasets later on. To standardise, we will use 'District of Columbia'."
   ]
  },
  {
   "cell_type": "code",
   "execution_count": 36,
   "metadata": {},
   "outputs": [],
   "source": [
    "#Fix 'District of Columbia' capitalisation in act_2018\n",
    "\n",
    "act_2018['State'] = act_2018['State'].str.replace('District of columbia', 'District of Columbia')"
   ]
  },
  {
   "cell_type": "markdown",
   "metadata": {},
   "source": [
    "***Other observations of datasets***\n",
    "- act_2017 has segmentation by sections but act_2018 has only composite score\n",
    "- Searching for the 2018 data online suggests that ACT has stopped providing the segmentation from 2018"
   ]
  },
  {
   "cell_type": "markdown",
   "metadata": {},
   "source": [
    "<br>"
   ]
  },
  {
   "cell_type": "markdown",
   "metadata": {},
   "source": [
    "<font color='darkblue'>**5. Display datatypes of each dataset**</font>"
   ]
  },
  {
   "cell_type": "code",
   "execution_count": 37,
   "metadata": {},
   "outputs": [
    {
     "data": {
      "text/plain": [
       "State             object\n",
       "Participation     object\n",
       "English          float64\n",
       "Math             float64\n",
       "Reading          float64\n",
       "Science          float64\n",
       "Composite        float64\n",
       "dtype: object"
      ]
     },
     "execution_count": 37,
     "metadata": {},
     "output_type": "execute_result"
    }
   ],
   "source": [
    "act_2017.dtypes"
   ]
  },
  {
   "cell_type": "code",
   "execution_count": 38,
   "metadata": {},
   "outputs": [
    {
     "data": {
      "text/plain": [
       "State                                 object\n",
       "Participation                         object\n",
       "Evidence-Based Reading and Writing     int64\n",
       "Math                                   int64\n",
       "Total                                  int64\n",
       "dtype: object"
      ]
     },
     "execution_count": 38,
     "metadata": {},
     "output_type": "execute_result"
    }
   ],
   "source": [
    "sat_2017.dtypes"
   ]
  },
  {
   "cell_type": "code",
   "execution_count": 39,
   "metadata": {},
   "outputs": [
    {
     "data": {
      "text/plain": [
       "State             object\n",
       "Participation     object\n",
       "Composite        float64\n",
       "dtype: object"
      ]
     },
     "execution_count": 39,
     "metadata": {},
     "output_type": "execute_result"
    }
   ],
   "source": [
    "act_2018.dtypes"
   ]
  },
  {
   "cell_type": "code",
   "execution_count": 40,
   "metadata": {},
   "outputs": [
    {
     "data": {
      "text/plain": [
       "State                                 object\n",
       "Participation                         object\n",
       "Evidence-Based Reading and Writing     int64\n",
       "Math                                   int64\n",
       "Total                                  int64\n",
       "dtype: object"
      ]
     },
     "execution_count": 40,
     "metadata": {},
     "output_type": "execute_result"
    }
   ],
   "source": [
    "sat_2018.dtypes"
   ]
  },
  {
   "cell_type": "markdown",
   "metadata": {},
   "source": [
    "<br>"
   ]
  },
  {
   "cell_type": "markdown",
   "metadata": {},
   "source": [
    "<font color='darkblue'>**6. Fix wrong datatypes**</font>"
   ]
  },
  {
   "cell_type": "markdown",
   "metadata": {},
   "source": [
    "*'Composite' string datetype for act_2017 was fixed in question 4 above*"
   ]
  },
  {
   "cell_type": "markdown",
   "metadata": {},
   "source": [
    "Update % to float using `clean_percent`"
   ]
  },
  {
   "cell_type": "code",
   "execution_count": 41,
   "metadata": {},
   "outputs": [],
   "source": [
    "#Clean up 'Participation' string values to integers using clean_percent function\n",
    "\n",
    "act_2017['Participation'] = act_2017['Participation'].map(clean_percent)\n",
    "sat_2017['Participation'] = sat_2017['Participation'].map(clean_percent)\n",
    "act_2018['Participation'] = act_2018['Participation'].map(clean_percent)\n",
    "sat_2018['Participation'] = sat_2018['Participation'].map(clean_percent)"
   ]
  },
  {
   "cell_type": "markdown",
   "metadata": {},
   "source": [
    "<br>"
   ]
  },
  {
   "cell_type": "markdown",
   "metadata": {},
   "source": [
    "<font color='darkblue'>**7. Rename columns**</font>"
   ]
  },
  {
   "cell_type": "code",
   "execution_count": 42,
   "metadata": {},
   "outputs": [],
   "source": [
    "act_2017.rename(columns={\n",
    "    'State': 'state', \n",
    "    'Participation': 'act_2017_participation', \n",
    "    'English': 'act_2017_english', \n",
    "    'Math': 'act_2017_math', \n",
    "    'Reading': 'act_2017_reading', \n",
    "    'Science': 'act_2017_science', \n",
    "    'Composite': 'act_2017_composite'}, \n",
    "    inplace=True)"
   ]
  },
  {
   "cell_type": "code",
   "execution_count": 43,
   "metadata": {},
   "outputs": [],
   "source": [
    "act_2018.rename(columns={\n",
    "    'State': 'state', \n",
    "    'Participation': 'act_2018_participation', \n",
    "    'Composite': 'act_2018_composite'}, \n",
    "    inplace=True)"
   ]
  },
  {
   "cell_type": "code",
   "execution_count": 44,
   "metadata": {},
   "outputs": [],
   "source": [
    "sat_2017.rename(columns={\n",
    "    'State': 'state', \n",
    "    'Participation': 'sat_2017_participation', \n",
    "    'Evidence-Based Reading and Writing': 'sat_2017_ebrw', \n",
    "    'Math': 'sat_2017_math', \n",
    "    'Total': 'sat_2017_total'}, \n",
    "    inplace=True)"
   ]
  },
  {
   "cell_type": "code",
   "execution_count": 45,
   "metadata": {},
   "outputs": [],
   "source": [
    "sat_2018.rename(columns={\n",
    "    'State': 'state', \n",
    "    'Participation': 'sat_2018_participation', \n",
    "    'Evidence-Based Reading and Writing': 'sat_2018_ebrw', \n",
    "    'Math': 'sat_2018_math', \n",
    "    'Total': 'sat_2018_total'}, \n",
    "    inplace=True)"
   ]
  },
  {
   "cell_type": "markdown",
   "metadata": {},
   "source": [
    "<br>"
   ]
  },
  {
   "cell_type": "markdown",
   "metadata": {},
   "source": [
    "<font color='darkblue'>**8. Drop unnecessary rows**</font>"
   ]
  },
  {
   "cell_type": "markdown",
   "metadata": {},
   "source": [
    "We will drop the 'National' data in act_2017 since we are interested in only state level data for this problem."
   ]
  },
  {
   "cell_type": "code",
   "execution_count": 46,
   "metadata": {},
   "outputs": [],
   "source": [
    "act_2017.drop(0, axis=0, inplace=True)\n",
    "act_2017.reset_index(drop=True, inplace=True)"
   ]
  },
  {
   "cell_type": "markdown",
   "metadata": {},
   "source": [
    "<br>"
   ]
  },
  {
   "cell_type": "markdown",
   "metadata": {},
   "source": [
    "<font color='darkblue'>**9. Merge anything that can be merged**</font>"
   ]
  },
  {
   "cell_type": "markdown",
   "metadata": {},
   "source": [
    "To answer the second problem statement, we will need budget data per state. This dataset contains Elementary and Secondary Education budget for FY 2016 and FY 2017. ([Source: US Census Bureau, compiled by Tax Policy Center](https://www.taxpolicycenter.org/statistics/state-and-local-general-expenditures-capita)).\n",
    "\n",
    "We are using data from the preceding year because we want to study the impact of that budget on test results in the ensuing year. For example, a budget for FY 2016 will be evaluated against test results in 2017."
   ]
  },
  {
   "cell_type": "code",
   "execution_count": 47,
   "metadata": {},
   "outputs": [],
   "source": [
    "budget = pd.read_csv(r'../data/budget_2016_2017.csv')"
   ]
  },
  {
   "cell_type": "code",
   "execution_count": 50,
   "metadata": {},
   "outputs": [],
   "source": [
    "#rounding the values in budget since the dataset have them at 4 decimal places\n",
    "#columns are named 'budget_per_capita_2016' and 'budget_per_capita_2017'\n",
    "\n",
    "budget['budget_per_capita_2016'] = budget['budget_per_capita_2016'].map(lambda x: round(x))\n",
    "budget['budget_per_capita_2017'] = budget['budget_per_capita_2017'].map(lambda x: round(x))"
   ]
  },
  {
   "cell_type": "code",
   "execution_count": 51,
   "metadata": {},
   "outputs": [],
   "source": [
    "#Merge all dataframes\n",
    "\n",
    "combined_2017 = pd.merge(sat_2017, act_2017, on='state', how='left')\n",
    "combined_2018 = pd.merge(sat_2018, act_2018, on='state', how='left')\n",
    "combined_GA_data = pd.merge(combined_2017, combined_2018, on='state', how='left')\n",
    "combined_everything = pd.merge(combined_GA_data, budget, on='state', how='left') #this is the dataset we will use "
   ]
  },
  {
   "cell_type": "code",
   "execution_count": 53,
   "metadata": {},
   "outputs": [],
   "source": [
    "#Function calculates the change in SAT participation rates between 2017 and 2018\n",
    "#All float values are rounded to 3 dp.\n",
    "\n",
    "def sat_participation_change(row):\n",
    "    row['sat_participation_change']  = round(((row['sat_2018_participation'] / row['sat_2017_participation']) - 1), 3)\n",
    "    return row\n",
    "\n",
    "#Function calculates the change in ACT participation rates between 2017 and 2018\n",
    "def act_participation_change(row):\n",
    "    row['act_participation_change']  = round(((row['act_2018_participation'] / row['act_2017_participation']) - 1) ,3)\n",
    "    return row\n",
    "\n",
    "#Function calculates the change in SAT Total Scores between 2017 and 2018\n",
    "def sat_total_change(row):\n",
    "    row['sat_total_change'] = round(((row['sat_2018_total'] / row['sat_2017_total']) - 1), 3)\n",
    "    return row\n",
    "\n",
    "#Function calculates the change in ACT Total Scores between 2017 and 2018\n",
    "def act_total_change(row):\n",
    "    row['act_composite_change'] = round(((row['act_2018_composite'] / row['act_2017_composite']) - 1), 3)\n",
    "    return row\n",
    "\n",
    "#Function calculates the change in budget between 2016 and 2017\n",
    "def budget_change(row):\n",
    "    row['budget_change']  = round(((row['budget_per_capita_2017'] / row['budget_per_capita_2016']) - 1), 3)\n",
    "    return row\n",
    "\n",
    "combined_everything = combined_everything.apply(sat_total_change, axis=1)\n",
    "combined_everything = combined_everything.apply(act_total_change, axis=1)\n",
    "combined_everything = combined_everything.apply(sat_participation_change, axis=1)\n",
    "combined_everything = combined_everything.apply(act_participation_change, axis=1)\n",
    "combined_everything = combined_everything.apply(budget_change, axis=1)"
   ]
  },
  {
   "cell_type": "markdown",
   "metadata": {},
   "source": [
    "<br>"
   ]
  },
  {
   "cell_type": "markdown",
   "metadata": {},
   "source": [
    "<font color='darkblue'>**10. Export to CSV**</font>"
   ]
  },
  {
   "cell_type": "code",
   "execution_count": 54,
   "metadata": {},
   "outputs": [],
   "source": [
    "combined_everything.to_csv(r'../data/combined_everything.csv', index=False) #we will be using this for EDA\n",
    "\n",
    "combined_2017.to_csv(r'../data/combined_2017.csv', index=False) #saved in case needed\n",
    "combined_2018.to_csv(r'../data/combined_2018.csv', index=False) #saved in case needed\n",
    "combined_GA_data.to_csv(r'../data/combined_GA_data.csv', index=False) #saved in case needed\n"
   ]
  },
  {
   "cell_type": "markdown",
   "metadata": {},
   "source": [
    "### Data Dictionary"
   ]
  },
  {
   "cell_type": "markdown",
   "metadata": {},
   "source": [
    "|Feature|Type|Dataset|Description|\n",
    "|---|---|---|---|\n",
    "|**state**|*string*|combined_everything|All 50 states in USA + D.C.|\n",
    "|**sat_2017_participation**|*float*|combined_everything|SAT participation rates measured as a percentage of high school seniors who graduated in that state in 2017|\n",
    "|**sat_2018_participation**|*float*|combined_everything|SAT participation rates measured as a percentage of high school seniors who graduated in that state in 2018|\n",
    "|**act_2017_participation**|*float*|combined_everything|ACT participation rates measured as a percentage of high school seniors who graduated in that state in 2017|\n",
    "|**act_2018_participation**|*float*|combined_everything|ACT participation rates measured as a percentage of high school seniors who graduated in that state in 2018|\n",
    "|**sat_2017_ebrw**|*integer*|combined_everything|SAT average Evidence-Based Reading and Writing score of that state in 2017|\n",
    "|**sat_2017_math**|*integer*|combined_everything|SAT average Math score of that state in 2017|\n",
    "|**sat_2017_total**|*integer*|combined_everything|SAT average Total (EBRW + Math) score of that state in 2017|\n",
    "|**act_2017_english**|*float*|combined_everything|ACT average English score of that state in 2017|\n",
    "|**act_2017_math**|*float*|combined_everything|ACT average Math score of that state in 2017|\n",
    "|**act_2017_reading**|*float*|combined_everything|ACT average Reading score of that state in 2017|\n",
    "|**act_2017_science**|*float*|combined_everything|ACT average Science score of that state in 2017|\n",
    "|**act_2017_composite**|*float*|combined_everything|ACT average Composite (average scores from 4 sections) score of that state in 2017|\n",
    "|**sat_2018_ebrw**|*integer*|combined_everything|SAT average Evidence-Based Reading and Writing score of that state in 2017|\n",
    "|**sat_2018_math**|*integer*|combined_everything|SAT average Math score of that state in 2018|\n",
    "|**sat_2018_total**|*integer*|combined_everything|SAT average Total (EBRW + Math) score of that state in 2018|\n",
    "|**act_2018_composite**|*float*|combined_everything|ACT average Composite (average scores from 4 sections) score of that state in 2018|\n",
    "|**budget_per_capita_2016**|*integer*|combined_everything|USD budget per capita for elementary and secondary schools per state in FY16|\n",
    "|**budget_per_capita_2017**|*integer*|combined_everything|USD budget per capita for elementary and secondary schools per state in FY17|\n",
    "|**sat_total_change**|*float*|combined_everything|Change in SAT Total scores from 2017 to 2018|\n",
    "|**act_composite_change**|*float*|combined_everything|Change in ACT Composite scores from 2017 to 2018|\n",
    "|**budget_change**|*float*|combined_everything|Change in elementary and secondary education budget by state from 2017 to 2018|"
   ]
  },
  {
   "cell_type": "markdown",
   "metadata": {},
   "source": [
    "## Exploratory Data Analysis\n",
    "\n",
    "Complete the following steps to explore your data. You are welcome to do more EDA than the steps outlined here as you feel necessary:\n",
    "1. Summary Statistics.\n",
    "2. Use a **dictionary comprehension** to apply the standard deviation function you create in part 1 to each numeric column in the dataframe.  **No loops**.\n",
    "    - Assign the output to variable `sd` as a dictionary where: \n",
    "        - Each column name is now a key \n",
    "        - That standard deviation of the column is the value \n",
    "        - *Example Output :* `{'ACT_Math': 120, 'ACT_Reading': 120, ...}`\n",
    "3. Investigate trends in the data.\n",
    "    - Using sorting and/or masking (along with the `.head()` method to avoid printing our entire dataframe), consider questions relevant to your problem statement. Some examples are provided below (but feel free to change these questions for your specific problem):\n",
    "        - Which states have the highest and lowest participation rates for the 2017, 2019, or 2019 SAT and ACT?\n",
    "        - Which states have the highest and lowest mean total/composite scores for the 2017, 2019, or 2019 SAT and ACT?\n",
    "        - Do any states with 100% participation on a given test have a rate change year-to-year?\n",
    "        - Do any states show have >50% participation on *both* tests each year?\n",
    "        - Which colleges have the highest median SAT and ACT scores for admittance?\n",
    "        - Which California school districts have the highest and lowest mean test scores?\n",
    "    - **You should comment on your findings at each step in a markdown cell below your code block**. Make sure you include at least one example of sorting your dataframe by a column, and one example of using boolean filtering (i.e., masking) to select a subset of the dataframe."
   ]
  },
  {
   "cell_type": "markdown",
   "metadata": {},
   "source": [
    "<font color='darkblue'>**1. Summary Statistics**</font>"
   ]
  },
  {
   "cell_type": "code",
   "execution_count": 55,
   "metadata": {},
   "outputs": [
    {
     "data": {
      "text/html": [
       "<div>\n",
       "<style scoped>\n",
       "    .dataframe tbody tr th:only-of-type {\n",
       "        vertical-align: middle;\n",
       "    }\n",
       "\n",
       "    .dataframe tbody tr th {\n",
       "        vertical-align: top;\n",
       "    }\n",
       "\n",
       "    .dataframe thead th {\n",
       "        text-align: right;\n",
       "    }\n",
       "</style>\n",
       "<table border=\"1\" class=\"dataframe\">\n",
       "  <thead>\n",
       "    <tr style=\"text-align: right;\">\n",
       "      <th></th>\n",
       "      <th>count</th>\n",
       "      <th>mean</th>\n",
       "      <th>std</th>\n",
       "      <th>min</th>\n",
       "      <th>25%</th>\n",
       "      <th>50%</th>\n",
       "      <th>75%</th>\n",
       "      <th>max</th>\n",
       "    </tr>\n",
       "  </thead>\n",
       "  <tbody>\n",
       "    <tr>\n",
       "      <th>sat_2017_participation</th>\n",
       "      <td>51.0</td>\n",
       "      <td>0.398039</td>\n",
       "      <td>0.352766</td>\n",
       "      <td>0.020</td>\n",
       "      <td>0.0400</td>\n",
       "      <td>0.380</td>\n",
       "      <td>0.6600</td>\n",
       "      <td>1.000</td>\n",
       "    </tr>\n",
       "    <tr>\n",
       "      <th>sat_2017_ebrw</th>\n",
       "      <td>51.0</td>\n",
       "      <td>569.117647</td>\n",
       "      <td>45.666901</td>\n",
       "      <td>482.000</td>\n",
       "      <td>533.5000</td>\n",
       "      <td>559.000</td>\n",
       "      <td>613.0000</td>\n",
       "      <td>644.000</td>\n",
       "    </tr>\n",
       "    <tr>\n",
       "      <th>sat_2017_math</th>\n",
       "      <td>51.0</td>\n",
       "      <td>556.882353</td>\n",
       "      <td>47.121395</td>\n",
       "      <td>468.000</td>\n",
       "      <td>523.5000</td>\n",
       "      <td>548.000</td>\n",
       "      <td>599.0000</td>\n",
       "      <td>651.000</td>\n",
       "    </tr>\n",
       "    <tr>\n",
       "      <th>sat_2017_total</th>\n",
       "      <td>51.0</td>\n",
       "      <td>1126.098039</td>\n",
       "      <td>92.494812</td>\n",
       "      <td>950.000</td>\n",
       "      <td>1055.5000</td>\n",
       "      <td>1107.000</td>\n",
       "      <td>1212.0000</td>\n",
       "      <td>1295.000</td>\n",
       "    </tr>\n",
       "    <tr>\n",
       "      <th>act_2017_participation</th>\n",
       "      <td>51.0</td>\n",
       "      <td>0.652549</td>\n",
       "      <td>0.321408</td>\n",
       "      <td>0.080</td>\n",
       "      <td>0.3100</td>\n",
       "      <td>0.690</td>\n",
       "      <td>1.0000</td>\n",
       "      <td>1.000</td>\n",
       "    </tr>\n",
       "    <tr>\n",
       "      <th>act_2017_english</th>\n",
       "      <td>51.0</td>\n",
       "      <td>20.931373</td>\n",
       "      <td>2.353677</td>\n",
       "      <td>16.300</td>\n",
       "      <td>19.0000</td>\n",
       "      <td>20.700</td>\n",
       "      <td>23.3000</td>\n",
       "      <td>25.500</td>\n",
       "    </tr>\n",
       "    <tr>\n",
       "      <th>act_2017_math</th>\n",
       "      <td>51.0</td>\n",
       "      <td>21.182353</td>\n",
       "      <td>1.981989</td>\n",
       "      <td>18.000</td>\n",
       "      <td>19.4000</td>\n",
       "      <td>20.900</td>\n",
       "      <td>23.1000</td>\n",
       "      <td>25.300</td>\n",
       "    </tr>\n",
       "    <tr>\n",
       "      <th>act_2017_reading</th>\n",
       "      <td>51.0</td>\n",
       "      <td>22.013725</td>\n",
       "      <td>2.067271</td>\n",
       "      <td>18.100</td>\n",
       "      <td>20.4500</td>\n",
       "      <td>21.800</td>\n",
       "      <td>24.1500</td>\n",
       "      <td>26.000</td>\n",
       "    </tr>\n",
       "    <tr>\n",
       "      <th>act_2017_science</th>\n",
       "      <td>51.0</td>\n",
       "      <td>21.450980</td>\n",
       "      <td>1.739353</td>\n",
       "      <td>18.200</td>\n",
       "      <td>19.9500</td>\n",
       "      <td>21.300</td>\n",
       "      <td>23.2000</td>\n",
       "      <td>24.900</td>\n",
       "    </tr>\n",
       "    <tr>\n",
       "      <th>act_2017_composite</th>\n",
       "      <td>51.0</td>\n",
       "      <td>21.519608</td>\n",
       "      <td>2.020695</td>\n",
       "      <td>17.800</td>\n",
       "      <td>19.8000</td>\n",
       "      <td>21.400</td>\n",
       "      <td>23.6000</td>\n",
       "      <td>25.500</td>\n",
       "    </tr>\n",
       "    <tr>\n",
       "      <th>sat_2018_participation</th>\n",
       "      <td>51.0</td>\n",
       "      <td>0.457451</td>\n",
       "      <td>0.373143</td>\n",
       "      <td>0.020</td>\n",
       "      <td>0.0450</td>\n",
       "      <td>0.520</td>\n",
       "      <td>0.7750</td>\n",
       "      <td>1.000</td>\n",
       "    </tr>\n",
       "    <tr>\n",
       "      <th>sat_2018_ebrw</th>\n",
       "      <td>51.0</td>\n",
       "      <td>563.686275</td>\n",
       "      <td>47.502627</td>\n",
       "      <td>480.000</td>\n",
       "      <td>534.5000</td>\n",
       "      <td>552.000</td>\n",
       "      <td>610.5000</td>\n",
       "      <td>643.000</td>\n",
       "    </tr>\n",
       "    <tr>\n",
       "      <th>sat_2018_math</th>\n",
       "      <td>51.0</td>\n",
       "      <td>556.235294</td>\n",
       "      <td>47.772623</td>\n",
       "      <td>480.000</td>\n",
       "      <td>522.5000</td>\n",
       "      <td>544.000</td>\n",
       "      <td>593.5000</td>\n",
       "      <td>655.000</td>\n",
       "    </tr>\n",
       "    <tr>\n",
       "      <th>sat_2018_total</th>\n",
       "      <td>51.0</td>\n",
       "      <td>1120.019608</td>\n",
       "      <td>94.155083</td>\n",
       "      <td>977.000</td>\n",
       "      <td>1057.5000</td>\n",
       "      <td>1098.000</td>\n",
       "      <td>1204.0000</td>\n",
       "      <td>1298.000</td>\n",
       "    </tr>\n",
       "    <tr>\n",
       "      <th>act_2018_participation</th>\n",
       "      <td>51.0</td>\n",
       "      <td>0.617255</td>\n",
       "      <td>0.340371</td>\n",
       "      <td>0.070</td>\n",
       "      <td>0.2850</td>\n",
       "      <td>0.660</td>\n",
       "      <td>1.0000</td>\n",
       "      <td>1.000</td>\n",
       "    </tr>\n",
       "    <tr>\n",
       "      <th>act_2018_composite</th>\n",
       "      <td>51.0</td>\n",
       "      <td>21.496078</td>\n",
       "      <td>2.111583</td>\n",
       "      <td>17.700</td>\n",
       "      <td>19.9500</td>\n",
       "      <td>21.300</td>\n",
       "      <td>23.6500</td>\n",
       "      <td>25.600</td>\n",
       "    </tr>\n",
       "    <tr>\n",
       "      <th>budget_per_capita_2016</th>\n",
       "      <td>51.0</td>\n",
       "      <td>1986.980392</td>\n",
       "      <td>572.789926</td>\n",
       "      <td>1129.000</td>\n",
       "      <td>1631.0000</td>\n",
       "      <td>1835.000</td>\n",
       "      <td>2192.0000</td>\n",
       "      <td>3791.000</td>\n",
       "    </tr>\n",
       "    <tr>\n",
       "      <th>budget_per_capita_2017</th>\n",
       "      <td>51.0</td>\n",
       "      <td>2041.862745</td>\n",
       "      <td>578.141644</td>\n",
       "      <td>1170.000</td>\n",
       "      <td>1675.5000</td>\n",
       "      <td>1917.000</td>\n",
       "      <td>2291.5000</td>\n",
       "      <td>3991.000</td>\n",
       "    </tr>\n",
       "    <tr>\n",
       "      <th>sat_total_change</th>\n",
       "      <td>51.0</td>\n",
       "      <td>-0.004529</td>\n",
       "      <td>0.043423</td>\n",
       "      <td>-0.184</td>\n",
       "      <td>-0.0025</td>\n",
       "      <td>0.006</td>\n",
       "      <td>0.0155</td>\n",
       "      <td>0.081</td>\n",
       "    </tr>\n",
       "    <tr>\n",
       "      <th>act_composite_change</th>\n",
       "      <td>51.0</td>\n",
       "      <td>-0.000941</td>\n",
       "      <td>0.033495</td>\n",
       "      <td>-0.077</td>\n",
       "      <td>-0.0120</td>\n",
       "      <td>-0.005</td>\n",
       "      <td>0.0040</td>\n",
       "      <td>0.149</td>\n",
       "    </tr>\n",
       "    <tr>\n",
       "      <th>sat_participation_change</th>\n",
       "      <td>51.0</td>\n",
       "      <td>0.484882</td>\n",
       "      <td>1.770637</td>\n",
       "      <td>-0.325</td>\n",
       "      <td>0.0000</td>\n",
       "      <td>0.075</td>\n",
       "      <td>0.2000</td>\n",
       "      <td>10.000</td>\n",
       "    </tr>\n",
       "    <tr>\n",
       "      <th>act_participation_change</th>\n",
       "      <td>51.0</td>\n",
       "      <td>-0.068216</td>\n",
       "      <td>0.163634</td>\n",
       "      <td>-0.700</td>\n",
       "      <td>-0.1270</td>\n",
       "      <td>-0.010</td>\n",
       "      <td>0.0000</td>\n",
       "      <td>0.333</td>\n",
       "    </tr>\n",
       "    <tr>\n",
       "      <th>budget_change</th>\n",
       "      <td>51.0</td>\n",
       "      <td>0.029020</td>\n",
       "      <td>0.028022</td>\n",
       "      <td>-0.044</td>\n",
       "      <td>0.0115</td>\n",
       "      <td>0.036</td>\n",
       "      <td>0.0460</td>\n",
       "      <td>0.092</td>\n",
       "    </tr>\n",
       "  </tbody>\n",
       "</table>\n",
       "</div>"
      ],
      "text/plain": [
       "                          count         mean         std       min        25%  \\\n",
       "sat_2017_participation     51.0     0.398039    0.352766     0.020     0.0400   \n",
       "sat_2017_ebrw              51.0   569.117647   45.666901   482.000   533.5000   \n",
       "sat_2017_math              51.0   556.882353   47.121395   468.000   523.5000   \n",
       "sat_2017_total             51.0  1126.098039   92.494812   950.000  1055.5000   \n",
       "act_2017_participation     51.0     0.652549    0.321408     0.080     0.3100   \n",
       "act_2017_english           51.0    20.931373    2.353677    16.300    19.0000   \n",
       "act_2017_math              51.0    21.182353    1.981989    18.000    19.4000   \n",
       "act_2017_reading           51.0    22.013725    2.067271    18.100    20.4500   \n",
       "act_2017_science           51.0    21.450980    1.739353    18.200    19.9500   \n",
       "act_2017_composite         51.0    21.519608    2.020695    17.800    19.8000   \n",
       "sat_2018_participation     51.0     0.457451    0.373143     0.020     0.0450   \n",
       "sat_2018_ebrw              51.0   563.686275   47.502627   480.000   534.5000   \n",
       "sat_2018_math              51.0   556.235294   47.772623   480.000   522.5000   \n",
       "sat_2018_total             51.0  1120.019608   94.155083   977.000  1057.5000   \n",
       "act_2018_participation     51.0     0.617255    0.340371     0.070     0.2850   \n",
       "act_2018_composite         51.0    21.496078    2.111583    17.700    19.9500   \n",
       "budget_per_capita_2016     51.0  1986.980392  572.789926  1129.000  1631.0000   \n",
       "budget_per_capita_2017     51.0  2041.862745  578.141644  1170.000  1675.5000   \n",
       "sat_total_change           51.0    -0.004529    0.043423    -0.184    -0.0025   \n",
       "act_composite_change       51.0    -0.000941    0.033495    -0.077    -0.0120   \n",
       "sat_participation_change   51.0     0.484882    1.770637    -0.325     0.0000   \n",
       "act_participation_change   51.0    -0.068216    0.163634    -0.700    -0.1270   \n",
       "budget_change              51.0     0.029020    0.028022    -0.044     0.0115   \n",
       "\n",
       "                               50%        75%       max  \n",
       "sat_2017_participation       0.380     0.6600     1.000  \n",
       "sat_2017_ebrw              559.000   613.0000   644.000  \n",
       "sat_2017_math              548.000   599.0000   651.000  \n",
       "sat_2017_total            1107.000  1212.0000  1295.000  \n",
       "act_2017_participation       0.690     1.0000     1.000  \n",
       "act_2017_english            20.700    23.3000    25.500  \n",
       "act_2017_math               20.900    23.1000    25.300  \n",
       "act_2017_reading            21.800    24.1500    26.000  \n",
       "act_2017_science            21.300    23.2000    24.900  \n",
       "act_2017_composite          21.400    23.6000    25.500  \n",
       "sat_2018_participation       0.520     0.7750     1.000  \n",
       "sat_2018_ebrw              552.000   610.5000   643.000  \n",
       "sat_2018_math              544.000   593.5000   655.000  \n",
       "sat_2018_total            1098.000  1204.0000  1298.000  \n",
       "act_2018_participation       0.660     1.0000     1.000  \n",
       "act_2018_composite          21.300    23.6500    25.600  \n",
       "budget_per_capita_2016    1835.000  2192.0000  3791.000  \n",
       "budget_per_capita_2017    1917.000  2291.5000  3991.000  \n",
       "sat_total_change             0.006     0.0155     0.081  \n",
       "act_composite_change        -0.005     0.0040     0.149  \n",
       "sat_participation_change     0.075     0.2000    10.000  \n",
       "act_participation_change    -0.010     0.0000     0.333  \n",
       "budget_change                0.036     0.0460     0.092  "
      ]
     },
     "execution_count": 55,
     "metadata": {},
     "output_type": "execute_result"
    }
   ],
   "source": [
    "combined_everything.describe().T"
   ]
  },
  {
   "cell_type": "markdown",
   "metadata": {},
   "source": [
    "<br>"
   ]
  },
  {
   "cell_type": "markdown",
   "metadata": {},
   "source": [
    "<font color='darkblue'>**2. Dictionary comprehension to apply std dev by column**</font>"
   ]
  },
  {
   "cell_type": "code",
   "execution_count": 56,
   "metadata": {},
   "outputs": [],
   "source": [
    "#coln.name : std_calc(coln) are the dersired key : value output for the dictionary\n",
    "#std_calc() is the std dev calculation from Part 1\n",
    "#for this calculation, we will only work out integer and float values\n",
    "\n",
    "sd = {coln.name : std_calc(coln) \n",
    "      for coln in \n",
    "      [combined_everything[i] for i in combined_everything.columns \n",
    "       if (combined_everything[i].dtype=='float64') \n",
    "       or (combined_everything[i].dtype=='int64')]\n",
    "     }"
   ]
  },
  {
   "cell_type": "code",
   "execution_count": 57,
   "metadata": {},
   "outputs": [
    {
     "data": {
      "text/plain": [
       "{'sat_2017_participation': 0.3492907076664507,\n",
       " 'sat_2017_ebrw': 45.21697020437866,\n",
       " 'sat_2017_math': 46.65713364485503,\n",
       " 'sat_2017_total': 91.58351056778743,\n",
       " 'act_2017_participation': 0.3182417575123181,\n",
       " 'act_2017_english': 2.3304876369363363,\n",
       " 'act_2017_math': 1.9624620273436781,\n",
       " 'act_2017_reading': 2.0469029314842646,\n",
       " 'act_2017_science': 1.7222161451443676,\n",
       " 'act_2017_composite': 2.000786081581989,\n",
       " 'sat_2018_participation': 0.3694661922353942,\n",
       " 'sat_2018_ebrw': 47.03460978357609,\n",
       " 'sat_2018_math': 47.30194550378352,\n",
       " 'sat_2018_total': 93.22742384464433,\n",
       " 'act_2018_participation': 0.33701735820410317,\n",
       " 'act_2018_composite': 2.090779082141178,\n",
       " 'budget_per_capita_2016': 567.1465381133556,\n",
       " 'budget_per_capita_2017': 572.4455285194184,\n",
       " 'sat_total_change': 0.042994916681374014,\n",
       " 'act_composite_change': 0.033164717706874895,\n",
       " 'sat_participation_change': 1.7531916402195278,\n",
       " 'act_participation_change': 0.16202158095487545,\n",
       " 'budget_change': 0.027746393650896803}"
      ]
     },
     "execution_count": 57,
     "metadata": {},
     "output_type": "execute_result"
    }
   ],
   "source": [
    "sd"
   ]
  },
  {
   "cell_type": "markdown",
   "metadata": {},
   "source": [
    "<br>"
   ]
  },
  {
   "cell_type": "markdown",
   "metadata": {},
   "source": [
    "<font color='darkblue'>**3. Observe trends in the data**</font>"
   ]
  },
  {
   "cell_type": "markdown",
   "metadata": {},
   "source": [
    "***Inverse relationship between SAT and ACT participation rates***\n",
    "\n",
    "Graduating students tend to take only one exam and this is dependent on state policy. For example, Delaware and New Hampshire have high SAT participation rates (>96%) and low ACT participation rates (18%) because of state policy mandating that graduating students take the SAT. This trend is consistent across both 2017 and 2018 datasets."
   ]
  },
  {
   "cell_type": "code",
   "execution_count": 58,
   "metadata": {},
   "outputs": [
    {
     "data": {
      "text/html": [
       "<div>\n",
       "<style scoped>\n",
       "    .dataframe tbody tr th:only-of-type {\n",
       "        vertical-align: middle;\n",
       "    }\n",
       "\n",
       "    .dataframe tbody tr th {\n",
       "        vertical-align: top;\n",
       "    }\n",
       "\n",
       "    .dataframe thead th {\n",
       "        text-align: right;\n",
       "    }\n",
       "</style>\n",
       "<table border=\"1\" class=\"dataframe\">\n",
       "  <thead>\n",
       "    <tr style=\"text-align: right;\">\n",
       "      <th></th>\n",
       "      <th>state</th>\n",
       "      <th>sat_2017_participation</th>\n",
       "      <th>sat_2018_participation</th>\n",
       "      <th>act_2017_participation</th>\n",
       "      <th>act_2018_participation</th>\n",
       "    </tr>\n",
       "  </thead>\n",
       "  <tbody>\n",
       "    <tr>\n",
       "      <th>8</th>\n",
       "      <td>District of Columbia</td>\n",
       "      <td>1.00</td>\n",
       "      <td>0.92</td>\n",
       "      <td>0.32</td>\n",
       "      <td>0.32</td>\n",
       "    </tr>\n",
       "    <tr>\n",
       "      <th>22</th>\n",
       "      <td>Michigan</td>\n",
       "      <td>1.00</td>\n",
       "      <td>1.00</td>\n",
       "      <td>0.29</td>\n",
       "      <td>0.22</td>\n",
       "    </tr>\n",
       "    <tr>\n",
       "      <th>6</th>\n",
       "      <td>Connecticut</td>\n",
       "      <td>1.00</td>\n",
       "      <td>1.00</td>\n",
       "      <td>0.31</td>\n",
       "      <td>0.26</td>\n",
       "    </tr>\n",
       "    <tr>\n",
       "      <th>7</th>\n",
       "      <td>Delaware</td>\n",
       "      <td>1.00</td>\n",
       "      <td>1.00</td>\n",
       "      <td>0.18</td>\n",
       "      <td>0.17</td>\n",
       "    </tr>\n",
       "    <tr>\n",
       "      <th>29</th>\n",
       "      <td>New Hampshire</td>\n",
       "      <td>0.96</td>\n",
       "      <td>0.96</td>\n",
       "      <td>0.18</td>\n",
       "      <td>0.16</td>\n",
       "    </tr>\n",
       "  </tbody>\n",
       "</table>\n",
       "</div>"
      ],
      "text/plain": [
       "                   state  sat_2017_participation  sat_2018_participation  \\\n",
       "8   District of Columbia                    1.00                    0.92   \n",
       "22              Michigan                    1.00                    1.00   \n",
       "6            Connecticut                    1.00                    1.00   \n",
       "7               Delaware                    1.00                    1.00   \n",
       "29         New Hampshire                    0.96                    0.96   \n",
       "\n",
       "    act_2017_participation  act_2018_participation  \n",
       "8                     0.32                    0.32  \n",
       "22                    0.29                    0.22  \n",
       "6                     0.31                    0.26  \n",
       "7                     0.18                    0.17  \n",
       "29                    0.18                    0.16  "
      ]
     },
     "execution_count": 58,
     "metadata": {},
     "output_type": "execute_result"
    }
   ],
   "source": [
    "#negative correlation between SAT and ACT particpation rates\n",
    "\n",
    "combined_everything[['state','sat_2017_participation','sat_2018_participation','act_2017_participation','act_2018_participation']].sort_values(by='sat_2017_participation',ascending=False).head(5)"
   ]
  },
  {
   "cell_type": "markdown",
   "metadata": {},
   "source": [
    "***Significantly more states with 100% participations rates for ACT than SAT***"
   ]
  },
  {
   "cell_type": "markdown",
   "metadata": {},
   "source": [
    "In 2017, there are 4 states (D.C., Michigan, Connecticut, Delaware) with 100% participation rates for SAT vs. 17 states with 100% participation rates for ACT."
   ]
  },
  {
   "cell_type": "code",
   "execution_count": 59,
   "metadata": {},
   "outputs": [
    {
     "data": {
      "text/html": [
       "<div>\n",
       "<style scoped>\n",
       "    .dataframe tbody tr th:only-of-type {\n",
       "        vertical-align: middle;\n",
       "    }\n",
       "\n",
       "    .dataframe tbody tr th {\n",
       "        vertical-align: top;\n",
       "    }\n",
       "\n",
       "    .dataframe thead th {\n",
       "        text-align: right;\n",
       "    }\n",
       "</style>\n",
       "<table border=\"1\" class=\"dataframe\">\n",
       "  <thead>\n",
       "    <tr style=\"text-align: right;\">\n",
       "      <th></th>\n",
       "      <th>state</th>\n",
       "      <th>sat_2017_participation</th>\n",
       "    </tr>\n",
       "  </thead>\n",
       "  <tbody>\n",
       "    <tr>\n",
       "      <th>8</th>\n",
       "      <td>District of Columbia</td>\n",
       "      <td>1.00</td>\n",
       "    </tr>\n",
       "    <tr>\n",
       "      <th>22</th>\n",
       "      <td>Michigan</td>\n",
       "      <td>1.00</td>\n",
       "    </tr>\n",
       "    <tr>\n",
       "      <th>6</th>\n",
       "      <td>Connecticut</td>\n",
       "      <td>1.00</td>\n",
       "    </tr>\n",
       "    <tr>\n",
       "      <th>7</th>\n",
       "      <td>Delaware</td>\n",
       "      <td>1.00</td>\n",
       "    </tr>\n",
       "    <tr>\n",
       "      <th>29</th>\n",
       "      <td>New Hampshire</td>\n",
       "      <td>0.96</td>\n",
       "    </tr>\n",
       "  </tbody>\n",
       "</table>\n",
       "</div>"
      ],
      "text/plain": [
       "                   state  sat_2017_participation\n",
       "8   District of Columbia                    1.00\n",
       "22              Michigan                    1.00\n",
       "6            Connecticut                    1.00\n",
       "7               Delaware                    1.00\n",
       "29         New Hampshire                    0.96"
      ]
     },
     "execution_count": 59,
     "metadata": {},
     "output_type": "execute_result"
    }
   ],
   "source": [
    "# Highest SAT participation rate \n",
    "\n",
    "combined_everything[['state','sat_2017_participation']].sort_values(by='sat_2017_participation',ascending=False).head(5)"
   ]
  },
  {
   "cell_type": "code",
   "execution_count": 60,
   "metadata": {},
   "outputs": [
    {
     "data": {
      "text/html": [
       "<div>\n",
       "<style scoped>\n",
       "    .dataframe tbody tr th:only-of-type {\n",
       "        vertical-align: middle;\n",
       "    }\n",
       "\n",
       "    .dataframe tbody tr th {\n",
       "        vertical-align: top;\n",
       "    }\n",
       "\n",
       "    .dataframe thead th {\n",
       "        text-align: right;\n",
       "    }\n",
       "</style>\n",
       "<table border=\"1\" class=\"dataframe\">\n",
       "  <thead>\n",
       "    <tr style=\"text-align: right;\">\n",
       "      <th></th>\n",
       "      <th>state</th>\n",
       "      <th>act_2017_participation</th>\n",
       "    </tr>\n",
       "  </thead>\n",
       "  <tbody>\n",
       "    <tr>\n",
       "      <th>0</th>\n",
       "      <td>Alabama</td>\n",
       "      <td>1.0</td>\n",
       "    </tr>\n",
       "    <tr>\n",
       "      <th>17</th>\n",
       "      <td>Kentucky</td>\n",
       "      <td>1.0</td>\n",
       "    </tr>\n",
       "    <tr>\n",
       "      <th>49</th>\n",
       "      <td>Wisconsin</td>\n",
       "      <td>1.0</td>\n",
       "    </tr>\n",
       "    <tr>\n",
       "      <th>44</th>\n",
       "      <td>Utah</td>\n",
       "      <td>1.0</td>\n",
       "    </tr>\n",
       "    <tr>\n",
       "      <th>42</th>\n",
       "      <td>Tennessee</td>\n",
       "      <td>1.0</td>\n",
       "    </tr>\n",
       "    <tr>\n",
       "      <th>40</th>\n",
       "      <td>South Carolina</td>\n",
       "      <td>1.0</td>\n",
       "    </tr>\n",
       "    <tr>\n",
       "      <th>36</th>\n",
       "      <td>Oklahoma</td>\n",
       "      <td>1.0</td>\n",
       "    </tr>\n",
       "    <tr>\n",
       "      <th>33</th>\n",
       "      <td>North Carolina</td>\n",
       "      <td>1.0</td>\n",
       "    </tr>\n",
       "    <tr>\n",
       "      <th>28</th>\n",
       "      <td>Nevada</td>\n",
       "      <td>1.0</td>\n",
       "    </tr>\n",
       "    <tr>\n",
       "      <th>26</th>\n",
       "      <td>Montana</td>\n",
       "      <td>1.0</td>\n",
       "    </tr>\n",
       "    <tr>\n",
       "      <th>24</th>\n",
       "      <td>Mississippi</td>\n",
       "      <td>1.0</td>\n",
       "    </tr>\n",
       "    <tr>\n",
       "      <th>23</th>\n",
       "      <td>Minnesota</td>\n",
       "      <td>1.0</td>\n",
       "    </tr>\n",
       "    <tr>\n",
       "      <th>18</th>\n",
       "      <td>Louisiana</td>\n",
       "      <td>1.0</td>\n",
       "    </tr>\n",
       "    <tr>\n",
       "      <th>25</th>\n",
       "      <td>Missouri</td>\n",
       "      <td>1.0</td>\n",
       "    </tr>\n",
       "    <tr>\n",
       "      <th>50</th>\n",
       "      <td>Wyoming</td>\n",
       "      <td>1.0</td>\n",
       "    </tr>\n",
       "    <tr>\n",
       "      <th>5</th>\n",
       "      <td>Colorado</td>\n",
       "      <td>1.0</td>\n",
       "    </tr>\n",
       "    <tr>\n",
       "      <th>3</th>\n",
       "      <td>Arkansas</td>\n",
       "      <td>1.0</td>\n",
       "    </tr>\n",
       "  </tbody>\n",
       "</table>\n",
       "</div>"
      ],
      "text/plain": [
       "             state  act_2017_participation\n",
       "0          Alabama                     1.0\n",
       "17        Kentucky                     1.0\n",
       "49       Wisconsin                     1.0\n",
       "44            Utah                     1.0\n",
       "42       Tennessee                     1.0\n",
       "40  South Carolina                     1.0\n",
       "36        Oklahoma                     1.0\n",
       "33  North Carolina                     1.0\n",
       "28          Nevada                     1.0\n",
       "26         Montana                     1.0\n",
       "24     Mississippi                     1.0\n",
       "23       Minnesota                     1.0\n",
       "18       Louisiana                     1.0\n",
       "25        Missouri                     1.0\n",
       "50         Wyoming                     1.0\n",
       "5         Colorado                     1.0\n",
       "3         Arkansas                     1.0"
      ]
     },
     "execution_count": 60,
     "metadata": {},
     "output_type": "execute_result"
    }
   ],
   "source": [
    "#Highest ACT participation rate\n",
    "\n",
    "combined_everything[['state','act_2017_participation']].sort_values(by='act_2017_participation',ascending=False).head(17)"
   ]
  },
  {
   "cell_type": "markdown",
   "metadata": {},
   "source": [
    "***Negative correlation between participation rates and SAT/ACT scores***"
   ]
  },
  {
   "cell_type": "markdown",
   "metadata": {},
   "source": [
    "In these 14 states with the lowest SAT participation rates, all their mean 'Total' score is higher than the national mean of 1120 in 2017. \n",
    "Similar trends can be spotted in the states with the lowest ACT participation rates, and in both 2017 and 2018 datasets."
   ]
  },
  {
   "cell_type": "code",
   "execution_count": 61,
   "metadata": {},
   "outputs": [
    {
     "data": {
      "text/html": [
       "<div>\n",
       "<style scoped>\n",
       "    .dataframe tbody tr th:only-of-type {\n",
       "        vertical-align: middle;\n",
       "    }\n",
       "\n",
       "    .dataframe tbody tr th {\n",
       "        vertical-align: top;\n",
       "    }\n",
       "\n",
       "    .dataframe thead th {\n",
       "        text-align: right;\n",
       "    }\n",
       "</style>\n",
       "<table border=\"1\" class=\"dataframe\">\n",
       "  <thead>\n",
       "    <tr style=\"text-align: right;\">\n",
       "      <th></th>\n",
       "      <th>state</th>\n",
       "      <th>sat_2017_participation</th>\n",
       "      <th>sat_2017_total</th>\n",
       "    </tr>\n",
       "  </thead>\n",
       "  <tbody>\n",
       "    <tr>\n",
       "      <th>16</th>\n",
       "      <td>Kansas</td>\n",
       "      <td>0.04</td>\n",
       "      <td>1260</td>\n",
       "    </tr>\n",
       "    <tr>\n",
       "      <th>17</th>\n",
       "      <td>Kentucky</td>\n",
       "      <td>0.04</td>\n",
       "      <td>1247</td>\n",
       "    </tr>\n",
       "    <tr>\n",
       "      <th>18</th>\n",
       "      <td>Louisiana</td>\n",
       "      <td>0.04</td>\n",
       "      <td>1198</td>\n",
       "    </tr>\n",
       "    <tr>\n",
       "      <th>3</th>\n",
       "      <td>Arkansas</td>\n",
       "      <td>0.03</td>\n",
       "      <td>1208</td>\n",
       "    </tr>\n",
       "    <tr>\n",
       "      <th>23</th>\n",
       "      <td>Minnesota</td>\n",
       "      <td>0.03</td>\n",
       "      <td>1295</td>\n",
       "    </tr>\n",
       "    <tr>\n",
       "      <th>25</th>\n",
       "      <td>Missouri</td>\n",
       "      <td>0.03</td>\n",
       "      <td>1271</td>\n",
       "    </tr>\n",
       "    <tr>\n",
       "      <th>27</th>\n",
       "      <td>Nebraska</td>\n",
       "      <td>0.03</td>\n",
       "      <td>1253</td>\n",
       "    </tr>\n",
       "    <tr>\n",
       "      <th>41</th>\n",
       "      <td>South Dakota</td>\n",
       "      <td>0.03</td>\n",
       "      <td>1216</td>\n",
       "    </tr>\n",
       "    <tr>\n",
       "      <th>44</th>\n",
       "      <td>Utah</td>\n",
       "      <td>0.03</td>\n",
       "      <td>1238</td>\n",
       "    </tr>\n",
       "    <tr>\n",
       "      <th>49</th>\n",
       "      <td>Wisconsin</td>\n",
       "      <td>0.03</td>\n",
       "      <td>1291</td>\n",
       "    </tr>\n",
       "    <tr>\n",
       "      <th>50</th>\n",
       "      <td>Wyoming</td>\n",
       "      <td>0.03</td>\n",
       "      <td>1230</td>\n",
       "    </tr>\n",
       "    <tr>\n",
       "      <th>15</th>\n",
       "      <td>Iowa</td>\n",
       "      <td>0.02</td>\n",
       "      <td>1275</td>\n",
       "    </tr>\n",
       "    <tr>\n",
       "      <th>24</th>\n",
       "      <td>Mississippi</td>\n",
       "      <td>0.02</td>\n",
       "      <td>1242</td>\n",
       "    </tr>\n",
       "    <tr>\n",
       "      <th>34</th>\n",
       "      <td>North Dakota</td>\n",
       "      <td>0.02</td>\n",
       "      <td>1256</td>\n",
       "    </tr>\n",
       "  </tbody>\n",
       "</table>\n",
       "</div>"
      ],
      "text/plain": [
       "           state  sat_2017_participation  sat_2017_total\n",
       "16        Kansas                    0.04            1260\n",
       "17      Kentucky                    0.04            1247\n",
       "18     Louisiana                    0.04            1198\n",
       "3       Arkansas                    0.03            1208\n",
       "23     Minnesota                    0.03            1295\n",
       "25      Missouri                    0.03            1271\n",
       "27      Nebraska                    0.03            1253\n",
       "41  South Dakota                    0.03            1216\n",
       "44          Utah                    0.03            1238\n",
       "49     Wisconsin                    0.03            1291\n",
       "50       Wyoming                    0.03            1230\n",
       "15          Iowa                    0.02            1275\n",
       "24   Mississippi                    0.02            1242\n",
       "34  North Dakota                    0.02            1256"
      ]
     },
     "execution_count": 61,
     "metadata": {},
     "output_type": "execute_result"
    }
   ],
   "source": [
    "#SAT participation and composite scores\n",
    "\n",
    "mask_sat = combined_everything['sat_2017_participation'] < 0.05\n",
    "combined_everything[mask_sat][['state','sat_2017_participation','sat_2017_total']].sort_values(by='sat_2017_participation',ascending=False)"
   ]
  },
  {
   "cell_type": "code",
   "execution_count": 62,
   "metadata": {},
   "outputs": [
    {
     "data": {
      "text/html": [
       "<div>\n",
       "<style scoped>\n",
       "    .dataframe tbody tr th:only-of-type {\n",
       "        vertical-align: middle;\n",
       "    }\n",
       "\n",
       "    .dataframe tbody tr th {\n",
       "        vertical-align: top;\n",
       "    }\n",
       "\n",
       "    .dataframe thead th {\n",
       "        text-align: right;\n",
       "    }\n",
       "</style>\n",
       "<table border=\"1\" class=\"dataframe\">\n",
       "  <thead>\n",
       "    <tr style=\"text-align: right;\">\n",
       "      <th></th>\n",
       "      <th>state</th>\n",
       "      <th>act_2017_participation</th>\n",
       "      <th>act_2017_composite</th>\n",
       "    </tr>\n",
       "  </thead>\n",
       "  <tbody>\n",
       "    <tr>\n",
       "      <th>38</th>\n",
       "      <td>Pennsylvania</td>\n",
       "      <td>0.23</td>\n",
       "      <td>23.7</td>\n",
       "    </tr>\n",
       "    <tr>\n",
       "      <th>39</th>\n",
       "      <td>Rhode Island</td>\n",
       "      <td>0.21</td>\n",
       "      <td>24.0</td>\n",
       "    </tr>\n",
       "    <tr>\n",
       "      <th>7</th>\n",
       "      <td>Delaware</td>\n",
       "      <td>0.18</td>\n",
       "      <td>24.1</td>\n",
       "    </tr>\n",
       "    <tr>\n",
       "      <th>29</th>\n",
       "      <td>New Hampshire</td>\n",
       "      <td>0.18</td>\n",
       "      <td>25.5</td>\n",
       "    </tr>\n",
       "    <tr>\n",
       "      <th>19</th>\n",
       "      <td>Maine</td>\n",
       "      <td>0.08</td>\n",
       "      <td>24.3</td>\n",
       "    </tr>\n",
       "  </tbody>\n",
       "</table>\n",
       "</div>"
      ],
      "text/plain": [
       "            state  act_2017_participation  act_2017_composite\n",
       "38   Pennsylvania                    0.23                23.7\n",
       "39   Rhode Island                    0.21                24.0\n",
       "7        Delaware                    0.18                24.1\n",
       "29  New Hampshire                    0.18                25.5\n",
       "19          Maine                    0.08                24.3"
      ]
     },
     "execution_count": 62,
     "metadata": {},
     "output_type": "execute_result"
    }
   ],
   "source": [
    "#ACT participation and composite scores \n",
    "\n",
    "mask_act = combined_everything['act_2017_participation'] < 0.25\n",
    "combined_everything[mask_act][['state','act_2017_participation','act_2017_composite']].sort_values(by='act_2017_participation',ascending=False)"
   ]
  },
  {
   "cell_type": "markdown",
   "metadata": {},
   "source": [
    "***Higher minimum partication rate for ACT than SAT in 2017***"
   ]
  },
  {
   "cell_type": "markdown",
   "metadata": {},
   "source": [
    "In 2017, ACT has a higher minimum participation rate (broadly 18 - 23%, if excluding Maine) vs SAT, which has 14 states with less than 5% participation rates."
   ]
  },
  {
   "cell_type": "code",
   "execution_count": 63,
   "metadata": {},
   "outputs": [
    {
     "data": {
      "text/html": [
       "<div>\n",
       "<style scoped>\n",
       "    .dataframe tbody tr th:only-of-type {\n",
       "        vertical-align: middle;\n",
       "    }\n",
       "\n",
       "    .dataframe tbody tr th {\n",
       "        vertical-align: top;\n",
       "    }\n",
       "\n",
       "    .dataframe thead th {\n",
       "        text-align: right;\n",
       "    }\n",
       "</style>\n",
       "<table border=\"1\" class=\"dataframe\">\n",
       "  <thead>\n",
       "    <tr style=\"text-align: right;\">\n",
       "      <th></th>\n",
       "      <th>state</th>\n",
       "      <th>act_2017_participation</th>\n",
       "    </tr>\n",
       "  </thead>\n",
       "  <tbody>\n",
       "    <tr>\n",
       "      <th>38</th>\n",
       "      <td>Pennsylvania</td>\n",
       "      <td>0.23</td>\n",
       "    </tr>\n",
       "    <tr>\n",
       "      <th>39</th>\n",
       "      <td>Rhode Island</td>\n",
       "      <td>0.21</td>\n",
       "    </tr>\n",
       "    <tr>\n",
       "      <th>7</th>\n",
       "      <td>Delaware</td>\n",
       "      <td>0.18</td>\n",
       "    </tr>\n",
       "    <tr>\n",
       "      <th>29</th>\n",
       "      <td>New Hampshire</td>\n",
       "      <td>0.18</td>\n",
       "    </tr>\n",
       "    <tr>\n",
       "      <th>19</th>\n",
       "      <td>Maine</td>\n",
       "      <td>0.08</td>\n",
       "    </tr>\n",
       "  </tbody>\n",
       "</table>\n",
       "</div>"
      ],
      "text/plain": [
       "            state  act_2017_participation\n",
       "38   Pennsylvania                    0.23\n",
       "39   Rhode Island                    0.21\n",
       "7        Delaware                    0.18\n",
       "29  New Hampshire                    0.18\n",
       "19          Maine                    0.08"
      ]
     },
     "execution_count": 63,
     "metadata": {},
     "output_type": "execute_result"
    }
   ],
   "source": [
    "#ACT 2017 participation rates\n",
    "\n",
    "combined_everything[['state','act_2017_participation']].sort_values(by='act_2017_participation',ascending=False).tail(5)"
   ]
  },
  {
   "cell_type": "code",
   "execution_count": 64,
   "metadata": {},
   "outputs": [
    {
     "data": {
      "text/html": [
       "<div>\n",
       "<style scoped>\n",
       "    .dataframe tbody tr th:only-of-type {\n",
       "        vertical-align: middle;\n",
       "    }\n",
       "\n",
       "    .dataframe tbody tr th {\n",
       "        vertical-align: top;\n",
       "    }\n",
       "\n",
       "    .dataframe thead th {\n",
       "        text-align: right;\n",
       "    }\n",
       "</style>\n",
       "<table border=\"1\" class=\"dataframe\">\n",
       "  <thead>\n",
       "    <tr style=\"text-align: right;\">\n",
       "      <th></th>\n",
       "      <th>state</th>\n",
       "      <th>sat_2017_participation</th>\n",
       "    </tr>\n",
       "  </thead>\n",
       "  <tbody>\n",
       "    <tr>\n",
       "      <th>3</th>\n",
       "      <td>Arkansas</td>\n",
       "      <td>0.03</td>\n",
       "    </tr>\n",
       "    <tr>\n",
       "      <th>50</th>\n",
       "      <td>Wyoming</td>\n",
       "      <td>0.03</td>\n",
       "    </tr>\n",
       "    <tr>\n",
       "      <th>34</th>\n",
       "      <td>North Dakota</td>\n",
       "      <td>0.02</td>\n",
       "    </tr>\n",
       "    <tr>\n",
       "      <th>24</th>\n",
       "      <td>Mississippi</td>\n",
       "      <td>0.02</td>\n",
       "    </tr>\n",
       "    <tr>\n",
       "      <th>15</th>\n",
       "      <td>Iowa</td>\n",
       "      <td>0.02</td>\n",
       "    </tr>\n",
       "  </tbody>\n",
       "</table>\n",
       "</div>"
      ],
      "text/plain": [
       "           state  sat_2017_participation\n",
       "3       Arkansas                    0.03\n",
       "50       Wyoming                    0.03\n",
       "34  North Dakota                    0.02\n",
       "24   Mississippi                    0.02\n",
       "15          Iowa                    0.02"
      ]
     },
     "execution_count": 64,
     "metadata": {},
     "output_type": "execute_result"
    }
   ],
   "source": [
    "#SAT 2017 participation rates\n",
    "\n",
    "combined_everything[['state','sat_2017_participation']].sort_values(by='sat_2017_participation',ascending=False).tail(5)"
   ]
  },
  {
   "cell_type": "markdown",
   "metadata": {},
   "source": [
    "***In states that have >50% participation rates in both exams, mean scores for both exams are below the national average***"
   ]
  },
  {
   "cell_type": "markdown",
   "metadata": {},
   "source": [
    "In 2017, three states have >50% participation rates in both exams (Hawaii, Florida, Georgia). However, their results for both exams are lower than the respective mean scores for all states (1120 for SAT and 21.5 for ACT)"
   ]
  },
  {
   "cell_type": "code",
   "execution_count": 126,
   "metadata": {},
   "outputs": [
    {
     "data": {
      "text/html": [
       "<div>\n",
       "<style scoped>\n",
       "    .dataframe tbody tr th:only-of-type {\n",
       "        vertical-align: middle;\n",
       "    }\n",
       "\n",
       "    .dataframe tbody tr th {\n",
       "        vertical-align: top;\n",
       "    }\n",
       "\n",
       "    .dataframe thead th {\n",
       "        text-align: right;\n",
       "    }\n",
       "</style>\n",
       "<table border=\"1\" class=\"dataframe\">\n",
       "  <thead>\n",
       "    <tr style=\"text-align: right;\">\n",
       "      <th></th>\n",
       "      <th>state</th>\n",
       "      <th>act_2017_participation</th>\n",
       "      <th>act_2017_composite</th>\n",
       "      <th>sat_2017_participation</th>\n",
       "      <th>sat_2017_total</th>\n",
       "    </tr>\n",
       "  </thead>\n",
       "  <tbody>\n",
       "    <tr>\n",
       "      <th>11</th>\n",
       "      <td>Hawaii</td>\n",
       "      <td>0.90</td>\n",
       "      <td>19.0</td>\n",
       "      <td>0.55</td>\n",
       "      <td>1085</td>\n",
       "    </tr>\n",
       "    <tr>\n",
       "      <th>9</th>\n",
       "      <td>Florida</td>\n",
       "      <td>0.73</td>\n",
       "      <td>19.8</td>\n",
       "      <td>0.83</td>\n",
       "      <td>1017</td>\n",
       "    </tr>\n",
       "    <tr>\n",
       "      <th>10</th>\n",
       "      <td>Georgia</td>\n",
       "      <td>0.55</td>\n",
       "      <td>21.4</td>\n",
       "      <td>0.61</td>\n",
       "      <td>1050</td>\n",
       "    </tr>\n",
       "  </tbody>\n",
       "</table>\n",
       "</div>"
      ],
      "text/plain": [
       "      state  act_2017_participation  act_2017_composite  \\\n",
       "11   Hawaii                    0.90                19.0   \n",
       "9   Florida                    0.73                19.8   \n",
       "10  Georgia                    0.55                21.4   \n",
       "\n",
       "    sat_2017_participation  sat_2017_total  \n",
       "11                    0.55            1085  \n",
       "9                     0.83            1017  \n",
       "10                    0.61            1050  "
      ]
     },
     "execution_count": 126,
     "metadata": {},
     "output_type": "execute_result"
    }
   ],
   "source": [
    "#filter states with >50% participation for both exams\n",
    "\n",
    "mask_fifty = (combined_everything['act_2017_participation'] > 0.5) & (combined_everything['sat_2017_participation'] > 0.5) \n",
    "combined_everything[mask_fifty][['state','act_2017_participation','act_2017_composite','sat_2017_participation','sat_2017_total']].sort_values(by='act_2017_participation',ascending=False)"
   ]
  },
  {
   "cell_type": "markdown",
   "metadata": {},
   "source": [
    "***Large SAT participation rate changes from 2017 to 2018***"
   ]
  },
  {
   "cell_type": "markdown",
   "metadata": {},
   "source": [
    "Illinois and Colorado are outliers with 10% and 8% changes in participation rates from 2017 to 2018. This will be further investigated in the visualisation section later. As mentioned, there is a inverse relationship as ACT participation rates dropped by 53% and 70% respectively in the same period."
   ]
  },
  {
   "cell_type": "code",
   "execution_count": 65,
   "metadata": {},
   "outputs": [
    {
     "data": {
      "text/html": [
       "<div>\n",
       "<style scoped>\n",
       "    .dataframe tbody tr th:only-of-type {\n",
       "        vertical-align: middle;\n",
       "    }\n",
       "\n",
       "    .dataframe tbody tr th {\n",
       "        vertical-align: top;\n",
       "    }\n",
       "\n",
       "    .dataframe thead th {\n",
       "        text-align: right;\n",
       "    }\n",
       "</style>\n",
       "<table border=\"1\" class=\"dataframe\">\n",
       "  <thead>\n",
       "    <tr style=\"text-align: right;\">\n",
       "      <th></th>\n",
       "      <th>state</th>\n",
       "      <th>sat_participation_change</th>\n",
       "      <th>act_participation_change</th>\n",
       "    </tr>\n",
       "  </thead>\n",
       "  <tbody>\n",
       "    <tr>\n",
       "      <th>13</th>\n",
       "      <td>Illinois</td>\n",
       "      <td>10.000</td>\n",
       "      <td>-0.538</td>\n",
       "    </tr>\n",
       "    <tr>\n",
       "      <th>5</th>\n",
       "      <td>Colorado</td>\n",
       "      <td>8.091</td>\n",
       "      <td>-0.700</td>\n",
       "    </tr>\n",
       "    <tr>\n",
       "      <th>48</th>\n",
       "      <td>West Virginia</td>\n",
       "      <td>1.000</td>\n",
       "      <td>-0.058</td>\n",
       "    </tr>\n",
       "    <tr>\n",
       "      <th>3</th>\n",
       "      <td>Arkansas</td>\n",
       "      <td>0.667</td>\n",
       "      <td>0.000</td>\n",
       "    </tr>\n",
       "    <tr>\n",
       "      <th>35</th>\n",
       "      <td>Ohio</td>\n",
       "      <td>0.500</td>\n",
       "      <td>0.333</td>\n",
       "    </tr>\n",
       "  </tbody>\n",
       "</table>\n",
       "</div>"
      ],
      "text/plain": [
       "            state  sat_participation_change  act_participation_change\n",
       "13       Illinois                    10.000                    -0.538\n",
       "5        Colorado                     8.091                    -0.700\n",
       "48  West Virginia                     1.000                    -0.058\n",
       "3        Arkansas                     0.667                     0.000\n",
       "35           Ohio                     0.500                     0.333"
      ]
     },
     "execution_count": 65,
     "metadata": {},
     "output_type": "execute_result"
    }
   ],
   "source": [
    "#Risers SAT participation rates\n",
    "\n",
    "combined_everything[['state','sat_participation_change','act_participation_change']].sort_values(by='sat_participation_change',ascending=False).head(5)"
   ]
  },
  {
   "cell_type": "markdown",
   "metadata": {},
   "source": [
    "Florida had a significant fall in SAT participation rates, but with no increase in ACT rates from 2017 to 2018 (a 9.6% decline in fact!). This looked a little unusual and upon further investigation, this could be attributed to incorrect data. From internet sources, there is actually an increase in SAT participation rates to 97%. [Source](https://reports.collegeboard.org/pdf/2018-florida-sat-suite-assessments-annual-report.pdf)"
   ]
  },
  {
   "cell_type": "code",
   "execution_count": 66,
   "metadata": {},
   "outputs": [
    {
     "data": {
      "text/html": [
       "<div>\n",
       "<style scoped>\n",
       "    .dataframe tbody tr th:only-of-type {\n",
       "        vertical-align: middle;\n",
       "    }\n",
       "\n",
       "    .dataframe tbody tr th {\n",
       "        vertical-align: top;\n",
       "    }\n",
       "\n",
       "    .dataframe thead th {\n",
       "        text-align: right;\n",
       "    }\n",
       "</style>\n",
       "<table border=\"1\" class=\"dataframe\">\n",
       "  <thead>\n",
       "    <tr style=\"text-align: right;\">\n",
       "      <th></th>\n",
       "      <th>state</th>\n",
       "      <th>sat_participation_change</th>\n",
       "      <th>act_participation_change</th>\n",
       "    </tr>\n",
       "  </thead>\n",
       "  <tbody>\n",
       "    <tr>\n",
       "      <th>50</th>\n",
       "      <td>Wyoming</td>\n",
       "      <td>0.000</td>\n",
       "      <td>0.000</td>\n",
       "    </tr>\n",
       "    <tr>\n",
       "      <th>2</th>\n",
       "      <td>Arizona</td>\n",
       "      <td>-0.033</td>\n",
       "      <td>0.065</td>\n",
       "    </tr>\n",
       "    <tr>\n",
       "      <th>8</th>\n",
       "      <td>District of Columbia</td>\n",
       "      <td>-0.080</td>\n",
       "      <td>0.000</td>\n",
       "    </tr>\n",
       "    <tr>\n",
       "      <th>28</th>\n",
       "      <td>Nevada</td>\n",
       "      <td>-0.115</td>\n",
       "      <td>0.000</td>\n",
       "    </tr>\n",
       "    <tr>\n",
       "      <th>9</th>\n",
       "      <td>Florida</td>\n",
       "      <td>-0.325</td>\n",
       "      <td>-0.096</td>\n",
       "    </tr>\n",
       "  </tbody>\n",
       "</table>\n",
       "</div>"
      ],
      "text/plain": [
       "                   state  sat_participation_change  act_participation_change\n",
       "50               Wyoming                     0.000                     0.000\n",
       "2                Arizona                    -0.033                     0.065\n",
       "8   District of Columbia                    -0.080                     0.000\n",
       "28                Nevada                    -0.115                     0.000\n",
       "9                Florida                    -0.325                    -0.096"
      ]
     },
     "execution_count": 66,
     "metadata": {},
     "output_type": "execute_result"
    }
   ],
   "source": [
    "#Fallers SAT participation rates\n",
    "\n",
    "combined_everything[['state','sat_participation_change','act_participation_change']].sort_values(by='sat_participation_change',ascending=False).tail(5)"
   ]
  },
  {
   "cell_type": "markdown",
   "metadata": {},
   "source": [
    "## Visualize the Data\n",
    "\n",
    "There's not a magic bullet recommendation for the right number of plots to understand a given dataset, but visualizing your data is *always* a good idea. Not only does it allow you to quickly convey your findings (even if you have a non-technical audience), it will often reveal trends in your data that escaped you when you were looking only at numbers. It is important to not only create visualizations, but to **interpret your visualizations** as well.\n",
    "\n",
    "**Every plot should**:\n",
    "- Have a title\n",
    "- Have axis labels\n",
    "- Have appropriate tick labels\n",
    "- Text is legible in a plot\n",
    "- Plots demonstrate meaningful and valid relationships\n",
    "- Have an interpretation to aid understanding\n",
    "\n",
    "Here is an example of what your plots should look like following the above guidelines. Note that while the content of this example is unrelated, the principles of visualization hold:\n",
    "\n",
    "![](https://snag.gy/hCBR1U.jpg)\n",
    "*Interpretation: The above image shows that as we increase our spending on advertising, our sales numbers also tend to increase. There is a positive correlation between advertising spending and sales.*\n",
    "\n",
    "---\n",
    "\n",
    "Here are some prompts to get you started with visualizations. Feel free to add additional visualizations as you see fit:\n",
    "1. Use Seaborn's heatmap with pandas `.corr()` to visualize correlations between all numeric features.\n",
    "    - Heatmaps are generally not appropriate for presentations, and should often be excluded from reports as they can be visually overwhelming. **However**, they can be extremely useful in identify relationships of potential interest (as well as identifying potential collinearity before modeling).\n",
    "    - Please take time to format your output, adding a title. Look through some of the additional arguments and options. (Axis labels aren't really necessary, as long as the title is informative).\n",
    "2. Visualize distributions using histograms. If you have a lot, consider writing a custom function and use subplots.\n",
    "    - *OPTIONAL*: Summarize the underlying distributions of your features (in words & statistics)\n",
    "         - Be thorough in your verbal description of these distributions.\n",
    "         - Be sure to back up these summaries with statistics.\n",
    "         - We generally assume that data we sample from a population will be normally distributed. Do we observe this trend? Explain your answers for each distribution and how you think this will affect estimates made from these data.\n",
    "3. Plot and interpret boxplots. \n",
    "    - Boxplots demonstrate central tendency and spread in variables. In a certain sense, these are somewhat redundant with histograms, but you may be better able to identify clear outliers or differences in IQR, etc.\n",
    "    - Multiple values can be plotted to a single boxplot as long as they are of the same relative scale (meaning they have similar min/max values).\n",
    "    - Each boxplot should:\n",
    "        - Only include variables of a similar scale\n",
    "        - Have clear labels for each variable\n",
    "        - Have appropriate titles and labels\n",
    "4. Plot and interpret scatter plots to view relationships between features. Feel free to write a custom function, and subplot if you'd like. Functions save both time and space.\n",
    "    - Your plots should have:\n",
    "        - Two clearly labeled axes\n",
    "        - A proper title\n",
    "        - Colors and symbols that are clear and unmistakable\n",
    "5. Additional plots of your choosing.\n",
    "    - Are there any additional trends or relationships you haven't explored? Was there something interesting you saw that you'd like to dive further into? It's likely that there are a few more plots you might want to generate to support your narrative and recommendations that you are building toward. **As always, make sure you're interpreting your plots as you go**."
   ]
  },
  {
   "cell_type": "markdown",
   "metadata": {},
   "source": [
    "<font color='darkblue'>**1. Heatmap to visualise correlation**</font>"
   ]
  },
  {
   "cell_type": "markdown",
   "metadata": {},
   "source": [
    "There are a few observations based on the heatmap below:\n",
    "- Negative correlation between SAT and ACT participation rates ((ρ) -84% to -87%)\n",
    "- Negative correlation between ACT participation rates and composite scores for both years ((ρ) -86% to -87%)\n"
   ]
  },
  {
   "cell_type": "code",
   "execution_count": 152,
   "metadata": {},
   "outputs": [
    {
     "data": {
      "image/png": "[encoded data removed]",
      "text/plain": [
       "<Figure size 1224x648 with 2 Axes>"
      ]
     },
     "metadata": {
      "needs_background": "light"
     },
     "output_type": "display_data"
    }
   ],
   "source": [
    "plt.figure(figsize=(17,9))\n",
    "\n",
    "corr = combined_everything.corr()\n",
    "mask_heatmap = np.zeros_like(corr)\n",
    "mask_heatmap[np.triu_indices_from(mask_heatmap)] = True\n",
    "\n",
    "sns.heatmap(corr, mask = mask_heatmap, annot = True)\n",
    "plt.title('Heatmap of ACT and SAT data for 2017 and 2018');"
   ]
  },
  {
   "cell_type": "markdown",
   "metadata": {},
   "source": [
    "<br>"
   ]
  },
  {
   "cell_type": "markdown",
   "metadata": {},
   "source": [
    "Summarising the **two problem statements** again, these are the hypotheses that we wish to test:\n",
    "   1. Increasing participation rates will not result in a fall in SAT/ACT scores\n",
    "   2. increasing the state's education budgets will not improve test scores"
   ]
  },
  {
   "cell_type": "markdown",
   "metadata": {},
   "source": [
    "<font color='darkblue'>**Distribution of participation rates for ACT and SAT in 2017 and 2018**</font>"
   ]
  },
  {
   "cell_type": "markdown",
   "metadata": {},
   "source": [
    "- Distributions on both ACT and SAT suggest that there is fairly little change between participation rates from 2017 to 2018.\n",
    "- They roughly share the same shape except in opposite ends. As picked up in the EDA section: \n",
    "\n",
    "    - For the highest maximum participation rates in 2017, significantly more 100% participation rates in ACT (17 states)\n",
    "    - For lowest participation rates in 2017, there are significantly more states that have <5% participation than ACT(14 states)\n",
    "    - These numbers are fairly constant when looking at the histograms for 2018\n",
    "    - Such a distribution point to the fact that students usually take only one of the tests. The test they take is likely to be dependent on whether it is mandatory in that state or if one particular test is more widely accepted in that state than the other."
   ]
  },
  {
   "cell_type": "code",
   "execution_count": 138,
   "metadata": {},
   "outputs": [
    {
     "data": {
      "image/png": "[encoded data removed]",
      "text/plain": [
       "<Figure size 864x648 with 4 Axes>"
      ]
     },
     "metadata": {
      "needs_background": "light"
     },
     "output_type": "display_data"
    }
   ],
   "source": [
    "plt.figure(figsize = (12,9))\n",
    "plt.tight_layout()\n",
    "\n",
    "ax1 = plt.subplot(2, 2, 1)\n",
    "ax1.set_title('SAT Participation Rate in 2017')\n",
    "ax1.hist(combined_everything['sat_2017_participation'], color='Darkblue')\n",
    "ax1.set_ylabel('# of States');\n",
    "\n",
    "ax2 = plt.subplot(2, 2, 2, sharex=ax1)\n",
    "ax2.set_title('SAT Participation Rate in 2018')\n",
    "ax2.hist(combined_everything['sat_2018_participation'], color='Darkblue')\n",
    "ax2.set_ylabel('# of States');\n",
    "\n",
    "ax3 = plt.subplot(2, 2, 3, sharex=ax2)\n",
    "ax3.set_title('ACT Participation Rate in 2017')\n",
    "ax3.hist(combined_everything['act_2017_participation'],color='deepskyblue');\n",
    "ax3.set_ylabel('# of States')\n",
    "ax3.set_xlabel('Participation Rate');\n",
    "\n",
    "ax4 = plt.subplot(2, 2, 4, sharex=ax2)\n",
    "ax4.set_title('ACT Participation Rate in 2018')\n",
    "ax4.hist(combined_everything['act_2018_participation'],color='deepskyblue')\n",
    "ax4.set_ylabel('# of States')\n",
    "ax4.set_xlabel('Participation Rate');"
   ]
  },
  {
   "cell_type": "markdown",
   "metadata": {},
   "source": [
    "<font color='darkblue'>**No significant changes in distribution of SAT and ACT test scores across 2017 to 2018**</font>"
   ]
  },
  {
   "cell_type": "markdown",
   "metadata": {},
   "source": [
    "- Before we plot participation rates against test scores. It is helpful to know that test scores have remained fairly constant over the two time periods.\n",
    "- From the boxplots below, there are no significant changes in test score distribution over the time period (mean and 25% / 75% quartiles roughly similar)."
   ]
  },
  {
   "cell_type": "code",
   "execution_count": 148,
   "metadata": {},
   "outputs": [
    {
     "data": {
      "image/png": "[encoded data removed]",
      "text/plain": [
       "<Figure size 648x504 with 2 Axes>"
      ]
     },
     "metadata": {
      "needs_background": "light"
     },
     "output_type": "display_data"
    }
   ],
   "source": [
    "plt.figure(figsize = (9,7))\n",
    "plt.tight_layout()\n",
    "\n",
    "\n",
    "ax1 = plt.subplot(2, 1, 1)\n",
    "sat_scores = combined_everything.loc[:,['sat_2017_total', 'sat_2018_total']].rename(columns={'sat_2017_total':'SAT Total 2017','sat_2018_total':'SAT Total 2018'})\n",
    "sns.boxplot(data=sat_scores, orient='h')\n",
    "ax1.set_title('SAT Total Scores');\n",
    "\n",
    "ax2 = plt.subplot(2, 1, 2)\n",
    "sat_scores = combined_everything.loc[:,['act_2017_composite', 'act_2018_composite']].rename(columns={'act_2017_composite':'ACT Composite 2017','act_2018_composite':'ACT Composite 2018'})\n",
    "sns.boxplot(data=sat_scores, orient='h')\n",
    "ax2.set_title('ACT Total Scores');\n",
    "\n",
    "\n",
    "plt.subplots_adjust(left=0.1, bottom=0.1, right=0.9, top=0.9, wspace=0.3, hspace=0.3)"
   ]
  },
  {
   "cell_type": "markdown",
   "metadata": {},
   "source": [
    "<font color='darkblue'>**Negative correlation for SAT and ACT participation rates with test scores**</font>"
   ]
  },
  {
   "cell_type": "markdown",
   "metadata": {},
   "source": [
    "- There is an observable negative correlation between participation rates and test scores\n",
    "- This relationship can be seen across both SAT and ACT, and for both 2017 and 2018\n"
   ]
  },
  {
   "cell_type": "code",
   "execution_count": 136,
   "metadata": {},
   "outputs": [
    {
     "data": {
      "image/png": "[encoded data removed]",
      "text/plain": [
       "<Figure size 864x648 with 4 Axes>"
      ]
     },
     "metadata": {
      "needs_background": "light"
     },
     "output_type": "display_data"
    }
   ],
   "source": [
    "plt.figure(figsize = (12,9))\n",
    "plt.tight_layout()\n",
    "\n",
    "ax1 = plt.subplot(2, 2, 1)\n",
    "ax1.set_title('SAT Participation Rate vs Avg. SAT Total Score in 2017')\n",
    "sns.regplot(x = combined_everything['sat_2017_participation'], y = combined_everything['sat_2017_total'], color='Darkblue', ax=ax1)\n",
    "ax1.set_ylabel('Avg. SAT Total Score')\n",
    "ax1.set_xlabel('SAT Participation Rate');\n",
    "\n",
    "ax2 = plt.subplot(2, 2, 2, sharex=ax1)\n",
    "ax2.set_title('SAT Participation Rate vs Avg. SAT Total Score in 2018')\n",
    "sns.regplot(x = combined_everything['sat_2018_participation'], y = combined_everything['sat_2018_total'], color='Darkblue', ax=ax2)\n",
    "ax2.set_ylabel('Avg. SAT Composite Score')\n",
    "ax2.set_xlabel('SAT Participation Rate');\n",
    "\n",
    "ax3 = plt.subplot(2, 2, 3, sharex=ax2)\n",
    "ax3.set_title('ACT Participation Rate vs Avg. ACT Composite Score in 2017')\n",
    "sns.regplot(x = combined_everything['act_2017_participation'], y = combined_everything['act_2017_composite'], color='deepskyblue', ax=ax3)\n",
    "ax3.set_ylabel('Avg. ACT Composite Score')\n",
    "ax3.set_xlabel('ACT Participation Rate');\n",
    "\n",
    "ax4 = plt.subplot(2, 2, 4, sharex=ax2)\n",
    "ax4.set_title('ACT Participation Rate vs Avg. ACT Composite Score in 2018')\n",
    "sns.regplot(x = combined_everything['act_2018_participation'], y = combined_everything['act_2018_composite'], color='deepskyblue', ax=ax4)\n",
    "ax4.set_ylabel('Avg. ACT Composite Score')\n",
    "ax4.set_xlabel('ACT Participation Rate');\n",
    "\n",
    "plt.subplots_adjust(left=0.1, bottom=0.1, right=0.9, top=0.9, wspace=0.3, hspace=0.3)"
   ]
  },
  {
   "cell_type": "markdown",
   "metadata": {},
   "source": [
    "- When we plot the change in participation rates and change in test scores from 2017 to 2018, the negative correlation still stands true.\n",
    "- However, there are outliers in the SAT datasets (Colorado and Illinois) which we will further investigate in the sections below.\n",
    "- With the above, such a negative correlation suggest that we might have to **reject our first hypothesis**, which is that increasing participation rates will not decrease test scores for both ACT and SAT exams. "
   ]
  },
  {
   "cell_type": "code",
   "execution_count": 175,
   "metadata": {},
   "outputs": [
    {
     "data": {
      "image/png": "[encoded data removed]",
      "text/plain": [
       "<Figure size 648x504 with 2 Axes>"
      ]
     },
     "metadata": {
      "needs_background": "light"
     },
     "output_type": "display_data"
    }
   ],
   "source": [
    "plt.figure(figsize = (9,7))\n",
    "plt.tight_layout()\n",
    "\n",
    "ax1 = plt.subplot(2, 1, 1)\n",
    "ax1.set_title('Change in avg. SAT Total Score vs Change in SAT Participation Rate 2017/2018')\n",
    "sns.regplot(x = combined_everything['sat_participation_change'], y = combined_everything['sat_total_change'], color='Darkblue', ax=ax1)\n",
    "ax1.set_xlabel('Δ SAT Participation Rate')\n",
    "ax1.set_ylabel('Δ Avg. SAT Total Score')\n",
    "ax1.set_xlim([0,11])\n",
    "ax1.set_ylim([-1.5,0.5]);\n",
    "\n",
    "ax2 = plt.subplot(2, 1, 2)\n",
    "ax2.set_title('Change in avg. ACT Total Score vs Change in ACT Participation Rate 2017/2018')\n",
    "sns.regplot(x = combined_everything['act_participation_change'], y = combined_everything['act_composite_change'], color='deepskyblue', ax=ax2)\n",
    "ax2.set_xlabel('Δ ACT Participation Rate')\n",
    "ax2.set_ylabel('Δ Avg. ACT Composite Score')\n",
    "ax2.set_xlim([-0.8,0.5])\n",
    "ax2.set_ylim([-0.15,0.2]);\n",
    "\n",
    "plt.subplots_adjust(left=0.1, bottom=0.1, right=0.9, top=0.9, wspace=0.3, hspace=0.3)"
   ]
  },
  {
   "cell_type": "markdown",
   "metadata": {},
   "source": [
    "<br>"
   ]
  },
  {
   "cell_type": "markdown",
   "metadata": {},
   "source": [
    "<font color='darkblue'>**Outliers - Colorado, Illinois and Ohio**</font>"
   ]
  },
  {
   "cell_type": "markdown",
   "metadata": {},
   "source": [
    "- This is an additional analysis on our first problem statement which says that the increase in participation rates will not affect test scores.\n",
    "- Empirical evidence suggests that states with lower participation rates tend to have SAT and/or ACT optional policies. \n",
    "- Therefore, graduating seniors who choose to take the test even when it is optional tend to do well because they would have prepared for it (selection bias). We will further explore this in the 3 states mentioned below."
   ]
  },
  {
   "cell_type": "markdown",
   "metadata": {},
   "source": [
    "***Colorado and Illinois - SAT***\n",
    "- Significant increase in participation rates from 2017 to 2018 (8x for Colorado and 10x for Illinois)\n",
    "- Corresponding drop in SAT Total score by 14.7% and 8.6% respectively. This is higher than the mean change of 0.4% nationwide\n",
    "- Both states started mandating SAT testing during this period which exaplins the sharp increase in participation rate ([Source](https://blog.prepscholar.com/which-states-require-the-sat))"
   ]
  },
  {
   "cell_type": "code",
   "execution_count": 156,
   "metadata": {},
   "outputs": [
    {
     "data": {
      "text/html": [
       "<div>\n",
       "<style scoped>\n",
       "    .dataframe tbody tr th:only-of-type {\n",
       "        vertical-align: middle;\n",
       "    }\n",
       "\n",
       "    .dataframe tbody tr th {\n",
       "        vertical-align: top;\n",
       "    }\n",
       "\n",
       "    .dataframe thead th {\n",
       "        text-align: right;\n",
       "    }\n",
       "</style>\n",
       "<table border=\"1\" class=\"dataframe\">\n",
       "  <thead>\n",
       "    <tr style=\"text-align: right;\">\n",
       "      <th></th>\n",
       "      <th>State</th>\n",
       "      <th>Δ SAT Participation 17/18</th>\n",
       "      <th>Δ SAT Total Score 17/18</th>\n",
       "    </tr>\n",
       "  </thead>\n",
       "  <tbody>\n",
       "    <tr>\n",
       "      <th>5</th>\n",
       "      <td>Colorado</td>\n",
       "      <td>8.091</td>\n",
       "      <td>-0.147</td>\n",
       "    </tr>\n",
       "    <tr>\n",
       "      <th>13</th>\n",
       "      <td>Illinois</td>\n",
       "      <td>10.000</td>\n",
       "      <td>-0.086</td>\n",
       "    </tr>\n",
       "  </tbody>\n",
       "</table>\n",
       "</div>"
      ],
      "text/plain": [
       "       State  Δ SAT Participation 17/18  Δ SAT Total Score 17/18\n",
       "5   Colorado                      8.091                   -0.147\n",
       "13  Illinois                     10.000                   -0.086"
      ]
     },
     "execution_count": 156,
     "metadata": {},
     "output_type": "execute_result"
    }
   ],
   "source": [
    "combined_everything.loc[\n",
    "    combined_everything['sat_participation_change'] > 1, \n",
    "    ['state','sat_participation_change', 'sat_total_change']\n",
    "].rename(columns={\n",
    "    'state' : 'State', \n",
    "    'sat_participation_change': 'Δ SAT Participation 17/18', \n",
    "    'sat_total_change': 'Δ SAT Total Score 17/18'\n",
    "    })"
   ]
  },
  {
   "cell_type": "markdown",
   "metadata": {},
   "source": [
    "***Ohio - ACT/SAT***\n",
    "- Ohio is an example of both test scores declining after an increase in participation rate.\n",
    "- During this period, it started mandating all 11th graders to take the SAT or ACT, which explains the change in participation rates for both (SAT 50%, ACT 33.3%)\n",
    "- Both scores have declined after the increase (SAT by 4.4% and ACT by 7.7%)"
   ]
  },
  {
   "cell_type": "code",
   "execution_count": 157,
   "metadata": {},
   "outputs": [
    {
     "data": {
      "text/html": [
       "<div>\n",
       "<style scoped>\n",
       "    .dataframe tbody tr th:only-of-type {\n",
       "        vertical-align: middle;\n",
       "    }\n",
       "\n",
       "    .dataframe tbody tr th {\n",
       "        vertical-align: top;\n",
       "    }\n",
       "\n",
       "    .dataframe thead th {\n",
       "        text-align: right;\n",
       "    }\n",
       "</style>\n",
       "<table border=\"1\" class=\"dataframe\">\n",
       "  <thead>\n",
       "    <tr style=\"text-align: right;\">\n",
       "      <th></th>\n",
       "      <th>State</th>\n",
       "      <th>Δ SAT Participation 17/18</th>\n",
       "      <th>Δ SAT Total Score 17/18</th>\n",
       "      <th>Δ ACT Participation 17/18</th>\n",
       "      <th>Δ ACT Composite Score 17/18</th>\n",
       "    </tr>\n",
       "  </thead>\n",
       "  <tbody>\n",
       "    <tr>\n",
       "      <th>35</th>\n",
       "      <td>Ohio</td>\n",
       "      <td>0.5</td>\n",
       "      <td>-0.044</td>\n",
       "      <td>0.333</td>\n",
       "      <td>-0.077</td>\n",
       "    </tr>\n",
       "  </tbody>\n",
       "</table>\n",
       "</div>"
      ],
      "text/plain": [
       "   State  Δ SAT Participation 17/18  Δ SAT Total Score 17/18  \\\n",
       "35  Ohio                        0.5                   -0.044   \n",
       "\n",
       "    Δ ACT Participation 17/18  Δ ACT Composite Score 17/18  \n",
       "35                      0.333                       -0.077  "
      ]
     },
     "execution_count": 157,
     "metadata": {},
     "output_type": "execute_result"
    }
   ],
   "source": [
    "combined_everything.loc[\n",
    "    combined_everything['act_participation_change'] >= 0.2, \n",
    "    ['state','sat_participation_change', 'sat_total_change', 'act_participation_change', 'act_composite_change']\n",
    "].rename(columns={'state' : 'State', \n",
    "                  'sat_participation_change': 'Δ SAT Participation 17/18', \n",
    "                  'sat_total_change': 'Δ SAT Total Score 17/18', \n",
    "                  'act_participation_change': 'Δ ACT Participation 17/18', \n",
    "                  'act_composite_change': 'Δ ACT Composite Score 17/18'\n",
    "                 })"
   ]
  },
  {
   "cell_type": "markdown",
   "metadata": {},
   "source": [
    "<font color='darkblue'>**No observable relationship in SAT scores with budget amount. However, a positive correlation exist for ACT scores**</font>"
   ]
  },
  {
   "cell_type": "markdown",
   "metadata": {},
   "source": [
    "- SAT: No obvious correlation between a state's budget in previous year vs. test score in the next year\n",
    "- However, observable positive correlation (ρ) = 46 to 48% in ACT scores\n",
    "- However, when plotting change in budget vs change in scores - that correlation disappears (2nd visualisation).\n",
    "\n",
    "- Possible explanation/pit-falls to consider: \n",
    "    - Better schools tend to be in richer states, hence are already well funded. Consequently, better schools are likely to have top performing students who would score better in SAT/ACT exams.\n",
    "    - Moreover, budget by itself is not the only variable that could explain the higher test score. There could be other social and economic factors associated with being in a richer state that can contribute to them performing better.\n",
    "    - We are only using one datapoint here (2017 to 2018). Therefore, we would need to perform a more in depth analysis over a longer time period to further confirm our observations.\n",
    "\n",
    "- Therefore, we **cannot confidently reject the second hypothesis** that increasing the budget will increase test scores. However, better funded states tend to produce better ACT scores."
   ]
  },
  {
   "cell_type": "code",
   "execution_count": 149,
   "metadata": {},
   "outputs": [
    {
     "data": {
      "image/png": "[encoded data removed]",
      "text/plain": [
       "<Figure size 1080x648 with 4 Axes>"
      ]
     },
     "metadata": {
      "needs_background": "light"
     },
     "output_type": "display_data"
    }
   ],
   "source": [
    "plt.figure(figsize = (15,9))\n",
    "plt.tight_layout()\n",
    "\n",
    "ax1 = plt.subplot(2, 2, 1)\n",
    "ax1.set_title('USD State Budget in 2016 vs Avg. SAT Total Score in 2017')\n",
    "sns.regplot(x = combined_everything['sat_2017_total'], y = combined_everything['budget_per_capita_2016'], color='Darkblue', ax=ax1)\n",
    "ax1.set_ylabel('State Budget Per Capita $ in 2016')\n",
    "ax1.set_xlabel('Avg. SAT Total Score')\n",
    "ax1.set_xlim([900,1350]);\n",
    "\n",
    "ax2 = plt.subplot(2, 2, 2, sharex=ax1)\n",
    "ax2.set_title('USD State Budget in 2017 vs Avg. SAT Total Score in 2018')\n",
    "sns.regplot(x = combined_everything['sat_2018_total'], y = combined_everything['budget_per_capita_2017'], color='Darkblue', ax=ax2)\n",
    "ax2.set_xlabel('Avg. SAT Total Score')\n",
    "ax2.set_ylabel('State Budget Per Capita $ in 2017')\n",
    "ax2.set_xlim([900,1350]);\n",
    "\n",
    "ax3 = plt.subplot(2, 2, 3,)\n",
    "ax3.set_title('USD State Budget in 2016 vs Avg. ACT Total Score in 2017')\n",
    "sns.regplot(x = combined_everything['act_2017_composite'], y = combined_everything['budget_per_capita_2016'], color='deepskyblue', ax=ax3)\n",
    "ax3.set_xlabel('Avg. ACT Composite Score')\n",
    "ax3.set_ylabel('State Budget Per Capita $ in 2016')\n",
    "ax3.set_xlim([17,27]);\n",
    "\n",
    "ax4 = plt.subplot(2, 2, 4, sharex=ax3)\n",
    "ax4.set_title('USD State Budget in 2017 vs Avg. ACT Total Score in 2018')\n",
    "sns.regplot(x = combined_everything['act_2018_composite'],y = combined_everything['budget_per_capita_2017'], color='deepskyblue')\n",
    "ax4.set_xlabel('Avg. ACT Composite Score')\n",
    "ax4.set_ylabel('State Budget Per Capita $ in 2017')\n",
    "ax4.set_xlim([17,27]);\n",
    "\n",
    "plt.subplots_adjust(left=0.1, bottom=0.1, right=0.9, top=0.9, wspace=0.3, hspace=0.3)"
   ]
  },
  {
   "cell_type": "code",
   "execution_count": 180,
   "metadata": {},
   "outputs": [
    {
     "data": {
      "image/png": "[encoded data removed]",
      "text/plain": [
       "<Figure size 648x504 with 2 Axes>"
      ]
     },
     "metadata": {
      "needs_background": "light"
     },
     "output_type": "display_data"
    }
   ],
   "source": [
    "plt.figure(figsize = (9,7))\n",
    "plt.tight_layout()\n",
    "\n",
    "ax1 = plt.subplot(2, 1, 1)\n",
    "ax1.set_title('Change in Budget vs Change in SAT Total score 2017/2018')\n",
    "sns.regplot(x = combined_everything['budget_change'], y = combined_everything['sat_total_change'], color='Darkblue', ax=ax1)\n",
    "ax1.set_xlabel('Δ Budget 2016 to 2017')\n",
    "ax1.set_ylabel('Δ SAT Composite 2017 to 2018')\n",
    "ax1.set_ylim([-0.15,0.1])\n",
    "ax1.set_xlim([-0.05,0.1]);\n",
    "\n",
    "ax2 = plt.subplot(2, 1, 2)\n",
    "ax2.set_title('Change in Budget vs Change in ACT Composite score 2017/2018')\n",
    "sns.regplot(x = combined_everything['budget_change'],y = combined_everything['act_composite_change'], color='deepskyblue', ax=ax2)\n",
    "ax2.set_xlabel('Δ Budget 2016 to 2017')\n",
    "ax2.set_ylabel('Δ ACT Composite 2017 to 2018')\n",
    "ax2.set_ylim([-0.15,0.17])\n",
    "ax2.set_xlim([-0.05,0.1]);\n",
    "\n",
    "plt.subplots_adjust(left=0.1, bottom=0.1, right=0.9, top=0.9, wspace=0.3, hspace=0.3)"
   ]
  },
  {
   "cell_type": "markdown",
   "metadata": {},
   "source": [
    "<br>"
   ]
  },
  {
   "cell_type": "markdown",
   "metadata": {},
   "source": [
    "## Conclusions and Recommendations"
   ]
  },
  {
   "cell_type": "markdown",
   "metadata": {},
   "source": [
    "Our stakeholders at the state education board have set a task for us to find out how to increase SAT/ACT test scores in our state. They have two main areas of concern/interest:\n",
    "\n",
    "1. There is a negative correlation between participation rates and test scores for both ACT and SAT. Moreover, increasing participation rates via state policies such as mandatory test taking might even cause declines in test scores.\n",
    "\n",
    "   - Possible recommendations/items to investigate: We could look at more datasets to determine whether these decline in test scores end up being persistent. The decline in results might just be a short term trend as students in that state get used to the new test formats that have moved to / schools get up to speed with coaching their students in the new test.   \n",
    "   \n"
   ]
  },
  {
   "cell_type": "markdown",
   "metadata": {},
   "source": [
    "2. With our current datasets (i.e. 2017 and 2018), there are no observable relationships between changes in budget per capita with changes in score. While there is a slight positive correlation observed in states with high budgets and ACT scores, we cannot definitively say to our stakeholders that increasing the budget will result in immmediate improvements in SAT/ACT test scores the next year.\n",
    "\n",
    "    - Possible recommendations/items to investigate: It will be helpful to look at longer term data (timeseries plot will be useful) to see if there are any longer term changes in budget vs. test scores. Impact of budget changes might take a longer term to manifest, therefore using a two-year time period in our research might not provide the full picture. \n",
    "    - Another point to note is that budget and test scores could be a classic chicken-and-egg problem - while our research looks at increasing budget to improve test scores, it might be helpful to investigate if states are actually trying to improve test scores to push for higher budgets. While federal policy excludes SAT/ACT test scores as a metric to determine funding for schools, it could be possible that good schools want to do well in these test scores so that they would rank well, and as a result, have better funding because they are a better school.\n"
   ]
  },
  {
   "cell_type": "code",
   "execution_count": null,
   "metadata": {},
   "outputs": [],
   "source": []
  }
 ],
 "metadata": {
  "anaconda-cloud": {},
  "kernelspec": {
   "display_name": "Python 3",
   "language": "python",
   "name": "python3"
  },
  "language_info": {
   "codemirror_mode": {
    "name": "ipython",
    "version": 3
   },
   "file_extension": ".py",
   "mimetype": "text/x-python",
   "name": "python",
   "nbconvert_exporter": "python",
   "pygments_lexer": "ipython3",
   "version": "3.8.8"
  }
 },
 "nbformat": 4,
 "nbformat_minor": 4
}
