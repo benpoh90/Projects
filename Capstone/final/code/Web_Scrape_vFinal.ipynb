{
 "cells": [
  {
   "cell_type": "markdown",
   "id": "b807a2fa",
   "metadata": {},
   "source": [
    "**Appendix**: Webscraping Tool"
   ]
  },
  {
   "cell_type": "markdown",
   "id": "12f0dd87",
   "metadata": {},
   "source": [
    "# Import Libraries"
   ]
  },
  {
   "cell_type": "code",
   "execution_count": 1,
   "id": "577654d3",
   "metadata": {},
   "outputs": [],
   "source": [
    "import pandas as pd\n",
    "import numpy as np\n",
    "import requests, re\n",
    "from bs4 import BeautifulSoup "
   ]
  },
  {
   "cell_type": "markdown",
   "id": "0a06a0fc",
   "metadata": {},
   "source": [
    "# Brief Introduction"
   ]
  },
  {
   "cell_type": "markdown",
   "id": "b8d563dd",
   "metadata": {},
   "source": [
    "The intention of creating this OCR tool is to recommend related coffees based on the image of the coffee label that users have just scanned. For this project, I have decided to use Sweet Marias (one of the largest online retailer of coffee beans in the US) as they have a comprehensive list of coffee beans listed on their website (~350 different types).\n",
    "\n",
    "For this notebook, I will be using BeautifulSoup to perform a web-scrape of all the coffees and their data from Sweet Marias' website. The information that I will scrape are: **1) name of coffee**, **2) URL**, **3) Description**, **4) Processing Method** and **5) Type**. I will proceed to do some basic data cleaning after the data have been downloaded."
   ]
  },
  {
   "cell_type": "markdown",
   "id": "65f1a193",
   "metadata": {},
   "source": [
    "# Scrape Sweet Marias"
   ]
  },
  {
   "cell_type": "code",
   "execution_count": 2,
   "id": "c82569d5",
   "metadata": {},
   "outputs": [],
   "source": [
    "def get_links(url):\n",
    "    '''get the links of each coffee to scrape'''\n",
    "    \n",
    "    res = requests.get(url)\n",
    "    try:\n",
    "        res.raise_for_status()\n",
    "    except requests.exceptions.HTTPError as e:\n",
    "        return 'Error: ' + str(e)\n",
    "    \n",
    "    soup = BeautifulSoup(res.content)\n",
    "    links = soup.find_all('div', {'class':'product description product-item-description'})\n",
    "    \n",
    "    url_list = []\n",
    "    for link in links:\n",
    "        for a_tags in link.find_all('a'):\n",
    "            url = a_tags.get('href')\n",
    "            url = url.replace(' ','%20')\n",
    "            url_list.append(url)\n",
    "    \n",
    "    return url_list"
   ]
  },
  {
   "cell_type": "code",
   "execution_count": 3,
   "id": "497954cf",
   "metadata": {},
   "outputs": [],
   "source": [
    "def get_details(link):\n",
    "    '''scrape details of each coffee after getting the link'''\n",
    "    \n",
    "    res = requests.get(link)\n",
    "    try:\n",
    "        res.raise_for_status()\n",
    "    except requests.exceptions.HTTPError as e:\n",
    "        return 'Error: ' + str(e)\n",
    "        \n",
    "    soup = BeautifulSoup(res.content)\n",
    "    item = soup.find_all('div', {'class':'value'})\n",
    "    name = soup.find_all('h1', {'class': 'page-title'})\n",
    "    #price_search = soup.find_all('div', {'class':'product-info-price'})\n",
    "    \n",
    "    try:\n",
    "        coffee = name[0].find_all('span')[0].text\n",
    "        #price = price_search[0].find_all('span', {'class':'price'})[0].text\n",
    "        description = item[0].find('p').text\n",
    "        process = item[1].find_all('div',{'class':'list-info'})[0].find_all('span')[0].text.replace(' Process','')\n",
    "        variety = item[1].find_all('div',{'class':'list-info'})[0].find_all('span')[1].text.replace(' Types','').replace('Yes', '').replace('No', '')\n",
    "    except:\n",
    "        coffee = np.nan\n",
    "        #price = np.nan\n",
    "        description = np.nan\n",
    "        process = np.nan\n",
    "        variety = np.nan\n",
    "    \n",
    "    details = [coffee, link, description, process, variety]\n",
    "    return details"
   ]
  },
  {
   "cell_type": "code",
   "execution_count": 4,
   "id": "af62cbf1",
   "metadata": {},
   "outputs": [],
   "source": [
    "#Get data from Sweet Marias \n",
    "\n",
    "links = get_links('https://www.sweetmarias.com/green-coffee.html?product_list_limit=all&sm_status=2')\n",
    "\n",
    "data = []\n",
    "for link in links:\n",
    "    data.append(get_details(link))\n",
    "    \n",
    "data = np.array(data)"
   ]
  },
  {
   "cell_type": "code",
   "execution_count": 5,
   "id": "d1b7f208",
   "metadata": {},
   "outputs": [],
   "source": [
    "df_sweetmarias = pd.DataFrame(data, columns=['Name','URL','Description','Process','Variety'])"
   ]
  },
  {
   "cell_type": "code",
   "execution_count": 6,
   "id": "b4652b52",
   "metadata": {},
   "outputs": [],
   "source": [
    "#Drop all rows with NaN\n",
    "\n",
    "df_sweetmarias.drop(df_sweetmarias.loc[df_sweetmarias['Description']=='nan',:].index, inplace=True)\n",
    "df_sweetmarias.reset_index(drop=True, inplace=True)"
   ]
  },
  {
   "cell_type": "code",
   "execution_count": 7,
   "id": "6eadf3c6",
   "metadata": {},
   "outputs": [],
   "source": [
    "#df_sweetmarias.to_csv(r'../data/sweetmarias.csv', index=False)"
   ]
  },
  {
   "cell_type": "markdown",
   "id": "d929fe57",
   "metadata": {},
   "source": [
    "## Data Cleaning - Sweet Marias"
   ]
  },
  {
   "cell_type": "markdown",
   "id": "c427e89a",
   "metadata": {},
   "source": [
    "### Processing Method"
   ]
  },
  {
   "cell_type": "code",
   "execution_count": 8,
   "id": "d974202c",
   "metadata": {},
   "outputs": [
    {
     "data": {
      "text/plain": [
       "Wet                   159\n",
       "Wet (Washed)           71\n",
       "Dry                    36\n",
       "Dry (Natural)          16\n",
       "Machine Washed         12\n",
       "Honey                  11\n",
       "Water Decaf             8\n",
       "Otheres                 7\n",
       "Wet Hulled              7\n",
       "Giling Basah            5\n",
       "Pulp Natural            4\n",
       "Wet then SWP Decaf      3\n",
       "Name: Process, dtype: int64"
      ]
     },
     "execution_count": 8,
     "metadata": {},
     "output_type": "execute_result"
    }
   ],
   "source": [
    "df_sweetmarias['Process'].value_counts()"
   ]
  },
  {
   "cell_type": "markdown",
   "id": "8edb23f0",
   "metadata": {},
   "source": [
    "**Combine 'Wet' and 'Washed' / 'Dry' and 'Natural' into two main categories (Wet Washed and Dry Natural)**"
   ]
  },
  {
   "cell_type": "code",
   "execution_count": 9,
   "id": "80a39da9",
   "metadata": {},
   "outputs": [],
   "source": [
    "df_sweetmarias['Process'] = df_sweetmarias['Process'].str.replace(r'[(|)]','', regex=True)"
   ]
  },
  {
   "cell_type": "code",
   "execution_count": 10,
   "id": "001aa68e",
   "metadata": {},
   "outputs": [],
   "source": [
    "df_sweetmarias['Process'].replace('Wet','Wet Washed', inplace=True)\n",
    "df_sweetmarias['Process'].replace('Dry','Dry Natural', inplace=True)\n",
    "\n",
    "df_sweetmarias['Process'] = df_sweetmarias['Process'].str.replace('Decaf','Decaffeinated', regex=True)"
   ]
  },
  {
   "cell_type": "markdown",
   "id": "cd61c6a9",
   "metadata": {},
   "source": [
    "**Replace 'Otheres' with whitespace in 'Process'**"
   ]
  },
  {
   "cell_type": "code",
   "execution_count": 11,
   "id": "d406f11c",
   "metadata": {},
   "outputs": [],
   "source": [
    "df_sweetmarias['Process'] = df_sweetmarias['Process'].replace('Otheres', '')"
   ]
  },
  {
   "cell_type": "code",
   "execution_count": 12,
   "id": "04326ec9",
   "metadata": {},
   "outputs": [
    {
     "data": {
      "text/html": [
       "<div>\n",
       "<style scoped>\n",
       "    .dataframe tbody tr th:only-of-type {\n",
       "        vertical-align: middle;\n",
       "    }\n",
       "\n",
       "    .dataframe tbody tr th {\n",
       "        vertical-align: top;\n",
       "    }\n",
       "\n",
       "    .dataframe thead th {\n",
       "        text-align: right;\n",
       "    }\n",
       "</style>\n",
       "<table border=\"1\" class=\"dataframe\">\n",
       "  <thead>\n",
       "    <tr style=\"text-align: right;\">\n",
       "      <th></th>\n",
       "      <th>Name</th>\n",
       "      <th>URL</th>\n",
       "      <th>Description</th>\n",
       "      <th>Process</th>\n",
       "      <th>Variety</th>\n",
       "    </tr>\n",
       "  </thead>\n",
       "  <tbody>\n",
       "    <tr>\n",
       "      <th>0</th>\n",
       "      <td>Burundi Commune Mutambu</td>\n",
       "      <td>https://www.sweetmarias.com/burundi-commune-mu...</td>\n",
       "      <td>Such a versatile Burundi, a neutral sweetness ...</td>\n",
       "      <td>Wet Washed</td>\n",
       "      <td>Bourbon</td>\n",
       "    </tr>\n",
       "    <tr>\n",
       "      <th>1</th>\n",
       "      <td>Burundi Dry Process Gaterama Agahore</td>\n",
       "      <td>https://www.sweetmarias.com/burundi-dry-proces...</td>\n",
       "      <td>Unapologetic \"dry process\" flavor that should ...</td>\n",
       "      <td>Dry Natural</td>\n",
       "      <td>Bourbon</td>\n",
       "    </tr>\n",
       "    <tr>\n",
       "      <th>2</th>\n",
       "      <td>Burundi Dry Process Kibingo</td>\n",
       "      <td>https://www.sweetmarias.com/burundi-dry-proces...</td>\n",
       "      <td>Cooked fruit and wheat flavors that bring to m...</td>\n",
       "      <td>Dry Natural</td>\n",
       "      <td>Bourbon</td>\n",
       "    </tr>\n",
       "    <tr>\n",
       "      <th>3</th>\n",
       "      <td>Burundi Honey Process Gahahe</td>\n",
       "      <td>https://www.sweetmarias.com/burundi-honey-proc...</td>\n",
       "      <td>Sweet, clean cup character like wet process Bu...</td>\n",
       "      <td>Honey</td>\n",
       "      <td>Bourbon</td>\n",
       "    </tr>\n",
       "    <tr>\n",
       "      <th>4</th>\n",
       "      <td>Burundi Kabarore Commune Yandaro</td>\n",
       "      <td>https://www.sweetmarias.com/burundi-kabarore-c...</td>\n",
       "      <td>Lighter roasts draw out potent aromatic, like ...</td>\n",
       "      <td>Wet Washed</td>\n",
       "      <td>Bourbon</td>\n",
       "    </tr>\n",
       "    <tr>\n",
       "      <th>...</th>\n",
       "      <td>...</td>\n",
       "      <td>...</td>\n",
       "      <td>...</td>\n",
       "      <td>...</td>\n",
       "      <td>...</td>\n",
       "    </tr>\n",
       "    <tr>\n",
       "      <th>334</th>\n",
       "      <td>Peru Pueblo de Piñas</td>\n",
       "      <td>https://www.sweetmarias.com/peru-pueblo-de-pin...</td>\n",
       "      <td>Exemplary of the flavor balance found in Peru,...</td>\n",
       "      <td>Wet Washed</td>\n",
       "      <td>Bourbon, Modern Hybrids</td>\n",
       "    </tr>\n",
       "    <tr>\n",
       "      <th>335</th>\n",
       "      <td>Sumatra Raja Batak Peaberry</td>\n",
       "      <td>https://www.sweetmarias.com/sumatra-raja-batak...</td>\n",
       "      <td>A wet-hulled with classic Lintong character, m...</td>\n",
       "      <td>Giling Basah</td>\n",
       "      <td>Modern Hybrids</td>\n",
       "    </tr>\n",
       "    <tr>\n",
       "      <th>336</th>\n",
       "      <td>Sumatra Raja Batak Peaberry</td>\n",
       "      <td>https://www.sweetmarias.com/sumatra-raja-batak...</td>\n",
       "      <td>Classic Lintong character, malted sweetness, a...</td>\n",
       "      <td>Giling Basah</td>\n",
       "      <td>Modern Hybrids</td>\n",
       "    </tr>\n",
       "    <tr>\n",
       "      <th>337</th>\n",
       "      <td>Sweet Maria's Moka Kadir Blend</td>\n",
       "      <td>https://www.sweetmarias.com/catalog/product/vi...</td>\n",
       "      <td>Rich chocolate flavors come through in layers,...</td>\n",
       "      <td>Dry Natural</td>\n",
       "      <td>Varies</td>\n",
       "    </tr>\n",
       "    <tr>\n",
       "      <th>338</th>\n",
       "      <td>Sweet Maria's Polar Expresso Holiday Blend</td>\n",
       "      <td>https://www.sweetmarias.com/sweet-marias-polar...</td>\n",
       "      <td>Roll out the holiday cheer with our limited ed...</td>\n",
       "      <td></td>\n",
       "      <td>Heirloom</td>\n",
       "    </tr>\n",
       "  </tbody>\n",
       "</table>\n",
       "<p>339 rows × 5 columns</p>\n",
       "</div>"
      ],
      "text/plain": [
       "                                           Name  \\\n",
       "0                       Burundi Commune Mutambu   \n",
       "1          Burundi Dry Process Gaterama Agahore   \n",
       "2                   Burundi Dry Process Kibingo   \n",
       "3                  Burundi Honey Process Gahahe   \n",
       "4              Burundi Kabarore Commune Yandaro   \n",
       "..                                          ...   \n",
       "334                        Peru Pueblo de Piñas   \n",
       "335                 Sumatra Raja Batak Peaberry   \n",
       "336                 Sumatra Raja Batak Peaberry   \n",
       "337              Sweet Maria's Moka Kadir Blend   \n",
       "338  Sweet Maria's Polar Expresso Holiday Blend   \n",
       "\n",
       "                                                   URL  \\\n",
       "0    https://www.sweetmarias.com/burundi-commune-mu...   \n",
       "1    https://www.sweetmarias.com/burundi-dry-proces...   \n",
       "2    https://www.sweetmarias.com/burundi-dry-proces...   \n",
       "3    https://www.sweetmarias.com/burundi-honey-proc...   \n",
       "4    https://www.sweetmarias.com/burundi-kabarore-c...   \n",
       "..                                                 ...   \n",
       "334  https://www.sweetmarias.com/peru-pueblo-de-pin...   \n",
       "335  https://www.sweetmarias.com/sumatra-raja-batak...   \n",
       "336  https://www.sweetmarias.com/sumatra-raja-batak...   \n",
       "337  https://www.sweetmarias.com/catalog/product/vi...   \n",
       "338  https://www.sweetmarias.com/sweet-marias-polar...   \n",
       "\n",
       "                                           Description       Process  \\\n",
       "0    Such a versatile Burundi, a neutral sweetness ...    Wet Washed   \n",
       "1    Unapologetic \"dry process\" flavor that should ...   Dry Natural   \n",
       "2    Cooked fruit and wheat flavors that bring to m...   Dry Natural   \n",
       "3    Sweet, clean cup character like wet process Bu...         Honey   \n",
       "4    Lighter roasts draw out potent aromatic, like ...    Wet Washed   \n",
       "..                                                 ...           ...   \n",
       "334  Exemplary of the flavor balance found in Peru,...    Wet Washed   \n",
       "335  A wet-hulled with classic Lintong character, m...  Giling Basah   \n",
       "336  Classic Lintong character, malted sweetness, a...  Giling Basah   \n",
       "337  Rich chocolate flavors come through in layers,...   Dry Natural   \n",
       "338  Roll out the holiday cheer with our limited ed...                 \n",
       "\n",
       "                     Variety  \n",
       "0                    Bourbon  \n",
       "1                    Bourbon  \n",
       "2                    Bourbon  \n",
       "3                    Bourbon  \n",
       "4                    Bourbon  \n",
       "..                       ...  \n",
       "334  Bourbon, Modern Hybrids  \n",
       "335           Modern Hybrids  \n",
       "336           Modern Hybrids  \n",
       "337                   Varies  \n",
       "338                 Heirloom  \n",
       "\n",
       "[339 rows x 5 columns]"
      ]
     },
     "execution_count": 12,
     "metadata": {},
     "output_type": "execute_result"
    }
   ],
   "source": [
    "df_sweetmarias"
   ]
  },
  {
   "cell_type": "markdown",
   "id": "47e1d89c",
   "metadata": {},
   "source": [
    "### Remove Coffee Blends"
   ]
  },
  {
   "cell_type": "markdown",
   "id": "ceff7b9f",
   "metadata": {},
   "source": [
    "**Remove coffee blends (since we are focussing on single origins)**"
   ]
  },
  {
   "cell_type": "code",
   "execution_count": 13,
   "id": "6115c149",
   "metadata": {},
   "outputs": [
    {
     "data": {
      "text/html": [
       "<div>\n",
       "<style scoped>\n",
       "    .dataframe tbody tr th:only-of-type {\n",
       "        vertical-align: middle;\n",
       "    }\n",
       "\n",
       "    .dataframe tbody tr th {\n",
       "        vertical-align: top;\n",
       "    }\n",
       "\n",
       "    .dataframe thead th {\n",
       "        text-align: right;\n",
       "    }\n",
       "</style>\n",
       "<table border=\"1\" class=\"dataframe\">\n",
       "  <thead>\n",
       "    <tr style=\"text-align: right;\">\n",
       "      <th></th>\n",
       "      <th>Name</th>\n",
       "      <th>URL</th>\n",
       "      <th>Description</th>\n",
       "      <th>Process</th>\n",
       "      <th>Variety</th>\n",
       "    </tr>\n",
       "  </thead>\n",
       "  <tbody>\n",
       "    <tr>\n",
       "      <th>337</th>\n",
       "      <td>Sweet Maria's Moka Kadir Blend</td>\n",
       "      <td>https://www.sweetmarias.com/catalog/product/vi...</td>\n",
       "      <td>Rich chocolate flavors come through in layers,...</td>\n",
       "      <td>Dry Natural</td>\n",
       "      <td>Varies</td>\n",
       "    </tr>\n",
       "    <tr>\n",
       "      <th>338</th>\n",
       "      <td>Sweet Maria's Polar Expresso Holiday Blend</td>\n",
       "      <td>https://www.sweetmarias.com/sweet-marias-polar...</td>\n",
       "      <td>Roll out the holiday cheer with our limited ed...</td>\n",
       "      <td></td>\n",
       "      <td>Heirloom</td>\n",
       "    </tr>\n",
       "  </tbody>\n",
       "</table>\n",
       "</div>"
      ],
      "text/plain": [
       "                                           Name  \\\n",
       "337              Sweet Maria's Moka Kadir Blend   \n",
       "338  Sweet Maria's Polar Expresso Holiday Blend   \n",
       "\n",
       "                                                   URL  \\\n",
       "337  https://www.sweetmarias.com/catalog/product/vi...   \n",
       "338  https://www.sweetmarias.com/sweet-marias-polar...   \n",
       "\n",
       "                                           Description      Process   Variety  \n",
       "337  Rich chocolate flavors come through in layers,...  Dry Natural    Varies  \n",
       "338  Roll out the holiday cheer with our limited ed...               Heirloom  "
      ]
     },
     "execution_count": 13,
     "metadata": {},
     "output_type": "execute_result"
    }
   ],
   "source": [
    "df_sweetmarias.loc[df_sweetmarias['Name'].str.contains('Blend'),:]"
   ]
  },
  {
   "cell_type": "code",
   "execution_count": 14,
   "id": "51d7dd4d",
   "metadata": {},
   "outputs": [],
   "source": [
    "df_sweetmarias.drop(df_sweetmarias.loc[df_sweetmarias['Name'].str.contains('Blend'),:].index, inplace=True)\n",
    "df_sweetmarias.reset_index(drop=True, inplace=True)"
   ]
  },
  {
   "cell_type": "markdown",
   "id": "713f7f52",
   "metadata": {},
   "source": [
    "**Replace NaNs with whitespace**"
   ]
  },
  {
   "cell_type": "code",
   "execution_count": 15,
   "id": "3aa11f70",
   "metadata": {},
   "outputs": [],
   "source": [
    "df_sweetmarias.fillna('', inplace=True)"
   ]
  },
  {
   "cell_type": "markdown",
   "id": "2868d534",
   "metadata": {},
   "source": [
    "## Export to CSV"
   ]
  },
  {
   "cell_type": "code",
   "execution_count": 16,
   "id": "bec7a331",
   "metadata": {},
   "outputs": [],
   "source": [
    "df_sweetmarias['all_combined'] = df_sweetmarias[['Name','Description','Process','Variety']].agg(', '.join, axis=1)"
   ]
  },
  {
   "cell_type": "code",
   "execution_count": 17,
   "id": "4f818692",
   "metadata": {},
   "outputs": [],
   "source": [
    "df_sweetmarias['exlc_name_combined'] = df_sweetmarias[['Description','Process','Variety']].agg(', '.join, axis=1)"
   ]
  },
  {
   "cell_type": "code",
   "execution_count": 18,
   "id": "aa90308f",
   "metadata": {},
   "outputs": [],
   "source": [
    "#df_sweetmarias.to_csv(r'../data/cleaned_sweetmarias.csv', index=False)"
   ]
  },
  {
   "cell_type": "markdown",
   "id": "4c428064",
   "metadata": {},
   "source": [
    "# Scrape Monmouth"
   ]
  },
  {
   "cell_type": "markdown",
   "id": "32e1dfa4",
   "metadata": {},
   "source": [
    "*Sidenote:* The code below was written to scraped coffee data from Monmouth coffee - one of the most popular coffee roasters in the UK. However, I decided to exclude the data from the dataset for part 2 in the end because the descriptions for each coffee are too simple (e.g. 'orange, grapfruit, lemon') compared to the descriptions from Sweet Marias which have proper semantic structure."
   ]
  },
  {
   "cell_type": "code",
   "execution_count": 19,
   "id": "258bc78d",
   "metadata": {},
   "outputs": [],
   "source": [
    "def get_details_monmouth(link):\n",
    "    '''scrape details of each coffee after getting the link'''\n",
    "    \n",
    "    res = requests.get(link)\n",
    "    try:\n",
    "        res.raise_for_status()\n",
    "    except requests.exceptions.HTTPError as e:\n",
    "        return 'Error: ' + str(e)\n",
    "    \n",
    "    soup = BeautifulSoup(res.content)\n",
    "    details = soup.find_all('li', {'class':'coffee_wide'})\n",
    "    \n",
    "    all_details = []\n",
    "    for i in range(len(details)):\n",
    "    \n",
    "        try:\n",
    "            country = details[i].find_all('div')[0].find_all('p', {'class':'country'})[0].text\n",
    "            farm = details[i].find_all('div')[0].find_all('h2')[0].text\n",
    "            url = details[i].get('onclick').split(\"'\")[1]\n",
    "            description = details[i].find_all('div')[0].find_all('div', {'class':'col middle'})[0].find_all('p')[0].text\n",
    "            process = details[i].find_all('div')[0].find_all('p', {'class':'process'})[0].text.replace(' Process','')\n",
    "            variety = details[i].find_all('div')[0].find_all('p', {'class':'varietal'})[0].text\n",
    "        except:\n",
    "            country = np.nan\n",
    "            farm = np.nan\n",
    "            url = np.nan\n",
    "            description = np.nan\n",
    "            process = np.nan\n",
    "            variety = np.nan\n",
    "    \n",
    "        all_details.append([country, farm, url, description, process, variety])\n",
    "    return all_details"
   ]
  },
  {
   "cell_type": "code",
   "execution_count": 23,
   "id": "f4ea519c",
   "metadata": {},
   "outputs": [],
   "source": [
    "monmouth_current_data = np.array(get_details_monmouth('https://www.monmouthcoffee.co.uk/our-coffees/'))\n",
    "monmouth_archive_data = np.array(get_details_monmouth('https://www.monmouthcoffee.co.uk/past-coffee/'))"
   ]
  },
  {
   "cell_type": "code",
   "execution_count": 26,
   "id": "01e054f8",
   "metadata": {},
   "outputs": [],
   "source": [
    "df_monmouth_current_data = pd.DataFrame(monmouth_current_data, columns=['Country','Farm','URL', 'Description','Process','Variety'])\n",
    "df_monmouth_archive_data = pd.DataFrame(monmouth_archive_data, columns=['Country','Farm','URL', 'Description','Process','Variety'])"
   ]
  },
  {
   "cell_type": "code",
   "execution_count": 27,
   "id": "ba5054ae",
   "metadata": {},
   "outputs": [],
   "source": [
    "df_monmouth = pd.concat([df_monmouth_current_data,df_monmouth_archive_data]).reset_index(drop=True)"
   ]
  },
  {
   "cell_type": "code",
   "execution_count": 28,
   "id": "a958db6f",
   "metadata": {},
   "outputs": [],
   "source": [
    "df_monmouth.drop(df_monmouth.loc[df_monmouth['Description']=='nan',:].index, inplace=True)\n",
    "df_monmouth.reset_index(drop=True, inplace=True)"
   ]
  },
  {
   "cell_type": "code",
   "execution_count": 29,
   "id": "94434f1f",
   "metadata": {},
   "outputs": [],
   "source": [
    "#df_monmouth.to_csv(r'../data/monmouth.csv', index=False)"
   ]
  },
  {
   "cell_type": "markdown",
   "id": "b4d2577c",
   "metadata": {},
   "source": [
    "## Data Cleaning - Monmouth"
   ]
  },
  {
   "cell_type": "markdown",
   "id": "c5657653",
   "metadata": {},
   "source": [
    "### Processing Method"
   ]
  },
  {
   "cell_type": "markdown",
   "id": "caaf3742",
   "metadata": {},
   "source": [
    "Aligning the main processing method categories as per those in Sweet Marias'."
   ]
  },
  {
   "cell_type": "code",
   "execution_count": 30,
   "id": "4b93a627",
   "metadata": {},
   "outputs": [],
   "source": [
    "df_monmouth['Process'] = df_monmouth['Process'].str.replace('Traditional Washed','Wet Washed', regex=True)\n",
    "df_monmouth['Process'] = df_monmouth['Process'].str.replace('Natural','Dry Natural', regex=True)\n",
    "df_monmouth['Process'] = df_monmouth['Process'].str.replace('Mechanical Washed','Machine Washed', regex=True)\n",
    "df_monmouth['Process'] = df_monmouth['Process'].str.replace('Decaffeination','Decaffeinated', regex=True)"
   ]
  },
  {
   "cell_type": "code",
   "execution_count": 31,
   "id": "25bcd2eb",
   "metadata": {},
   "outputs": [],
   "source": [
    "df_monmouth['Country'] = df_monmouth['Country'].str.lower()"
   ]
  },
  {
   "cell_type": "code",
   "execution_count": 32,
   "id": "4d050a10",
   "metadata": {},
   "outputs": [],
   "source": [
    "df_monmouth['Country'].replace('brasil','brazil', inplace=True)"
   ]
  },
  {
   "cell_type": "markdown",
   "id": "1c860c1b",
   "metadata": {},
   "source": [
    "### Combine Country and Farm to Name"
   ]
  },
  {
   "cell_type": "markdown",
   "id": "f2778243",
   "metadata": {},
   "source": [
    "This will help us us match the format of the monmouth dataframe to the sweet marias dataframe."
   ]
  },
  {
   "cell_type": "code",
   "execution_count": 33,
   "id": "f876e0bb",
   "metadata": {},
   "outputs": [],
   "source": [
    "df_monmouth['Name'] = df_monmouth['Country'] + ' ' + df_monmouth['Farm']"
   ]
  },
  {
   "cell_type": "code",
   "execution_count": 34,
   "id": "017bd7e8",
   "metadata": {},
   "outputs": [],
   "source": [
    "name = df_monmouth['Name']\n",
    "df_monmouth.drop(columns=['Name','Country','Farm'], axis=1, inplace=True)\n",
    "df_monmouth.insert(0, 'Name', name)"
   ]
  },
  {
   "cell_type": "markdown",
   "id": "88c8bf64",
   "metadata": {},
   "source": [
    "## Export to CSV"
   ]
  },
  {
   "cell_type": "code",
   "execution_count": 35,
   "id": "e5f5f81a",
   "metadata": {},
   "outputs": [],
   "source": [
    "df_monmouth['all_combined'] = df_monmouth[['Name','Description','Process','Variety']].agg(', '.join, axis=1)"
   ]
  },
  {
   "cell_type": "code",
   "execution_count": 36,
   "id": "f4f8e443",
   "metadata": {},
   "outputs": [],
   "source": [
    "df_monmouth['exlc_name_combined'] = df_monmouth[['Description','Process','Variety']].agg(', '.join, axis=1)"
   ]
  },
  {
   "cell_type": "code",
   "execution_count": 37,
   "id": "28d0a82f",
   "metadata": {},
   "outputs": [],
   "source": [
    "#df_monmouth.to_csv(r'../data/cleaned_monmouth.csv', index=False)"
   ]
  },
  {
   "cell_type": "markdown",
   "id": "ace31812",
   "metadata": {},
   "source": [
    "# Combined both datasets"
   ]
  },
  {
   "cell_type": "code",
   "execution_count": 38,
   "id": "78f6a333",
   "metadata": {},
   "outputs": [],
   "source": [
    "df_coffees = pd.concat([df_monmouth, df_sweetmarias]).reset_index(drop=True)"
   ]
  },
  {
   "cell_type": "code",
   "execution_count": 39,
   "id": "1ba7ed82",
   "metadata": {},
   "outputs": [],
   "source": [
    "#df_coffees.to_csv(r'../data/cleaned_coffees.csv', index=False)"
   ]
  }
 ],
 "metadata": {
  "kernelspec": {
   "display_name": "Python 3 (ipykernel)",
   "language": "python",
   "name": "python3"
  },
  "language_info": {
   "codemirror_mode": {
    "name": "ipython",
    "version": 3
   },
   "file_extension": ".py",
   "mimetype": "text/x-python",
   "name": "python",
   "nbconvert_exporter": "python",
   "pygments_lexer": "ipython3",
   "version": "3.7.11"
  },
  "toc": {
   "base_numbering": 1,
   "nav_menu": {},
   "number_sections": true,
   "sideBar": true,
   "skip_h1_title": false,
   "title_cell": "Table of Contents",
   "title_sidebar": "Contents",
   "toc_cell": false,
   "toc_position": {
    "height": "calc(100% - 180px)",
    "left": "10px",
    "top": "150px",
    "width": "278px"
   },
   "toc_section_display": true,
   "toc_window_display": true
  }
 },
 "nbformat": 4,
 "nbformat_minor": 5
}
