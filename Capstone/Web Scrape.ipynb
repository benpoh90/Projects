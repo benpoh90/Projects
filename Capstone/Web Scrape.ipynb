{
 "cells": [
  {
   "cell_type": "markdown",
   "id": "12f0dd87",
   "metadata": {},
   "source": [
    "# Import Libraries"
   ]
  },
  {
   "cell_type": "code",
   "execution_count": 1,
   "id": "577654d3",
   "metadata": {},
   "outputs": [],
   "source": [
    "import pandas as pd\n",
    "import numpy as np\n",
    "import requests, re\n",
    "from bs4 import BeautifulSoup \n",
    "\n",
    "from sklearn.feature_extraction.text import CountVectorizer, TfidfVectorizer\n",
    "from sklearn.pipeline import Pipeline\n",
    "from sklearn.metrics.pairwise import cosine_similarity"
   ]
  },
  {
   "cell_type": "markdown",
   "id": "0a06a0fc",
   "metadata": {},
   "source": [
    "# Brief Introduction"
   ]
  },
  {
   "cell_type": "markdown",
   "id": "b8d563dd",
   "metadata": {},
   "source": [
    "The intention of creating this OCR tool is to help users recommend related coffees based on the image of the coffee label that they just scanned. For this project, I have decided to use Sweet Marias (one of the largest online retailer of coffee beans in the US) as they have a comprehensive list of coffee beans listed on their website (~350 different types).\n",
    "\n",
    "For this notebook, I will be performing a web-scrape of all the coffee and their data from Sweet Marias' website. The information that I will scrape are: **1) name of coffee, 2) URL, 3) Description, 4) Processing Method and 5) Type**."
   ]
  },
  {
   "cell_type": "markdown",
   "id": "65f1a193",
   "metadata": {},
   "source": [
    "# Functions"
   ]
  },
  {
   "cell_type": "code",
   "execution_count": 4,
   "id": "f7ad0741",
   "metadata": {
    "code_folding": []
   },
   "outputs": [],
   "source": [
    "def make_soup(url):\n",
    "    '''create soup from URL'''\n",
    "    \n",
    "    res = requests.get(url)\n",
    "    try:\n",
    "        res.raise_for_status()\n",
    "    except requests.exceptions.HTTPError as e:\n",
    "        return 'Error: ' + str(e)\n",
    "    \n",
    "    soup = BeautifulSoup(res.content)\n",
    "    return soup"
   ]
  },
  {
   "cell_type": "code",
   "execution_count": 5,
   "id": "c82569d5",
   "metadata": {},
   "outputs": [],
   "source": [
    "def get_links(url):\n",
    "    '''get the links of each coffee to scrape'''\n",
    "    \n",
    "    soup = make_soup(url)\n",
    "    links = soup.find_all('div', {'class':'product description product-item-description'})\n",
    "    \n",
    "    url_list = []\n",
    "    for link in links:\n",
    "        for a_tags in link.find_all('a'):\n",
    "            url = a_tags.get('href')\n",
    "            url = url.replace(' ','%20')\n",
    "            url_list.append(url)\n",
    "    \n",
    "    return url_list"
   ]
  },
  {
   "cell_type": "code",
   "execution_count": 8,
   "id": "497954cf",
   "metadata": {},
   "outputs": [],
   "source": [
    "def get_details(link):\n",
    "    '''scrape details of each coffee after getting the link'''\n",
    "    \n",
    "    res = requests.get(link)\n",
    "    try:\n",
    "        res.raise_for_status()\n",
    "    except requests.exceptions.HTTPError as e:\n",
    "        return 'Error: ' + str(e)\n",
    "        \n",
    "    soup = make_soup(link)\n",
    "    item = soup.find_all('div', {'class':'value'})\n",
    "    name = soup.find_all('h1', {'class': 'page-title'})\n",
    "    \n",
    "    try:\n",
    "        coffee = name[0].find_all('span')[0].text\n",
    "        description = item[0].find('p').text\n",
    "        process = item[1].find_all('div',{'class':'list-info'})[0].find_all('span')[0].text.replace(' Process','')\n",
    "        variety = item[1].find_all('div',{'class':'list-info'})[0].find_all('span')[1].text.replace(' Types','').replace('Yes', '').replace('No', '')\n",
    "    except:\n",
    "        coffee = np.nan\n",
    "        description = np.nan\n",
    "        process = np.nan\n",
    "        variety = np.nan\n",
    "    \n",
    "    details = [coffee, link, description, process, variety]\n",
    "    return details"
   ]
  },
  {
   "cell_type": "code",
   "execution_count": 10,
   "id": "af62cbf1",
   "metadata": {},
   "outputs": [],
   "source": [
    "#Get data from Sweet Marias \n",
    "links = get_links('https://www.sweetmarias.com/green-coffee.html?product_list_limit=all&sm_status=2')\n",
    "\n",
    "data = []\n",
    "for link in links:\n",
    "    data.append(get_details(link))\n",
    "    \n",
    "data = np.array(data)"
   ]
  },
  {
   "cell_type": "code",
   "execution_count": 11,
   "id": "d1b7f208",
   "metadata": {},
   "outputs": [
    {
     "data": {
      "text/html": [
       "<div>\n",
       "<style scoped>\n",
       "    .dataframe tbody tr th:only-of-type {\n",
       "        vertical-align: middle;\n",
       "    }\n",
       "\n",
       "    .dataframe tbody tr th {\n",
       "        vertical-align: top;\n",
       "    }\n",
       "\n",
       "    .dataframe thead th {\n",
       "        text-align: right;\n",
       "    }\n",
       "</style>\n",
       "<table border=\"1\" class=\"dataframe\">\n",
       "  <thead>\n",
       "    <tr style=\"text-align: right;\">\n",
       "      <th></th>\n",
       "      <th>Name</th>\n",
       "      <th>URL</th>\n",
       "      <th>Description</th>\n",
       "      <th>Process</th>\n",
       "      <th>Variety</th>\n",
       "    </tr>\n",
       "  </thead>\n",
       "  <tbody>\n",
       "    <tr>\n",
       "      <th>0</th>\n",
       "      <td>Burundi Commune Mutambu</td>\n",
       "      <td>https://www.sweetmarias.com/burundi-commune-mu...</td>\n",
       "      <td>Such a versatile Burundi, a neutral sweetness ...</td>\n",
       "      <td>Wet</td>\n",
       "      <td>Bourbon</td>\n",
       "    </tr>\n",
       "    <tr>\n",
       "      <th>1</th>\n",
       "      <td>Burundi Dry Process Gaterama Agahore</td>\n",
       "      <td>https://www.sweetmarias.com/burundi-dry-proces...</td>\n",
       "      <td>Unapologetic \"dry process\" flavor that should ...</td>\n",
       "      <td>Dry</td>\n",
       "      <td>Bourbon</td>\n",
       "    </tr>\n",
       "    <tr>\n",
       "      <th>2</th>\n",
       "      <td>Burundi Dry Process Kibingo</td>\n",
       "      <td>https://www.sweetmarias.com/burundi-dry-proces...</td>\n",
       "      <td>Cooked fruit and wheat flavors that bring to m...</td>\n",
       "      <td>Dry</td>\n",
       "      <td>Bourbon</td>\n",
       "    </tr>\n",
       "    <tr>\n",
       "      <th>3</th>\n",
       "      <td>Burundi Honey Process Gahahe</td>\n",
       "      <td>https://www.sweetmarias.com/burundi-honey-proc...</td>\n",
       "      <td>Sweet, clean cup character like wet process Bu...</td>\n",
       "      <td>Honey</td>\n",
       "      <td>Bourbon</td>\n",
       "    </tr>\n",
       "    <tr>\n",
       "      <th>4</th>\n",
       "      <td>Burundi Kabarore Commune Yandaro</td>\n",
       "      <td>https://www.sweetmarias.com/burundi-kabarore-c...</td>\n",
       "      <td>Lighter roasts draw out potent aromatic, like ...</td>\n",
       "      <td>Wet</td>\n",
       "      <td>Bourbon</td>\n",
       "    </tr>\n",
       "    <tr>\n",
       "      <th>...</th>\n",
       "      <td>...</td>\n",
       "      <td>...</td>\n",
       "      <td>...</td>\n",
       "      <td>...</td>\n",
       "      <td>...</td>\n",
       "    </tr>\n",
       "    <tr>\n",
       "      <th>351</th>\n",
       "      <td>nan</td>\n",
       "      <td>https://www.sweetmarias.com/roasted-coffee-jav...</td>\n",
       "      <td>nan</td>\n",
       "      <td>nan</td>\n",
       "      <td>nan</td>\n",
       "    </tr>\n",
       "    <tr>\n",
       "      <th>352</th>\n",
       "      <td>nan</td>\n",
       "      <td>https://www.sweetmarias.com/roasted%20coffee%2...</td>\n",
       "      <td>nan</td>\n",
       "      <td>nan</td>\n",
       "      <td>nan</td>\n",
       "    </tr>\n",
       "    <tr>\n",
       "      <th>353</th>\n",
       "      <td>nan</td>\n",
       "      <td>https://www.sweetmarias.com/roasted-coffee-rwa...</td>\n",
       "      <td>nan</td>\n",
       "      <td>nan</td>\n",
       "      <td>nan</td>\n",
       "    </tr>\n",
       "    <tr>\n",
       "      <th>354</th>\n",
       "      <td>nan</td>\n",
       "      <td>https://www.sweetmarias.com/roasted-espresso-a...</td>\n",
       "      <td>nan</td>\n",
       "      <td>nan</td>\n",
       "      <td>nan</td>\n",
       "    </tr>\n",
       "    <tr>\n",
       "      <th>355</th>\n",
       "      <td>nan</td>\n",
       "      <td>https://www.sweetmarias.com/catalog/product/vi...</td>\n",
       "      <td>nan</td>\n",
       "      <td>nan</td>\n",
       "      <td>nan</td>\n",
       "    </tr>\n",
       "  </tbody>\n",
       "</table>\n",
       "<p>356 rows × 5 columns</p>\n",
       "</div>"
      ],
      "text/plain": [
       "                                     Name  \\\n",
       "0                 Burundi Commune Mutambu   \n",
       "1    Burundi Dry Process Gaterama Agahore   \n",
       "2             Burundi Dry Process Kibingo   \n",
       "3            Burundi Honey Process Gahahe   \n",
       "4        Burundi Kabarore Commune Yandaro   \n",
       "..                                    ...   \n",
       "351                                   nan   \n",
       "352                                   nan   \n",
       "353                                   nan   \n",
       "354                                   nan   \n",
       "355                                   nan   \n",
       "\n",
       "                                                   URL  \\\n",
       "0    https://www.sweetmarias.com/burundi-commune-mu...   \n",
       "1    https://www.sweetmarias.com/burundi-dry-proces...   \n",
       "2    https://www.sweetmarias.com/burundi-dry-proces...   \n",
       "3    https://www.sweetmarias.com/burundi-honey-proc...   \n",
       "4    https://www.sweetmarias.com/burundi-kabarore-c...   \n",
       "..                                                 ...   \n",
       "351  https://www.sweetmarias.com/roasted-coffee-jav...   \n",
       "352  https://www.sweetmarias.com/roasted%20coffee%2...   \n",
       "353  https://www.sweetmarias.com/roasted-coffee-rwa...   \n",
       "354  https://www.sweetmarias.com/roasted-espresso-a...   \n",
       "355  https://www.sweetmarias.com/catalog/product/vi...   \n",
       "\n",
       "                                           Description Process  Variety  \n",
       "0    Such a versatile Burundi, a neutral sweetness ...     Wet  Bourbon  \n",
       "1    Unapologetic \"dry process\" flavor that should ...     Dry  Bourbon  \n",
       "2    Cooked fruit and wheat flavors that bring to m...     Dry  Bourbon  \n",
       "3    Sweet, clean cup character like wet process Bu...   Honey  Bourbon  \n",
       "4    Lighter roasts draw out potent aromatic, like ...     Wet  Bourbon  \n",
       "..                                                 ...     ...      ...  \n",
       "351                                                nan     nan      nan  \n",
       "352                                                nan     nan      nan  \n",
       "353                                                nan     nan      nan  \n",
       "354                                                nan     nan      nan  \n",
       "355                                                nan     nan      nan  \n",
       "\n",
       "[356 rows x 5 columns]"
      ]
     },
     "execution_count": 11,
     "metadata": {},
     "output_type": "execute_result"
    }
   ],
   "source": [
    "df_sweetmarias = pd.DataFrame(data, columns=['Name','URL','Description','Process','Variety'])\n",
    "df_sweetmarias"
   ]
  },
  {
   "cell_type": "code",
   "execution_count": 12,
   "id": "b4652b52",
   "metadata": {},
   "outputs": [],
   "source": [
    "df_sweetmarias.drop(df_sweetmarias.loc[df_sweetmarias['Description']=='nan',:].index, inplace=True)\n",
    "df_sweetmarias.reset_index(drop=True, inplace=True)"
   ]
  },
  {
   "cell_type": "code",
   "execution_count": null,
   "id": "6eadf3c6",
   "metadata": {},
   "outputs": [],
   "source": [
    "df_sweetmarias.to_csv('sweetmarias.csv', index=False)"
   ]
  },
  {
   "cell_type": "markdown",
   "id": "d929fe57",
   "metadata": {},
   "source": [
    "# Data Cleaning"
   ]
  },
  {
   "cell_type": "markdown",
   "id": "c427e89a",
   "metadata": {},
   "source": [
    "## Processing Method"
   ]
  },
  {
   "cell_type": "code",
   "execution_count": 27,
   "id": "d974202c",
   "metadata": {},
   "outputs": [
    {
     "data": {
      "text/plain": [
       "Wet Washed            229\n",
       "Dry Natural            54\n",
       "Machine Washed         14\n",
       "Honey                  10\n",
       "Water Decaf            10\n",
       "                        8\n",
       "Wet Hulled              7\n",
       "Giling Basah            6\n",
       "Pulp Natural            4\n",
       "Wet then SWP Decaf      3\n",
       "Name: Process, dtype: int64"
      ]
     },
     "execution_count": 27,
     "metadata": {},
     "output_type": "execute_result"
    }
   ],
   "source": [
    "df_sweetmarias['Process'].value_counts()"
   ]
  },
  {
   "cell_type": "markdown",
   "id": "8edb23f0",
   "metadata": {},
   "source": [
    "Combine 'Wet' and 'Washed' / 'Dry' and 'Natural' in the same categories"
   ]
  },
  {
   "cell_type": "code",
   "execution_count": 38,
   "id": "001aa68e",
   "metadata": {},
   "outputs": [],
   "source": [
    "df_sweetmarias['Process'].replace('Wet','Wet Washed', inplace=True)\n",
    "df_sweetmarias['Process'].replace('Wet (Washed)','Wet Washed', inplace=True)\n",
    "\n",
    "df_sweetmarias['Process'].replace('Dry','Dry Natural', inplace=True)\n",
    "df_sweetmarias['Process'].replace('Dry (Natural)','Dry Natural', inplace=True)"
   ]
  },
  {
   "cell_type": "markdown",
   "id": "cd61c6a9",
   "metadata": {},
   "source": [
    "Remove 'Otheres' in 'Process'"
   ]
  },
  {
   "cell_type": "code",
   "execution_count": 26,
   "id": "d406f11c",
   "metadata": {},
   "outputs": [],
   "source": [
    "df_sweetmarias['Process'] = df_sweetmarias['Process'].replace('Otheres', '')"
   ]
  },
  {
   "cell_type": "markdown",
   "id": "47e1d89c",
   "metadata": {},
   "source": [
    "## Misc. Data Cleaning"
   ]
  },
  {
   "cell_type": "markdown",
   "id": "ceff7b9f",
   "metadata": {},
   "source": [
    "Remove coffee blends (since we are focussing on single origins)"
   ]
  },
  {
   "cell_type": "code",
   "execution_count": 34,
   "id": "6115c149",
   "metadata": {},
   "outputs": [
    {
     "data": {
      "text/html": [
       "<div>\n",
       "<style scoped>\n",
       "    .dataframe tbody tr th:only-of-type {\n",
       "        vertical-align: middle;\n",
       "    }\n",
       "\n",
       "    .dataframe tbody tr th {\n",
       "        vertical-align: top;\n",
       "    }\n",
       "\n",
       "    .dataframe thead th {\n",
       "        text-align: right;\n",
       "    }\n",
       "</style>\n",
       "<table border=\"1\" class=\"dataframe\">\n",
       "  <thead>\n",
       "    <tr style=\"text-align: right;\">\n",
       "      <th></th>\n",
       "      <th>Name</th>\n",
       "      <th>URL</th>\n",
       "      <th>Description</th>\n",
       "      <th>Process</th>\n",
       "      <th>Variety</th>\n",
       "    </tr>\n",
       "  </thead>\n",
       "  <tbody>\n",
       "    <tr>\n",
       "      <th>343</th>\n",
       "      <td>Sweet Maria's Moka Kadir Blend</td>\n",
       "      <td>https://www.sweetmarias.com/catalog/product/vi...</td>\n",
       "      <td>Rich chocolate flavors come through in layers,...</td>\n",
       "      <td>Dry Natural</td>\n",
       "      <td>Varies</td>\n",
       "    </tr>\n",
       "    <tr>\n",
       "      <th>344</th>\n",
       "      <td>Sweet Maria's Polar Expresso Holiday Blend</td>\n",
       "      <td>https://www.sweetmarias.com/sweet-marias-polar...</td>\n",
       "      <td>Roll out the holiday cheer with our limited ed...</td>\n",
       "      <td></td>\n",
       "      <td>Bourbon, Heirloom</td>\n",
       "    </tr>\n",
       "  </tbody>\n",
       "</table>\n",
       "</div>"
      ],
      "text/plain": [
       "                                           Name  \\\n",
       "343              Sweet Maria's Moka Kadir Blend   \n",
       "344  Sweet Maria's Polar Expresso Holiday Blend   \n",
       "\n",
       "                                                   URL  \\\n",
       "343  https://www.sweetmarias.com/catalog/product/vi...   \n",
       "344  https://www.sweetmarias.com/sweet-marias-polar...   \n",
       "\n",
       "                                           Description      Process  \\\n",
       "343  Rich chocolate flavors come through in layers,...  Dry Natural   \n",
       "344  Roll out the holiday cheer with our limited ed...                \n",
       "\n",
       "               Variety  \n",
       "343             Varies  \n",
       "344  Bourbon, Heirloom  "
      ]
     },
     "execution_count": 34,
     "metadata": {},
     "output_type": "execute_result"
    }
   ],
   "source": [
    "df_sweetmarias.loc[df_sweetmarias['Name'].str.contains('Blend'),:]"
   ]
  },
  {
   "cell_type": "code",
   "execution_count": 36,
   "id": "51d7dd4d",
   "metadata": {},
   "outputs": [],
   "source": [
    "df_sweetmarias.drop(df_sweetmarias.loc[df_sweetmarias['Name'].str.contains('Blend'),:].index, inplace=True)\n",
    "df_sweetmarias.reset_index(drop=True, inplace=True)"
   ]
  },
  {
   "cell_type": "markdown",
   "id": "ace31812",
   "metadata": {},
   "source": [
    "## Create new columns of combined strings (for Part 2)"
   ]
  },
  {
   "cell_type": "code",
   "execution_count": 46,
   "id": "bec7a331",
   "metadata": {},
   "outputs": [],
   "source": [
    "df_sweetmarias['all_combined'] = df_sweetmarias[['Name','Description','Process','Variety']].agg(', '.join, axis=1)"
   ]
  },
  {
   "cell_type": "code",
   "execution_count": 47,
   "id": "4f818692",
   "metadata": {},
   "outputs": [],
   "source": [
    "df_sweetmarias['exlc_name_combined'] = df_sweetmarias[['Name','Description','Process','Variety']].agg(', '.join, axis=1)"
   ]
  },
  {
   "cell_type": "code",
   "execution_count": 49,
   "id": "aa90308f",
   "metadata": {},
   "outputs": [],
   "source": [
    "df_sweetmarias.to_csv('cleaned_sweetmarias.csv', index=False)"
   ]
  },
  {
   "cell_type": "code",
   "execution_count": null,
   "id": "9aa4b8f7",
   "metadata": {},
   "outputs": [],
   "source": []
  },
  {
   "cell_type": "code",
   "execution_count": null,
   "id": "258bc78d",
   "metadata": {},
   "outputs": [],
   "source": []
  },
  {
   "cell_type": "code",
   "execution_count": null,
   "id": "f99218d4",
   "metadata": {},
   "outputs": [],
   "source": []
  }
 ],
 "metadata": {
  "kernelspec": {
   "display_name": "Python 3 (ipykernel)",
   "language": "python",
   "name": "python3"
  },
  "language_info": {
   "codemirror_mode": {
    "name": "ipython",
    "version": 3
   },
   "file_extension": ".py",
   "mimetype": "text/x-python",
   "name": "python",
   "nbconvert_exporter": "python",
   "pygments_lexer": "ipython3",
   "version": "3.7.11"
  },
  "toc": {
   "base_numbering": 1,
   "nav_menu": {},
   "number_sections": true,
   "sideBar": true,
   "skip_h1_title": false,
   "title_cell": "Table of Contents",
   "title_sidebar": "Contents",
   "toc_cell": false,
   "toc_position": {
    "height": "calc(100% - 180px)",
    "left": "10px",
    "top": "150px",
    "width": "278px"
   },
   "toc_section_display": true,
   "toc_window_display": true
  }
 },
 "nbformat": 4,
 "nbformat_minor": 5
}
